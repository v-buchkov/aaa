{
 "cells": [
  {
   "cell_type": "code",
   "execution_count": null,
   "metadata": {
    "pycharm": {
     "name": "#%%\n"
    }
   },
   "outputs": [],
   "source": [
    "import pandas as pd\n",
    "import numpy as np\n",
    "import ssl\n",
    "import gensim\n",
    "from gensim.models.callbacks import CallbackAny2Vec\n",
    "\n",
    "from sklearn.linear_model import LogisticRegression\n",
    "from sklearn.feature_extraction.text import CountVectorizer, TfidfVectorizer\n",
    "from sklearn.model_selection import train_test_split\n",
    "from sklearn.metrics import accuracy_score\n",
    "\n",
    "ssl._create_default_https_context = ssl._create_unverified_context\n",
    "\n",
    "\n",
    "class LossLogger(CallbackAny2Vec):\n",
    "    def __init__(self):\n",
    "        self.epoch = 0\n",
    "\n",
    "    def on_epoch_end(self, model):\n",
    "        loss = model.get_latest_training_loss()\n",
    "        if self.epoch == 0:\n",
    "            print('Loss after epoch {}: {}'.format(self.epoch, loss))\n",
    "        else:\n",
    "            print('Loss after epoch {}: {}'.format(self.epoch, loss - self.loss_previous_step))\n",
    "        self.epoch += 1\n",
    "        self.loss_previous_step = loss\n",
    "        \n",
    "\n",
    "class EpochLogger(CallbackAny2Vec):\n",
    "    def __init__(self):\n",
    "        self.epoch = 0\n",
    "\n",
    "    def on_epoch_end(self, model):\n",
    "        print(f'Epoch {self.epoch}')\n",
    "        self.epoch += 1\n",
    "\n",
    "        "
   ]
  },
  {
   "cell_type": "markdown",
   "metadata": {
    "pycharm": {
     "name": "#%% md\n"
    }
   },
   "source": [
    "# TF-IDF и Suggest"
   ]
  },
  {
   "cell_type": "markdown",
   "metadata": {
    "pycharm": {
     "name": "#%% md\n"
    }
   },
   "source": [
    "Этот семинар будет посвящен работе с текстами. Мы будем решать задачу о которой говорили на лекции: будем реализовывать suggest."
   ]
  },
  {
   "cell_type": "markdown",
   "metadata": {
    "pycharm": {
     "name": "#%% md\n"
    }
   },
   "source": [
    "### План семинара\n",
    "\n",
    "\n",
    "* [Задача suggest: многоклассовая классификация](#Задача-suggest)\n",
    "* [Обучаем модель линейной регрессии](#Обучаем-модель-лог-регрессии)\n",
    "    - Делаем бейзлайн\n",
    "    - Улучшаем бейзлайн\n",
    "    \n",
    "* Обучаем word2vec\n",
    "* Вычисляем признаки заголовков\n",
    "* Смотрим метрику в нашей задаче\n",
    "\n",
    "**Работа на семинаре**\n",
    "* Реализуем tf-idf \n",
    "\n",
    "**Домашнее задание**\n",
    "* Реализовать класс сервиса suggest-by-title"
   ]
  },
  {
   "cell_type": "markdown",
   "metadata": {
    "pycharm": {
     "name": "#%% md\n"
    }
   },
   "source": [
    "### Задача suggest\n",
    "\n",
    "Подача без suggest:\n",
    "\n",
    "<img src=\"https://ucarecdn.com/05ab935a-ff65-4d75-afcb-6eb0d71c5d44/\" width=\"700\">"
   ]
  },
  {
   "cell_type": "markdown",
   "metadata": {
    "pycharm": {
     "name": "#%% md\n"
    }
   },
   "source": [
    "Подача с suggest:\n",
    "<img src=\"https://ucarecdn.com/5e1684f1-eec5-4054-9e43-08be8d9acbcb/\" width=\"700\">"
   ]
  },
  {
   "cell_type": "markdown",
   "metadata": {
    "pycharm": {
     "name": "#%% md\n"
    }
   },
   "source": [
    "Задача заключается в том, чтобы определить к какой категории относится объявление используя заголовок. Категорий в выборке 54, задача, соответственно многоклассовая классификация."
   ]
  },
  {
   "cell_type": "markdown",
   "metadata": {
    "pycharm": {
     "name": "#%% md\n"
    }
   },
   "source": [
    "Задача многоклассовой классификации методом one-versus-all:\n",
    "\n",
    "<img src=\"https://ucarecdn.com/2abe5812-3f6e-42cf-97a4-a35a6de58c6d/\" width=\"534\">"
   ]
  },
  {
   "cell_type": "markdown",
   "metadata": {
    "pycharm": {
     "name": "#%% md\n"
    }
   },
   "source": [
    "### Смотрим на данные"
   ]
  },
  {
   "cell_type": "code",
   "execution_count": null,
   "metadata": {
    "pycharm": {
     "name": "#%%\n"
    }
   },
   "outputs": [],
   "source": [
    "data_train = pd.read_csv('suggest_train.csv', index_col=0)\n",
    "data_test = pd.read_csv('suggest_test.csv', index_col=0)\n",
    "w2v_train = pd.read_csv('unlabeled_data.csv', index_col=0)"
   ]
  },
  {
   "cell_type": "code",
   "execution_count": null,
   "metadata": {
    "pycharm": {
     "name": "#%%\n"
    }
   },
   "outputs": [],
   "source": [
    "data_train.head()"
   ]
  },
  {
   "cell_type": "markdown",
   "metadata": {
    "pycharm": {
     "name": "#%% md\n"
    }
   },
   "source": [
    "### Обучаем модель линейной регрессии"
   ]
  },
  {
   "cell_type": "markdown",
   "metadata": {
    "pycharm": {
     "name": "#%% md\n"
    }
   },
   "source": [
    "#### Разбиваем данные на трейн и валидацию"
   ]
  },
  {
   "cell_type": "markdown",
   "metadata": {
    "pycharm": {
     "name": "#%% md\n"
    }
   },
   "source": [
    "Идеи:\n",
    "- Частые слова зашумляют выборку;\n",
    "- Редкие слова дают модели переобучиться;\n",
    "- n-граммы позволят частично учитывать порядок;\n",
    "- Регуляризация позволит уменьшить эффект переобучения;\n",
    "- ???"
   ]
  },
  {
   "cell_type": "code",
   "execution_count": null,
   "metadata": {
    "pycharm": {
     "name": "#%%\n"
    }
   },
   "outputs": [],
   "source": [
    "train_titles, val_titles, y_train, y_val = train_test_split(\n",
    "    data_train['title'],\n",
    "    data_train['category_id'],\n",
    "    random_state=1\n",
    ")"
   ]
  },
  {
   "cell_type": "code",
   "execution_count": null,
   "metadata": {
    "pycharm": {
     "name": "#%%\n"
    }
   },
   "outputs": [],
   "source": [
    "count_vectorizer = CountVectorizer()\n",
    "count_vectorizer"
   ]
  },
  {
   "cell_type": "code",
   "execution_count": null,
   "metadata": {
    "pycharm": {
     "name": "#%%\n"
    }
   },
   "outputs": [],
   "source": [
    "X_train = count_vectorizer.fit_transform(train_titles.values)\n",
    "X_val = count_vectorizer.transform(val_titles.values)"
   ]
  },
  {
   "cell_type": "code",
   "execution_count": null,
   "metadata": {
    "pycharm": {
     "name": "#%%\n"
    }
   },
   "outputs": [],
   "source": [
    "# print(len(count_vectorizer.vocabulary_))\n",
    "# count_vectorizer.vocabulary_"
   ]
  },
  {
   "cell_type": "code",
   "execution_count": null,
   "metadata": {
    "pycharm": {
     "name": "#%%\n"
    }
   },
   "outputs": [],
   "source": [
    "log_reg = LogisticRegression(multi_class='auto', solver='lbfgs')\n",
    "log_reg.fit(X_train, y_train)"
   ]
  },
  {
   "cell_type": "code",
   "execution_count": null,
   "metadata": {
    "pycharm": {
     "name": "#%%\n"
    }
   },
   "outputs": [],
   "source": [
    "preds = log_reg.predict(X_val)\n",
    "accuracy_score(preds, y_val)"
   ]
  },
  {
   "cell_type": "markdown",
   "metadata": {
    "pycharm": {
     "name": "#%% md\n"
    }
   },
   "source": [
    "### Учим w2v"
   ]
  },
  {
   "cell_type": "markdown",
   "metadata": {
    "pycharm": {
     "name": "#%% md\n"
    }
   },
   "source": [
    "Идеи:\n",
    "- Обучить качественные векторные представление слов на неразмеченных данных;\n",
    "- Получить из них вектора заголовков;\n",
    "- Оценить адекватность;\n",
    "- Оценить качество решения нашей задачи;\n",
    "- Большая размерность позволит получить более качественные векторные представления;\n",
    "- Сравнить CBOW и skip-gram;\n",
    "- ???"
   ]
  },
  {
   "cell_type": "code",
   "execution_count": null,
   "metadata": {
    "pycharm": {
     "name": "#%%\n"
    }
   },
   "outputs": [],
   "source": [
    "import re\n",
    "from gensim.models.word2vec import Word2Vec\n",
    "from sklearn.linear_model import SGDClassifier\n",
    "\n",
    "WORD_PATTERN = '(?u)\\\\b\\\\w\\\\w+\\\\b'\n",
    "\n",
    "reg_exp = re.compile(pattern=WORD_PATTERN)\n",
    "w2v_train_data = pd.read_csv('unlabeled_data.csv',  index_col=0)\n",
    "print(w2v_train_data.shape)\n",
    "w2v_train_data.head()"
   ]
  },
  {
   "cell_type": "code",
   "execution_count": null,
   "metadata": {
    "pycharm": {
     "name": "#%%\n"
    }
   },
   "outputs": [],
   "source": [
    "sentences = [reg_exp.findall(s.lower()) for s in w2v_train_data.title]\n",
    "sentences[:3]"
   ]
  },
  {
   "cell_type": "code",
   "execution_count": null,
   "metadata": {
    "pycharm": {
     "name": "#%%\n"
    },
    "scrolled": true
   },
   "outputs": [],
   "source": [
    "w2v_model = Word2Vec(sg=1,)\n",
    "w2v_model.build_vocab(sentences)\n",
    "w2v_model.train(\n",
    "    sentences,\n",
    "    total_examples=w2v_model.corpus_count,\n",
    "    epochs=20,\n",
    "    compute_loss=True,\n",
    "    callbacks=[LossLogger()]\n",
    ")"
   ]
  },
  {
   "cell_type": "code",
   "execution_count": null,
   "metadata": {
    "pycharm": {
     "name": "#%%\n"
    }
   },
   "outputs": [],
   "source": [
    "w2v_model.wv.similar_by_word('продам')"
   ]
  },
  {
   "cell_type": "code",
   "execution_count": null,
   "metadata": {
    "pycharm": {
     "name": "#%%\n"
    }
   },
   "outputs": [],
   "source": [
    "w2v_model.wv.similar_by_word('айфон')"
   ]
  },
  {
   "cell_type": "code",
   "execution_count": null,
   "metadata": {
    "pycharm": {
     "name": "#%%\n"
    }
   },
   "outputs": [],
   "source": [
    "class Word2VecTransformer:\n",
    "    \n",
    "    def __init__(self, w2v_model, word_pattern):\n",
    "        \n",
    "        self.w2v_model = w2v_model\n",
    "        self.word_pattern = word_pattern\n",
    "        self.re = re.compile(pattern=self.word_pattern)\n",
    "        \n",
    "    def fit(self, X):\n",
    "        return self\n",
    "    \n",
    "    def transform(self, X):\n",
    "        \n",
    "        X_transformed = np.zeros((len(X), self.w2v_model.wv.vector_size))\n",
    "        for i, title in enumerate(X):\n",
    "            \n",
    "            title_vector = np.zeros((self.w2v_model.wv.vector_size,))\n",
    "            tokens = self.re.findall(title.lower())\n",
    "            for token in tokens:\n",
    "                if token in self.w2v_model.wv.key_to_index:\n",
    "                    title_vector += self.w2v_model.wv.get_vector(token)\n",
    "                    \n",
    "            X_transformed[i] = title_vector\n",
    "        \n",
    "        return X_transformed"
   ]
  },
  {
   "cell_type": "code",
   "execution_count": null,
   "metadata": {
    "pycharm": {
     "name": "#%%\n"
    }
   },
   "outputs": [],
   "source": [
    "w2v_transformer = Word2VecTransformer(w2v_model=w2v_model, word_pattern=WORD_PATTERN)\n",
    "\n",
    "train_w2v = w2v_transformer.transform(train_titles.values)\n",
    "val_w2v = w2v_transformer.transform(val_titles.values)"
   ]
  },
  {
   "cell_type": "code",
   "execution_count": null,
   "metadata": {
    "pycharm": {
     "name": "#%%\n"
    }
   },
   "outputs": [],
   "source": [
    "log_reg = SGDClassifier()\n",
    "log_reg.fit(train_w2v, y_train)"
   ]
  },
  {
   "cell_type": "code",
   "execution_count": null,
   "metadata": {
    "pycharm": {
     "name": "#%%\n"
    }
   },
   "outputs": [],
   "source": [
    "preds = log_reg.predict(val_w2v)\n",
    "accuracy_score(preds, y_val)"
   ]
  },
  {
   "cell_type": "markdown",
   "metadata": {
    "pycharm": {
     "name": "#%% md\n"
    }
   },
   "source": [
    "### Работа на семинаре: [TF-IDF](https://ru.wikipedia.org/wiki/TF-IDF)"
   ]
  },
  {
   "cell_type": "code",
   "execution_count": null,
   "metadata": {
    "pycharm": {
     "name": "#%%\n"
    }
   },
   "outputs": [],
   "source": [
    "from sklearn.base import BaseEstimator, TransformerMixin\n",
    "\n",
    "class TFIDFVectorizer(BaseEstimator, TransformerMixin):\n",
    "    \n",
    "    def __init__():\n",
    "        pass\n",
    "    \n",
    "    def fit(self, X):\n",
    "        return self\n",
    "    \n",
    "    def transform(self, X):\n",
    "        pass"
   ]
  },
  {
   "cell_type": "markdown",
   "metadata": {
    "pycharm": {
     "name": "#%% md\n"
    }
   },
   "source": [
    "### Работа на семинаре: suggest на подаче"
   ]
  },
  {
   "cell_type": "markdown",
   "metadata": {
    "pycharm": {
     "name": "#%% md\n"
    }
   },
   "source": [
    "* Реализовать [TF-IDF](https://ru.wikipedia.org/wiki/TF-IDF) transformer\n",
    "* Обучить линейную модель на признаках TF-IDf сравнить с реализацией из sklearn\n",
    "    - Разобраться с каждым гиперпараметром реализации TF-IDf из sklearn\n",
    "    \n",
    "* Обучить word2vec на данных data/unlabeled_data.csv\n",
    "* Попробовать улучшить результат который получили с помощью w2v"
   ]
  },
  {
   "cell_type": "markdown",
   "metadata": {
    "pycharm": {
     "name": "#%% md\n"
    }
   },
   "source": [
    "### Домашнее задание"
   ]
  },
  {
   "cell_type": "markdown",
   "metadata": {
    "pycharm": {
     "name": "#%% md\n"
    }
   },
   "source": [
    "Теоритическая часть (обязательно)."
   ]
  },
  {
   "cell_type": "markdown",
   "metadata": {
    "pycharm": {
     "name": "#%% md\n"
    }
   },
   "source": [
    "1. Посмотреть видео на [3BlueBrowb](https://youtu.be/aircAruvnKk)"
   ]
  },
  {
   "cell_type": "markdown",
   "metadata": {
    "pycharm": {
     "name": "#%% md\n"
    }
   },
   "source": [
    "Практическая часть."
   ]
  },
  {
   "cell_type": "markdown",
   "metadata": {
    "pycharm": {
     "name": "#%% md\n"
    }
   },
   "source": [
    "**Реализовать класс Suggester, который возвращает от 1 до 5 наиболее вероятных категорий по введённой строке.**\n",
    "\n",
    "accuracy по top1 > 0.78"
   ]
  },
  {
   "cell_type": "code",
   "execution_count": null,
   "metadata": {
    "pycharm": {
     "name": "#%%\n"
    }
   },
   "outputs": [],
   "source": [
    "from typing import List\n",
    "\n",
    "class Suggester:\n",
    "    \n",
    "    def __init__(self, max_suggest_count=5, default_suggest=''):\n",
    "        self.max_suggest_count = max_suggest_count\n",
    "        self.default_suggest = default_suggest\n",
    "        \n",
    "    def suggest(self, title: str):\n",
    "        print('Для дома и дачи|Посуда и товары для кухни|Посуда')\n",
    "        print('Хобби и отдых|Коллекционирование|Другое')\n",
    "    \n",
    "    def test_suggest(self):\n",
    "        \n",
    "        title = input()\n",
    "        while title != 'stop':\n",
    "            \n",
    "            suggest = self.suggest(title)\n",
    "\n",
    "            if suggest:\n",
    "                print(suggest)\n",
    "            else:\n",
    "                print(self.default_suggest)\n",
    "            \n",
    "            title = input()"
   ]
  },
  {
   "cell_type": "code",
   "execution_count": null,
   "metadata": {
    "pycharm": {
     "name": "#%%\n"
    }
   },
   "outputs": [],
   "source": [
    "sug = Suggester()\n",
    "sug.test_suggest()"
   ]
  }
 ],
 "metadata": {
  "kernelspec": {
   "display_name": "Python 3",
   "language": "python",
   "name": "python3"
  },
  "language_info": {
   "codemirror_mode": {
    "name": "ipython",
    "version": 3
   },
   "file_extension": ".py",
   "mimetype": "text/x-python",
   "name": "python",
   "nbconvert_exporter": "python",
   "pygments_lexer": "ipython3",
   "version": "3.8.6"
  }
 },
 "nbformat": 4,
 "nbformat_minor": 4
}
