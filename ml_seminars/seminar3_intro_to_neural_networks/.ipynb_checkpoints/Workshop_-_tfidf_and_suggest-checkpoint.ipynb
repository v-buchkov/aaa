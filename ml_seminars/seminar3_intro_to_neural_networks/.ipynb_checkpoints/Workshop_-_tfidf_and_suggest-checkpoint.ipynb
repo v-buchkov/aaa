{
 "cells": [
  {
   "cell_type": "code",
   "execution_count": 5,
   "metadata": {},
   "outputs": [
    {
     "name": "stdout",
     "output_type": "stream",
     "text": [
      "Requirement already satisfied: pip in /Library/Frameworks/Python.framework/Versions/3.10/lib/python3.10/site-packages (22.0.4)\n",
      "Collecting pip\n",
      "  Downloading pip-22.3-py3-none-any.whl (2.1 MB)\n",
      "\u001b[2K     \u001b[90m━━━━━━━━━━━━━━━━━━━━━━━━━━━━━━━━━━━━━━━━\u001b[0m \u001b[32m2.1/2.1 MB\u001b[0m \u001b[31m2.7 MB/s\u001b[0m eta \u001b[36m0:00:00\u001b[0m00:01\u001b[0m00:01\u001b[0m0m\n",
      "\u001b[?25hInstalling collected packages: pip\n",
      "  Attempting uninstall: pip\n",
      "    Found existing installation: pip 22.0.4\n",
      "    Uninstalling pip-22.0.4:\n",
      "      Successfully uninstalled pip-22.0.4\n",
      "Successfully installed pip-22.3\n",
      "Note: you may need to restart the kernel to use updated packages.\n"
     ]
    }
   ],
   "source": [
    "pip install --upgrade pip"
   ]
  },
  {
   "cell_type": "code",
   "execution_count": 2,
   "metadata": {},
   "outputs": [
    {
     "name": "stdout",
     "output_type": "stream",
     "text": [
      "Collecting gensim\n",
      "  Downloading gensim-4.2.0-cp310-cp310-macosx_10_9_universal2.whl (24.4 MB)\n",
      "\u001b[2K     \u001b[90m━━━━━━━━━━━━━━━━━━━━━━━━━━━━━━━━━━━━━━━━\u001b[0m \u001b[32m24.4/24.4 MB\u001b[0m \u001b[31m4.2 MB/s\u001b[0m eta \u001b[36m0:00:00\u001b[0m00:01\u001b[0m00:01\u001b[0m\n",
      "\u001b[?25hRequirement already satisfied: scipy>=0.18.1 in /Library/Frameworks/Python.framework/Versions/3.10/lib/python3.10/site-packages (from gensim) (1.8.0)\n",
      "Requirement already satisfied: numpy>=1.17.0 in /Library/Frameworks/Python.framework/Versions/3.10/lib/python3.10/site-packages (from gensim) (1.23.2)\n",
      "Collecting smart-open>=1.8.1\n",
      "  Downloading smart_open-6.2.0-py3-none-any.whl (58 kB)\n",
      "\u001b[2K     \u001b[90m━━━━━━━━━━━━━━━━━━━━━━━━━━━━━━━━━━━━━━━━\u001b[0m \u001b[32m58.6/58.6 KB\u001b[0m \u001b[31m1.7 MB/s\u001b[0m eta \u001b[36m0:00:00\u001b[0m\n",
      "\u001b[?25hInstalling collected packages: smart-open, gensim\n",
      "Successfully installed gensim-4.2.0 smart-open-6.2.0\n",
      "\u001b[33mWARNING: You are using pip version 22.0.4; however, version 22.3 is available.\n",
      "You should consider upgrading via the '/Library/Frameworks/Python.framework/Versions/3.10/bin/python3.10 -m pip install --upgrade pip' command.\u001b[0m\u001b[33m\n",
      "\u001b[0mNote: you may need to restart the kernel to use updated packages.\n"
     ]
    }
   ],
   "source": [
    "pip install gensim"
   ]
  },
  {
   "cell_type": "code",
   "execution_count": 1,
   "metadata": {
    "pycharm": {
     "name": "#%%\n"
    }
   },
   "outputs": [],
   "source": [
    "import pandas as pd\n",
    "import numpy as np\n",
    "import ssl\n",
    "import gensim\n",
    "from gensim.models.callbacks import CallbackAny2Vec\n",
    "\n",
    "from sklearn.linear_model import LogisticRegression\n",
    "from sklearn.feature_extraction.text import CountVectorizer, TfidfVectorizer\n",
    "from sklearn.model_selection import train_test_split\n",
    "from sklearn.metrics import accuracy_score\n",
    "\n",
    "ssl._create_default_https_context = ssl._create_unverified_context\n",
    "\n",
    "\n",
    "class LossLogger(CallbackAny2Vec):\n",
    "    def __init__(self):\n",
    "        self.epoch = 0\n",
    "\n",
    "    def on_epoch_end(self, model):\n",
    "        loss = model.get_latest_training_loss()\n",
    "        if self.epoch == 0:\n",
    "            print('Loss after epoch {}: {}'.format(self.epoch, loss))\n",
    "        else:\n",
    "            print('Loss after epoch {}: {}'.format(self.epoch, loss - self.loss_previous_step))\n",
    "        self.epoch += 1\n",
    "        self.loss_previous_step = loss\n",
    "        \n",
    "\n",
    "class EpochLogger(CallbackAny2Vec):\n",
    "    def __init__(self):\n",
    "        self.epoch = 0\n",
    "\n",
    "    def on_epoch_end(self, model):\n",
    "        print(f'Epoch {self.epoch}')\n",
    "        self.epoch += 1\n",
    "\n",
    "        "
   ]
  },
  {
   "cell_type": "markdown",
   "metadata": {
    "pycharm": {
     "name": "#%% md\n"
    }
   },
   "source": [
    "# TF-IDF и Suggest"
   ]
  },
  {
   "cell_type": "markdown",
   "metadata": {
    "pycharm": {
     "name": "#%% md\n"
    }
   },
   "source": [
    "Этот семинар будет посвящен работе с текстами. Мы будем решать задачу о которой говорили на лекции: будем реализовывать suggest."
   ]
  },
  {
   "cell_type": "markdown",
   "metadata": {
    "pycharm": {
     "name": "#%% md\n"
    }
   },
   "source": [
    "### План семинара\n",
    "\n",
    "\n",
    "* [Задача suggest: многоклассовая классификация](#Задача-suggest)\n",
    "* [Обучаем модель линейной регрессии](#Обучаем-модель-лог-регрессии)\n",
    "    - Делаем бейзлайн\n",
    "    - Улучшаем бейзлайн\n",
    "    \n",
    "* Обучаем word2vec\n",
    "* Вычисляем признаки заголовков\n",
    "* Смотрим метрику в нашей задаче\n",
    "\n",
    "**Работа на семинаре**\n",
    "* Реализуем tf-idf \n",
    "\n",
    "**Домашнее задание**\n",
    "* Реализовать класс сервиса suggest-by-title"
   ]
  },
  {
   "cell_type": "markdown",
   "metadata": {
    "pycharm": {
     "name": "#%% md\n"
    }
   },
   "source": [
    "### Задача suggest\n",
    "\n",
    "Подача без suggest:\n",
    "\n",
    "<img src=\"https://ucarecdn.com/05ab935a-ff65-4d75-afcb-6eb0d71c5d44/\" width=\"700\">"
   ]
  },
  {
   "cell_type": "markdown",
   "metadata": {
    "pycharm": {
     "name": "#%% md\n"
    }
   },
   "source": [
    "Подача с suggest:\n",
    "<img src=\"https://ucarecdn.com/5e1684f1-eec5-4054-9e43-08be8d9acbcb/\" width=\"700\">"
   ]
  },
  {
   "cell_type": "markdown",
   "metadata": {
    "pycharm": {
     "name": "#%% md\n"
    }
   },
   "source": [
    "Задача заключается в том, чтобы определить к какой категории относится объявление используя заголовок. Категорий в выборке 54, задача, соответственно многоклассовая классификация."
   ]
  },
  {
   "cell_type": "markdown",
   "metadata": {
    "pycharm": {
     "name": "#%% md\n"
    }
   },
   "source": [
    "Задача многоклассовой классификации методом one-versus-all:\n",
    "\n",
    "<img src=\"https://ucarecdn.com/2abe5812-3f6e-42cf-97a4-a35a6de58c6d/\" width=\"534\">"
   ]
  },
  {
   "cell_type": "markdown",
   "metadata": {
    "pycharm": {
     "name": "#%% md\n"
    }
   },
   "source": [
    "### Смотрим на данные"
   ]
  },
  {
   "cell_type": "code",
   "execution_count": 2,
   "metadata": {
    "pycharm": {
     "name": "#%%\n"
    }
   },
   "outputs": [],
   "source": [
    "data_train = pd.read_csv('suggest_train.csv', index_col=0)\n",
    "data_test = pd.read_csv('suggest_test.csv', index_col=0)\n",
    "w2v_train = pd.read_csv('unlabeled_data.csv', index_col=0)"
   ]
  },
  {
   "cell_type": "code",
   "execution_count": 3,
   "metadata": {
    "pycharm": {
     "name": "#%%\n"
    }
   },
   "outputs": [
    {
     "data": {
      "text/html": [
       "<div>\n",
       "<style scoped>\n",
       "    .dataframe tbody tr th:only-of-type {\n",
       "        vertical-align: middle;\n",
       "    }\n",
       "\n",
       "    .dataframe tbody tr th {\n",
       "        vertical-align: top;\n",
       "    }\n",
       "\n",
       "    .dataframe thead th {\n",
       "        text-align: right;\n",
       "    }\n",
       "</style>\n",
       "<table border=\"1\" class=\"dataframe\">\n",
       "  <thead>\n",
       "    <tr style=\"text-align: right;\">\n",
       "      <th></th>\n",
       "      <th>title</th>\n",
       "      <th>category_id</th>\n",
       "      <th>name</th>\n",
       "    </tr>\n",
       "    <tr>\n",
       "      <th>item_id</th>\n",
       "      <th></th>\n",
       "      <th></th>\n",
       "      <th></th>\n",
       "    </tr>\n",
       "  </thead>\n",
       "  <tbody>\n",
       "    <tr>\n",
       "      <th>335330</th>\n",
       "      <td>Раствор. Товарный бетон от производителя</td>\n",
       "      <td>15</td>\n",
       "      <td>Для дома и дачи|Ремонт и строительство|Стройма...</td>\n",
       "    </tr>\n",
       "    <tr>\n",
       "      <th>137480</th>\n",
       "      <td>Детская кроватка</td>\n",
       "      <td>16</td>\n",
       "      <td>Для дома и дачи|Мебель и интерьер|Кровати, див...</td>\n",
       "    </tr>\n",
       "    <tr>\n",
       "      <th>242690</th>\n",
       "      <td>Кровать -качалка с ящиком для вещей, два полож...</td>\n",
       "      <td>34</td>\n",
       "      <td>Личные вещи|Товары для детей и игрушки|Детская...</td>\n",
       "    </tr>\n",
       "    <tr>\n",
       "      <th>434016</th>\n",
       "      <td>Линолеум комитекс лин печора орфей 431</td>\n",
       "      <td>15</td>\n",
       "      <td>Для дома и дачи|Ремонт и строительство|Стройма...</td>\n",
       "    </tr>\n",
       "    <tr>\n",
       "      <th>237890</th>\n",
       "      <td>Распродажа имущества предприятия. Компьютеры</td>\n",
       "      <td>7</td>\n",
       "      <td>Бытовая электроника|Настольные компьютеры</td>\n",
       "    </tr>\n",
       "  </tbody>\n",
       "</table>\n",
       "</div>"
      ],
      "text/plain": [
       "                                                     title  category_id  \\\n",
       "item_id                                                                   \n",
       "335330            Раствор. Товарный бетон от производителя           15   \n",
       "137480                                    Детская кроватка           16   \n",
       "242690   Кровать -качалка с ящиком для вещей, два полож...           34   \n",
       "434016              Линолеум комитекс лин печора орфей 431           15   \n",
       "237890        Распродажа имущества предприятия. Компьютеры            7   \n",
       "\n",
       "                                                      name  \n",
       "item_id                                                     \n",
       "335330   Для дома и дачи|Ремонт и строительство|Стройма...  \n",
       "137480   Для дома и дачи|Мебель и интерьер|Кровати, див...  \n",
       "242690   Личные вещи|Товары для детей и игрушки|Детская...  \n",
       "434016   Для дома и дачи|Ремонт и строительство|Стройма...  \n",
       "237890           Бытовая электроника|Настольные компьютеры  "
      ]
     },
     "execution_count": 3,
     "metadata": {},
     "output_type": "execute_result"
    }
   ],
   "source": [
    "data_train.head()"
   ]
  },
  {
   "cell_type": "code",
   "execution_count": 26,
   "metadata": {},
   "outputs": [
    {
     "data": {
      "text/plain": [
       "37    447\n",
       "23    433\n",
       "27    421\n",
       "35    420\n",
       "15    419\n",
       "12    417\n",
       "39    417\n",
       "11    409\n",
       "53    407\n",
       "22    405\n",
       "45    404\n",
       "18    402\n",
       "29    402\n",
       "21    400\n",
       "10    395\n",
       "44    391\n",
       "50    390\n",
       "47    388\n",
       "26    387\n",
       "24    383\n",
       "2     382\n",
       "28    376\n",
       "17    375\n",
       "36    370\n",
       "49    368\n",
       "6     368\n",
       "19    361\n",
       "31    361\n",
       "0     360\n",
       "34    360\n",
       "43    359\n",
       "52    358\n",
       "30    355\n",
       "46    354\n",
       "8     354\n",
       "20    353\n",
       "16    351\n",
       "41    350\n",
       "9     350\n",
       "32    346\n",
       "7     346\n",
       "3     345\n",
       "48    343\n",
       "13    343\n",
       "25    342\n",
       "51    341\n",
       "42    341\n",
       "4     341\n",
       "14    334\n",
       "33    324\n",
       "38    321\n",
       "40    311\n",
       "5     311\n",
       "1     309\n",
       "Name: category_id, dtype: int64"
      ]
     },
     "execution_count": 26,
     "metadata": {},
     "output_type": "execute_result"
    }
   ],
   "source": [
    "data_train.category_id.value_counts()"
   ]
  },
  {
   "cell_type": "code",
   "execution_count": 27,
   "metadata": {},
   "outputs": [
    {
     "data": {
      "text/plain": [
       "54"
      ]
     },
     "execution_count": 27,
     "metadata": {},
     "output_type": "execute_result"
    }
   ],
   "source": [
    "data_train.category_id.nunique()"
   ]
  },
  {
   "cell_type": "code",
   "execution_count": 28,
   "metadata": {},
   "outputs": [
    {
     "data": {
      "text/plain": [
       "[0,\n",
       " 1,\n",
       " 2,\n",
       " 3,\n",
       " 4,\n",
       " 5,\n",
       " 6,\n",
       " 7,\n",
       " 8,\n",
       " 9,\n",
       " 10,\n",
       " 11,\n",
       " 12,\n",
       " 13,\n",
       " 14,\n",
       " 15,\n",
       " 16,\n",
       " 17,\n",
       " 18,\n",
       " 19,\n",
       " 20,\n",
       " 21,\n",
       " 22,\n",
       " 23,\n",
       " 24,\n",
       " 25,\n",
       " 26,\n",
       " 27,\n",
       " 28,\n",
       " 29,\n",
       " 30,\n",
       " 31,\n",
       " 32,\n",
       " 33,\n",
       " 34,\n",
       " 35,\n",
       " 36,\n",
       " 37,\n",
       " 38,\n",
       " 39,\n",
       " 40,\n",
       " 41,\n",
       " 42,\n",
       " 43,\n",
       " 44,\n",
       " 45,\n",
       " 46,\n",
       " 47,\n",
       " 48,\n",
       " 49,\n",
       " 50,\n",
       " 51,\n",
       " 52,\n",
       " 53]"
      ]
     },
     "execution_count": 28,
     "metadata": {},
     "output_type": "execute_result"
    }
   ],
   "source": [
    "sorted(data_train.category_id.unique())"
   ]
  },
  {
   "cell_type": "code",
   "execution_count": 31,
   "metadata": {},
   "outputs": [
    {
     "data": {
      "text/plain": [
       "count    20000.00000\n",
       "mean         3.06075\n",
       "std          0.44460\n",
       "min          2.00000\n",
       "25%          3.00000\n",
       "50%          3.00000\n",
       "75%          3.00000\n",
       "max          4.00000\n",
       "Name: name, dtype: float64"
      ]
     },
     "execution_count": 31,
     "metadata": {},
     "output_type": "execute_result"
    }
   ],
   "source": [
    "data_train['name'].apply(lambda x: len(x.split('|'))).describe()"
   ]
  },
  {
   "cell_type": "markdown",
   "metadata": {
    "pycharm": {
     "name": "#%% md\n"
    }
   },
   "source": [
    "### Обучаем модель линейной регрессии"
   ]
  },
  {
   "cell_type": "markdown",
   "metadata": {
    "pycharm": {
     "name": "#%% md\n"
    }
   },
   "source": [
    "#### Разбиваем данные на трейн и валидацию"
   ]
  },
  {
   "cell_type": "markdown",
   "metadata": {
    "pycharm": {
     "name": "#%% md\n"
    }
   },
   "source": [
    "Идеи:\n",
    "- Частые слова зашумляют выборку;\n",
    "- Редкие слова дают модели переобучиться;\n",
    "- n-граммы позволят частично учитывать порядок;\n",
    "- Регуляризация позволит уменьшить эффект переобучения;\n",
    "- ???"
   ]
  },
  {
   "cell_type": "code",
   "execution_count": 32,
   "metadata": {
    "pycharm": {
     "name": "#%%\n"
    }
   },
   "outputs": [],
   "source": [
    "train_titles, val_titles, y_train, y_val = train_test_split(\n",
    "    data_train['title'],\n",
    "    data_train['category_id'],\n",
    "    random_state=1\n",
    ")"
   ]
  },
  {
   "cell_type": "code",
   "execution_count": 170,
   "metadata": {},
   "outputs": [
    {
     "name": "stdout",
     "output_type": "stream",
     "text": [
      "Collecting nltk\n",
      "  Downloading nltk-3.7-py3-none-any.whl (1.5 MB)\n",
      "\u001b[2K     \u001b[90m━━━━━━━━━━━━━━━━━━━━━━━━━━━━━━━━━━━━━━━━\u001b[0m \u001b[32m1.5/1.5 MB\u001b[0m \u001b[31m2.4 MB/s\u001b[0m eta \u001b[36m0:00:00\u001b[0m00:01\u001b[0m00:01\u001b[0m0m\n",
      "\u001b[?25hRequirement already satisfied: joblib in /Library/Frameworks/Python.framework/Versions/3.10/lib/python3.10/site-packages (from nltk) (1.2.0)\n",
      "Collecting click\n",
      "  Using cached click-8.1.3-py3-none-any.whl (96 kB)\n",
      "Collecting regex>=2021.8.3\n",
      "  Downloading regex-2022.9.13-cp310-cp310-macosx_11_0_arm64.whl (287 kB)\n",
      "\u001b[2K     \u001b[90m━━━━━━━━━━━━━━━━━━━━━━━━━━━━━━━━━━━━━━━\u001b[0m \u001b[32m287.2/287.2 kB\u001b[0m \u001b[31m2.7 MB/s\u001b[0m eta \u001b[36m0:00:00\u001b[0ma \u001b[36m0:00:01\u001b[0m\n",
      "\u001b[?25hRequirement already satisfied: tqdm in /Library/Frameworks/Python.framework/Versions/3.10/lib/python3.10/site-packages (from nltk) (4.63.0)\n",
      "Installing collected packages: regex, click, nltk\n",
      "Successfully installed click-8.1.3 nltk-3.7 regex-2022.9.13\n",
      "Note: you may need to restart the kernel to use updated packages.\n"
     ]
    }
   ],
   "source": [
    "pip install nltk"
   ]
  },
  {
   "cell_type": "code",
   "execution_count": 181,
   "metadata": {},
   "outputs": [],
   "source": [
    "import re"
   ]
  },
  {
   "cell_type": "code",
   "execution_count": 171,
   "metadata": {},
   "outputs": [
    {
     "name": "stderr",
     "output_type": "stream",
     "text": [
      "[nltk_data] Downloading package stopwords to\n",
      "[nltk_data]     /Users/buchkovv/nltk_data...\n",
      "[nltk_data]   Unzipping corpora/stopwords.zip.\n"
     ]
    }
   ],
   "source": [
    "import nltk\n",
    "nltk.download(\"stopwords\")\n",
    "\n",
    "from nltk.corpus import stopwords\n",
    "\n",
    "russian_stopwords = stopwords.words(\"russian\")"
   ]
  },
  {
   "cell_type": "code",
   "execution_count": 252,
   "metadata": {
    "pycharm": {
     "name": "#%%\n"
    }
   },
   "outputs": [
    {
     "data": {
      "text/html": [
       "<style>#sk-container-id-68 {color: black;background-color: white;}#sk-container-id-68 pre{padding: 0;}#sk-container-id-68 div.sk-toggleable {background-color: white;}#sk-container-id-68 label.sk-toggleable__label {cursor: pointer;display: block;width: 100%;margin-bottom: 0;padding: 0.3em;box-sizing: border-box;text-align: center;}#sk-container-id-68 label.sk-toggleable__label-arrow:before {content: \"▸\";float: left;margin-right: 0.25em;color: #696969;}#sk-container-id-68 label.sk-toggleable__label-arrow:hover:before {color: black;}#sk-container-id-68 div.sk-estimator:hover label.sk-toggleable__label-arrow:before {color: black;}#sk-container-id-68 div.sk-toggleable__content {max-height: 0;max-width: 0;overflow: hidden;text-align: left;background-color: #f0f8ff;}#sk-container-id-68 div.sk-toggleable__content pre {margin: 0.2em;color: black;border-radius: 0.25em;background-color: #f0f8ff;}#sk-container-id-68 input.sk-toggleable__control:checked~div.sk-toggleable__content {max-height: 200px;max-width: 100%;overflow: auto;}#sk-container-id-68 input.sk-toggleable__control:checked~label.sk-toggleable__label-arrow:before {content: \"▾\";}#sk-container-id-68 div.sk-estimator input.sk-toggleable__control:checked~label.sk-toggleable__label {background-color: #d4ebff;}#sk-container-id-68 div.sk-label input.sk-toggleable__control:checked~label.sk-toggleable__label {background-color: #d4ebff;}#sk-container-id-68 input.sk-hidden--visually {border: 0;clip: rect(1px 1px 1px 1px);clip: rect(1px, 1px, 1px, 1px);height: 1px;margin: -1px;overflow: hidden;padding: 0;position: absolute;width: 1px;}#sk-container-id-68 div.sk-estimator {font-family: monospace;background-color: #f0f8ff;border: 1px dotted black;border-radius: 0.25em;box-sizing: border-box;margin-bottom: 0.5em;}#sk-container-id-68 div.sk-estimator:hover {background-color: #d4ebff;}#sk-container-id-68 div.sk-parallel-item::after {content: \"\";width: 100%;border-bottom: 1px solid gray;flex-grow: 1;}#sk-container-id-68 div.sk-label:hover label.sk-toggleable__label {background-color: #d4ebff;}#sk-container-id-68 div.sk-serial::before {content: \"\";position: absolute;border-left: 1px solid gray;box-sizing: border-box;top: 0;bottom: 0;left: 50%;z-index: 0;}#sk-container-id-68 div.sk-serial {display: flex;flex-direction: column;align-items: center;background-color: white;padding-right: 0.2em;padding-left: 0.2em;position: relative;}#sk-container-id-68 div.sk-item {position: relative;z-index: 1;}#sk-container-id-68 div.sk-parallel {display: flex;align-items: stretch;justify-content: center;background-color: white;position: relative;}#sk-container-id-68 div.sk-item::before, #sk-container-id-68 div.sk-parallel-item::before {content: \"\";position: absolute;border-left: 1px solid gray;box-sizing: border-box;top: 0;bottom: 0;left: 50%;z-index: -1;}#sk-container-id-68 div.sk-parallel-item {display: flex;flex-direction: column;z-index: 1;position: relative;background-color: white;}#sk-container-id-68 div.sk-parallel-item:first-child::after {align-self: flex-end;width: 50%;}#sk-container-id-68 div.sk-parallel-item:last-child::after {align-self: flex-start;width: 50%;}#sk-container-id-68 div.sk-parallel-item:only-child::after {width: 0;}#sk-container-id-68 div.sk-dashed-wrapped {border: 1px dashed gray;margin: 0 0.4em 0.5em 0.4em;box-sizing: border-box;padding-bottom: 0.4em;background-color: white;}#sk-container-id-68 div.sk-label label {font-family: monospace;font-weight: bold;display: inline-block;line-height: 1.2em;}#sk-container-id-68 div.sk-label-container {text-align: center;}#sk-container-id-68 div.sk-container {/* jupyter's `normalize.less` sets `[hidden] { display: none; }` but bootstrap.min.css set `[hidden] { display: none !important; }` so we also need the `!important` here to be able to override the default hidden behavior on the sphinx rendered scikit-learn.org. See: https://github.com/scikit-learn/scikit-learn/issues/21755 */display: inline-block !important;position: relative;}#sk-container-id-68 div.sk-text-repr-fallback {display: none;}</style><div id=\"sk-container-id-68\" class=\"sk-top-container\"><div class=\"sk-text-repr-fallback\"><pre>CountVectorizer(stop_words=[&#x27;и&#x27;, &#x27;в&#x27;, &#x27;во&#x27;, &#x27;не&#x27;, &#x27;что&#x27;, &#x27;он&#x27;, &#x27;на&#x27;, &#x27;я&#x27;, &#x27;с&#x27;,\n",
       "                            &#x27;со&#x27;, &#x27;как&#x27;, &#x27;а&#x27;, &#x27;то&#x27;, &#x27;все&#x27;, &#x27;она&#x27;, &#x27;так&#x27;, &#x27;его&#x27;,\n",
       "                            &#x27;но&#x27;, &#x27;да&#x27;, &#x27;ты&#x27;, &#x27;к&#x27;, &#x27;у&#x27;, &#x27;же&#x27;, &#x27;вы&#x27;, &#x27;за&#x27;, &#x27;бы&#x27;,\n",
       "                            &#x27;по&#x27;, &#x27;только&#x27;, &#x27;ее&#x27;, &#x27;мне&#x27;, ...],\n",
       "                token_pattern=&#x27;\\\\b\\\\w\\\\w+[^(ть)]\\\\b&#x27;)</pre><b>In a Jupyter environment, please rerun this cell to show the HTML representation or trust the notebook. <br />On GitHub, the HTML representation is unable to render, please try loading this page with nbviewer.org.</b></div><div class=\"sk-container\" hidden><div class=\"sk-item\"><div class=\"sk-estimator sk-toggleable\"><input class=\"sk-toggleable__control sk-hidden--visually\" id=\"sk-estimator-id-68\" type=\"checkbox\" checked><label for=\"sk-estimator-id-68\" class=\"sk-toggleable__label sk-toggleable__label-arrow\">CountVectorizer</label><div class=\"sk-toggleable__content\"><pre>CountVectorizer(stop_words=[&#x27;и&#x27;, &#x27;в&#x27;, &#x27;во&#x27;, &#x27;не&#x27;, &#x27;что&#x27;, &#x27;он&#x27;, &#x27;на&#x27;, &#x27;я&#x27;, &#x27;с&#x27;,\n",
       "                            &#x27;со&#x27;, &#x27;как&#x27;, &#x27;а&#x27;, &#x27;то&#x27;, &#x27;все&#x27;, &#x27;она&#x27;, &#x27;так&#x27;, &#x27;его&#x27;,\n",
       "                            &#x27;но&#x27;, &#x27;да&#x27;, &#x27;ты&#x27;, &#x27;к&#x27;, &#x27;у&#x27;, &#x27;же&#x27;, &#x27;вы&#x27;, &#x27;за&#x27;, &#x27;бы&#x27;,\n",
       "                            &#x27;по&#x27;, &#x27;только&#x27;, &#x27;ее&#x27;, &#x27;мне&#x27;, ...],\n",
       "                token_pattern=&#x27;\\\\b\\\\w\\\\w+[^(ть)]\\\\b&#x27;)</pre></div></div></div></div></div>"
      ],
      "text/plain": [
       "CountVectorizer(stop_words=['и', 'в', 'во', 'не', 'что', 'он', 'на', 'я', 'с',\n",
       "                            'со', 'как', 'а', 'то', 'все', 'она', 'так', 'его',\n",
       "                            'но', 'да', 'ты', 'к', 'у', 'же', 'вы', 'за', 'бы',\n",
       "                            'по', 'только', 'ее', 'мне', ...],\n",
       "                token_pattern='\\\\b\\\\w\\\\w+[^(ть)]\\\\b')"
      ]
     },
     "execution_count": 252,
     "metadata": {},
     "output_type": "execute_result"
    }
   ],
   "source": [
    "# [\"для\", \"продам\", \"на\", \"из\"]\n",
    "# verb_pattern = r'^(?!.*ть$)static.+'\n",
    "# verb_pattern = r'\\b\\w\\w+(?!ть)\\b'\n",
    "verb_pattern = r'\\b\\w\\w+[^(ть)]\\b'\n",
    "\n",
    "count_vectorizer = CountVectorizer(stop_words=russian_stopwords, token_pattern=verb_pattern)\n",
    "count_vectorizer"
   ]
  },
  {
   "cell_type": "code",
   "execution_count": 194,
   "metadata": {},
   "outputs": [],
   "source": [
    "# count_vectorizer.get_feature_names_out()"
   ]
  },
  {
   "cell_type": "code",
   "execution_count": 140,
   "metadata": {},
   "outputs": [],
   "source": [
    "# train_titles.unique"
   ]
  },
  {
   "cell_type": "code",
   "execution_count": 253,
   "metadata": {
    "pycharm": {
     "name": "#%%\n"
    }
   },
   "outputs": [],
   "source": [
    "X_train = count_vectorizer.fit_transform(train_titles.values)\n",
    "X_val = count_vectorizer.transform(val_titles.values)"
   ]
  },
  {
   "cell_type": "code",
   "execution_count": null,
   "metadata": {},
   "outputs": [],
   "source": []
  },
  {
   "cell_type": "code",
   "execution_count": 254,
   "metadata": {},
   "outputs": [],
   "source": [
    "feature_names = count_vectorizer.get_feature_names_out()"
   ]
  },
  {
   "cell_type": "code",
   "execution_count": 124,
   "metadata": {},
   "outputs": [],
   "source": [
    "# count = X_train.toarray().sum(axis=0)"
   ]
  },
  {
   "cell_type": "code",
   "execution_count": 255,
   "metadata": {},
   "outputs": [],
   "source": [
    "dictionary = dict(zip(feature_names, count))\n",
    "dict_sorted = {f: c for f, c in sorted(dictionary.items(), key=lambda x: x[1], reverse=True)}"
   ]
  },
  {
   "cell_type": "code",
   "execution_count": 256,
   "metadata": {},
   "outputs": [
    {
     "name": "stdout",
     "output_type": "stream",
     "text": [
      "{'бухари': 1153, 'минима': 931, 'кованная ': 514, 'newton ': 386, 'pauline ': 353, 'front': 317, 'выступления': 287, 'лошадь-': 250, 'контейнерами ': 235, 'dvb-': 220, 'social ': 217, 'пиломатериалы ': 206, 'law': 198, 'роберт ': 194, 'минимум': 185, 'ролл': 172, 'кенгурятник ': 163, 'деревянных ': 145, 'кованный': 140, 'конного ': 140, 'контейнера': 140, 'брелок': 138, 'поднос ': 136, 'блюдцами': 133, 'истории ': 133, 'пижамы': 128, 'с1005341': 127, 'бастет ': 125, '065b8209 ': 123, 'душевный ': 123, '44.': 118, 'брюшную ': 113, 'люминесцентный ': 105, 'платья ': 103, '90x21mm ': 102, 'джинсовые ': 100, 'haibo ': 99, 'диам': 99, 'подростка ': 97, '14x2.': 93, 'петра ': 93, 'династия ': 92, 'нюська': 92, 'dynamic': 90, 'isopanel ': 89, 'брелок-': 87, 'кор': 87, 'wizard ': 85, 'кронштейн ': 85, 'hm-': 84, 'metallica': 84, 'дерева': 84, 'праздники': 84, 'detomaso ': 83, 'marine-': 83, 'serie ': 83, 'mexx': 82, 'пепельница ': 82, 'игра': 79, 'поясная': 78, 'блузки': 77, 'watt': 76, 'немецко-': 76, '140мм': 75, 'днат ': 74, '355 ': 73, 'free ': 73, 'smarta ': 73, 'минестерские': 73, 'alivio ': 71, 'harmonix': 70, '2х1.': 66, '1300 ': 65, 'креплением ': 64, 'выпускной': 63, 'лодочки': 63, 'отс': 63, 'душа': 62, 'образования': 62, '8732-': 61, 'victoria ': 61, 'брелок ': 61, 'ниппеля ': 60, 'высокий': 59, 'magnesium ': 58, 'деревянный': 57, '1924-': 56, 'certina ': 56, 'музыканты': 56, 'освежителя': 56, 'парнов': 56, 'вибромассажер ': 55, 'горные ': 55, '2sim': 54, 'melkco ': 54, 'забавный ': 54, 'пластины ': 54, '10дюймов': 53, '75549 ': 53, 'hitman ': 53, '15.': 52, 'безободковый': 52, 'итория': 52, 'дулочка': 51, 'жемчуга ': 51, 'песок': 51, 'водоочистка': 50, 'даром ': 50, 'москвы ': 50, 'h100мм ': 49, 'limited ': 49, 'tafika': 49, 'историческая ': 49, 'кенгуру ': 49, 'коробочка ': 49, 'пластиковый ': 49, 'speaker': 48, 'газа': 48, 'lcd': 47, 'двухсторонняя': 47, 'зонта': 47, 'ошо': 47, 'пинпоинтер ': 47, '366': 46, 'железново': 46, 'оф ': 46, 'гребной ': 45, 'конструирование ': 45, '16х2': 44, '3520m': 44, 'besmoda ': 44, 'опорой ': 44, 'розовые ': 44, '26 ': 43, '2гб ': 43, 'aod270': 43, 'самсунг': 43, '105 ': 42, 'каталка ': 42, 'олмеко': 42, '07 ': 40, 'spade ': 40, 'беременным': 40, 'квартиры': 40, '951 ': 39, 'binatone ': 39, 'oniks ': 39, 'swatch ': 39, 'young ': 39, 'рубашку ': 39, '008': 38, 'wmotion ': 38, 'вилок ': 38, 'джанни': 38, 'мини ': 38, 'помогу ': 38, '26х4.': 37, 'fallout4 ': 37, 'домбра': 37, 'классическая': 37, 'роликовая ': 37, 'primus ': 36, 'африка': 36, 'качалка': 36, 'кухню ': 36, 'eliksir ': 35, 'gx ': 35, 'васильки ': 35, 'всероссийская ': 35, 'депиляции ': 35, 'диор ': 35, 'медведь ': 35, 'ос-': 35, 'пиканиски': 35, 'поперечка': 35, '2010 ': 34, 'sentosa': 34, 'vid': 34, 'бюджетное ': 34, 'врезные': 34, 'вязаный ': 34, 'зоопарк': 34, 'источник ': 34, 'казани': 34, 'кливия': 34, 'корабли': 34, 'магас': 34, 'ногу ': 34, 'светодиодной ': 34, 'smeg ': 33, 'zippy ': 33, 'парма ': 33, 'самовывоз': 33, 'серебряная ': 33, '36cm': 32, '460': 32, 'eci341': 32, 'nash ': 32, 'апаратура': 32, 'магазин': 32, 'неопрена': 32, 'пластмасовая ': 32, '63х2 ': 31, 'narauda ': 31, 'p8400': 31, 'двусторонний ': 31, 'десертов': 31, 'инвалидов': 31, 'ночная ': 31, 'раритетные ': 31, 'nba': 30, 'roccobarocco': 30, 'set': 30, 'wiun ': 30, 'бытовой-': 30, 'варианта': 30, 'девушка': 30, 'копейки ': 30, 'лмд': 30, 'охотник': 30, 'пеноблоки ': 30, 'рибок': 30, 'сальвадор ': 30, '013-': 29, '50 ': 29, 'chagall': 29, 'pa249q': 29, 'двухъярусная': 29, 'искусственного ': 29, 'персиковая': 29, '159': 28, '2003er': 28, '31qsilg00735a-': 28, '50мм/': 28, 'dimaestri ': 28, 'flux ': 28, 'natural ': 28, 'orthoforma': 28, 'ram ': 28, 'sps610': 28, 'sunset ': 28, 'виноград ': 28, 'дорого': 28, 'командор': 28, 'коробочке': 28, 'молочный ': 28, 'партфолио': 28, 'sco ': 27, 'son ': 27, 'venus ': 27, 'англо-': 27, 'безнравственные ': 27, 'винтажная ': 27, 'женское ': 27, 'моноблок ': 27, 'светл': 27, '1924г': 26, 'adria ': 26, 'marshal ': 26, 'tables ': 26, 'веник': 26, 'второй': 26, 'выпуск': 26, 'кристальная ': 26, 'лифтом': 26, 'мурано ': 26, 'нутрилон': 26, 'простая ': 26, '300x2': 25, 'tommy ': 25, 'vero ': 25, 'багажника ': 25, 'блоком ': 25, 'вибро': 25, 'карманная': 25, 'кейс': 25, 'коллинз': 25, 'колонке ': 25, 'корабля': 25, 'окуджава': 25, 'профессиональные ': 25, 'пятницам ': 25, '12000': 24, '1232 ': 24, '36вт ': 24, '515 ': 24, 'fi-': 24, 'flatron': 24, 'metal ': 24, 'mfq-': 24, 'prado': 24, 'q502usb': 24, 'win7': 24, 'within': 24, 'бабаева ': 24, 'волна ': 24, 'гибрид': 24, 'инструментов': 24, 'лыжи-': 24, 'минитренажер': 24, 'наук': 24, 'педикюрно-': 24, 'прекрасных ': 24, 'прошитый': 24, '205 ': 23, '247 ': 23, 'espada ': 23, 'iphone5': 23, 'medela': 23, 'polk ': 23, 'акунин': 23, 'велозапчасти ': 23, 'высокие ': 23, 'испанию ': 23, 'мужское': 23, 'пальмера ': 23, 'пресс': 23, 'резьба ': 23, '1963г': 22, '68.': 22, '7д ': 22, 'beckham ': 22, 'exel ': 22, 'lh165es': 22, 'pack': 22, 'rc4 ': 22, 'двумя ': 22, 'двуспальное': 22, 'девушка ': 22, 'запчасти/': 22, 'кеды ': 22, 'охлаждения ': 22, 'прагу': 22, 'серябрянная ': 22, '1990 ': 21, 'efa-': 21, 'g50': 21, 'indezit': 21, 'porchello ': 21, 'urabi ': 21, 'vidima ': 21, 'zoom': 21, 'арго': 21, 'бальных ': 21, 'гостиной ': 21, 'донцова': 21, 'клава': 21, 'крышечки': 21, 'мамины ': 21, 'простенький ': 21, 'свадебное ': 21, '1962': 20, '19в': 20, '4х2.': 20, 'a19-': 20, 'bass ': 20, 'dendrobium ': 20, 'fine ': 20, 'fleur ': 20, 'hormann': 20, 'ltd': 20, 'rapala ': 20, 'spd-': 20, 'tpu ': 20, 'агатом ': 20, 'батареечная': 20, 'браво ': 20, 'варки ': 20, 'греческий ': 20, 'дрова ': 20, 'еще ': 20, 'казанскрй ': 20, 'мешковые': 20, 'победы': 20, 'проектирование ': 20, 'редуктор ': 20, '2функции': 19, '324750': 19, '906 ': 19, 'combo': 19, 'hercules ': 19, 'm371': 19, 'm50': 19, 'wma-': 19, 'yd-': 19, 'авторская ': 19, 'антибликовые ': 19, 'втулка ': 19, 'выпрямитель ': 19, 'высокие': 19, 'камерой ': 19, 'луи ': 19, 'мариам': 19, 'нежная ': 19, 'обои ': 19, 'подростков ': 19, 'раскладушка': 19, 'ремонта': 19, 'b200': 18, 'mfq ': 18, 'peronda ': 18, 'remington ': 18, 'warfare ': 18, 'батареи ': 18, 'вуги': 18, 'гирька ': 18, 'гирю ': 18, 'горнолыжный': 18, 'денежное ': 18, 'детская ': 18, 'колье ': 18, 'комплекты ': 18, 'коньки ': 18, 'коробка': 18, 'красоты ': 18, 'куда ': 18, 'кулон-': 18, 'ламбрекен': 18, 'летом ': 18, 'министеппер ': 18, 'седекx': 18, '20.': 17, 'baellerry ': 17, 'elixir ': 17, 'forward ': 17, 'mantra ': 17, 'monster ': 17, 'piece': 17, 'r460': 17, 'альбом ': 17, 'амстердам ': 17, 'брендовый ': 17, 'вакуумные ': 17, 'вальехо': 17, 'дулево': 17, 'колонок': 17, 'лицензионные': 17, 'манто': 17, 'монтажа ': 17, 'нитро-': 17, 'новинка': 17, 'обуви ': 17, 'пасху': 17, 'петрушевская ': 17, 'правовых ': 17, 'рассказы ': 17, 'сабвуфера': 17, 'саи-': 17, '00 ': 16, '00923128731': 16, '1925г': 16, '20х30': 16, '431д': 16, '9359-': 16, 'fdb1450': 16, 'medium': 16, 'qx ': 16, 'ursus ': 16, 'vgn-': 16, 'yst-': 16, 'алмазом': 16, 'беляночка ': 16, 'втулке ': 16, 'гост ': 16, 'итоговое ': 16, 'кафель ': 16, 'мимоза': 16, 'нераб': 16, 'отличные ': 16, 'профнастил ': 16, 'пту-': 16, 'руссиф': 16, '2013 ': 15, '2а-': 15, '5а ': 15, '8p ': 15, 'candy': 15, 'carolina ': 15, 'centek ': 15, 'centro': 15, 'htc': 15, 'monotribe': 15, 'pcl2-': 15, 'pe-': 15, 'автоматическая ': 15, 'бензиновый': 15, 'всесезон': 15, 'грыжи': 15, 'дри': 15, 'женская ': 15, 'замочек': 15, 'кожаный ': 15, 'контейнер ': 15, 'конфетница': 15, 'кружка': 15, 'мамонта': 15, 'мышки': 15, 'нему': 15, 'неубиваемая ': 15, 'обучающий ': 15, 'папа ': 15, 'провод ': 15, 'светильников': 15, '6516/': 14, '750up': 14, 'adsl/': 14, 'af002ur ': 14, 'fhd ': 14, 'lan': 14, 'nnn': 14, 'rainy ': 14, 'smartband': 14, 'starck ': 14, 'wrench ': 14, 'x5c': 14, 'аудиоинтерфейс ': 14, 'борис ': 14, 'бумер': 14, 'верблюд': 14, 'вид ': 14, 'высотой ': 14, 'город ': 14, 'диапроектор ': 14, 'дин ': 14, 'дорогая ': 14, 'дорожка': 14, 'золушка ': 14, 'ингалятор': 14, 'крышки': 14, 'межкомнатная ': 14, 'михаил ': 14, 'модули': 14, 'наличии ': 14, 'независимости ': 14, 'петли': 14, 'поход ': 14, 'проволока ': 14, 'процессор': 14, '002': 13, '140пл ': 13, '80гб': 13, 'dexp': 13, 'dj ': 13, 'fidelio ': 13, 'iphon ': 13, 'lte': 13, 'maxx ': 13, 'strix ': 13, 't2250 ': 13, 'vitacci': 13, 'zombies ': 13, 'zwp582': 13, 'ас ': 13, 'бенжамина': 13, 'вата': 13, 'вега ': 13, 'вилки ': 13, 'вилку ': 13, 'внутрикорпусная ': 13, 'вёдра ': 13, 'гимнастике': 13, 'дарья ': 13, 'дачной ': 13, 'кола': 13, 'контроля ': 13, 'кофеварки ': 13, 'крестиком': 13, 'легендарные ': 13, 'летопись ': 13, 'оа-': 13, 'оренбург-': 13, 'отверток ': 13, 'патроны ': 13, 'переписка ': 13, 'петербург': 13, 'печи ': 13, 'пледы ': 13, 'пуфик': 13, 'рашгард ': 13, 'редкий ': 13, 'сандра': 13, 'серебро': 13, 'сетевую ': 13, '016': 12, '10игр': 12, '21311v': 12, '29/': 12, '2900 ': 12, '400-': 12, '42pfl3507t/': 12, '625h': 12, '7681 ': 12, '8150-': 12, 'avaya ': 12, 'c5303 ': 12, 'eh4000w': 12, 'google ': 12, 'gx17': 12, 'hammerschmidt ': 12, 'harley ': 12, 'hv ': 12, 'me2 ': 12, 'nailart': 12, 'ride ': 12, 'tx1330/': 12, 'yyj ': 12, 'zle': 12, 'амазонская ': 12, 'балаклава ': 12, 'бензин': 12, 'блоком.': 12, 'включено ': 12, 'все ': 12, 'второй ': 12, 'втулкаshimano': 12, 'гаранти': 12, 'гривенник ': 12, 'действия': 12, 'деревянная ': 12, 'джинсовка ': 12, 'друзей': 12, 'евро ': 12, 'игр': 12, 'интерактивный ': 12, 'йога ': 12, 'караоке': 12, 'кардиган ': 12, 'коллектор ': 12, 'кофейная ': 12, 'лагерь ': 12, 'ледобуру ': 12, 'леса ': 12, 'марита': 12, 'масленица ': 12, 'машинка ': 12, 'медведица ': 12, 'медных ': 12, 'метод ': 12, 'нидерланды': 12, 'ниппельный ': 12, 'ноте ': 12, 'остров ': 12, 'пазл ': 12, 'пекин': 12, 'подвеска ': 12, 'пособие ': 12, 'поэзия': 12, 'ребенка ': 12, 'рождением ': 12, 'розенбаума ': 12, 'рядный': 12, 'семакин': 12, '07.': 11, '21qsalg03717g-': 11, '2470': 11, '2pcs': 11, '406': 11, '554th': 11, '6701': 11, 'apple ': 11, 'ashtone': 11, 'bvlgari': 11, 'csma ': 11, 'ecco': 11, 'g531f': 11, 'keneksi ': 11, 'phonak ': 11, 'pucci': 11, 's6102': 11, 'spider ': 11, 'thor ': 11, 'valco': 11, 'zoom ': 11, 'автоледи': 11, 'асинхронный ': 11, 'барные ': 11, 'безнасадочные': 11, 'божка ': 11, 'братск': 11, 'бурого ': 11, 'виброплатформа': 11, 'владикавказ': 11, 'вышевка ': 11, 'вятка': 11, 'глинистая ': 11, 'декабрист ': 11, 'джемпер ': 11, 'дунери': 11, 'дюйма ': 11, 'заказы': 11, 'закалённое ': 11, 'ивель ': 11, 'имиджевые': 11, 'ин14': 11, 'интерактивная ': 11, 'интерьерная': 11, 'искуственная ': 11, 'кампучия ': 11, 'константин': 11, 'креплениями': 11, 'крестом ': 11, 'кружки ': 11, 'кулер ': 11, 'курточка ': 11, 'кёрхер ': 11, 'лунного ': 11, 'магнитоэластичный': 11, 'мадонна': 11, 'микрофонный ': 11, 'мультиварку': 11, 'наволочкой': 11, 'никольское ': 11, 'обменяю ': 11, 'очищающая ': 11, 'подгонок ': 11, 'попоной ': 11, 'потолочные ': 11, 'светло-': 11, '1959-': 10, '1960 ': 10, '2010г': 10, '2мс ': 10, '500 ': 10, '71tlf': 10, '72cm': 10, '76191 ': 10, '880901 ': 10, '900': 10, 'apart ': 10, 'asus': 10, 'babybjorn ': 10, 'bw-': 10, 'capita ': 10, 'compact': 10, 'd640g ': 10, 'dymonds ': 10, 'extender': 10, 'fajr': 10, 'fleur': 10, 'imd-': 10, 'iphon6 ': 10, 'okc ': 10, 'oppo ': 10, 'orpheus ': 10, 'salomon ': 10, 'sound ': 10, 'ssb177p1': 10, 'x2 ': 10, 'x502c': 10, 'zmir ': 10, 'zopo ': 10, 'айра': 10, 'бандана ': 10, 'бош': 10, 'браслеты': 10, 'булавы': 10, 'вай ': 10, 'велоцепь ': 10, 'ворота': 10, 'высотный ': 10, 'гиа': 10, 'гостиной': 10, 'девичника': 10, 'детские': 10, 'домашняя ': 10, 'древесно-': 10, 'дублёнка ': 10, 'ещё': 10, 'жби ': 10, 'жел/': 10, 'завиток': 10, 'зарядки ': 10, 'зеле': 10, 'информационного ': 10, 'каминные': 10, 'кардиган': 10, 'качества': 10, 'классические ': 10, 'комбо-': 10, 'кошель ': 10, 'лебедева': 10, 'ль ': 10, 'мутона ': 10, 'мухоловка': 10, 'мягкое': 10, 'натуральная': 10, 'начале ': 10, 'нивелир-': 10, 'обрезиненные': 10, 'один ': 10, 'ортопедическое ': 10, 'парфюм': 10, 'переднее ': 10, 'пивная ': 10, 'подарочное ': 10, 'полевой ': 10, 'прами ': 10, 'приставка': 10, 'прогулочные ': 10, 'прямоугольный ': 10, 'прятки ': 10, 'раствор': 10, 'реактивного ': 10, 'резиновое ': 10, 'реклайнер-': 10, 'римини': 10, 'рулон': 10, 'с8 ': 10, 'сб4': 10, 'свитер ': 10, 'серьги-': 10, 'симонов ': 10, '100g3': 9, '1200x600x50мм': 9, '245302': 9, '2шт ': 9, '335-': 9, '5530 ': 9, 'antilop': 9, 'archos': 9, 'build ': 9, 'crest ': 9, 'e65': 9, 'edit': 9, 'galirie ': 9, 'grey': 9, 'iap-': 9, 'jointed ': 9, 'mario ': 9, 'massive ': 9, 'maurice ': 9, 'montblanc': 9, 'p5200 ': 9, 'reserved': 9, 's3mini': 9, 'spigen ': 9, 'st27i': 9, 'staffer': 9, 't5740': 9, 'technics ': 9, 'tempish ': 9, 'ver900 ': 9, 'vxn ': 9, 'wilo ': 9, 'x54h': 9, 'аккустическую ': 9, 'апачи': 9, 'бабочках': 9, 'бассейн ': 9, 'бесколлекторный ': 9, 'благоуающий ': 9, 'бородин ': 9, 'ботинки': 9, 'брендовые ': 9, 'бронзовый ': 9, 'ванна': 9, 'ванная': 9, 'вело ': 9, 'вечернее ': 9, 'включено': 9, 'внимание ': 9, 'времен ': 9, 'всесезонный ': 9, 'выс': 9, 'вышивка ': 9, 'гандылян ': 9, 'гардероб ': 9, 'гимнастики ': 9, 'горячей ': 9, 'дарсоваль ': 9, 'двойная ': 9, 'декор-': 9, 'деревообрабатывающий': 9, 'детфутб ': 9, 'дефо': 9, 'джойстиками ': 9, 'древние ': 9, 'е27': 9, 'еду ': 9, 'жима ': 9, 'зарубежное': 9, 'ивантеевка': 9, 'канальный ': 9, 'катушек': 9, 'каши ': 9, 'кобальт ': 9, 'колонка-': 9, 'колонками ': 9, 'контроллер': 9, 'кроватка-': 9, 'крытые ': 9, 'лимитед': 9, 'локонов ': 9, 'лосева ': 9, 'лоскутное ': 9, 'любые': 9, 'маленькое ': 9, 'малышам ': 9, 'мехом ': 9, 'микроскоп ': 9, 'модена': 9, 'москва ': 9, 'мотобур ': 9, 'настольная ': 9, 'области': 9, 'ожегов ': 9, 'опер': 9, 'оперы ': 9, 'опорные ': 9, 'осанки': 9, 'переключателя ': 9, 'персикового ': 9, 'песочные ': 9, 'пивной ': 9, 'пиджак': 9, 'пион ': 9, 'поверхностный ': 9, 'подвески': 9, 'поле': 9, 'положения': 9, 'послеоперационный': 9, 'психология ': 9, 'реабилитация ': 9, 'с4 ': 9, 'самоката ': 9, 'свадебная ': 9, '001-': 8, '113-': 8, '14г ': 8, '1943 ': 8, '1959': 8, '1961': 8, '23/': 8, '300гб': 8, '343': 8, '4ld11': 8, '4х6м': 8, '5064': 8, '5459': 8, '5гб': 8, '652': 8, '830': 8, '8кг': 8, '943sn': 8, 'access ': 8, 'amazon ': 8, 'amd ': 8, 'anniver': 8, 'barrel ': 8, 'benq': 8, 'cgs103a': 8, 'ct002h ': 8, 'e7500': 8, 'emashines ': 8, 'faded ': 8, 'flirt': 8, 'gm108': 8, 'ip20 ': 8, 'light ': 8, 'marimex ': 8, 'mylight ': 8, 'niviuk ': 8, 'note': 8, 'ny ': 8, 'octoplus ': 8, 'peg-': 8, 'ph02': 8, 'push ': 8, 'special ': 8, 't72hri ': 8, 'training ': 8, 'usa': 8, 'utp': 8, 'vicini': 8, 'wwe ': 8, 'xoro': 8, 'zpas ': 8, 'адмирал ': 8, 'асбд': 8, 'белый': 8, 'берет ': 8, 'большая': 8, 'бреви ': 8, 'брендовая ': 8, 'букеты ': 8, 'вилка ': 8, 'выпускное ': 8, 'готовые ': 8, 'гуманитариев ': 8, 'дву ': 8, 'дерзкое ': 8, 'динамиках ': 8, 'диск': 8, 'дневного ': 8, 'доллар': 8, 'доска': 8, 'дпв ': 8, 'егэ': 8, 'жемчуг ': 8, 'земле': 8, 'издание': 8, 'ислам': 8, 'кантри': 8, 'капитолий ': 8, 'каратэ': 8, 'каталог ': 8, 'кер': 8, 'кер ': 8, 'книжный': 8, 'кольц': 8, 'компьютера ': 8, 'коньковый ': 8, 'королевская ': 8, 'кухни': 8, 'кухни-': 8, 'леопардовые ': 8, 'лисицы ': 8, 'мальчик ': 8, 'массив ': 8, 'материалов': 8, 'медела': 8, 'медицины': 8, 'мерилин ': 8, 'металлический ': 8, 'металлогологенный ': 8, 'немецкое ': 8, 'няня': 8, 'одеяло': 8, 'оперативно': 8, 'опилки': 8, 'очаг': 8, 'очищение ': 8, 'пакетом ': 8, 'патч-': 8, 'педикюра ': 8, 'перелетом': 8, 'песка': 8, 'пиломатериал': 8, 'пластик ': 8, 'плафоном': 8, 'плиты': 8, 'поколение': 8, 'полкой': 8, 'полной ': 8, 'полочку': 8, 'посуда ': 8, 'пустышки ': 8, 'раннему ': 8, 'ролики ': 8, 'роскошные ': 8, 'ротар': 8, 'ручка-': 8, 'сальсы': 8, 'самсунг ': 8, 'световодов': 8, 'сердечко': 8, 'сетки': 8, '0003': 7, '02 ': 7, '10000015 ': 7, '125': 7, '15/': 7, '1595 ': 7, '1726 ': 7, '1867-': 7, '1940х900': 7, '2202': 7, '26х2.': 7, '2х1х0.': 7, '32pfl5008t/': 7, '3дикая ': 7, '7373 ': 7, '8марта ': 7, 'a50 ': 7, 'a9r14491 ': 7, 'advance': 7, 'alfajr': 7, 'b2.': 7, 'bloom ': 7, 'burmeier': 7, 'citi ': 7, 'city ': 7, 'cosmos ': 7, 'defender': 7, 'dial-': 7, 'dinamic': 7, 'doors ': 7, 'ern ': 7, 'fc-': 7, 'firewire-': 7, 'g2mini': 7, 'geoby ': 7, 'giorgio ': 7, 'harr': 7, 'highscreen': 7, 'icecreme ': 7, 'jbl-': 7, 'juice ': 7, 'kahla': 7, 'kvm ': 7, 'l9217': 7, 'la ': 7, 'laney ': 7, 'luxuru ': 7, 'lv ': 7, 'n10-': 7, 'n300': 7, 'nitro ': 7, 'patch ': 7, 'phantom ': 7, 'playstation3': 7, 'pump ': 7, 'quest ': 7, 'r540 ': 7, 'republic ': 7, 'respir': 7, 'rm-': 7, 's6 ': 7, 'schwalbe ': 7, 'screen ': 7, 'skies ': 7, 'smith': 7, 'taller ': 7, 'terani ': 7, 'union': 7, 'upgrade ': 7, 'varvatos': 7, 'voice ': 7, 'volca ': 7, 'web ': 7, 'wiejar ': 7, 'wizard': 7, 'wky ': 7, 'zenfone ': 7, 'аистенок': 7, 'акрил': 7, 'алешковский ': 7, 'анкерные ': 7, 'атлетики ': 7, 'аудиоустройств ': 7, 'безынерционная ': 7, 'бекхэм': 7, 'березовая ': 7, 'бивал': 7, 'братья': 7, 'вагнер ': 7, 'вальтер ': 7, 'ввг-': 7, 'велошорты ': 7, 'венеция ': 7, 'взрослый ': 7, 'восток': 7, 'всем': 7, 'выпускного ': 7, 'гарбыль ': 7, 'гарнитура': 7, 'гдр': 7, 'голуб': 7, 'гранат ': 7, 'грозный': 7, 'грозный ': 7, 'джакузи': 7, 'диагональ ': 7, 'дик ': 7, 'диффенбахия ': 7, 'достаточно ': 7, 'древо ': 7, 'замшевая ': 7, 'играем ': 7, 'иранский ': 7, 'история': 7, 'источники ': 7, 'йота': 7, 'кабина ': 7, 'камера ': 7, 'канальный': 7, 'каньки ': 7, 'кап': 7, 'кассета-': 7, 'кат ': 7, 'катушка ': 7, 'качалка-': 7, 'кватро ': 7, 'керамзитоблоки': 7, 'классика ': 7, 'кнопка': 7, 'коврик ': 7, 'колыбель-': 7, 'копейка ': 7, 'копировально-': 7, 'корельсокой ': 7, 'корсет ': 7, 'крепления ': 7, 'кресла-': 7, 'крест ': 7, 'лав': 7, 'ларисы ': 7, 'лдсп ': 7, 'легкая ': 7, 'литра': 7, 'ложкой': 7, 'ломаются ': 7, 'лук ': 7, 'магнитный': 7, 'малыша ': 7, 'матрасик': 7, 'машины': 7, 'машрутизатор ': 7, 'металлодетектор': 7, 'миг ': 7, 'миньона': 7, 'мира ': 7, 'море': 7, 'мотыга ': 7, 'мурбо': 7, 'нартан ': 7, 'низкие ': 7, 'николай ': 7, 'оббитые ': 7, 'обычных': 7, 'олимпиада ': 7, 'олимпиада-': 7, 'ольвия ': 7, 'омега ': 7, 'отличного ': 7, 'паркер ': 7, 'патерностер ': 7, 'пвс ': 7, 'педали ': 7, 'переднего ': 7, 'переносные ': 7, 'пи ': 7, 'пластилин ': 7, 'пневматический ': 7, 'подростковый': 7, 'подушкой': 7, 'полотенец ': 7, 'полочка ': 7, 'полукоммерческий ': 7, 'приют ': 7, 'произ': 7, 'профессиональный': 7, 'пульт ': 7, 'пуха': 7, 'работа': 7, 'разные': 7, 'розебудная': 7, 'розовая': 7, 'рублей ': 7, 'руками': 7, 'самары': 7, 'самова': 7, 'саморез ': 7, 'самым ': 7, 'сапоги ': 7, 'свистком': 7, '0102': 6, '02170 ': 6, '1008d ': 6, '115-': 6, '120gb ': 6, '130д ': 6, '14u15': 6, '1896 ': 6, '1942s': 6, '273e': 6, '300х201х66': 6, '31034': 6, '3521': 6, '3639/': 6, '406д': 6, '4206800243470 ': 6, '600э': 6, '614.': 6, '64gb': 6, '6гб ': 6, '81см': 6, '920 ': 6, 'a75': 6, 'al1717': 6, 'alias': 6, 'andoer ': 6, 'as ': 6, 'athlonii/': 6, 'axon': 6, 'bebi': 6, 'bertoni': 6, 'bugera ': 6, 'cage ': 6, 'casco': 6, 'continental ': 6, 'daehlie ': 6, 'detals ': 6, 'dh24pc3': 6, 'di-': 6, 'diablo ': 6, 'drone ': 6, 'edifice ': 6, 'electrolux': 6, 'elita ': 6, 'exa': 6, 'f351 ': 6, 'fishcam-': 6, 'fsa-': 6, 'futaba ': 6, 'g4 ': 6, 'germina ': 6, 'gezatone': 6, 'gianni': 6, 'gma-': 6, 'hayer ': 6, 'hitachi ': 6, 'hw-': 6, 'icloud ': 6, 'icr18650-': 6, 'ip68 ': 6, 'iphome ': 6, 'large': 6, 'laser': 6, 'lazer ': 6, 'llm-': 6, 'lorpen ': 6, 'm1 ': 6, 'marathon ': 6, 'mirax': 6, 'miro': 6, 'muromec': 6, 'phil ': 6, 'pikolinos': 6, 'pro': 6, 'ringyo': 6, 'rivals ': 6, 'romance': 6, 'rose': 6, 's4504': 6, 'set ': 6, 'sgh-': 6, 'softec ': 6, 'stels': 6, 'swap': 6, 'ta ': 6, 'tag ': 6, 'thrustmaster ': 6, 'torque': 6, 'tricot': 6, 'ultrafire': 6, 'vibra ': 6, 'vibramate ': 6, 'waggon': 6, 'wave ': 6, 'whirpool': 6, 'xoro ': 6, 'адамов ': 6, 'антик ': 6, 'аризона ': 6, 'асса ': 6, 'барных ': 6, 'беременность ': 6, 'бетонных ': 6, 'болгария ': 6, 'брату': 6, 'брендов': 6, 'броне-': 6, 'брусо': 6, 'будильник ': 6, 'бутылка': 6, 'вавилова ': 6, 'волка': 6, 'волосистая': 6, 'вратарские ': 6, 'всей ': 6, 'выезжающий ': 6, 'высокопроизводительный ': 6, 'гдов': 6, 'гербе ': 6, 'гитарная ': 6, 'голову': 6, 'горящ': 6, 'граждановедение ': 6, 'гриф-': 6, 'дама ': 6, 'даниэль ': 6, 'диво': 6, 'длинная': 6, 'дней ': 6, 'доктора': 6, 'донная ': 6, 'драцена ': 6, 'другие': 6, 'дубовые': 6, 'душевая ': 6, 'егоза': 6, 'жк-': 6, 'зарубежных ': 6, 'зенковка ': 6, 'зеркалами': 6, 'игра ': 6, 'игрушки ': 6, 'ижевск': 6, 'или ': 6, 'информатика ': 6, 'картина ': 6, 'каша ': 6, 'кипр': 6, 'кисломолочная ': 6, 'клатч ': 6, 'коваль ': 6, 'кожей': 6, 'колонка ': 6, 'кольца ': 6, 'комплектующим': 6, 'коралловый ': 6, 'крепление ': 6, 'куртку': 6, 'лампа ': 6, 'ласковый ': 6, 'лесы': 6, 'лето ': 6, 'линейной ': 6, 'луковицы': 6, 'маг': 6, 'малютка': 6, 'массив': 6, 'мелаллоискатель ': 6, 'мясорубка': 6, 'насосно-': 6, 'настенный': 6, 'наушники ': 6, 'неттоп ': 6, 'нитки': 6, 'нокиа300': 6, 'ноут ': 6, 'обменяю': 6, 'оригинальная ': 6, 'осенне-': 6, 'отто ': 6, 'парковки ': 6, 'пассивная ': 6, 'паста ': 6, 'пасти': 6, 'пасты ': 6, 'пеперомия': 6, 'перегородка': 6, 'перкаль ': 6, 'пиреней': 6, 'пистолет ': 6, 'платяной': 6, 'платяной ': 6, 'плетеные': 6, 'покрытия': 6, 'прекрасный ': 6, 'присоску ': 6, 'продается ': 6, 'промышленного ': 6, 'пропиткой ': 6, 'процессор ': 6, 'пс3': 6, 'пылесос ': 6, 'пятаков ': 6, 'рабочии ': 6, 'розовые': 6, 'россия ': 6, 'самарской ': 6, 'сверхкомпактный': 6, 'светодиодные ': 6, 'сидорович': 6, '03-': 5, '1000mk3': 5, '1350 ': 5, '1800': 5, '1803': 5, '1886': 5, '1900 ': 5, '1964-': 5, '1hs-': 5, '200 ': 5, '2004 ': 5, '2011': 5, '2348m ': 5, '256ssd': 5, '257281': 5, '270b': 5, '2i2': 5, '30-': 5, '3587': 5, '35ас ': 5, '3х2.': 5, '500-': 5, '5230': 5, '800 ': 5, '8x2.': 5, '9300': 5, 'a200-': 5, 'ad-': 5, 'amg': 5, 'ant2406a': 5, 'ap1113-': 5, 'armstrad': 5, 'atlanta ': 5, 'author': 5, 'avtf ': 5, 'azur ': 5, 'bas ': 5, 'bb1 ': 5, 'blanc ': 5, 'block ': 5, 'bmw ': 5, 'bn/': 5, 'brightstarts': 5, 'bs-': 5, 'bxjm-': 5, 'c2960': 5, 'c870 ': 5, 'californian ': 5, 'cam ': 5, 'carinthia ': 5, 'casadei': 5, 'cdv-': 5, 'chester': 5, 'chorus': 5, 'copper ': 5, 'cort': 5, 'd5803': 5, 'delica ': 5, 'dls': 5, 'dualhead2 ': 5, 'dv/': 5, 'e250i': 5, 'e9/': 5, 'ek ': 5, 'el\"': 5, 'emillio ': 5, 'esт ': 5, 'f100 ': 5, 'faw-': 5, 'fluke421d': 5, 'frontline-': 5, 'g350e': 5, 'g3586': 5, 'glory ': 5, 'guard ': 5, 'hdd ': 5, 'hoffmann ': 5, 'holder ': 5, 'i553': 5, 'if ': 5, 'impero': 5, 'j3 ': 5, 'josephina ': 5, 'just': 5, 'jvc': 5, 'lafleur': 5, 'lg ': 5, 'line': 5, 'lsl-': 5, 'lsm ': 5, 'lsq-': 5, 'lte ': 5, 'medic': 5, 'metallic ': 5, 'mjy42ru/': 5, 'moreschi ': 5, 'mpd18': 5, 'muff ': 5, 'mx5': 5, 'mx5 ': 5, 'n156': 5, 'n7010 ': 5, 'nillkin ': 5, 'nordwey-': 5, 'ntsc': 5, 'nuud ': 5, 'oem': 5, 'on ': 5, 'orient ': 5, 'orville ': 5, 'piccio': 5, 'pir ': 5, 'pmt5018 ': 5, 'polo': 5, 'potamaki ': 5, 'ps2': 5, 'quad': 5, 'r160': 5, 'raider': 5, 'ray': 5, 'ref': 5, 'rg321 ': 5, 'rivals': 5, 'roca ': 5, 'rubber ': 5, 's331': 5, 'schuller ': 5, 'scratch ': 5, 'sh930w': 5, 'smartwatch ': 5, 'sns': 5, 'soulmate ': 5, 'sr ': 5, 'synology ': 5, 'tannoy ': 5, 'thunderbolt ': 5, 'truck ': 5, 'truman ': 5, 'ue24h4070': 5, 'vh196d': 5, 'villeroy ': 5, 'vp2030b': 5, 'w6252': 5, 'walbrzych': 5, 'washburn': 5, 'wharfedale ': 5, 'wievsonic ': 5, 'workstation ': 5, 'wps510u': 5, 'x100e': 5, 'x3323': 5, 'xbox': 5, 'xl2420t ': 5, 'xotic ': 5, 'xw6600 ': 5, 'yyessaintlayrent ': 5, 'zen': 5, 'zf1': 5, 'zippy': 5, 'агрономия ': 5, 'акустики': 5, 'алина': 5, 'алла ': 5, 'аморфофаллюс': 5, 'аристон': 5, 'аромат ': 5, 'артур ': 5, 'асбест ': 5, 'атлант ': 5, 'атлас ': 5, 'афремов': 5, 'багги': 5, 'багет ': 5, 'байкал': 5, 'батист ': 5, 'башня': 5, 'бело-': 5, 'бензопила': 5, 'берегу': 5, 'билайн ': 5, 'блесна ': 5, 'боты ': 5, 'бык ': 5, 'бэтта': 5, 'ванно': 5, 'ватикан ': 5, 'велосипед ': 5, 'велофутболка ': 5, 'вертел ': 5, 'ветки': 5, 'вешалка': 5, 'виден': 5, 'владимир': 5, 'внутренняя ': 5, 'волокнистая ': 5, 'гантели': 5, 'гд3030-': 5, 'гетры ': 5, 'гипоаллергенный': 5, 'гоа ': 5, 'гримерные ': 5, 'гудкайнд': 5, 'да-': 5, 'дальномер ': 5, 'два ': 5, 'двойного ': 5, 'двухядерный': 5, 'деньга': 5, 'детсад': 5, 'детских ': 5, 'джерси ': 5, 'джубле': 5, 'диаметр ': 5, 'дикий ': 5, 'дирхем ': 5, 'дном ': 5, 'домашний': 5, 'достав': 5, 'дубовая': 5, 'дулёво': 5, 'дулёвский ': 5, 'душ ': 5, 'дэнас-': 5, 'жемчужина': 5, 'женские': 5, 'зарница': 5, 'зду-': 5, 'зимней ': 5, 'зоосад': 5, 'зубов': 5, 'иванова ': 5, 'идеально': 5, 'именная ': 5, 'инков': 5, 'интерьер': 5, 'информатики': 5, 'иркутск': 5, 'истребители ': 5, 'итальянский ': 5, 'йота ': 5, 'камеру': 5, 'камея': 5, 'каникулы ': 5, 'каталка-': 5, 'кашеварку': 5, 'кварцем': 5, 'кепка ': 5, 'керамогранит ': 5, 'кирпичи ': 5, 'класс ': 5, 'клуб': 5, 'книжный ': 5, 'кожанный ': 5, 'колокольчики': 5, 'кольца': 5, 'копейки': 5, 'копейку ': 5, 'копье': 5, 'корзинки': 5, 'корковая': 5, 'король ': 5, 'кофейник': 5, 'красноярске': 5, 'крымская ': 5, 'кубу': 5, 'кузнечные ': 5, 'кукла': 5, 'кёльнер': 5, 'лазерный ': 5, 'летняя ': 5, 'лечения ': 5, 'ливайна': 5, 'лилейники': 5, 'лист ': 5, 'луковицы ': 5, 'луковые ': 5, 'лупа-': 5, 'люстра\"': 5, 'малая': 5, 'масива ': 5, 'мастеровая ': 5, 'матрас ': 5, 'медиаконвертер ': 5, 'медицинская': 5, 'металл': 5, 'мешок': 5, 'миксер': 5, 'моделирования ': 5, 'моем ': 5, 'мойки ': 5, 'мост ': 5, 'мощная ': 5, 'мощный ': 5, 'мощь ': 5, 'музей ': 5, 'мультивпрка ': 5, 'мутоновая ': 5, 'мэйд': 5, 'мяч ': 5, 'мячики-': 5, 'накидку ': 5, 'нидерландские ': 5, 'нижнего ': 5, 'ника': 5, 'ногтей': 5, 'ноты': 5, 'обмен': 5, 'основе ': 5, 'остина': 5, 'осьминог ': 5, 'отверстий': 5, 'очки': 5, 'пакета ': 5, 'парковка': 5, 'педалборда ': 5, 'передний': 5, 'переноска ': 5, 'песца': 5, 'плитка': 5, 'подарки ': 5, 'подогрев ': 5, 'подставка': 5, 'позиций': 5, 'полки ': 5, 'полусапожки ': 5, 'починки': 5, 'пояс ': 5, 'пояснично-': 5, 'практический ': 5, 'привезти': 5, 'приставку ': 5, 'приют-': 5, 'прованс': 5, 'производителей': 5, 'пролежней': 5, 'противопролежневый ': 5, 'прыгунки ': 5, 'прямых ': 5, 'пшеничное ': 5, 'работника ': 5, 'рабочая': 5, 'радионяня': 5, 'разгневанны': 5, 'раздвижным ': 5, 'разн': 5, 'растягивающийся': 5, 'резиновы': 5, 'рейх': 5, 'реки ': 5, 'реле ': 5, 'ремень ': 5, 'риме': 5, 'рисуем ': 5, 'рисунком': 5, 'розница': 5, 'рокринг ': 5, 'рост ': 5, 'рудбекия ': 5, 'руку': 5, 'сlarks ': 5, 'саб ': 5, 'салфетница': 5, 'самбуфер ': 5, 'сахарница': 5, 'свитер': 5, 'свитера': 5, 'секретер': 5, 'силиконовая ': 5, 'силиконовый ': 5, 'сим ': 5, 'симочный ': 5, '009': 4, '012-': 4, '040': 4, '0546r': 4, '100/': 4, '1000gb/': 4, '10к': 4, '10у-': 4, '1195x595x50мм ': 4, '12/': 4, '13-': 4, '130мм': 4, '150cs': 4, '16г ': 4, '17d': 4, '1821г': 4, '1911г': 4, '1971 ': 4, '1991': 4, '19х25х5000 ': 4, '2012': 4, '20qlc ': 4, '2305 ': 4, '2472x2103 ': 4, '24x4 ': 4, '250gb': 4, '25гдн-': 4, '2х2.': 4, '320gb': 4, '32phh4309/': 4, '34-': 4, '3528 ': 4, '3х5': 4, '4000к ': 4, '40th ': 4, '42pfl7606': 4, '45 ': 4, '45000 ': 4, '4511': 4, '460 ': 4, '4a1': 4, '4g-': 4, '4ка': 4, '51красная ': 4, '550/': 4, '60smd': 4, '60х40х11': 4, '615': 4, '631 ': 4, '6823 ': 4, '69583 ': 4, '6s ': 4, '703в ': 4, '732696': 4, '740b': 4, '750': 4, '759-': 4, '771g ': 4, '77752 ': 4, '79833': 4, '8000': 4, '8258mc': 4, '89гр': 4, '8w ': 4, '945 ': 4, '94гр': 4, 'a2010': 4, 'a22 ': 4, 'abc ': 4, 'acorp ': 4, 'active': 4, 'age ': 4, 'arina': 4, 'arkham ': 4, 'asb ': 4, 'audiotechnik ': 4, 'babyliss ': 4, 'beadbox': 4, 'bell': 4, 'bestweld ': 4, 'birds ': 4, 'black-': 4, 'bmx/': 4, 'boker': 4, 'bontempi': 4, 'brilliant ': 4, 'brown/': 4, 'bushnell ': 4, 'calma': 4, 'capstone ': 4, 'caraya ': 4, 'casablanca ': 4, 'cavetto': 4, 'cg10': 4, 'charge': 4, 'collection': 4, 'color ': 4, 'compair ': 4, 'cooltrone ': 4, 'cooper': 4, 'coral ': 4, 'cpu ': 4, 'creator ': 4, 'crossride': 4, 'custom ': 4, 'd6503': 4, 'de1130 ': 4, 'delay': 4, 'delay ': 4, 'dkny': 4, 'dl380 ': 4, 'doorhan ': 4, 'dremel ': 4, 'e061sr': 4, 'e153fpf': 4, 'e3 ': 4, 'e4g ': 4, 'earrings ': 4, 'eaton ': 4, 'edition': 4, 'emax': 4, 'emporio ': 4, 'ethernet ': 4, 'experience': 4, 'f501.': 4, 'fallen ': 4, 'fgd': 4, 'fly ': 4, 'focal ': 4, 'fontainebleau ': 4, 'forty ': 4, 'fouganza': 4, 'g02-': 4, 'g100r': 4, 'gilde ': 4, 'golden ': 4, 'grost ': 4, 'gt-': 4, 'gucci ': 4, 'h324 ': 4, 'hall ': 4, 'hf008 ': 4, 'house': 4, 'ht-': 4, 'i9001': 4, 'i9300.': 4, 'indesit ': 4, 'involight ': 4, 'irbis ': 4, 'iso ': 4, 'j700f/': 4, 'k630i': 4, 'keenetic': 4, 'kotobukiya ': 4, 'language ': 4, 'ld-': 4, 'lg787le': 4, 'lipo ': 4, 'littlest ': 4, 'liz ': 4, 'lnfamily': 4, 'mad ': 4, 'max': 4, 'mcm ': 4, 'medi': 4, 'microsoft': 4, 'miicrosoft ': 4, 'mir543-': 4, 'mishel': 4, 'mizuno ': 4, 'moskvin': 4, 'moving ': 4, 'mp3 ': 4, 'mv65z23/': 4, 'n100s-': 4, 'n110': 4, 'n214': 4, 'nel ': 4, 'nutrilon': 4, 'ode': 4, 'order ': 4, 'panaray': 4, 'pelle': 4, 'phoenix ': 4, 'piccino ': 4, 'platinum ': 4, 'prenan ': 4, 'rack': 4, 'rb2011uias-': 4, 'recon ': 4, 'rise ': 4, 'sd-': 4, 'sensotouch': 4, 'sfc.': 4, 'sfp': 4, 'sgs ': 4, 'shop': 4, 'silver': 4, 'softsac ': 4, 'sonicsprint': 4, 'sr-': 4, 'ss-': 4, 'ssd ': 4, 'studio': 4, 'sм-': 4, 't7300': 4, 'telephone ': 4, 'thunder': 4, 'tipo ': 4, 'tl9214mg': 4, 'tm4104r ': 4, 'torres ': 4, 'tr-': 4, 'ukulele ': 4, 'urban': 4, 'vaio ': 4, 'valtec ': 4, 'victory': 4, 'view': 4, 'vitek ': 4, 'white-': 4, 'wmuh ': 4, 'xml ': 4, 'xs-': 4, 'xu ': 4, 'yellow ': 4, 'z1/': 4, 'zebra ': 4, 'zenfone2': 4, 'zero': 4, 'аванти ': 4, 'автомат ': 4, 'айпад ': 4, 'алмазные ': 4, 'алтай': 4, 'альянс': 4, 'английский ': 4, 'англия': 4, 'андроид ': 4, 'антикварное ': 4, 'апатит ': 4, 'аппаратуры': 4, 'арка': 4, 'армейский ': 4, 'аудио': 4, 'африки': 4, 'бак ': 4, 'бактериальных ': 4, 'баллон ': 4, 'бальные ': 4, 'бампер': 4, 'басаножки': 4, 'басовик': 4, 'батарейках': 4, 'бейткастинговая ': 4, 'бенджамина ': 4, 'березы': 4, 'беременных ': 4, 'бесконтактн': 4, 'бетар ': 4, 'биокамины ': 4, 'блока': 4, 'блюдец': 4, 'бмх ': 4, 'богов': 4, 'ботинками ': 4, 'бочка': 4, 'бронзовые': 4, 'брусья-': 4, 'бур ': 4, 'бурый ': 4, 'бутылочка': 4, 'буфер': 4, 'вазочки ': 4, 'валишевский': 4, 'варежки': 4, 'вгп ': 4, 'век ': 4, 'великие ': 4, 'весну': 4, 'ветчинница ': 4, 'взрослые': 4, 'викторию ': 4, 'виктория ': 4, 'вилла': 4, 'витрина': 4, 'вкл': 4, 'водонепроницаемые': 4, 'возвращение': 4, 'воларэ': 4, 'вологда': 4, 'волос': 4, 'вопросах ': 4, 'востоновления': 4, 'восточных ': 4, 'вращающаяся ': 4, 'втулки ': 4, 'гар': 4, 'гаража': 4, 'гдз ': 4, 'гиг': 4, 'гиг ': 4, 'гидровлической ': 4, 'гидрокостюм ': 4, 'гонконг ': 4, 'горнолыжная': 4, 'гостиную': 4, 'гравировкой ': 4, 'графин': 4, 'громче': 4, 'двух ': 4, 'двухконтурный ': 4, 'двухстворчатую ': 4, 'дезинфекции ': 4, 'декортивный ': 4, 'деловая ': 4, 'дельфин': 4, 'демократичная ': 4, 'дерева ': 4, 'детский': 4, 'детского ': 4, 'диапозитив': 4, 'дивана': 4, 'длинным ': 4, 'дмш ': 4, 'доктора ': 4, 'доминикану': 4, 'дородовый': 4, 'дуб': 4, 'дыня ': 4, 'евроцентов ': 4, 'евтуше': 4, 'единица ': 4, 'епифанов': 4, 'ещё ': 4, 'железобетонные': 4, 'жк ': 4, 'журнальный ': 4, 'жюль ': 4, 'заварочный ': 4, 'задач ': 4, 'звонилку': 4, 'зеленая': 4, 'зеркалом ': 4, 'знаков': 4, 'знакомые': 4, 'иллюстрированный ': 4, 'ингалятор-': 4, 'интерьера': 4, 'инфинити ': 4, 'информатике ': 4, 'иорданию ': 4, 'иркутской ': 4, 'испании ': 4, 'их ': 4, 'калифорнийская ': 4, 'качели ': 4, 'качелька': 4, 'качества ': 4, 'кгц': 4, 'клавиатура ': 4, 'клапанами': 4, 'классическая ': 4, 'клач': 4, 'кн0018208 ': 4, 'коврики': 4, 'коврики ': 4, 'кожзама ': 4, 'колас': 4, 'колесах ': 4, 'колесный ': 4, 'колец': 4, 'коллекционное ': 4, 'коллекционные ': 4, 'конфетницы ': 4, 'кончаловский': 4, 'коньячные ': 4, 'копытка ': 4, 'корбом ': 4, 'корова ': 4, 'кофеварка': 4, 'кофемашина ': 4, 'кофта': 4, 'кпб ': 4, 'кравченко': 4, 'кран ': 4, 'краш': 4, 'креплением-': 4, 'кресло-': 4, 'крокодила': 4, 'крон ': 4, 'кроссу': 4, 'кружевное ': 4, 'кружка ': 4, 'крышка-': 4, 'кстово ': 4, 'куртка ': 4, 'куртки': 4, 'кьюб': 4, 'легендарный ': 4, 'легкий ': 4, 'ледобур': 4, 'лентами': 4, 'леонов': 4, 'либерия ': 4, 'ликом': 4, 'лиственниц': 4, 'лица': 4, 'ложная': 4, 'лыжи': 4, 'лыжный ': 4, 'м132': 4, 'магнит ': 4, 'майка': 4, 'майкрософт ': 4, 'мака': 4, 'малогабаритный ': 4, 'манто ': 4, 'маска': 4, 'маска ': 4, 'массива': 4, 'массива ': 4, 'матвея ': 4, 'материал ': 4, 'машины ': 4, 'мегаомметр': 4, 'медицинский': 4, 'метрикой ': 4, 'микро-': 4, 'миракл ': 4, 'михаила ': 4, 'миша': 4, 'многолетники': 4, 'модемов': 4, 'модерн': 4, 'можга ': 4, 'молд ': 4, 'москитные ': 4, 'мохера ': 4, 'мудские': 4, 'музыке': 4, 'мусульманок': 4, 'мякиши': 4, 'нагибин': 4, 'нанесенным ': 4, 'нара': 4, 'настольная': 4, 'неизвестно': 4, 'нейлоновый': 4, 'нерабочие': 4, 'нижнего': 4, 'нм-': 4, 'новые ': 4, 'обеденный ': 4, 'облегающие ': 4, 'обувь ': 4, 'обучающая ': 4, 'огнеупорный': 4, 'одежду': 4, 'одни ': 4, 'оксфорд ': 4, 'олимпийский': 4, 'олимпийский ': 4, 'оптические': 4, 'опциональная ': 4, 'оргстекло': 4, 'орде': 4, 'осевой': 4, 'отд': 4, 'офисный/': 4, 'очиститель ': 4, 'ошейн': 4, 'ощути ': 4, 'парафин ': 4, 'парка ': 4, 'пенсов': 4, 'передний ': 4, 'перемешивания ': 4, 'песок ': 4, 'пиломатериалы': 4, 'плакат ': 4, 'пластмассовая': 4, 'плотной ': 4, 'по-': 4, 'подводная ': 4, 'подседелльный ': 4, 'подставку': 4, 'подстаканник ': 4, 'полета ': 4, 'полками': 4, 'полочкой': 4, 'полусапаги': 4, 'портативная ': 4, 'постельное ': 4, 'практичные ': 4, 'престижио': 4, 'прибор': 4, 'пробы': 4, 'проволоки ': 4, 'прогрессивных ': 4, 'продажу': 4, 'просторы ': 4, 'протектором ': 4, 'пс4': 4, 'птички': 4, 'пугачева': 4, 'пуховая ': 4, 'пхукете ': 4, 'пятьдесят ': 4, 'рабочий ': 4, 'различные ': 4, 'режима': 4, 'резиночки ': 4, 'рейс ': 4, 'ремешки ': 4, 'ресанта ': 4, 'ресницы ': 4, 'рим ': 4, 'родом ': 4, 'рота': 4, 'рубашку': 4, 'рулонная': 4, 'русско': 4, 'русской ': 4, 'рухнувшие ': 4, 'с0039': 4, 'с1505 ': 4, 'сабиров': 4, 'салфетки': 4, 'салфеток ': 4, 'свадьбы': 4, 'сварочная ': 4, 'светоотражающий ': 4, 'севая ': 4, 'сервопривод ': 4, 'сетка': 4, '06022 ': 3, '1002fx': 3, '101': 3, '1050c': 3, '1088': 3, '11/': 3, '111.': 3, '115hk ': 3, '117': 3, '125 ': 3, '12кг ': 3, '13540k': 3, '165 ': 3, '16х98мм': 3, '17 ': 3, '170мм': 3, '18\"': 3, '18101048 ': 3, '18650 ': 3, '188 ': 3, '1896': 3, '18m': 3, '1967': 3, '1969г': 3, '1gbddr5': 3, '2014 ': 3, '2034 ': 3, '20мм': 3, '2200x1200x400мм': 3, '2225мм': 3, '250гб ': 3, '2605/': 3, '276-': 3, '280х140': 3, '2d ': 3, '2sim-': 3, '30041 ': 3, '32pfl3312s/': 3, '3526': 3, '36g ': 3, '3gb/': 3, '3ghz': 3, '3гб-': 3, '3гдш-': 3, '3д ': 3, '3мм': 3, '40n': 3, '445 ': 3, '4rider ': 3, '4wd ': 3, '4гб': 3, '4зв ': 3, '4кг': 3, '50115 ': 3, '506': 3, '512': 3, '5228': 3, '54с': 3, '5800': 3, '5спальное ': 3, '60le635ru ': 3, '63а ': 3, '651': 3, '6sb ': 3, '730 ': 3, '74см': 3, '758558': 3, '75кгц': 3, '770': 3, '7750 ': 3, '80/': 3, '80gb': 3, '8235': 3, '891261': 3, '8mp/': 3, '90332hp': 3, '912480': 3, '9160/': 3, 'a05': 3, 'a17-': 3, 'a300 ': 3, 'a79': 3, 'aalesund': 3, 'aardvark ': 3, 'acer ': 3, 'acera ': 3, 'acro ': 3, 'addpac ': 3, 'aero ': 3, 'ag ': 3, 'alfine ': 3, 'alv01wh': 3, 'amilo ': 3, 'appollo': 3, 'aqua ': 3, 'argenti': 3, 'assault ': 3, 'atlas': 3, 'atw-': 3, 'australia ': 3, 'avid ': 3, 'b1930n': 3, 'b50-': 3, 'basic': 3, 'befree': 3, 'beko ': 3, 'bell ': 3, 'bennett ': 3, 'benq ': 3, 'bible-': 3, 'blaze': 3, 'bliss ': 3, 'blue ': 3, 'bluetooth ': 3, 'boch ': 3, 'booch': 3, 'bronx': 3, 'brush': 3, 'bsb ': 3, 'c2305 ': 3, 'c3 ': 3, 'c308': 3, 'c6903 ': 3, 'calma ': 3, 'canpol ': 3, 'caparison ': 3, 'capri': 3, 'card ': 3, 'catapult ': 3, 'celestia': 3, 'charcoal': 3, 'chicco': 3, 'chroma ': 3, 'chrome-': 3, 'cislago ': 3, 'ckash ': 3, 'cobra ': 3, 'cole ': 3, 'cr-': 3, 'crossbody': 3, 'csp121': 3, 'cветильник ': 3, 'd15a ': 3, 'd5mm': 3, 'd7ce': 3, 'd89x4mm': 3, 'delonghi ': 3, 'denise': 3, 'dialoq': 3, 'dimension ': 3, 'diner': 3, 'display ': 3, 'distortion-': 3, 'dns': 3, 'dns ': 3, 'doll': 3, 'dolls': 3, 'double ': 3, 'dowina': 3, 'downhill ': 3, 'duos ': 3, 'dwt ': 3, 'dyna ': 3, 'e139761': 3, 'e2243fw': 3, 'ecusima ': 3, 'elegance': 3, 'eline': 3, 'ergo ': 3, 'ericson ': 3, 'eshr107g': 3, 'esp': 3, 'ev ': 3, 'evidence': 3, 'evil': 3, 'face': 3, 'fanvil ': 3, 'fe170cg': 3, 'fender': 3, 'fernandez ': 3, 'fisher ': 3, 'for': 3, 'foster': 3, 'fp71g': 3, 'fr ': 3, 'fr/': 3, 'francies ': 3, 'frank ': 3, 'fsa ': 3, 'ftwo': 3, 'furla ': 3, 'ga-': 3, 'galaxy': 3, 'gen3': 3, 'gf8600/': 3, 'gipfel ': 3, 'gl ': 3, 'globo ': 3, 'gnu ': 3, 'grill': 3, 'grundig': 3, 'guitar ': 3, 'gw2270': 3, 'haer ': 3, 'harrows ': 3, 'hd7660g/': 3, 'hilfiger': 3, 'hilton': 3, 'hoco ': 3, 'home': 3, 'horizon': 3, 'hp ': 3, 'ht7': 3, 'httb-': 3, 'huawei ': 3, 'i1100': 3, 'i9082': 3, 'i9505 ': 3, 'ibanez ': 3, 'ice-': 3, 'ilmenau': 3, 'indesit': 3, 'infinity': 3, 'inspiron ': 3, 'interios ': 3, 'ip65': 3, 'iphone6': 3, 'is-': 3, 'jamo': 3, 'jim ': 3, 'jrx215': 3, 'kabrita ': 3, 'kamstrup ': 3, 'karim ': 3, 'kazanov': 3, 'koshachiiglaz ': 3, 'kp100b10': 3, 'krugerrand ': 3, 'kubcirkoni': 3, 'l094/': 3, 'l1742se ': 3, 'lace ': 3, 'lady': 3, 'laguna ': 3, 'lake ': 3, 'larsen ': 3, 'lavender': 3, 'lc370wx1 ': 3, 'lcd ': 3, 'le50': 3, 'lego': 3, 'lemon': 3, 'loriblu ': 3, 'lumia630': 3, 'luminarc': 3, 'lussole ': 3, 'm2note': 3, 'm6 ': 3, 'magari ': 3, 'magma': 3, 'magura ': 3, 'mammut': 3, 'marc ': 3, 'marutaka ': 3, 'marvel ': 3, 'mcm-': 3, 'memory': 3, 'mh50nt': 3, 'mhp-': 3, 'mht-': 3, 'miniitx ': 3, 'mio ': 3, 'miss ': 3, 'mk2': 3, 'modern ': 3, 'mt-': 3, 'mt44l': 3, 'muller ': 3, 'multi': 3, 'music ': 3, 'muze ': 3, 'mwl ': 3, 'n15': 3, 'need ': 3, 'nikia ': 3, 'northridge ': 3, 'nwd2205 ': 3, 'odlo ': 3, 'oklick ': 3, 'omron ': 3, 'orfeus ': 3, 'orthoforma ': 3, 'oskar ': 3, 'ottobock': 3, 'pa ': 3, 'pal ': 3, 'party ': 3, 'patriot ': 3, 'pavillon ': 3, 'pet ': 3, 'pf10107-': 3, 'phd ': 3, 'piccolo': 3, 'plano ': 3, 'plus': 3, 'pointer': 3, 'poly': 3, 'power ': 3, 'pp21l': 3, 'practical ': 3, 'princess ': 3, 'professional': 3, 'ps3на ': 3, 'psp': 3, 'psp3450 ': 3, 'psp3503 ': 3, 'psps ': 3, 'pull ': 3, 'puremax': 3, 'q9560 ': 3, 'qsc ': 3, 'quad ': 3, 'r152 ': 3, 'rack ': 3, 'radeon ': 3, 'rascal ': 3, 'rcl ': 3, 'read': 3, 'readglass ': 3, 'release ': 3, 'remer ': 3, 'replica': 3, 'rm ': 3, 'rme ': 3, 'robotics ': 3, 'rolsen': 3, 'rome': 3, 'rottefela': 3, 's403': 3, 's5 ': 3, 's7500 ': 3, 's90 ': 3, 'saint ': 3, 'sakura ': 3, 'salmo': 3, 'salopette ': 3, 'screen': 3, 'se-': 3, 'sea ': 3, 'sennheiser ': 3, 'sennhiser ': 3, 'sim': 3, 'sin': 3, 'singer ': 3, 'six ': 3, 'skitter ': 3, 'sks-': 3, 'sol ': 3, 'solo ': 3, 'soloist': 3, 'sony': 3, 'sothis': 3, 'soundbar ': 3, 'sps-': 3, 'spyderco ': 3, 'steps ': 3, 'strat ': 3, 'stratocaster ': 3, 'stubai ': 3, 'sweet ': 3, 't1-': 3, 't141': 3, 't210 ': 3, 'tab2 ': 3, 'tablet ': 3, 'tanks ': 3, 'tefal': 3, 'telephony ': 3, 'the ': 3, 'thermo': 3, 'thirteen': 3, 'thomson ': 3, 'tm ': 3, 'tm-': 3, 'tornado ': 3, 'torneo': 3, 'toughswitch ': 3, 'tp-': 3, 'tutic ': 3, 'upper ': 3, 'v19hql': 3, 'v260b1-': 3, 'valve': 3, 'vb ': 3, 'verde': 3, 'vis ': 3, 'vistosi': 3, 'vita': 3, 'vitek': 3, 'vll-': 3, 'vlz': 3, 'voice': 3, 'vvp ': 3, 'w11585g1': 3, 'w6 ': 3, 'w7355': 3, 'walden ': 3, 'wf8590nmw8': 3, 'winner/': 3, 'wir ': 3, 'wj-': 3, 'wm6 ': 3, 'wxga ': 3, 'x2.': 3, 'x360keyскачиваешь ': 3, 'x6m': 3, 'xbd ': 3, 'xbox ': 3, 'xbox-': 3, 'xnt-': 3, 'yc-': 3, 'yellow/': 3, 'yerasov': 3, 'your ': 3, 'zanussi': 3, 'zara ': 3, 'ze551ml ': 3, 'zte ': 3, 'а121 ': 3, 'автобусный ': 3, 'автокресло ': 3, 'автомобильного ': 3, 'аихризон': 3, 'айс ': 3, 'аккумуляторная ': 3, 'аккумуляторные ': 3, 'акриловая': 3, 'активные ': 3, 'алгебра ': 3, 'алкидно-': 3, 'альпака ': 3, 'альфа ': 3, 'алюминиевая ': 3, 'английского ': 3, 'аппликатор': 3, 'аргамак': 3, 'аргус ': 3, 'арден': 3, 'армения': 3, 'асенас ': 3, 'аудиокассеты ': 3, 'ашет ': 3, 'бак': 3, 'балгарка': 3, 'бамбука': 3, 'бампер ': 3, 'бампера': 3, 'барашковая ': 3, 'барта ': 3, 'бархатная ': 3, 'беговые ': 3, 'белой ': 3, 'бесплатная ': 3, 'бесплатно': 3, 'беспровод ': 3, 'бесшовная ': 3, 'билеты ': 3, 'билон ': 3, 'бильярдный ': 3, 'биметаллл ': 3, 'бинди': 3, 'бинты': 3, 'бисмарк ': 3, 'блюз': 3, 'боб': 3, 'божья ': 3, 'болезней.': 3, 'бомба': 3, 'борд': 3, 'борд ': 3, 'бороздодел ': 3, 'ботфорты': 3, 'брелокtoyota': 3, 'британская ': 3, 'бровей': 3, 'бронзы': 3, 'брошка': 3, 'бсэ': 3, 'бт-': 3, 'букашка': 3, 'булат ': 3, 'бумаги': 3, 'бусы': 3, 'буханка': 3, 'в45 ': 3, 'вuty ': 3, 'вазочка': 3, 'вазы': 3, 'варежки ': 3, 'ведьмак ': 3, 'велобагажник ': 3, 'велокомпьютерный ': 3, 'велоэргометр ': 3, 'вельветовая ': 3, 'велюр ': 3, 'веники': 3, 'верма': 3, 'верховой ': 3, 'веселый ': 3, 'весенней ': 3, 'весенняя ': 3, 'взрыв': 3, 'виноград': 3, 'винчи ': 3, 'возможе': 3, 'волос ': 3, 'волчков': 3, 'ворона': 3, 'ворот ': 3, 'восстановление': 3, 'вперед': 3, 'выставка': 3, 'выходов ': 3, 'выше ': 3, 'вяза': 3, 'галакси ': 3, 'галстук-': 3, 'гардероба': 3, 'гб ': 3, 'где ': 3, 'генератор': 3, 'географическому ': 3, 'геометрии': 3, 'герб ': 3, 'гиа ': 3, 'гибрид ': 3, 'гига': 3, 'гидравлические ': 3, 'гидрообувь ': 3, 'гимнастикой': 3, 'гламур': 3, 'глина ': 3, 'глория ': 3, 'глотает ': 3, 'глубиномером ': 3, 'глухая': 3, 'голубой ': 3, 'гордин': 3, 'горка-': 3, 'горошек': 3, 'горшках': 3, 'горшок': 3, 'готика': 3, 'гравитация': 3, 'грамм': 3, 'грамматика ': 3, 'гребенка ': 3, 'гта ': 3, 'давления': 3, 'дайвинга ': 3, 'дары ': 3, 'датчика': 3, 'дачный ': 3, 'двухдверный': 3, 'двухкомпонентный ': 3, 'двухспальную ': 3, 'девочки': 3, 'дезо': 3, 'декоротивная ': 3, 'декортивные ': 3, 'демисизонные ': 3, 'демон': 3, 'деньга ': 3, 'джиг ': 3, 'диалог ': 3, 'дизайнерские ': 3, 'диолд ': 3, 'дню ': 3, 'доком ': 3, 'дп-': 3, 'другого ': 3, 'дюймов ': 3, 'дюма': 3, 'еврокнижка': 3, 'европейский ': 3, 'еды': 3, 'елизавета ': 3, 'емкость ': 3, 'женский': 3, 'забродный ': 3, 'завод': 3, 'загрузка': 3, 'зажим ': 3, 'зайчонок ': 3, 'замочек ': 3, 'запахом': 3, 'запчастям': 3, 'зарядка ': 3, 'зарядное ': 3, 'засыпка ': 3, 'звоните': 3, 'звёздами ': 3, 'зимнее ': 3, 'золота ': 3, 'игру ': 3, 'изготовления ': 3, 'изделия ': 3, 'излучатели ': 3, 'изящной ': 3, 'икорница ': 3, 'икспирия ': 3, 'индию': 3, 'инсталяцию ': 3, 'инфракрасный ': 3, 'ирина': 3, 'италия ': 3, 'кабину': 3, 'каждого': 3, 'камерный ': 3, 'камчатка': 3, 'канавойный ': 3, 'канделябры': 3, 'капелла ': 3, 'карелию ': 3, 'каретка ': 3, 'картиной ': 3, 'катрин': 3, 'катушку ': 3, 'каустби ': 3, 'качеля ': 3, 'кашеварка': 3, 'кашинская ': 3, 'керамическая': 3, 'керамическая ': 3, 'керосиновая ': 3, 'кл.': 3, 'кладин ': 3, 'клиента': 3, 'км149': 3, 'кмп-': 3, 'кн003680 ': 3, 'книгами': 3, 'кож': 3, 'кожу': 3, 'колес': 3, 'колокольчик ': 3, 'колонки ': 3, 'колье': 3, 'кольцами': 3, 'коляска': 3, 'коляски ': 3, 'комбик ': 3, 'комбо': 3, 'комплек': 3, 'компьтер': 3, 'компьютерное ': 3, 'консоль ': 3, 'конструктор': 3, 'контролеер ': 3, 'корды': 3, 'коричневую ': 3, 'кормления': 3, 'коробкой': 3, 'корректор ': 3, 'космос': 3, 'кофикс': 3, 'кошелёк': 3, 'красно-': 3, 'креманка': 3, 'кроватка ': 3, 'кронштадту': 3, 'круглый': 3, 'круглый ': 3, 'крышко': 3, 'куб': 3, 'кулинария': 3, 'кулинский': 3, 'кунгур ': 3, 'купе ': 3, 'курс ': 3, 'кухонный': 3, 'кухонных ': 3, 'ламела': 3, 'ламинированную ': 3, 'лебедка ': 3, 'лежак ': 3, 'ленин ': 3, 'лента ': 3, 'летка ': 3, 'лея ': 3, 'лили': 3, 'лук-': 3, 'лунар': 3, 'людей': 3, 'магазин ': 3, 'мак ': 3, 'малайзия': 3, 'малинка': 3, 'мальчика': 3, 'манжеты ': 3, 'маникюрная ': 3, 'мантия ': 3, 'мантоварка': 3, 'марианна': 3, 'маска-': 3, 'маскарад-': 3, 'маски ': 3, 'массажная ': 3, 'массажный ': 3, 'мастерской ': 3, 'математическое ': 3, 'материалы': 3, 'мега ': 3, 'менеджмент ': 3, 'места': 3, 'мести ': 3, 'металлик': 3, 'меха': 3, 'механика ': 3, 'механический ': 3, 'меховая ': 3, 'меху': 3, 'микроволновой ': 3, 'микрофайбер ': 3, 'микрофоны ': 3, 'минеральное': 3, 'мои ': 3, 'монета ': 3, 'мониста': 3, 'монитором ': 3, 'мониторы': 3, 'монстр ': 3, 'монтировки ': 3, 'москва': 3, 'москва-': 3, 'московский ': 3, 'мотков': 3, 'мп ': 3, 'мт-': 3, 'мтс': 3, 'мужчин': 3, 'музторга ': 3, 'мулинекс': 3, 'мусора': 3, 'мутоновую ': 3, 'мухтасар ': 3, 'мэн': 3, 'мюзикл': 3, 'мягкое ': 3, 'наборы': 3, 'наборы ': 3, 'навести ': 3, 'накладки ': 3, 'наковальня ': 3, 'наколенники': 3, 'натур': 3, 'неделю': 3, 'недорого': 3, 'нерж': 3, 'нержавейка': 3, 'несколько ': 3, 'нечитанные ': 3, 'николая ': 3, 'нипеля': 3, 'нкс ': 3, 'нкт73.': 3, 'но ': 3, 'нож-': 3, 'ножницы ': 3, 'нокиа ': 3, 'норвегии': 3, 'носом': 3, 'ночей ': 3, 'нтв-': 3, 'нф ': 3, 'нячанг': 3, 'обвалованный': 3, 'обезьяна': 3, 'обо ': 3, 'обогрев ': 3, 'объем ': 3, 'объёмная ': 3, 'одежды': 3, 'одного ': 3, 'окрашенный': 3, 'оксфорд': 3, 'оперная ': 3, 'оптима': 3, 'орех ': 3, 'оригинальный': 3, 'остерс ': 3, 'отбойному ': 3, 'отвертка ': 3, 'отличные': 3, 'отрезная': 3, 'офисный ': 3, 'пакетом': 3, 'панель ': 3, 'паракорда': 3, 'парижа': 3, 'парка': 3, 'пассивные ': 3, 'патронташ ': 3, 'патрульная ': 3, 'паттая': 3, 'пекарня': 3, 'пекин ': 3, 'пентиум ': 3, 'первый ': 3, 'перевертыши': 3, 'перевозки ': 3, 'переживания': 3, 'перепись ': 3, 'периодическая ': 3, 'перфоратор ': 3, 'петля ': 3, 'печатка ': 3, 'пиастрелла ': 3, 'пижама ': 3, 'пинал': 3, 'пинспот ': 3, 'пиратки': 3, 'пк-': 3, 'плазменный ': 3, 'пластиковые ': 3, 'плату': 3, 'плафоны': 3, 'плащ': 3, 'плестейшен4': 3, 'плита': 3, 'плитка ': 3, 'плитку ': 3, 'поврежденных ': 3, 'подарочной ': 3, 'подлокотником': 3, 'подмышечные ': 3, 'подростковые ': 3, 'подсвечники': 3, 'полерованный': 3, 'поливалки': 3, 'поливом ': 3, 'полифом ': 3, 'полиэтилен ': 3, 'полоску': 3, 'полотенец': 3, 'полочная ': 3, 'полпенни ': 3, 'пользуемся': 3, 'поодам ': 3, 'портрет ': 3, 'португалия ': 3, 'посаженная ': 3, 'пр-': 3, 'пресс-': 3, 'пристенный ': 3, 'прихожая': 3, 'продаю ': 3, 'прозрачный ': 3, 'производство ': 3, 'просо': 3, 'против ': 3, 'процессоре': 3, 'прочная ': 3, 'прыгай ': 3, 'пудреница': 3, 'путин ': 3, 'пуховик ': 3, 'работы': 3, 'рабочих': 3, 'рабочую ': 3, 'радиаторы ': 3, 'разборе ': 3, 'развернутое ': 3, 'развивающий': 3, 'разделочная ': 3, 'размер': 3, 'ракетного ': 3, 'раковский': 3, 'раме ': 3, 'ранние ': 3, 'раскладной': 3, 'раскладной ': 3, 'раскраска-': 3, 'распылитель ': 3, 'рассказы': 3, 'рассрочка': 3, 'растения ': 3, 'реально ': 3, 'резинке ': 3, 'резиновая ': 3, 'резкой': 3, 'ремонт ': 3, 'реплика': 3, 'ржд': 3, 'робокар': 3, 'робот ': 3, 'рождения ': 3, 'роз': 3, 'роллета ': 3, 'ромбы': 3, 'рондо-': 3, 'рубеже ': 3, 'руби': 3, 'ружьем ': 3, 'рукавом ': 3, 'рукаделия': 3, 'ручеек': 3, 'ручка ': 3, 'рыбак ': 3, 'рюкзак-': 3, 'с1807 ': 3, 'с6ио': 3, 'сompassion': 3, 'саб': 3, 'сад ': 3, 'саженцы ': 3, 'самары ': 3, 'самсуг ': 3, 'сара ': 3, 'сваровски ': 3, 'светодиодов ': 3, 'свечи': 3, 'свечи ': 3, 'сдам ': 3, 'севастополе': 3, 'северного ': 3, 'секций': 3, 'семейный ': 3, 'сервиза': 3, 'сетевое ': 3, 'сим': 3, 'символическая ': 3, '00.': 2, '003 ': 2, '02\"': 2, '03a-': 2, '08 ': 2, '100008 ': 2, '1000гб': 2, '1002cj': 2, '100base-': 2, '1017': 2, '1020': 2, '1024': 2, '105': 2, '10684 ': 2, '107 ': 2, '108 ': 2, '108r': 2, '10ka': 2, '10х15': 2, '112j ': 2, '114-': 2, '12-': 2, '12.': 2, '120': 2, '1200мм': 2, '120hz ': 2, '120x120': 2, '121 ': 2, '1280x1024': 2, '1280x800 ': 2, '12gb': 2, '133 ': 2, '1351er': 2, '14 ': 2, '1407': 2, '140х200': 2, '143x143': 2, '1459-': 2, '14768 ': 2, '15g': 2, '16-': 2, '160x70 ': 2, '16gb': 2, '16гб': 2, '170': 2, '170x75': 2, '170х100 ': 2, '170х110 ': 2, '1731г': 2, '1735 ': 2, '173913': 2, '180': 2, '1800х2000': 2, '1804/': 2, '180t': 2, '180x200': 2, '1812': 2, '18151020 ': 2, '1819 ': 2, '18191054 ': 2, '1838 ': 2, '1846 ': 2, '1853': 2, '185х180х53': 2, '1871 ': 2, '1889 ': 2, '1898 ': 2, '18л ': 2, '190/': 2, '1904 ': 2, '190х190 ': 2, '1914.': 2, '1917г': 2, '192 ': 2, '1939 ': 2, '1939г': 2, '1950г': 2, '1957': 2, '1957 ': 2, '1958 ': 2, '1965': 2, '1966 ': 2, '1980 ': 2, '1989 ': 2, '1991 ': 2, '1994': 2, '1gb ': 2, '1г ': 2, '20/': 2, '200-': 2, '2017': 2, '2033': 2, '2033 ': 2, '2050 ': 2, '205х152мм ': 2, '20копеек ': 2, '21 ': 2, '2137sr ': 2, '22.': 2, '220v': 2, '2305': 2, '2330c-': 2, '23qsimi01155b-': 2, '24/': 2, '240.': 2, '2437/': 2, '2500 ': 2, '2500u': 2, '252m': 2, '25x15x35см': 2, '26\"': 2, '2617-': 2, '274 ': 2, '2912 ': 2, '29x2.': 2, '2sim/': 2, '2гб-': 2, '2джойстика ': 2, '2диода/': 2, '2мм': 2, '2х ': 2, '30.': 2, '3000х1500х30мм': 2, '3001 ': 2, '300mbit': 2, '300nrub7 ': 2, '3010': 2, '30l': 2, '31.': 2, '3102': 2, '3200лм ': 2, '320gb/': 2, '320гб': 2, '3220': 2, '3350 ': 2, '35388': 2, '36 ': 2, '360й': 2, '3620d': 2, '36й': 2, '370er': 2, '37502': 2, '38 ': 2, '380': 2, '38151': 2, '396.': 2, '39x150мм': 2, '3v1': 2, '3в1': 2, '3м ': 2, '3х3 ': 2, '3х5 ': 2, '4070': 2, '412 ': 2, '41495 ': 2, '421 ': 2, '431 ': 2, '44 ': 2, '44-': 2, '4417 ': 2, '4430': 2, '4436 ': 2, '450 ': 2, '450plus ': 2, '45mah': 2, '45w': 2, '45х4 ': 2, '46 ': 2, '46-': 2, '47-': 2, '4770k ': 2, '48/': 2, '49 ': 2, '4g/': 2, '4ghz/': 2, '4s ': 2, '4x ': 2, '4x1.': 2, '500': 2, '5000': 2, '500kit ': 2, '500л': 2, '501': 2, '50a': 2, '50a10': 2, '50кг ': 2, '50л': 2, '50х70': 2, '5110': 2, '5116': 2, '51см': 2, '5250': 2, '538': 2, '5450': 2, '551g': 2, '559': 2, '55x8505b': 2, '57312793': 2, '585 ': 2, '598859': 2, '5гига ': 2, '60 ': 2, '600mbps ': 2, '603 ': 2, '60led ': 2, '60х8 ': 2, '61011 ': 2, '6106 ': 2, '622 ': 2, '625 ': 2, '64-': 2, '640гб/': 2, '65 ': 2, '65.': 2, '655': 2, '65см ': 2, '662 ': 2, '6830s ': 2, '6w/': 2, '6ка ': 2, '6мес': 2, '6мм': 2, '7036': 2, '705': 2, '70см ': 2, '71 ': 2, '720': 2, '72см ': 2, '731 ': 2, '740n': 2, '750 ': 2, '7500': 2, '757dfx ': 2, '75кв': 2, '75см': 2, '770 ': 2, '7полос': 2, '7см': 2, '80gb ': 2, '80л': 2, '81 ': 2, '817eq ': 2, '820': 2, '820 ': 2, '8258 ': 2, '850 ': 2, '873': 2, '8800 ': 2, '8850 ': 2, '8вт/': 2, '8ядер': 2, '901': 2, '901 ': 2, '909': 2, '909e': 2, '90f ': 2, '91/': 2, '925.': 2, '930': 2, '943800': 2, '943n': 2, '9617': 2, '9674': 2, '970p': 2, '999806': 2, '9х6 ': 2, 'a2 ': 2, 'a210-': 2, 'a2114sp-': 2, 'a5 ': 2, 'a5500-': 2, 'a5qr ': 2, 'ableton ': 2, 'abloy ': 2, 'ace': 2, 'adidas ': 2, 'adj ': 2, 'aeg ': 2, 'af ': 2, 'affinity ': 2, 'ag-': 2, 'air': 2, 'airguard ': 2, 'al/': 2, 'al2016w ': 2, 'alma ': 2, 'altstream ': 2, 'america': 2, 'amp3': 2, 'andaman ': 2, 'ankle ': 2, 'aonasi ': 2, 'aperion ': 2, 'aphis': 2, 'apollo ': 2, 'aq5001': 2, 'aquatic': 2, 'aralia ': 2, 'arbor ': 2, 'argonauts': 2, 'ark ': 2, 'art ': 2, 'arte-': 2, 'arthur ': 2, 'arts': 2, 'aruba ': 2, 'asics ': 2, 'askona': 2, 'asuz ': 2, 'at270': 2, 'atemi': 2, 'ath-': 2, 'auto': 2, 'avest': 2, 'axelvox ': 2, 'axor ': 2, 'b1500hp': 2, 'b9.': 2, 'babies': 2, 'baciuzzi ': 2, 'baldinini ': 2, 'bambou ': 2, 'baon': 2, 'barbell ': 2, 'batman': 2, 'bauer ': 2, 'bc-': 2, 'belsis ': 2, 'bentley ': 2, 'bestwood ': 2, 'biolife': 2, 'bl-': 2, 'bl505 ': 2, 'blks': 2, 'blx24re/': 2, 'bmx': 2, 'boat ': 2, 'bolero ': 2, 'booklet': 2, 'box': 2, 'bq ': 2, 'braas ': 2, 'bravia ': 2, 'breitiling ': 2, 'brevi ': 2, 'brick ': 2, 'brown': 2, 'bs ': 2, 'bti-': 2, 'bulmer': 2, 'c10 ': 2, 'c1505 ': 2, 'c1a2l ': 2, 'c24': 2, 'c5502': 2, 'c6603': 2, 'ca ': 2, 'cadadei ': 2, 'calibre ': 2, 'cameron': 2, 'candino': 2, 'candy ': 2, 'cannacia ': 2, 'cannondale ': 2, 'captains ': 2, 'cardi ': 2, 'cardio ': 2, 'carl ': 2, 'carrera': 2, 'casadei ': 2, 'cat ': 2, 'cd-': 2, 'cdh3': 2, 'ce14sa4 ': 2, 'cellularline ': 2, 'cerwin-': 2, 'cg44am': 2, 'chico ': 2, 'clear/': 2, 'click ': 2, 'cloudzz': 2, 'cm550 ': 2, 'colossal': 2, 'comfort': 2, 'comfort ': 2, 'completo ': 2, 'conc ': 2, 'connect ': 2, 'contact ': 2, 'cort ': 2, 'cr500': 2, 'crafter ': 2, 'cream': 2, 'creek ': 2, 'cremona ': 2, 'crt': 2, 'crush': 2, 'cruzer ': 2, 'culla ': 2, 'curl': 2, 'cамовывоз': 2, 'cкоростная': 2, 'd2005': 2, 'd2212 ': 2, 'd25 ': 2, 'd63a-': 2, 'dancer ': 2, 'de-': 2, 'dedsec ': 2, 'defender ': 2, 'dei ': 2, 'delafon ': 2, 'delight': 2, 'deluxe ': 2, 'dendy': 2, 'deore': 2, 'depo': 2, 'depo ': 2, 'dhb': 2, 'dhp-': 2, 'di ': 2, 'dictionary': 2, 'display': 2, 'diva ': 2, 'dj-': 2, 'dj50x': 2, 'dn25 ': 2, 'dns-': 2, 'dobro': 2, 'dogs ': 2, 'doogee ': 2, 'dooneri': 2, 'dor': 2, 'dpg ': 2, 'dragon ': 2, 'drop': 2, 'drybag ': 2, 'dual': 2, 'dualcore ': 2, 'duo42': 2, 'duro ': 2, 'dust ': 2, 'dz7127': 2, 'e171 ': 2, 'e27': 2, 'e27 ': 2, 'e352b ': 2, 'ea2 ': 2, 'ecco ': 2, 'ecomix-': 2, 'eee ': 2, 'ef-': 2, 'element ': 2, 'elle': 2, 'email': 2, 'endstufe': 2, 'epiphone ': 2, 'equalizer ': 2, 'erlit': 2, 'esbe ': 2, 'esc': 2, 'esl ': 2, 'esp ': 2, 'etabl ': 2, 'ethernet-': 2, 'etna-': 2, 'eye': 2, 'f50': 2, 'fa-': 2, 'fabio': 2, 'fallout ': 2, 'farcry ': 2, 'fenix': 2, 'fenix ': 2, 'ferrari ': 2, 'fifa ': 2, 'fighter ': 2, 'file ': 2, 'filips': 2, 'film ': 2, 'finn ': 2, 'firewire': 2, 'flex ': 2, 'fluorescent ': 2, 'focusrite ': 2, 'formula ': 2, 'fortuna ': 2, 'forward': 2, 'frankische ': 2, 'freams ': 2, 'frontier': 2, 'fsw-': 2, 'fuji ': 2, 'fujitsu-': 2, 'fun': 2, 'funn ': 2, 'fuzz ': 2, 'g1xn': 2, 'g318h': 2, 'g7 ': 2, 'gad-': 2, 'galaxis': 2, 'galaxu ': 2, 'games ': 2, 'garden': 2, 'gelaxy ': 2, 'geoby': 2, 'gicci': 2, 'gio': 2, 'gll ': 2, 'god ': 2, 'goodbaby': 2, 'gorenje ': 2, 'grand ': 2, 'grgr121ex-': 2, 'grid ': 2, 'grinda': 2, 'grisogono': 2, 'grow ': 2, 'grubin': 2, 'grylls ': 2, 'gt08': 2, 'gt08 ': 2, 'gt630 ': 2, 'guitarlink ': 2, 'gwh ': 2, 'gx112': 2, 'h226hql': 2, 'h65sb2': 2, 'hamaca ': 2, 'hapy ': 2, 'hb-': 2, 'hdmi': 2, 'hds-': 2, 'head ': 2, 'heidi ': 2, 'heinola': 2, 'heng ': 2, 'heuer ': 2, 'highway ': 2, 'hl242l ': 2, 'home ': 2, 'hoover ': 2, 'htc ': 2, 'huarache': 2, 'hug': 2, 'husqvarna ': 2, 'hx-': 2, 'i300mbk': 2, 'i5 ': 2, 'i9500 ': 2, 'ibattery-': 2, 'icon': 2, 'iconia ': 2, 'ideapad ': 2, 'idxd10 ': 2, 'ielts': 2, 'ifone ': 2, 'ihome ': 2, 'iii': 2, 'ikea': 2, 'ikon': 2, 'incity': 2, 'infinite': 2, 'infiniti ': 2, 'injustice ': 2, 'intensor ': 2, 'intermediate ': 2, 'ip ': 2, 'iphone5/': 2, 'iphone6/': 2, 'ipod': 2, 'ipone': 2, 'ir-': 2, 'island': 2, 'iwb ': 2, 'iwuc ': 2, 'ixion ': 2, 'j1 ': 2, 'j3/': 2, 'j8501': 2, 'jacob ': 2, 'jawbone ': 2, 'jb-': 2, 'jetem': 2, 'john ': 2, 'jolana ': 2, 'js22 ': 2, 'juteks ': 2, 'k012': 2, 'k193': 2, 'k2-': 2, 'k42': 2, 'k44 ': 2, 'kaiser': 2, 'kajtex': 2, 'karb ': 2, 'karcher': 2, 'karcher ': 2, 'kc ': 2, 'keenetic ': 2, 'kenda': 2, 'kenzo': 2, 'kerafloor ': 2, 'kettler ': 2, 'kiddieland ': 2, 'kids': 2, 'kinect ': 2, 'kopenhagen': 2, 'korg ': 2, 'krups ': 2, 'kustom ': 2, 'l1720b': 2, 'l755d': 2, 'ladies': 2, 'ladies ': 2, 'lan ': 2, 'lander ': 2, 'lanikai ': 2, 'laq ': 2, 'latitude ': 2, 'laufen ': 2, 'laurent': 2, 'lb720v': 2, 'legend ': 2, 'legends': 2, 'leica ': 2, 'leonard': 2, 'les ': 2, 'lijiayuan': 2, 'linea ': 2, 'lite': 2, 'lite ': 2, 'littlebee ': 2, 'lmaginarium ': 2, 'load': 2, 'loft ': 2, 'logitech ': 2, 'lorenzi': 2, 'loss': 2, 'lp-': 2, 'lp133wx3': 2, 'lsa-': 2, 'lt28h': 2, 'luma ': 2, 'luxuna ': 2, 'luxury ': 2, 'm12 ': 2, 'm221': 2, 'm475': 2, 'mac ': 2, 'mackie ': 2, 'magnet': 2, 'magnet ': 2, 'mahalo ': 2, 'mamaroo': 2, 'man ': 2, 'marco ': 2, 'maxisvet ': 2, 'mayerboch ': 2, 'mbb-': 2, 'md-': 2, 'mers': 2, 'mg24/': 2, 'mgs ': 2, 'mgw ': 2, 'mh ': 2, 'michael ': 2, 'microsd ': 2, 'microserver ': 2, 'midi ': 2, 'migliore ': 2, 'miix3-': 2, 'mikromaks': 2, 'milano': 2, 'mofem ': 2, 'monaco ': 2, 'monet': 2, 'monster': 2, 'moulinex': 2, 'moxie': 2, 'mozo ': 2, 'ms-': 2, 'ms2292': 2, 'ms40': 2, 'mt5.': 2, 'mtb ': 2, 'mtg ': 2, 'mtv-': 2, 'mui ': 2, 'mustang ': 2, 'mw700131': 2, 'mx2': 2, 'mysql': 2, 'mystery': 2, 'mтб ': 2, 'n10': 2, 'n12 ': 2, 'n29': 2, 'n330 ': 2, 'n53': 2, 'n9005': 2, 'nd-': 2, 'neonato': 2, 'nescafe ': 2, 'nestogen': 2, 'nestogen ': 2, 'netgear ': 2, 'newform': 2, 'nika ': 2, 'nintendo ': 2, 'nit': 2, 'no ': 2, 'nokia ': 2, 'nomad': 2, 'note3 ': 2, 'novation ': 2, 'np300 ': 2, 'np355v5c': 2, 'nt6009-': 2, 'nuke ': 2, 'oasis': 2, 'odea ': 2, 'odensjo ': 2, 'odeon ': 2, 'one ': 2, 'optimus ': 2, 'original ': 2, 'oscar ': 2, 'osram ': 2, 'ostand ': 2, 'oxford ': 2, 'p274e': 2, 'p4 ': 2, 'p5302': 2, 'pali ': 2, 'panasonic': 2, 'pap5300 ': 2, 'papa ': 2, 'pasженские': 2, 'patio ': 2, 'paul': 2, 'pbh ': 2, 'pc ': 2, 'pcg-': 2, 'pd40': 2, 'peavey ': 2, 'peavey-': 2, 'pedal ': 2, 'pedrollo ': 2, 'peppa': 2, 'perth ': 2, 'ph-': 2, 'phoria ': 2, 'photo': 2, 'piano/': 2, 'pigeon': 2, 'piguet ': 2, 'pioneer': 2, 'playstation-': 2, 'playtime': 2, 'pmt3757 ': 2, 'pocket ': 2, 'pod ': 2, 'pog ': 2, 'polaris': 2, 'pop ': 2, 'porikam ': 2, 'porzellant ': 2, 'pr65vt20': 2, 'premiata': 2, 'presage ': 2, 'prestigio ': 2, 'profit ': 2, 'promate ': 2, 'protection ': 2, 'ps ': 2, 'ps4/': 2, 'ps52': 2, 'psp ': 2, 'purple ': 2, 'quadcore ': 2, 'quantum ': 2, 'quarcz ': 2, 'queens': 2, 'r107l': 2, 'r1600tiii': 2, 'r500 ': 2, 'ra ': 2, 'ra-': 2, 'radiotechnica ': 2, 'rado': 2, 'rage ': 2, 'ralink ': 2, 'ram': 2, 'rd-': 2, 'rec ': 2, 'redmo ': 2, 'redmond': 2, 'redster ': 2, 'remote ': 2, 'resort ': 2, 'rfb ': 2, 'rg421': 2, 'rich ': 2, 'rickenbacker ': 2, 'ride': 2, 'river ': 2, 'rj45': 2, 'roan ': 2, 'rocket': 2, 'rodluvan': 2, 'romanson ': 2, 'rs ': 2, 'rsd-': 2, 'rt ': 2, 'runner ': 2, 'rv410': 2, 'rx-': 2, 's11 ': 2, 's2 ': 2, 's24a350h ': 2, 's420': 2, 's5250': 2, 's600': 2, 's6481-': 2, 'sacred ': 2, 'safari ': 2, 'sagemcom ': 2, 'san ': 2, 'santegra': 2, 'schmidt ': 2, 'scph-': 2, 'seamaster ': 2, 'seashell ': 2, 'seiko': 2, 'sfp-': 2, 'shapers': 2, 'shifter/': 2, 'sidekick ': 2, 'silba': 2, 'since': 2, 'sititek ': 2, 'sk-': 2, 'sl1210mk2': 2, 'slicer ': 2, 'smartfade ': 2, 'sniper ': 2, 'snow ': 2, 'sospensione ': 2, 'soundcraft ': 2, 'speed ': 2, 'spiro': 2, 'split ': 2, 'sport ': 2, 'squesito ': 2, 'srm350v3': 2, 'sta': 2, 'stagg': 2, 'standart': 2, 'step ': 2, 'stereojack ': 2, 'stern ': 2, 'sto': 2, 'strat': 2, 'string ': 2, 'strunal': 2, 'suncmaster ': 2, 'sundown ': 2, 'suntour ': 2, 'super': 2, 'surface ': 2, 'sw015': 2, 'swiss': 2, 'syncmaster-': 2, 'synergy ': 2, 't1 ': 2, 't5 ': 2, 't531 ': 2, 't61/': 2, 'tanks': 2, 'tb-': 2, 'tds ': 2, 'technica ': 2, 'telecaster': 2, 'theft ': 2, 'thompson': 2, 'thomson': 2, 'thrustmaster': 2, 'titanium': 2, 'tlc': 2, 'tm3000cx2': 2, 'topeak': 2, 'toshiba': 2, 'toshiba ': 2, 'touch': 2, 'tour': 2, 'trainer': 2, 'truvativ ': 2, 'ts1101': 2, 'tube ': 2, 'turbinicarpus ': 2, 'tw89 ': 2, 'u1 ': 2, 'ucg102': 2, 'ultimate ': 2, 'ultraderm ': 2, 'umi ': 2, 'up ': 2, 'us ': 2, 'usb ': 2, 'usn ': 2, 'utrish ': 2, 'v1 ': 2, 'v206hqlab': 2, 'v3-': 2, 'va2016w ': 2, 'va703m': 2, 'vaggon': 2, 'valgus ': 2, 'vanamo ': 2, 'varee ': 2, 've ': 2, 'velvet ': 2, 'vera ': 2, 'ves ': 2, 'vetonit ': 2, 'vibe ': 2, 'vifa ': 2, 'villeroyboch': 2, 'vinca': 2, 'vivosmart ': 2, 'vivosonic': 2, 'voip-': 2, 'voltex ': 2, 'vox ': 2, 'vt ': 2, 'vt-': 2, 'w1254': 2, 'w12701/': 2, 'w2243s ': 2, 'w8151n': 2, 'watch': 2, 'watchdogs ': 2, 'watchrr ': 2, 'wave': 2, 'wc ': 2, 'wc-': 2, 'weimar ': 2, 'wellgo ': 2, 'wellmax': 2, 'wet ': 2, 'wfg ': 2, 'whirlpool ': 2, 'wi-': 2, 'win': 2, 'win ': 2, 'windows ': 2, 'winner': 2, 'wise ': 2, 'wk-': 2, 'wl-': 2, 'wmd': 2, 'wr514r': 2, 'wrc ': 2, 'ws-': 2, 'ws4': 2, 'x10 ': 2, 'x1222usb': 2, 'x16 ': 2, 'x3 ': 2, 'x54 ': 2, 'x600': 2, 'x720d': 2, 'xeon ': 2, 'xerun ': 2, 'xhose ': 2, 'xodus ': 2, 'xp-': 2, 'xperal ': 2, 'xs ': 2, 'yl ': 2, 'yomega ': 2, 'yota': 2, 'yotaphone ': 2, 'yueni ': 2, 'yyf ': 2, 'z5 ': 2, 'z51 ': 2, 'zadoor ': 2, 'zaphir ': 2, 'zara': 2, 'zarina': 2, 'zc500tg': 2, 'zd551ml': 2, 'ze500kl': 2, 'ze550ml': 2, 'zenix ': 2, 'zippi ': 2, 'zlx-': 2, 'zone ': 2, 'zotic': 2, 'zr ': 2, 'zws ': 2, 'zyxel': 2, 'аdams ': 2, 'аrdo': 2, 'аsеr ': 2, 'аurore': 2, 'абсолютно ': 2, 'аванти': 2, 'авиа ': 2, 'авиакасса ': 2, 'авиды': 2, 'авоська ': 2, 'автобусе': 2, 'автоматических ': 2, 'авторского ': 2, 'адаптер ': 2, 'адлер': 2, 'азистазия': 2, 'айфик ': 2, 'акк': 2, 'аккордеон': 2, 'аккумулятор ': 2, 'аккумуляторами': 2, 'аккумуляторы ': 2, 'акриловая ': 2, 'аксессуар ': 2, 'аксессуары': 2, 'актуаль ': 2, 'акум': 2, 'акустика ': 2, 'акустические ': 2, 'акция': 2, 'алан ': 2, 'александра': 2, 'александрия': 2, 'александров ': 2, 'алмаг-': 2, 'алмазное ': 2, 'альбома ': 2, 'американкой': 2, 'аметис': 2, 'амортизационная ': 2, 'амстердама ': 2, 'анализ ': 2, 'ананас ': 2, 'анатомия ': 2, 'английском': 2, 'английском ': 2, 'английскому ': 2, 'англицкое ': 2, 'андерсен': 2, 'анжелика ': 2, 'аниматора ': 2, 'анкона ': 2, 'анодирова': 2, 'антена ': 2, 'антенной ': 2, 'арабские ': 2, 'аренда': 2, 'артикул691851': 2, 'аспиратор ': 2, 'асплениум': 2, 'ассиметричного ': 2, 'ассортименте': 2, 'астра-': 2, 'атомайзеры ': 2, 'атриум/': 2, 'аукционной ': 2, 'афина ': 2, 'бабл ': 2, 'бали': 2, 'бальное ': 2, 'бамбук ': 2, 'бампера ': 2, 'бандаж ': 2, 'бандаж/': 2, 'баня-': 2, 'бассейн': 2, 'батальоны': 2, 'безмаслянный ': 2, 'белая ': 2, 'белов': 2, 'белого ': 2, 'белое': 2, 'белое ': 2, 'бельгия ': 2, 'бена ': 2, 'бензогенератор ': 2, 'бентонитовая ': 2, 'березовые ': 2, 'бесперебойник': 2, 'беспроводная ': 2, 'беспружинный': 2, 'бестселлеры ': 2, 'бетона ': 2, 'би ': 2, 'бинты ': 2, 'биологи': 2, 'биологии': 2, 'бирюзы': 2, 'бисерами': 2, 'битва ': 2, 'бифлекс ': 2, 'блесна': 2, 'блины ': 2, 'блоки ': 2, 'блюд': 2, 'блюдичко': 2, 'блютус ': 2, 'бмв ': 2, 'бобра ': 2, 'бокалы': 2, 'болгарку ': 2, 'болеро': 2, 'болусапоги': 2, 'больных ': 2, 'большая ': 2, 'большие': 2, 'борисовна ': 2, 'босоножки': 2, 'ботильоны': 2, 'ботфортики': 2, 'ботфорты ': 2, 'бочка ': 2, 'бочки ': 2, 'бочок ': 2, 'браво-': 2, 'брасле ': 2, 'браслето': 2, 'братьев ': 2, 'брашированный ': 2, 'бретелек': 2, 'бриджи ': 2, 'бриллиантовые ': 2, 'бриллиантовый ': 2, 'бринтонс ': 2, 'бритва ': 2, 'бритвенный ': 2, 'бронестекло ': 2, 'бронзовые ': 2, 'бувы': 2, 'будущего ': 2, 'бук ': 2, 'букв': 2, 'бус ': 2, 'бусинка': 2, 'бусы ': 2, 'бутылка ': 2, 'бутылки': 2, 'бутылок': 2, 'быстрая ': 2, 'бытовая ': 2, 'бытовка ': 2, 'ваза ': 2, 'вакуумный ': 2, 'ванной': 2, 'ванну ': 2, 'вашими ': 2, 'веб': 2, 'ведомства': 2, 'великолепные ': 2, 'велла ': 2, 'велотренажёр': 2, 'веоренажер ': 2, 'верда': 2, 'верещагина': 2, 'вертолет ': 2, 'веселая ': 2, 'весенний ': 2, 'весна ': 2, 'ветровки': 2, 'вечернему ': 2, 'вечерний ': 2, 'вечерняя ': 2, 'вещей': 2, 'вещи ': 2, 'взрослых': 2, 'взрывозащищенный ': 2, 'вибрамассажный ': 2, 'видов': 2, 'вина': 2, 'винтаж': 2, 'винтаж ': 2, 'винтажные ': 2, 'вираж ': 2, 'витрины': 2, 'вкбо': 2, 'внедорожник': 2, 'внешний ': 2, 'внешняя ': 2, 'внутренней ': 2, 'воблер ': 2, 'вов ': 2, 'вог ': 2, 'водой': 2, 'водонагреватели': 2, 'водопад': 2, 'воду': 2, 'воздуха': 2, 'волокно ': 2, 'вольтрап': 2, 'воротник ': 2, 'ворс': 2, 'время ': 2, 'вс-': 2, 'встраиваемый': 2, 'вторых ': 2, 'выбор ': 2, 'вызывная ': 2, 'вырезом': 2, 'высокая': 2, 'высоких ': 2, 'выставочный ': 2, 'вышка ': 2, 'вьетнам': 2, 'вьетнам.': 2, 'вьетнаме ': 2, 'вязки': 2, 'газ ': 2, 'галич': 2, 'галстук': 2, 'ганеша': 2, 'гантелей': 2, 'гараж': 2, 'гарантии': 2, 'гарретт ': 2, 'гарри': 2, 'гвски ': 2, 'гдв ': 2, 'гейдман': 2, 'гения': 2, 'генрих ': 2, 'географическое ': 2, 'география ': 2, 'геологические ': 2, 'геометрия': 2, 'герань ': 2, 'герметизирующая ': 2, 'гибки ': 2, 'гидр': 2, 'гидроизоляция': 2, 'гидрокастюм': 2, 'гидросистемы': 2, 'гимнастики': 2, 'гимнастическая ': 2, 'гинденбург': 2, 'гипсокартона': 2, 'гипюровое': 2, 'гиря': 2, 'гитар': 2, 'гитарный ': 2, 'глины': 2, 'глиняные': 2, 'глиняный': 2, 'глубина ': 2, 'гнутые': 2, 'годик': 2, 'годы ': 2, 'гои': 2, 'гонок': 2, 'гоночные': 2, 'горизот ': 2, 'город': 2, 'горшке': 2, 'горшки ': 2, 'горшков': 2, 'горшочек ': 2, 'горький ': 2, 'горячие ': 2, 'госстрах ': 2, 'гостиниц': 2, 'государства': 2, 'государства ': 2, 'готовальня': 2, 'готовый ': 2, 'граненый ': 2, 'греция': 2, 'грин ': 2, 'громкости ': 2, 'гун ': 2, 'гэлакси ': 2, 'давид ': 2, 'даже ': 2, 'дам': 2, 'даром': 2, 'дартс ': 2, 'дверная ': 2, 'дверцами': 2, 'дверями': 2, 'движения ': 2, 'двоих ': 2, 'двойни': 2, 'двойной ': 2, 'двустороннее': 2, 'двух-': 2, 'двухспальная ': 2, 'двухспальноя ': 2, 'двухспальный': 2, 'двухстороняя': 2, 'дд-': 2, 'девайс': 2, 'девайсов': 2, 'девушек ': 2, 'декапе': 2, 'декоративная ': 2, 'декоративные ': 2, 'демержиев': 2, 'ден': 2, 'денди ': 2, 'денежный ': 2, 'депиляции': 2, 'дерево': 2, 'деревообрабатывающий ': 2, 'деревце ': 2, 'деревья': 2, 'деревянная': 2, 'дефекто': 2, 'дешевый': 2, 'джаз ': 2, 'джели ': 2, 'джимми ': 2, 'джинс': 2, 'джинсы ': 2, 'ди ': 2, 'диафильм': 2, 'дизайн': 2, 'дизайн ': 2, 'динамики': 2, 'динамический ': 2, 'динов': 2, 'диска ': 2, 'дисков': 2, 'добротный ': 2, 'доказательный ': 2, 'документами': 2, 'документы': 2, 'долина ': 2, 'дома ': 2, 'домашнее': 2, 'домик ': 2, 'доминиканскую ': 2, 'доплачу ': 2, 'дополнительной ': 2, 'дороги': 2, 'дорого ': 2, 'дорожка ': 2, 'дорожки': 2, 'доставка ': 2, 'драгоценными ': 2, 'дракон': 2, 'дрель ': 2, 'дренажный ': 2, 'дрожащий ': 2, 'дск ': 2, 'дсп ': 2, 'дубовый ': 2, 'дулево ': 2, 'дупло ': 2, 'дурная ': 2, 'дымогенератор ': 2, 'дюйма': 2, 'дюрер': 2, 'евгени': 2, 'евро': 2, 'европа': 2, 'егэ-': 2, 'ежегодник ': 2, 'елизавета': 2, 'енота': 2, 'жаккард': 2, 'жалюзи': 2, 'железная ': 2, 'железников ': 2, 'желтая': 2, 'жемчугом': 2, 'жемчужина.': 2, 'женские ': 2, 'женское': 2, 'жигули': 2, 'жидкость ': 2, 'жилетка': 2, 'жима': 2, 'жимовые ': 2, 'журналы ': 2, 'жёлтое ': 2, 'завивки ': 2, 'заводское ': 2, 'задачи ': 2, 'задачники': 2, 'задней ': 2, 'задняя ': 2, 'заколдованная ': 2, 'замком': 2, 'замок': 2, 'замужем ': 2, 'замшевые ': 2, 'зап': 2, 'запайке': 2, 'запасные ': 2, 'записная ': 2, 'запонки ': 2, 'застежка ': 2, 'защита ': 2, 'защитнице': 2, 'звезд': 2, 'звезды ': 2, 'звонилка ': 2, 'звук': 2, 'звуковой ': 2, 'звукоусилительный ': 2, 'здоровой ': 2, 'здоровья': 2, 'зеленой ': 2, 'зелёное ': 2, 'зерк': 2, 'зеркала': 2, 'зеркальное': 2, 'зеркальным ': 2, 'зик ': 2, 'зимняя': 2, 'злотый ': 2, 'знак ': 2, 'зол': 2, 'золотая ': 2, 'золотистый': 2, 'золотом': 2, 'зон': 2, 'зрительная ': 2, 'игровая ': 2, 'идеале': 2, 'идеальное': 2, 'идеальные ': 2, 'идеальный ': 2, 'изгнание ': 2, 'издание ': 2, 'издателя ': 2, 'изоляция ': 2, 'изумрудный': 2, 'иисус-': 2, 'икона ': 2, 'имени ': 2, 'именное ': 2, 'имп382': 2, 'империи': 2, 'ингосстрах': 2, 'ингу': 2, 'индии ': 2, 'индия': 2, 'инженерная ': 2, 'интерактивные ': 2, 'интерьерный ': 2, 'ио ': 2, 'ирландия ': 2, 'искусства': 2, 'искусственная': 2, 'искусственные ': 2, 'искусство.': 2, 'искуственной ': 2, 'использовани': 2, 'истины': 2, 'истории': 2, 'историю ': 2, 'италию': 2, 'итальянские': 2, 'июня': 2, 'йо-': 2, 'кабачок ': 2, 'кабинка': 2, 'кабины': 2, 'кабуки ': 2, 'кавказ ': 2, 'каденса ': 2, 'каланхое': 2, 'календари ': 2, 'календарик ': 2, 'каллакс': 2, 'калонки ': 2, 'калужская ': 2, 'калёное ': 2, 'камелия': 2, 'камерой': 2, 'камеру ': 2, 'камина': 2, 'камни': 2, 'кампютер ': 2, 'канва ': 2, 'канделябрами': 2, 'канистра-': 2, 'каньон ': 2, 'капюшоном ': 2, 'кардинал': 2, 'каретки': 2, 'карманные ': 2, 'карниз': 2, 'карниз ': 2, 'картона ': 2, 'картофель ': 2, 'карты ': 2, 'каталка': 2, 'катерина ': 2, 'качель ': 2, 'качеля': 2, 'качественная': 2, 'квадратные ': 2, 'квадро ': 2, 'квадроцикл': 2, 'квартирный ': 2, 'кг ': 2, 'керамика ': 2, 'керамин': 2, 'кинескопный ': 2, 'кинотеатрmonitor ': 2, 'кирпич ': 2, 'кисти ': 2, 'кисточка': 2, 'китай': 2, 'китайская ': 2, 'китая': 2, 'кладбищенские ': 2, 'класса ': 2, 'классический ': 2, 'клатч': 2, 'клатчи ': 2, 'клев': 2, 'клеймо': 2, 'кн0023672': 2, 'книгу ': 2, 'книжные ': 2, 'кнопка ': 2, 'кнр': 2, 'кованая': 2, 'кованые': 2, 'кованый ': 2, 'ковер': 2, 'ковриков ': 2, 'ковровые ': 2, 'ковёр ': 2, 'кожа': 2, 'кожемякина ': 2, 'коженная': 2, 'кожи': 2, 'кожи ': 2, 'козырьком ': 2, 'коктейльное ': 2, 'колготки ': 2, 'колеса ': 2, 'колечко': 2, 'колизей ': 2, 'коллекции ': 2, 'коллекционная ': 2, 'коллекцию': 2, 'колобок': 2, 'колодец': 2, 'кольцевая ': 2, 'коляска-': 2, 'коляску': 2, 'комбик': 2, 'комикс ': 2, 'коммутатор': 2, 'комната': 2, 'комнатные ': 2, 'комнатными ': 2, 'комод': 2, 'компании': 2, 'комплеана ': 2, 'композитная ': 2, 'компрессионные': 2, 'компрессионный ': 2, 'компрессор': 2, 'компрессор ': 2, 'компьютр ': 2, 'конгресс-': 2, 'конек': 2, 'консольный': 2, 'контурные ': 2, 'коньки': 2, 'коралл': 2, 'корвет ': 2, 'корвет-': 2, 'коричневая': 2, 'коричнево-': 2, 'коричневые': 2, 'короба': 2, 'коробки ': 2, 'корпус ': 2, 'корпусе': 2, 'корс ': 2, 'кортотека': 2, 'косточки ': 2, 'костюм': 2, 'косынка': 2, 'кот ': 2, 'кошечка': 2, 'кпсс ': 2, 'крановые ': 2, 'краны': 2, 'красивые ': 2, 'красивый ': 2, 'красная ': 2, 'краснод': 2, 'крепления': 2, 'кресцовый': 2, 'кристал': 2, 'крит ': 2, 'кроват ': 2, 'кровати': 2, 'кролика': 2, 'круг ': 2, 'кружки': 2, 'крузо': 2, 'круиз': 2, 'крутые': 2, 'крутые ': 2, 'крылья': 2, 'крылья ': 2, 'крыму': 2, 'крышечка': 2, 'крышка ': 2, 'крючками': 2, 'куба ': 2, 'кубы': 2, 'кувшин ': 2, 'кувшинчик': 2, 'кузьменко ': 2, 'куйбышевский ': 2, 'кука': 2, 'куклы-': 2, 'куколка': 2, 'культиватор ': 2, 'курточки': 2, 'кустарник': 2, 'кух': 2, 'кухня': 2, 'кухонное ': 2, 'кц0018232 ': 2, 'лагуна ': 2, 'ладожскому ': 2, 'ладья': 2, 'лазерная ': 2, 'лак': 2, 'ламели ': 2, 'ламинат ': 2, 'ламповый ': 2, 'лампочек ': 2, 'ланка': 2, 'ланч ': 2, 'ларец ': 2, 'латина ': 2, 'легендарная ': 2, 'лего': 2, 'леди ': 2, 'ледобур ': 2, 'лексус': 2, 'ленточный': 2, 'лео': 2, 'леон': 2, 'леонардо ': 2, 'леонид ': 2, 'леонтьев': 2, 'лермонтов': 2, 'лермонтов ': 2, 'лесоматериалы ': 2, 'летние ': 2, 'ливистона': 2, 'лидер': 2, 'лидский ': 2, 'лимон': 2, 'линейку': 2, 'линзы': 2, 'липа ': 2, 'липкая ': 2, 'листв': 2, 'листов': 2, 'литература': 2, 'литературе ': 2, 'лица ': 2, 'лобзиковый ': 2, 'логин': 2, 'лодки': 2, 'лондон': 2, 'лопасти ': 2, 'лорена': 2, 'лосиные': 2, 'лотос': 2, 'лука ': 2, 'луне': 2, 'лунным ': 2, 'лупой': 2, 'лучшее ': 2, 'лфз ': 2, 'лыжные': 2, 'лыжный': 2, 'льняные ': 2, 'люка ': 2, 'люлька-': 2, 'люстра ': 2, 'лютик': 2, 'ляссефилия': 2, 'м2 ': 2, 'м300': 2, 'магистр ': 2, 'магнитах': 2, 'магнитолой': 2, 'маджеста-': 2, 'мадонна ': 2, 'майк-': 2, 'макаров': 2, 'маки': 2, 'малины': 2, 'малогабаритный': 2, 'малыш': 2, 'малышами': 2, 'мальм': 2, 'мальчиков': 2, 'малютка ': 2, 'манго': 2, 'манетки ': 2, 'маникюра': 2, 'маникюрный ': 2, 'маракас': 2, 'маркес': 2, 'маркса': 2, 'марон': 2, 'масе': 2, 'массажёр ': 2, 'мастика': 2, 'мат ': 2, 'математике': 2, 'материнская ': 2, 'матовый': 2, 'машин ': 2, 'маяковского': 2, 'мебрана ': 2, 'межсезон/': 2, 'метал ': 2, 'металическая': 2, 'металическая ': 2, 'металический ': 2, 'метр': 2, 'метро ': 2, 'метровая': 2, 'механизм': 2, 'механизм ': 2, 'механические ': 2, 'меху ': 2, 'мехх': 2, 'миксер ': 2, 'микшерский ': 2, 'минеральная ': 2, 'миниатюрный ': 2, 'минк': 2, 'мира': 2, 'мичурин': 2, 'мл ': 2, 'мобильная': 2, 'мода ': 2, 'модем ': 2, 'модемы ': 2, 'модификация ': 2, 'модные ': 2, 'модуль ': 2, 'модульная ': 2, 'мозаика': 2, 'молния': 2, 'молоток ': 2, 'молочко ': 2, 'монблан': 2, 'монеж': 2, 'монетами ': 2, 'монитор ': 2, 'мониторы ': 2, 'монтессори ': 2, 'морис ': 2, 'моряков-': 2, 'москвы': 2, 'мрамор ': 2, 'мраморная ': 2, 'мраморный ': 2, 'мск': 2, 'мтс ': 2, 'мужские ': 2, 'музыкальный ': 2, 'мультикор': 2, 'муромец': 2, 'мутоновая': 2, 'мыла': 2, 'мягкую ': 2, 'мясорубка ': 2, 'мясорубку ': 2, 'мячики': 2, 'наволочка ': 2, 'наволочки': 2, 'надежный': 2, 'надобности': 2, 'надувные': 2, 'надувными ': 2, 'най-': 2, 'накидка ': 2, 'накидка/': 2, 'накидки ': 2, 'накладной': 2, 'накладные ': 2, 'налобный ': 2, 'нан ': 2, 'наперстокn ': 2, 'напольный ': 2, 'направляющей ': 2, 'наращивания': 2, 'народная ': 2, 'наряде ': 2, 'насадками': 2, 'настенное ': 2, 'настенные': 2, 'настроена ': 2, 'натан ': 2, 'натуральные ': 2, 'натуральный': 2, 'наушники': 2, 'начинаю ': 2, 'нашей ': 2, 'нашивки ': 2, 'нева-': 2, 'недорогие ': 2, 'недорого ': 2, 'некоторые ': 2, 'немецкому': 2, 'ненадобностью': 2, 'необходимый ': 2, 'необыкновенные ': 2, 'неоно': 2, 'непромокаемый ': 2, 'нержа': 2, 'нержавеющий ': 2, 'нерпы': 2, 'несессер': 2, 'нестожен ': 2, 'нет-': 2, 'ниточная ': 2, 'ниуэ ': 2, 'новая': 2, 'новинки': 2, 'ногтей ': 2, 'нож': 2, 'ножевая': 2, 'ножи ': 2, 'ножками': 2, 'ножки ': 2, 'ножной ': 2, 'нокия': 2, 'номенклатура': 2, 'норковая': 2, 'норковую': 2, 'норковый ': 2, 'норма': 2, 'носки': 2, 'носки ': 2, 'ноутбука/': 2, 'нр ': 2, 'нутрилон ': 2, 'обезьянка': 2, 'обеспечение': 2, 'обмен/': 2, 'обналичку': 2, 'обод': 2, 'обработан': 2, 'образный': 2, 'образца': 2, 'обручи ': 2, 'обществознаниеполный ': 2, 'объём ': 2, 'овальный': 2, 'овальный ': 2, 'овощерезка ': 2, 'овощное ': 2, 'огромный ': 2, 'однолетний ': 2, 'одном': 2, 'односторонний': 2, 'озу': 2, 'озу/': 2, 'ойка': 2, 'окном ': 2, 'октава': 2, 'ольховка ': 2, 'ому ': 2, 'оперативы': 2, 'оплавленная ': 2, 'опт ': 2, 'оптима70': 2, 'оптовые ': 2, 'оранжевый': 2, 'орда': 2, 'ориг': 2, 'оригинальное ': 2, 'орнаментом ': 2, 'ортез': 2, 'ортопедическая ': 2, 'ортопедический': 2, 'ортопедическим ': 2, 'оружейный ': 2, 'оружия': 2, 'оружия ': 2, 'орфей ': 2, 'орхидея ': 2, 'освальд ': 2, 'освещения ': 2, 'основание ': 2, 'острова ': 2, 'острове ': 2, 'ответах': 2, 'отдел ': 2, 'отказной ': 2, 'открытым ': 2, 'отличная ': 2, 'отрада': 2, 'отрезной ': 2, 'офис ': 2, 'офисные': 2, 'офисные ': 2, 'охотничьи ': 2, 'оцинкованный': 2, 'очень ': 2, 'очистка ': 2, 'павловопосадский ': 2, 'павловск': 2, 'пазлус ': 2, 'паласы ': 2, 'палата': 2, 'палатка ': 2, 'пальцев': 2, 'памяти': 2, 'панда ': 2, 'панелями': 2, 'панорама': 2, 'парковкой': 2, 'парковочный ': 2, 'парковый ': 2, 'пароварки': 2, 'паровозик-': 2, 'пасхальная ': 2, 'паттайя ': 2, 'пачку ': 2, 'пвх': 2, 'пвх ': 2, 'педалей ': 2, 'пейзаж': 2, 'пеларгония ': 2, 'пелинальный ': 2, 'пенал': 2, 'пенингблад': 2, 'первый': 2, 'перего ': 2, 'перекрытия ': 2, 'переноска-': 2, 'перец': 2, 'перешейка': 2, 'пермь ': 2, 'персональный ': 2, 'перфоратор': 2, 'песочница': 2, 'пестрая ': 2, 'петли ': 2, 'петровская ': 2, 'печатка': 2, 'печатная ': 2, 'печи': 2, 'пива': 2, 'пивная': 2, 'пивные ': 2, 'пик ': 2, 'пилка ': 2, 'пилочка ': 2, 'пион': 2, 'пионы ': 2, 'пирсинг ': 2, 'питание': 2, 'питанием': 2, 'питьев': 2, 'планетарный ': 2, 'планшет-': 2, 'пластин': 2, 'пластырь ': 2, 'плата ': 2, 'платформе': 2, 'платы ': 2, 'платье-': 2, 'плафоны ': 2, 'плед ': 2, 'плейстейшн ': 2, 'пленки': 2, 'пленки ': 2, 'плетеной ': 2, 'плетеный ': 2, 'плетёные ': 2, 'площадки ': 2, 'плюшевые ': 2, 'поаток': 2, 'поваренок': 2, 'повязки ': 2, 'погружной': 2, 'под ': 2, 'подарочный ': 2, 'подводные ': 2, 'подводный ': 2, 'подвязка ': 2, 'подгузники': 2, 'подгузников': 2, 'подмышечные': 2, 'пододеяльник ': 2, 'подсветка': 2, 'подсветкой': 2, 'подсвечник-': 2, 'подседельная ': 2, 'подседельник ': 2, 'подстилка ': 2, 'подтяжки': 2, 'подушечки ': 2, 'подушка ': 2, 'подъемник ': 2, 'пожарника': 2, 'поздравительная ': 2, 'поильники': 2, 'покрывала ': 2, 'покрытием ': 2, 'покрышку ': 2, 'полевая ': 2, 'полированный': 2, 'политических ': 2, 'половая ': 2, 'полосная ': 2, 'полсоверена ': 2, 'полуакустическая ': 2, 'полукомбинезон ': 2, 'полупальто ': 2, 'популярная ': 2, 'порадуй ': 2, 'портмоне': 2, 'посеребренные': 2, 'посеребренный ': 2, 'послеоперационная ': 2, 'постельное': 2, 'поток': 2, 'потолков': 2, 'потолочная ': 2, 'почти ': 2, 'пошаговый ': 2, 'правый ': 2, 'праздник': 2, 'праздничный ': 2, 'прамотор ': 2, 'предплечья': 2, 'преми': 2, 'преса': 2, 'пресс ': 2, 'пресса ': 2, 'приблиз': 2, 'приборов ': 2, 'приборы ': 2, 'привод ': 2, 'придиванный ': 2, 'приемн ': 2, 'приложений ': 2, 'принт-': 2, 'принцессы ': 2, 'приседаний': 2, 'причесок': 2, 'приэльбрусье': 2, 'пробка': 2, 'проведите ': 2, 'программа': 2, 'продлаентся ': 2, 'проектор': 2, 'проекционный ': 2, 'прозрачного ': 2, 'прозрачный': 2, 'происхождение ': 2, 'прорабский': 2, 'просто': 2, 'простынь ': 2, 'профи ': 2, 'профнастил': 2, 'прочные ': 2, 'прошитую ': 2, 'пс0018175 ': 2, 'психологии ': 2, 'пуатье': 2, 'пускатель ': 2, 'путешественники ': 2, 'путин': 2, 'путь ': 2, 'путятин ': 2, 'пф3 ': 2, 'пц ': 2, 'пшеница': 2, 'пэчворк-': 2, 'р38': 2, 'раб': 2, 'радиаторы': 2, 'радио': 2, 'радиоприемник': 2, 'радиосистема ': 2, 'радиотехника ': 2, 'радомир': 2, 'радомир ': 2, 'радуга': 2, 'разборные ': 2, 'разведчик-': 2, 'разгрузка ': 2, 'раздатчик ': 2, 'раздвижная': 2, 'разобранных ': 2, 'ракушки': 2, 'рамке': 2, 'ранний ': 2, 'раскладушка ': 2, 'распорный': 2, 'распределительный': 2, 'рассады': 2, 'растение ': 2, 'растяжки ': 2, 'расширения ': 2, 'реализацию': 2, 'регина': 2, 'регулятор ': 2, 'редкая ': 2, 'резинки ': 2, 'резные ': 2, 'рейлинг ': 2, 'рейс': 2, 'рейтинговое ': 2, 'рейхсмарки ': 2, 'рекламных ': 2, 'ремешки': 2, 'ремнабор': 2, 'ремни': 2, 'репродукция': 2, 'ресницы': 2, 'риолис ': 2, 'рип-': 2, 'рн-': 2, 'рог ': 2, 'рога ': 2, 'родари ': 2, 'рождение': 2, 'розами ': 2, 'розо': 2, 'розовом': 2, 'ролика': 2, 'ролики': 2, 'роналдо': 2, 'роскоши': 2, 'роскошный ': 2, 'росмэн': 2, 'российские': 2, 'роутер ': 2, 'рубанок ': 2, 'рублей': 2, 'рубли': 2, 'рубли ': 2, 'руки': 2, 'руководителя': 2, 'руководителя ': 2, 'руководство ': 2, 'рукоделия ': 2, 'рулевая ': 2, 'румыния ': 2, 'русская ': 2, 'русский': 2, 'русский ': 2, 'русском': 2, 'ручка': 2, 'ручки': 2, 'ручки ': 2, 'ручной ': 2, 'ручную ': 2, 'ручным ': 2, 'рыбалки': 2, 'рыбка ': 2, 'рыболовные': 2, 'рыболовные ': 2, 'рыжая': 2, 'рыцарь ': 2, 'с830 ': 2, 'сабо': 2, 'сабо ': 2, 'сада': 2, 'садово': 2, 'садовый ': 2, 'салатник': 2, 'салатник-': 2, 'салют ': 2, 'самбуфер': 2, 'самовар': 2, 'самовар ': 2, 'самовывоз/': 2, 'санинструктора': 2, 'сапфир ': 2, 'сатира ': 2, 'сатурн': 2, 'сауны ': 2, 'сборка': 2, 'сборной': 2, 'свадебные ': 2, 'сваях': 2, 'сверления ': 2, 'светлые': 2, 'светодиодах': 2, 'светодиодных ': 2, 'светящийся ': 2, 'свич ': 2, 'своими ': 2, 'святые ': 2, 'сгибание ': 2, 'сдаю ': 2, 'сдл': 2, 'севок ': 2, 'сеги': 2, 'седло ': 2, 'седой': 2, 'секционных ': 2, 'секция ': 2, 'селфи': 2, 'семенной ': 2, 'семь ': 2, 'семья': 2, 'серверный ': 2, 'сервиса': 2, 'серебра ': 2, 'серебристый': 2, 'серебро ': 2, 'серебрянная ': 2, 'сережки ': 2, 'серия': 2, 'серия ': 2, 'серьги ': 2, 'сетью ': 2, 'сидение ': 2, 'сидерат ': 2, 'сидни ': 2, 'силикона ': 2, 'силиконовый': 2, 'силка': 2, 'символ': 2, 'симилак ': 2, 'симкарта': 2, 'син': 2, 'синдикат ': 2, 'синего ': 2, '00/': 1, '000 ': 1, '000008 ': 1, '000049 ': 1, '000080 ': 1, '000125 ': 1, '000196 ': 1, '000662 ': 1, '001': 1, '001 ': 1, '0010': 1, '001205 ': 1, '00191a': 1, '002-': 1, '00273': 1, '002755': 1, '0029402': 1, '003-': 1, '0030': 1, '00329a': 1, '0034-': 1, '00363': 1, '004-': 1, '004147': 1, '00423': 1, '006': 1, '006l ': 1, '008225': 1, '008244 ': 1, '00x2.': 1, '01 ': 1, '01-': 1, '01.': 1, '0103 ': 1, '011-': 1, '012 ': 1, '012468 ': 1, '012ru ': 1, '013f': 1, '015': 1, '015-': 1, '01519 ': 1, '01632c': 1, '018': 1, '018 ': 1, '01941 ': 1, '01j': 1, '02-': 1, '02.': 1, '0202 ': 1, '022': 1, '025 ': 1, '03 ': 1, '03047 ': 1, '031': 1, '0310ad': 1, '0317': 1, '04 ': 1, '04.': 1, '0404 ': 1, '04614': 1, '04me': 1, '05 ': 1, '05.': 1, '057s': 1, '05м ': 1, '06 ': 1, '06-': 1, '06.': 1, '060': 1, '061': 1, '0616 ': 1, '063 ': 1, '063.': 1, '064': 1, '070054': 1, '0706': 1, '07136f': 1, '078с ': 1, '07x0.': 1, '08.': 1, '080092-': 1, '0827': 1, '08332': 1, '084 ': 1, '0842': 1, '088с': 1, '09 ': 1, '09.': 1, '090': 1, '0909 ': 1, '0965.': 1, '0х2.': 1, '10 ': 1, '10-': 1, '10.': 1, '10/': 1, '100': 1, '100 ': 1, '100-': 1, '1000': 1, '1000 ': 1, '10003914 ': 1, '1000a ': 1, '1000cl': 1, '1000w ': 1, '1000x600x100mm ': 1, '1000x800мм ': 1, '1000мм ': 1, '1001': 1, '1001px': 1, '1005a': 1, '10081': 1, '100a ': 1, '100b': 1, '100gb-': 1, '100ge': 1, '100гр': 1, '100мм': 1, '100мм ': 1, '100р': 1, '100х60 ': 1, '101 ': 1, '101-': 1, '1016d ': 1, '1016d/': 1, '101m': 1, '101см': 1, '102': 1, '102 ': 1, '102.': 1, '10223 ': 1, '1023': 1, '10236 ': 1, '1025': 1, '102l': 1, '102мм ': 1, '103': 1, '103/': 1, '1030': 1, '1031': 1, '103x78мм': 1, '104': 1, '104 ': 1, '1043': 1, '1045': 1, '10490n': 1, '1055': 1, '105l': 1, '106': 1, '106663': 1, '106790': 1, '107': 1, '107-': 1, '10705': 1, '1074.': 1, '10764000/': 1, '1079': 1, '108': 1, '1080': 1, '108963.': 1, '10a ': 1, '10gb ': 1, '10gb-': 1, '10gbase': 1, '10ghz': 1, '10x15': 1, '10x15 ': 1, '10дн': 1, '10л ': 1, '10мас-': 1, '10мм': 1, '10р': 1, '10тыс': 1, '10шт/': 1, '11 ': 1, '11-': 1, '11.': 1, '110': 1, '110-': 1, '11002': 1, '1100mhz': 1, '1102 ': 1, '110nm-': 1, '111 ': 1, '1110': 1, '112': 1, '112-': 1, '1120ca': 1, '1124 ': 1, '1126w': 1, '1128': 1, '114': 1, '1148-': 1, '115': 1, '115 ': 1, '1154': 1, '1155': 1, '1155/': 1, '115k ': 1, '116': 1, '116p': 1, '118': 1, '1195х295х11мм ': 1, '11a': 1, '12 ': 1, '120 ': 1, '1200': 1, '1200 ': 1, '1200-': 1, '1200мл': 1, '1200э-': 1, '1202': 1, '1202-': 1, '1204': 1, '1204-': 1, '1208': 1, '120cs-': 1, '120w': 1, '120x195': 1, '120x60 ': 1, '120гр': 1, '120с': 1, '120х200х10': 1, '121': 1, '12127': 1, '1213': 1, '1215n': 1, '1215х240х12мм': 1, '1224t': 1, '122мм': 1, '1231.': 1, '1232': 1, '125/': 1, '1250 ': 1, '126': 1, '1260 ': 1, '127': 1, '1279': 1, '128': 1, '128 ': 1, '1280x1': 1, '128gb': 1, '128gb ': 1, '1295': 1, '1296': 1, '129x': 1, '12b': 1, '12b ': 1, '12dvf3': 1, '12gb ': 1, '12mm': 1, '12na': 1, '12p': 1, '12v ': 1, '12в ': 1, '12кг': 1, '12ли ': 1, '12мес': 1, '12мм ': 1, '13 ': 1, '13.': 1, '130': 1, '130 ': 1, '131 ': 1, '13111045 ': 1, '13111070 ': 1, '1319': 1, '131bk-': 1, '132': 1, '1320': 1, '1320 ': 1, '133': 1, '1345 ': 1, '135': 1, '135 ': 1, '1350w': 1, '1351 ': 1, '1354d-': 1, '136 ': 1, '1366х768': 1, '1370d': 1, '1377': 1, '13b-': 1, '13г ': 1, '13кв ': 1, '13кг': 1, '13мп': 1, '14.': 1, '14/': 1, '140': 1, '140 ': 1, '1400 ': 1, '1400-': 1, '1400kv': 1, '1400t': 1, '140280': 1, '1403 ': 1, '1406 ': 1, '141 ': 1, '1411': 1, '1418э': 1, '1430': 1, '144 ': 1, '1440 ': 1, '1449-': 1, '144b': 1, '145': 1, '145 ': 1, '14500 ': 1, '1457': 1, '146': 1, '147 ': 1, '1484': 1, '149': 1, '149/': 1, '14a8tds5': 1, '14g': 1, '14г': 1, '14ф-': 1, '14х140мм': 1, '14х90мм': 1, '15 ': 1, '15-': 1, '150 ': 1, '150-': 1, '1500': 1, '1500 ': 1, '15000/': 1, '1502': 1, '1504': 1, '150gb': 1, '150mbps': 1, '150s': 1, '150w ': 1, '150x210 ': 1, '150ас-': 1, '150см ': 1, '150х150': 1, '150х210 ': 1, '150х70': 1, '150х70 ': 1, '1511': 1, '151676': 1, '152': 1, '152 ': 1, '1520': 1, '1520 ': 1, '1525 ': 1, '1525x1525мм ': 1, '152s': 1, '152x ': 1, '1537': 1, '155': 1, '1552': 1, '155см': 1, '1560k ': 1, '1564-': 1, '157 ': 1, '157-': 1, '1583 ': 1, '158772': 1, '15gle': 1, '15p': 1, '15x1800мм': 1, '15ас-': 1, '15гр ': 1, '15м ': 1, '16 ': 1, '16\"': 1, '16/': 1, '160': 1, '160 ': 1, '1600': 1, '1600/': 1, '160000 ': 1, '1600м': 1, '160a': 1, '160e ': 1, '160gb': 1, '160x220': 1, '160гб ': 1, '160мм': 1, '160х120см': 1, '160х160х10мм': 1, '160х190': 1, '1611': 1, '1616': 1, '1616-': 1, '1626/': 1, '1632': 1, '164': 1, '164 ': 1, '166.': 1, '16605': 1, '1677 ': 1, '169': 1, '16g': 1, '16g ': 1, '16gb ': 1, '16gb-': 1, '16gb/': 1, '16гб ': 1, '16гб/': 1, '16дюймов': 1, '16мп/': 1, '16х16 ': 1, '17.': 1, '170 ': 1, '1700': 1, '1700х1500': 1, '170c': 1, '170w': 1, '170x70 ': 1, '170x70см': 1, '170х190 ': 1, '170х70': 1, '170х80 ': 1, '171': 1, '1715-': 1, '1716 ': 1, '1718s': 1, '173': 1, '1730 ': 1, '1731': 1, '1734 ': 1, '1736': 1, '1738 ': 1, '1740d': 1, '1751 ': 1, '17558': 1, '1757 ': 1, '175мм': 1, '1761': 1, '1762 ': 1, '1763-': 1, '178 ': 1, '1789 ': 1, '179-': 1, '18 ': 1, '18-': 1, '18.': 1, '180 ': 1, '180/': 1, '1800-': 1, '1800x1000x500мм': 1, '1801fp ': 1, '1806': 1, '181 ': 1, '1814 ': 1, '18151015 ': 1, '182 ': 1, '18262': 1, '1832 ': 1, '1839 ': 1, '1841': 1, '1842 ': 1, '1845': 1, '185 ': 1, '1851г': 1, '1857': 1, '1861 ': 1, '18650': 1, '1872 ': 1, '1879 ': 1, '1881': 1, '1887': 1, '1894 ': 1, '1898г': 1, '18i': 1, '18w': 1, '19 ': 1, '19-': 1, '19.': 1, '190': 1, '190 ': 1, '1902 ': 1, '1904-': 1, '1905': 1, '1907 ': 1, '190л': 1, '190мф': 1, '1911': 1, '1912 ': 1, '1913': 1, '1913 ': 1, '1914 ': 1, '1915г': 1, '1916 ': 1, '1918 ': 1, '1920x1080': 1, '1920х1080': 1, '1921 ': 1, '1924': 1, '1924 ': 1, '1926 ': 1, '1927 ': 1, '1928 ': 1, '1930 ': 1, '1932-': 1, '1935 ': 1, '1936 ': 1, '1937': 1, '1937г': 1, '1938': 1, '194 ': 1, '1945 ': 1, '1946год ': 1, '1949': 1, '1949 ': 1, '195': 1, '1950 ': 1, '1950-': 1, '1953s': 1, '1954 ': 1, '1955 ': 1, '1956 ': 1, '1958г': 1, '1961 ': 1, '1963 ': 1, '1964 ': 1, '1966': 1, '1967 ': 1, '197': 1, '1970': 1, '1970-': 1, '1971': 1, '1973': 1, '1974': 1, '1975': 1, '1975 ': 1, '1977 ': 1, '1978г': 1, '1979 ': 1, '1981 ': 1, '1982 ': 1, '1983 ': 1, '1985': 1, '1985 ': 1, '1986 ': 1, '198675': 1, '1987': 1, '1988': 1, '1989г': 1, '198х80см': 1, '1991-': 1, '1991/': 1, '1991г': 1, '1992': 1, '1992г ': 1, '1993 ': 1, '1993гг ': 1, '1994 ': 1, '1994г': 1, '1995': 1, '1995 ': 1, '1995г': 1, '1996': 1, '1996 ': 1, '1997 ': 1, '1997-': 1, '1998': 1, '1998 ': 1, '1999 ': 1, '19r86bd': 1, '19x2 ': 1, '19x23x40 ': 1, '1aa': 1, '1ac/': 1, '1b-': 1, '1gb': 1, '1gb/': 1, '1i4': 1, '1m2': 1, '1pu-': 1, '1r ': 1, '1s ': 1, '1t ': 1, '1tb': 1, '1wg ': 1, '1wh': 1, '1x12': 1, '1гиг ': 1, '1год': 1, '1р ': 1, '1руб.': 1, '1рубль1779г': 1, '1тб': 1, '1х40w ': 1, '20 ': 1, '20-': 1, '200': 1, '200/': 1, '2000': 1, '2000 ': 1, '2000000237381 ': 1, '2000e-': 1, '2000fp': 1, '2000w': 1, '2000x1000x400мм': 1, '2000мм': 1, '2001 ': 1, '2002 ': 1, '2003-': 1, '2005 ': 1, '2006b': 1, '2007': 1, '2007 ': 1, '2007-': 1, '2007.': 1, '2008': 1, '2008 ': 1, '2009': 1, '2009 ': 1, '2009г ': 1, '200v4lab': 1, '200x130 ': 1, '200x220': 1, '200в': 1, '200л': 1, '200мм': 1, '200см': 1, '200ум-': 1, '200х160': 1, '200х220': 1, '200х300': 1, '201': 1, '201-': 1, '2010': 1, '2011 ': 1, '2012 ': 1, '2013': 1, '2013-': 1, '2014': 1, '2014г': 1, '2015': 1, '2015 ': 1, '2015г': 1, '2016': 1, '2016 ': 1, '2016-': 1, '20163 ': 1, '2016г': 1, '201х141мм': 1, '202/': 1, '203': 1, '203 ': 1, '203299': 1, '2048ddr2/': 1, '2048mb': 1, '204b': 1, '205': 1, '2060': 1, '206bw ': 1, '206m2': 1, '208': 1, '209': 1, '20a ': 1, '20m45d-': 1, '20t ': 1, '20x1.': 1, '20x40': 1, '20гдс-': 1, '20мп': 1, '20см': 1, '20см ': 1, '21-': 1, '21.': 1, '210': 1, '210 ': 1, '2100': 1, '2100/': 1, '210018-': 1, '2108-': 1, '21095 ': 1, '211638-': 1, '2118б': 1, '215': 1, '215 ': 1, '2163': 1, '218': 1, '218026': 1, '21a4ee': 1, '21csz7dr': 1, '21fyr4177-': 1, '21pgr0374-': 1, '21qsebb00178c-': 1, '21qspmi00181c-': 1, '21sr000689c-': 1, '21sr000802c-': 1, '21sr000855c-': 1, '21x24 ': 1, '21z67zqq': 1, '22 ': 1, '220': 1, '220/': 1, '2200': 1, '22004': 1, '2200e': 1, '2202-': 1, '2209': 1, '220в': 1, '220в ': 1, '220х240': 1, '221': 1, '2218lw': 1, '2220s': 1, '2231.': 1, '2232': 1, '223v5l': 1, '224': 1, '2243 ': 1, '225 ': 1, '2256sr': 1, '226dxbd': 1, '226v4lsb': 1, '2274/': 1, '228см': 1, '229361': 1, '22k ': 1, '22pfl3404/': 1, '22qsimi01130b-': 1, '23 ': 1, '23.': 1, '230': 1, '2300 ': 1, '230v': 1, '230v ': 1, '230x175': 1, '230мм ': 1, '231': 1, '2313': 1, '2320ram8gbвид2gbssd60\"': 1, '2350мм ': 1, '23560': 1, '2385b ': 1, '23см': 1, '24 ': 1, '24-': 1, '24.': 1, '240 ': 1, '240-': 1, '241': 1, '2410m/': 1, '2434/': 1, '24407 ': 1, '244480': 1, '2450': 1, '2450x1700 ': 1, '246': 1, '248 ': 1, '2490': 1, '2493a': 1, '2494': 1, '2496': 1, '24dc': 1, '24tc-': 1, '24w': 1, '24в': 1, '24кг ': 1, '24см': 1, '25 ': 1, '25-': 1, '25.': 1, '25/': 1, '250': 1, '250 ': 1, '250-': 1, '2500': 1, '2500/': 1, '2500mah': 1, '2500u/': 1, '2500x2250': 1, '2502': 1, '250gb ': 1, '250gb/': 1, '250w': 1, '250гб': 1, '2520u': 1, '2528': 1, '252a': 1, '253100 ': 1, '254': 1, '2540u': 1, '255/': 1, '256': 1, '25918': 1, '25i': 1, '25x42/': 1, '25ас-': 1, '25гдн': 1, '25кг': 1, '25кг ': 1, '25м': 1, '25см': 1, '25тц-': 1, '26.': 1, '260': 1, '260 ': 1, '2600': 1, '2600 ': 1, '260047': 1, '2600xt': 1, '260х210 ': 1, '2626': 1, '263520': 1, '2640u': 1, '265 ': 1, '26792 ': 1, '26fm': 1, '26m': 1, '26x1.': 1, '26x2.': 1, '26х1.': 1, '27 ': 1, '27.': 1, '27/': 1, '270': 1, '270 ': 1, '2729b7': 1, '2750x1830x26 ': 1, '2750x2125': 1, '2760 ': 1, '2760u': 1, '2772-': 1, '27v ': 1, '28 ': 1, '28.': 1, '280': 1, '280 ': 1, '2800': 1, '2804 ': 1, '280см': 1, '281': 1, '281492': 1, '2841': 1, '28f4000 ': 1, '28р': 1, '29 ': 1, '29\"': 1, '29.': 1, '2901-': 1, '29367': 1, '2940qe': 1, '295': 1, '29a11ssq': 1, '29ea73': 1, '29er': 1, '29er ': 1, '29см': 1, '2cds25': 1, '2gb': 1, '2gb ': 1, '2gb/': 1, '2ghz': 1, '2hnd': 1, '2k16': 1, '2move': 1, '2mpix': 1, '2tb': 1, '2w ': 1, '2x0.': 1, '2x1500': 1, '2x18': 1, '2x3 ': 1, '2x36 ': 1, '2x4': 1, '2x4096ddr3/': 1, '2x5w ': 1, '2x75w ': 1, '2x9w ': 1, '2xx': 1, '2xxeon': 1, '2в1': 1, '2в1 ': 1, '2виде ': 1, '2вт/': 1, '2г-': 1, '2заряда ': 1, '2игры': 1, '2кг ': 1, '2коп ': 1, '2коп61 ': 1, '2мм ': 1, '2п ': 1, '2с ': 1, '2сп': 1, '2сп ': 1, '2спальный ': 1, '2сэ': 1, '2т ': 1, '2х20 ': 1, '2х290wmax': 1, '2х2х1.': 1, '2х3': 1, '2х3 ': 1, '2х4 ': 1, '2х50': 1, '2х80': 1, '2чехол ': 1, '2ядра': 1, '30 ': 1, '30/': 1, '300': 1, '300 ': 1, '3000': 1, '3000 ': 1, '300002479': 1, '3000x3000': 1, '3000лм ': 1, '3004': 1, '3005': 1, '3008': 1, '300ma ': 1, '300w': 1, '3012': 1, '3015 ': 1, '301u': 1, '302': 1, '302 ': 1, '3020.': 1, '3021 ': 1, '303': 1, '3030': 1, '3033': 1, '304.': 1, '305': 1, '305 ': 1, '305u1a-': 1, '3067 ': 1, '306av ': 1, '308 ': 1, '309': 1, '30led ': 1, '30m ': 1, '30w': 1, '30x50 ': 1, '30перо': 1, '30х30х3000 ': 1, '30х8.': 1, '31-': 1, '310': 1, '310 ': 1, '311': 1, '3120l ': 1, '313д ': 1, '314 ': 1, '315': 1, '315 ': 1, '3156r-': 1, '3160 ': 1, '3177': 1, '319307': 1, '32 ': 1, '32-': 1, '32.': 1, '320': 1, '320 ': 1, '3200 ': 1, '3200mah': 1, '3201900188417 ': 1, '3204906321642 ': 1, '3207507585710 ': 1, '3208': 1, '320sata/': 1, '321': 1, '3210': 1, '3213lw': 1, '3217': 1, '3230': 1, '3230mah': 1, '324-': 1, '329300': 1, '32g': 1, '32g ': 1, '32gb': 1, '32gb ': 1, '32hl933rk': 1, '32lw4500': 1, '32гб': 1, '32гб ': 1, '32кг': 1, '33 ': 1, '330': 1, '330 ': 1, '3300 ': 1, '331 ': 1, '3310': 1, '3310 ': 1, '3315-': 1, '3321-': 1, '3322 ': 1, '332694': 1, '3359b': 1, '336стр': 1, '33ghz': 1, '33х33': 1, '340291 ': 1, '340s-': 1, '3418/': 1, '3420 ': 1, '3470 ': 1, '34х120 ': 1, '34х160 ': 1, '35 ': 1, '35-': 1, '35/': 1, '350': 1, '350 ': 1, '350-': 1, '3500-': 1, '350g': 1, '350z': 1, '351': 1, '3510': 1, '3520er': 1, '3528.': 1, '35495 ': 1, '355': 1, '355020701': 1, '3558-': 1, '35g-': 1, '35x2 ': 1, '35ас-': 1, '35гдн-': 1, '35п': 1, '35р': 1, '36-': 1, '36.': 1, '360': 1, '360 ': 1, '360/': 1, '3600': 1, '3600 ': 1, '3600-': 1, '360e ': 1, '362': 1, '3620': 1, '3627 ': 1, '3630': 1, '36pw9618/': 1, '36w': 1, '37 ': 1, '37-': 1, '37.': 1, '37194': 1, '372': 1, '377036': 1, '38-': 1, '38.': 1, '380 ': 1, '3800 ': 1, '380в': 1, '3881': 1, '38t': 1, '38x400мм ': 1, '38мм': 1, '38р': 1, '38х30 ': 1, '39 ': 1, '39.': 1, '3900bs': 1, '399 ': 1, '3a034 ': 1, '3b ': 1, '3d ': 1, '3d-': 1, '3ds': 1, '3ds ': 1, '3g ': 1, '3g/': 1, '3gb': 1, '3gb ': 1, '3ghz ': 1, '3gk': 1, '3gs ': 1, '3mm': 1, '3p ': 1, '3q ': 1, '3s41e': 1, '3x ': 1, '3x50w ': 1, '3x50мм': 1, '3в1 ': 1, '3гб ': 1, '3ггц': 1, '3др1': 1, '3кл ': 1, '3коп66': 1, '3ск': 1, '3х ': 1, '3х4 ': 1, '3ядра/': 1, '40 ': 1, '40-': 1, '40.': 1, '40/': 1, '400': 1, '400 ': 1, '4000': 1, '4000 ': 1, '4000мач': 1, '4001 ': 1, '400х250 ': 1, '401 ': 1, '40109': 1, '40156': 1, '402': 1, '4020': 1, '4028 ': 1, '40281': 1, '405cx ': 1, '405w': 1, '4072/': 1, '40732 ': 1, '40835000': 1, '4085': 1, '4085-': 1, '40c ': 1, '40gb': 1, '40ide/': 1, '40m640': 1, '40pfl5507t/': 1, '40ub800v ': 1, '40w': 1, '40x30': 1, '40вт ': 1, '40мм': 1, '41 ': 1, '41-': 1, '41.': 1, '410 ': 1, '4100': 1, '41014502 ': 1, '4105': 1, '41315': 1, '4195 ': 1, '419p': 1, '41р': 1, '42 ': 1, '42-': 1, '42.': 1, '42001 ': 1, '42034 ': 1, '422': 1, '4232': 1, '42lb652 ': 1, '42mm': 1, '42mm ': 1, '42sc560': 1, '42w': 1, '430 ': 1, '430784 ': 1, '431': 1, '4325.': 1, '4327': 1, '4342': 1, '435 ': 1, '4351 ': 1, '435mm ': 1, '437': 1, '4415': 1, '448стр': 1, '44й': 1, '44р': 1, '450': 1, '450/': 1, '4501': 1, '4503-': 1, '4560': 1, '4572 ': 1, '4574 ': 1, '45ay-': 1, '45штук': 1, '462': 1, '4655m': 1, '4671': 1, '46ct ': 1, '47 ': 1, '470': 1, '477906': 1, '478/': 1, '48 ': 1, '480': 1, '4800': 1, '48072-': 1, '480m': 1, '481': 1, '48696-': 1, '490': 1, '491330': 1, '493': 1, '49х59 ': 1, '4cbz-': 1, '4e ': 1, '4g ': 1, '4gb': 1, '4gb ': 1, '4gb/': 1, '4ghz': 1, '4ghz ': 1, '4k ': 1, '4moms ': 1, '4pls-': 1, '4wh': 1, '4x256mbddr1/': 1, '4гб ': 1, '4гб/': 1, '4гига/': 1, '4гр': 1, '4мм ': 1, '4ом': 1, '4п ': 1, '4пары': 1, '4см': 1, '4х0.': 1, '4х16': 1, '4х2': 1, '4хе14 ': 1, '4штаки ': 1, '4яд ': 1, '4ядра': 1, '4ядра ': 1, '4ядра/': 1, '50-': 1, '50/': 1, '5000 ': 1, '5000mah ': 1, '5000руб': 1, '500gb': 1, '500gb ': 1, '500gb/': 1, '500w': 1, '500x500': 1, '500x800 ': 1, '500гб': 1, '500х600': 1, '502': 1, '503 ': 1, '505': 1, '5050': 1, '505m': 1, '507': 1, '5091-': 1, '50bxt': 1, '50cxr700 ': 1, '50l ': 1, '50s1': 1, '50w/': 1, '50x3': 1, '50x70 ': 1, '50y-': 1, '50ас': 1, '50ас-': 1, '50к': 1, '50коп ': 1, '50м': 1, '50х32х4': 1, '51 ': 1, '510': 1, '510 ': 1, '5103': 1, '5109 ': 1, '5112 ': 1, '511d': 1, '511r': 1, '5120-': 1, '512mb': 1, '512мб': 1, '5130': 1, '5130 ': 1, '514': 1, '5148 ': 1, '515': 1, '51см ': 1, '52-': 1, '520': 1, '520 ': 1, '520-': 1, '5200n': 1, '5210 ': 1, '5222 ': 1, '524': 1, '524816': 1, '525': 1, '525 ': 1, '5282': 1, '53 ': 1, '53.': 1, '530': 1, '530эр': 1, '531 ': 1, '532': 1, '53210': 1, '5330 ': 1, '5338': 1, '534': 1, '535': 1, '535 ': 1, '5380 ': 1, '54 ': 1, '54-': 1, '540x960/': 1, '54381-': 1, '546180': 1, '5470 ': 1, '5471-': 1, '549': 1, '549684': 1, '54r': 1, '54см': 1, '55 ': 1, '55-': 1, '550': 1, '550 ': 1, '5500': 1, '5501': 1, '5502': 1, '550w': 1, '550х300 ': 1, '551s': 1, '5520g': 1, '5521': 1, '5525': 1, '5530': 1, '55958/': 1, '55cm': 1, '55см ': 1, '5600': 1, '56000': 1, '5621': 1, '5630i': 1, '56365': 1, '56495': 1, '5656 ': 1, '56k': 1, '56k ': 1, '57-': 1, '571g ': 1, '5720 ': 1, '572ssxwc': 1, '574': 1, '5770': 1, '5780': 1, '5788': 1, '57е': 1, '58 ': 1, '58-': 1, '5800 ': 1, '5803 ': 1, '581 ': 1, '5813': 1, '5820': 1, '583 ': 1, '585пр': 1, '595х595х11м': 1, '599': 1, '59902/': 1, '59x10.': 1, '59см': 1, '5c ': 1, '5cc': 1, '5d\"': 1, '5db': 1, '5e ': 1, '5g ': 1, '5ksm150pseri': 1, '5mm ': 1, '5mm/': 1, '5s ': 1, '5s-': 1, '5s/': 1, '5w ': 1, '5x ': 1, '5x0.': 1, '5кг': 1, '5кг ': 1, '5кг/': 1, '5кл': 1, '5мм': 1, '5мп': 1, '5см ': 1, '5х0.': 1, '5х1 ': 1, '5х1.': 1, '5х2 ': 1, '5х2.': 1, '5х4': 1, '5х4 ': 1, '5х5м': 1, '5х6 ': 1, '5х6.': 1, '60-': 1, '60/': 1, '600': 1, '600 ': 1, '60053/': 1, '6005pro': 1, '600series': 1, '600ватт/': 1, '601': 1, '601.': 1, '602': 1, '60260sl': 1, '604.': 1, '605': 1, '60cx': 1, '60x': 1, '60x60': 1, '60г': 1, '60годы': 1, '60е ': 1, '60мм': 1, '60см': 1, '60х': 1, '61 ': 1, '610': 1, '610 ': 1, '6110 ': 1, '6120c': 1, '61231 ': 1, '6131': 1, '615 ': 1, '6170': 1, '617d ': 1, '62 ': 1, '620': 1, '622': 1, '6220 ': 1, '6230i': 1, '6233 ': 1, '623cp ': 1, '625': 1, '625ap': 1, '62x67x18 ': 1, '630 ': 1, '630-': 1, '6300': 1, '6300 ': 1, '6303': 1, '6303 ': 1, '632': 1, '633.': 1, '635': 1, '6381': 1, '6391 ': 1, '64 ': 1, '640': 1, '640 ': 1, '6420': 1, '645u': 1, '647023 ': 1, '648ub': 1, '649046 ': 1, '64gb ': 1, '64gd': 1, '64г': 1, '64гб': 1, '64гб ': 1, '65-': 1, '65/': 1, '650': 1, '650 ': 1, '6500': 1, '6500 ': 1, '6502': 1, '6530 ': 1, '6530g-': 1, '655 ': 1, '6555 ': 1, '65gb': 1, '65x8505c': 1, '65л ': 1, '66 ': 1, '660': 1, '660 ': 1, '6600': 1, '6600 ': 1, '6603 ': 1, '660b': 1, '6628': 1, '66т ': 1, '67 ': 1, '6700': 1, '6700 ': 1, '670бр ': 1, '68/': 1, '6800': 1, '6800 ': 1, '6859 ': 1, '689405472 ': 1, '692 ': 1, '692gr': 1, '693879888 ': 1, '69443 ': 1, '6g ': 1, '6gb': 1, '6gb/': 1, '6kg': 1, '6plus ': 1, '6qe-': 1, '6x24 ': 1, '6игр': 1, '6кг ': 1, '6класс': 1, '6м ': 1, '6метров': 1, '6мм ': 1, '6мм.': 1, '6на8': 1, '6стульями': 1, '6х2.': 1, '6х3 ': 1, '6х6': 1, '6х7 ': 1, '6ш112 ': 1, '70 ': 1, '70-': 1, '70/': 1, '700': 1, '700 ': 1, '7000': 1, '7000 ': 1, '700va/': 1, '700x2': 1, '700г': 1, '700р': 1, '700х1100': 1, '700х42с ': 1, '700э': 1, '701': 1, '702': 1, '702 ': 1, '702h': 1, '703': 1, '70785 ': 1, '70790': 1, '709930': 1, '7099951 ': 1, '70x180 ': 1, '70x190 ': 1, '70гг': 1, '70пух': 1, '710': 1, '7100': 1, '710n': 1, '710n ': 1, '710v': 1, '71211v': 1, '713n': 1, '71г': 1, '72 ': 1, '720 ': 1, '720/': 1, '720n': 1, '7255': 1, '7286': 1, '72г': 1, '730': 1, '730bf ': 1, '7310': 1, '735': 1, '735 ': 1, '737354': 1, '7390': 1, '7403-': 1, '741222520078 ': 1, '743n': 1, '745': 1, '747': 1, '75 ': 1, '750-': 1, '7500 ': 1, '75008': 1, '750g': 1, '750gb': 1, '750gb ': 1, '751': 1, '755dfx': 1, '757mb': 1, '75гр': 1, '75д': 1, '75х2.': 1, '76 ': 1, '760': 1, '761 ': 1, '7634': 1, '76525 ': 1, '768 ': 1, '77139 ': 1, '7753': 1, '777-': 1, '781 ': 1, '79.': 1, '793/': 1, '795df': 1, '796mb': 1, '7f-': 1, '7mm ': 1, '7up': 1, '7x1.': 1, '7x7x3.': 1, '7игр': 1, '7кг ': 1, '7класс': 1, '80 ': 1, '80-': 1, '800': 1, '8000 ': 1, '80000w': 1, '800f': 1, '800х2000': 1, '8010469': 1, '80155s': 1, '80186n': 1, '80192s': 1, '802': 1, '802 ': 1, '8020 ': 1, '803': 1, '8030': 1, '80329 ': 1, '803i ': 1, '804g64mn': 1, '805a': 1, '807117': 1, '8089 ': 1, '80b9 ': 1, '80w/': 1, '80в': 1, '80мм/': 1, '80см ': 1, '80х200 ': 1, '80х80': 1, '810 ': 1, '81010234 ': 1, '810e': 1, '810sc': 1, '811 ': 1, '8192mb': 1, '82 ': 1, '8200hp': 1, '8210': 1, '825-': 1, '826': 1, '829573': 1, '83 ': 1, '830 ': 1, '8320': 1, '8325': 1, '83553 ': 1, '84 ': 1, '840': 1, '848 ': 1, '848235': 1, '84вт ': 1, '84см': 1, '85 ': 1, '850': 1, '8509-': 1, '850c ': 1, '850l': 1, '850ml': 1, '851900': 1, '85кг': 1, '8600': 1, '8600 ': 1, '8600gt': 1, '865/': 1, '866252': 1, '875 ': 1, '8800': 1, '8810b': 1, '882': 1, '890': 1, '8907': 1, '891-': 1, '8910i': 1, '8910i ': 1, '8920': 1, '8b2': 1, '8g ': 1, '8gb': 1, '8gb ': 1, '8gb/': 1, '8mpix': 1, '8thdays ': 1, '8x1200мм': 1, '8x45 ': 1, '8гб': 1, '8гб ': 1, '8ггц': 1, '8гд-': 1, '8дюйма': 1, '8й-': 1, '8мм': 1, '8мм ': 1, '8мп ': 1, '8х1.': 1, '8х10 ': 1, '8х41.': 1, '8шт ': 1, '8ядер-': 1, '8ядер/': 1, '90 ': 1, '90/': 1, '900 ': 1, '9000 ': 1, '9005': 1, '9018': 1, '903': 1, '904': 1, '9069': 1, '90pc-': 1, '90г': 1, '90х90 ': 1, '91 ': 1, '9120': 1, '91гг': 1, '92 ': 1, '920': 1, '920nw': 1, '925': 1, '925 ': 1, '925пр': 1, '928-': 1, '933': 1, '9333/': 1, '933sn': 1, '93728069': 1, '94 ': 1, '940n': 1, '9488': 1, '95 ': 1, '950': 1, '950 ': 1, '951': 1, '95кг': 1, '96 ': 1, '96-': 1, '960b': 1, '9617 ': 1, '9619': 1, '967x328x70x39': 1, '97 ': 1, '970': 1, '970s': 1, '9740': 1, '9742 ': 1, '980': 1, '9800gt': 1, '988 ': 1, '9894': 1, '989767': 1, '99 ': 1, '9927': 1, '995': 1, '99599740 ': 1, '997': 1, '999 ': 1, '9а ': 1, '9й ': 1, '9класс ': 1, '9ск': 1, 'a045807': 1, 'a1-': 1, 'a10': 1, 'a10-': 1, 'a10/': 1, 'a100 ': 1, 'a100-': 1, 'a1088': 1, 'a1150lm-': 1, 'a13356': 1, 'a14 ': 1, 'a1650g': 1, 'a16x16': 1, 'a200': 1, 'a2036ap-': 1, 'a20i ': 1, 'a2101pl-': 1, 'a3 ': 1, 'a300d-': 1, 'a300f': 1, 'a300f/': 1, 'a3010lm-': 1, 'a316': 1, 'a369i': 1, 'a450': 1, 'a450cg': 1, 'a500': 1, 'a5000': 1, 'a500f': 1, 'a500f ': 1, 'a550': 1, 'a5500 ': 1, 'a60': 1, 'a680 ': 1, 'a7 ': 1, 'a7-': 1, 'a700fd': 1, 'a753 ': 1, 'a79 ': 1, 'a94': 1, 'aa3105-': 1, 'aap ': 1, 'ab ': 1, 'abb ': 1, 'abr-': 1, 'abs-': 1, 'ac-': 1, 'ace ': 1, 'ace2': 1, 'acer': 1, 'acoustics ': 1, 'active ': 1, 'activity ': 1, 'acuto ': 1, 'adamex': 1, 'adamex ': 1, 'adapter ': 1, 'addict ': 1, 'ademars ': 1, 'adias ': 1, 'adidas': 1, 'admira ': 1, 'adsl ': 1, 'adsl-': 1, 'adsl2': 1, 'adsl2/': 1, 'advantage ': 1, 'ae ': 1, 'ae-': 1, 'aeg': 1, 'aerosmith ': 1, 'af-': 1, 'afe ': 1, 'africa ': 1, 'afsa ': 1, 'agat ': 1, 'ah ': 1, 'aiken ': 1, 'aio ': 1, 'air ': 1, 'airman ': 1, 'aironet': 1, 'airport ': 1, 'airrouter ': 1, 'airtab': 1, 'aje ': 1, 'akai ': 1, 'akemi': 1, 'akg ': 1, 'al ': 1, 'al-': 1, 'al1917': 1, 'al6061': 1, 'alaska ': 1, 'alaskan ': 1, 'alba': 1, 'albert ': 1, 'alcatel ': 1, 'aldo ': 1, 'alesis ': 1, 'alexa ': 1, 'alexrims ': 1, 'alfa': 1, 'alice ': 1, 'alien': 1, 'alive ': 1, 'alliance ': 1, 'almag-': 1, 'alpha': 1, 'alpha ': 1, 'alpina ': 1, 'als ': 1, 'alto ': 1, 'alu ': 1, 'aluminum ': 1, 'am-': 1, 'am4562': 1, 'amazone ': 1, 'amd': 1, 'amelia': 1, 'amelia ': 1, 'american ': 1, 'among ': 1, 'amore ': 1, 'amt ': 1, 'analog ': 1, 'and ': 1, 'anderssen': 1, 'android': 1, 'android ': 1, 'angel': 1, 'angry ': 1, 'anmar': 1, 'anna': 1, 'anne ': 1, 'annex ': 1, 'ant2403n': 1, 'antari ': 1, 'anti ': 1, 'antonio ': 1, 'aoc ': 1, 'apc ': 1, 'aphone ': 1, 'apogee ': 1, 'apple': 1, 'aprica ': 1, 'aqua': 1, 'aquarius ': 1, 'ar ': 1, 'ar2448': 1, 'ara ': 1, 'aran ': 1, 'arc': 1, 'arc ': 1, 'ardo': 1, 'ardo ': 1, 'arena': 1, 'arhont': 1, 'arhur': 1, 'aria': 1, 'aria ': 1, 'ariston': 1, 'ariston ': 1, 'arizona': 1, 'ark': 1, 'armani': 1, 'armani ': 1, 'armed': 1, 'armor': 1, 'armor ': 1, 'armstrong': 1, 'arno ': 1, 'aro ': 1, 'arris ': 1, 'arsl ': 1, 'art-': 1, 'arte': 1, 'arte ': 1, 'artglass ': 1, 'artik4 ': 1, 'artisan ': 1, 'arturia ': 1, 'as-': 1, 'ascend ': 1, 'ascol': 1, 'aser ': 1, 'asha ': 1, 'ashe ': 1, 'ashton ': 1, 'asl-': 1, 'asm ': 1, 'asos': 1, 'aspen ': 1, 'aspire ': 1, 'assasin ': 1, 'assassin\"': 1, 'assassins ': 1, 'assault-': 1, 'astro ': 1, 'asus ': 1, 'asx18s ': 1, 'at-': 1, 'at2020': 1, 'atemi ': 1, 'athena ': 1, 'athene ': 1, 'atherton': 1, 'athlon ': 1, 'atir ': 1, 'atlant': 1, 'atmor ': 1, 'atom': 1, 'atom ': 1, 'atomic': 1, 'atomic ': 1, 'attitude': 1, 'au ': 1, 'audio': 1, 'audio ': 1, 'audio-': 1, 'audiogram6 ': 1, 'audiohub ': 1, 'austria ': 1, 'author ': 1, 'auto ': 1, 'autosport ': 1, 'av-': 1, 'avalanche ': 1, 'avalon ': 1, 'avanti ': 1, 'avent': 1, 'avent ': 1, 'avento': 1, 'aventphilips': 1, 'aver ': 1, 'avisio ': 1, 'avtl ': 1, 'awe ': 1, 'awg-': 1, 'awt ': 1, 'ax ': 1, 'ax3g': 1, 'ax5g': 1, 'axe ': 1, 'axp ': 1, 'aza000040x/': 1, 'aznar': 1, 'aлюм': 1, 'b1/': 1, 'b108d': 1, 'b140xtn01.': 1, 'b140xw01 ': 1, 'b156xw04 ': 1, 'b185 ': 1, 'b2 ': 1, 'b30 ': 1, 'b3366': 1, 'b450ii-': 1, 'b5070': 1, 'b545g': 1, 'b553 ': 1, 'b593s-': 1, 'b7 ': 1, 'b72': 1, 'bab2151e ': 1, 'babies ': 1, 'baby': 1, 'baby ': 1, 'baby-': 1, 'babycrimp ': 1, 'babyliss': 1, 'babyton': 1, 'babyton ': 1, 'bacchus ': 1, 'back': 1, 'back/': 1, 'backpack': 1, 'bad ': 1, 'baggu': 1, 'baldinini': 1, 'ball ': 1, 'ballu ': 1, 'balmain': 1, 'balzer ': 1, 'bambini': 1, 'bambola ': 1, 'bamix ': 1, 'banax ': 1, 'band': 1, 'band ': 1, 'bandes': 1, 'bang ': 1, 'banoperito ': 1, 'banq ': 1, 'banshee-': 1, 'barbell': 1, 'barbie': 1, 'barbie ': 1, 'barcelona ': 1, 'barco ': 1, 'barraki ': 1, 'barty': 1, 'bas-': 1, 'basco ': 1, 'basic ': 1, 'basis': 1, 'basket': 1, 'bass': 1, 'baswool ': 1, 'batman ': 1, 'batpod': 1, 'battlefield ': 1, 'battlefield3 ': 1, 'battlefront ': 1, 'bay': 1, 'bay ': 1, 'bb-': 1, 'bbe ': 1, 'bbgl/': 1, 'bbk ': 1, 'bc ': 1, 'bc1601-': 1, 'bc25sc06-': 1, 'bcd': 1, 'bd-': 1, 'be ': 1, 'be-': 1, 'beach ': 1, 'beam': 1, 'beam ': 1, 'bear': 1, 'bear ': 1, 'beast ': 1, 'beatbox ': 1, 'beatles ': 1, 'beats': 1, 'beats ': 1, 'beautiful ': 1, 'beauty': 1, 'beb-': 1, 'bebe': 1, 'bebetto': 1, 'bebetto ': 1, 'bec': 1, 'beep': 1, 'beep-': 1, 'beginner': 1, 'behringer': 1, 'behringer ': 1, 'beige': 1, 'bekker ': 1, 'beko': 1, 'belamos ': 1, 'belgique': 1, 'bella': 1, 'belt': 1, 'bench': 1, 'benchmade': 1, 'benchmade ': 1, 'benefit ': 1, 'benetit': 1, 'benetton': 1, 'bens ': 1, 'benton ': 1, 'berlin ': 1, 'bershka': 1, 'bershka ': 1, 'bertoni ': 1, 'best': 1, 'best ': 1, 'bestway ': 1, 'beta ': 1, 'beuchat ': 1, 'bfb-': 1, 'bff': 1, 'bg6015x': 1, 'bga-': 1, 'bgm-': 1, 'bh ': 1, 'bi ': 1, 'bialog ': 1, 'bidi': 1, 'biema': 1, 'biema ': 1, 'big ': 1, 'bigsby ': 1, 'bike': 1, 'bike ': 1, 'billabong ': 1, 'binary ': 1, 'bionicle ': 1, 'bioshock ': 1, 'biosonic ': 1, 'bird': 1, 'bjorn ': 1, 'bjorne ': 1, 'bk ': 1, 'bkn': 1, 'bkn-': 1, 'bl ': 1, 'bl3200pt': 1, 'bla': 1, 'black': 1, 'black ': 1, 'black/': 1, 'blackdecker ': 1, 'blackview ': 1, 'blackwood': 1, 'blanca ': 1, 'blitz ': 1, 'blk': 1, 'blk/': 1, 'bloodborne': 1, 'bloodborne ': 1, 'bluboo ': 1, 'blue': 1, 'blue/': 1, 'bluegreen ': 1, 'bluetoo': 1, 'bluetooth': 1, 'blx24e/': 1, 'bm ': 1, 'bms-': 1, 'bmw': 1, 'bmx ': 1, 'bn41-': 1, 'bn44-': 1, 'bn94-': 1, 'bo ': 1, 'bocoin ': 1, 'body ': 1, 'body-': 1, 'bodykraft ': 1, 'bogner ': 1, 'bolt': 1, 'bolt ': 1, 'bonanza ': 1, 'bonfire': 1, 'book': 1, 'book ': 1, 'boost': 1, 'boost ': 1, 'booster': 1, 'boot ': 1, 'bork': 1, 'bork ': 1, 'bort ': 1, 'bos ': 1, 'bosch': 1, 'bosch ': 1, 'bose ': 1, 'bosh ': 1, 'boss': 1, 'boss ': 1, 'boston39 ': 1, 'botas ': 1, 'bottle ': 1, 'bougies ': 1, 'bouncer': 1, 'boutique': 1, 'boutique ': 1, 'bowers ': 1, 'box ': 1, 'boy': 1, 'boy ': 1, 'bp ': 1, 'bqm-': 1, 'br-': 1, 'braccialini ': 1, 'bracket': 1, 'bradshaw': 1, 'brain ': 1, 'brake ': 1, 'brake/': 1, 'braker ': 1, 'brand ': 1, 'brandit ': 1, 'brandt': 1, 'braun': 1, 'braun ': 1, 'breg': 1, 'breitling': 1, 'breitling ': 1, 'brevi': 1, 'bridge ': 1, 'briliant ': 1, 'bristol': 1, 'broggi': 1, 'bronigen ': 1, 'bros': 1, 'bru/': 1, 'brubeck': 1, 'brumer': 1, 'bruttobells ': 1, 'bt-': 1, 'bt140gw01 ': 1, 'btx36000 ': 1, 'buff ': 1, 'built ': 1, 'bulldog ': 1, 'bulldozer ': 1, 'bullet ': 1, 'burberry': 1, 'burkina ': 1, 'burny ': 1, 'burton': 1, 'burton ': 1, 'business': 1, 'business ': 1, 'buskeye ': 1, 'bx ': 1, 'bx5a': 1, 'by ': 1, 'c01': 1, 'c1005': 1, 'c12 ': 1, 'c1605': 1, 'c1905 ': 1, 'c2005 ': 1, 'c2305': 1, 'c3-': 1, 'c3200': 1, 'c3312': 1, 'c3322': 1, 'c360': 1, 'c40': 1, 'c411l ': 1, 'c5-': 1, 'c550': 1, 'c555': 1, 'c6-': 1, 'c600': 1, 'c6602': 1, 'c6903': 1, 'c7-': 1, 'c700': 1, 'c706': 1, 'c800': 1, 'c9660': 1, 'ca-': 1, 'cab ': 1, 'cadet': 1, 'call ': 1, 'calvaneo ': 1, 'cam-': 1, 'camaro': 1, 'came ': 1, 'camelion': 1, 'camera': 1, 'campomaggi': 1, 'canada ': 1, 'cane ': 1, 'canon ': 1, 'canton ': 1, 'canvas ': 1, 'capella': 1, 'capella ': 1, 'cappelletto ': 1, 'cappuccino ': 1, 'capsule ': 1, 'car-': 1, 'carbon': 1, 'carbon ': 1, 'card': 1, 'cardona': 1, 'care': 1, 'care ': 1, 'caretero ': 1, 'carnage ': 1, 'carrera ': 1, 'casada ': 1, 'case': 1, 'case ': 1, 'casio': 1, 'casio ': 1, 'castelli': 1, 'castle ': 1, 'castro': 1, 'cat': 1, 'cat5s ': 1, 'cateye ': 1, 'catriene ': 1, 'caucasus': 1, 'cause ': 1, 'cavalli ': 1, 'caviar': 1, 'caymanlux': 1, 'cc3d ': 1, 'ccm ': 1, 'ccw': 1, 'cd ': 1, 'cd06-': 1, 'cdj ': 1, 'cdj-': 1, 'cdma': 1, 'ce312 ': 1, 'ceba ': 1, 'celeron ': 1, 'cell ': 1, 'cellular': 1, 'cellular ': 1, 'cent ': 1, 'centri ': 1, 'ceo ': 1, 'ceragem': 1, 'ceramica ': 1, 'ceresit ': 1, 'cerox': 1, 'cersanit ': 1, 'cfl-': 1, 'cg15r': 1, 'cg220u': 1, 'cg40.': 1, 'cgx ': 1, 'ch-': 1, 'chalcosoma ': 1, 'champ': 1, 'champagne': 1, 'champion': 1, 'chanel': 1, 'chanel ': 1, 'charge ': 1, 'charlton ': 1, 'chbt ': 1, 'chef ': 1, 'cherry': 1, 'chiaro ': 1, 'chic': 1, 'chicco ': 1, 'chiccopolly': 1, 'chico': 1, 'child ': 1, 'chirp': 1, 'chloe ': 1, 'choco ': 1, 'chocolate ': 1, 'chopard ': 1, 'chopper': 1, 'chrome': 1, 'chrome ': 1, 'chronograph ': 1, 'chronomat ': 1, 'chubby ': 1, 'chung': 1, 'ci ': 1, 'ci45 ': 1, 'cindy': 1, 'cinema ': 1, 'cinemavercum ': 1, 'circle ': 1, 'circo ': 1, 'circolo': 1, 'cisco ': 1, 'citizen ': 1, 'cityline ': 1, 'ck15i': 1, 'cklick ': 1, 'cl0208 ': 1, 'cl5': 1, 'cl630': 1, 'claa133ua03 ': 1, 'claa154wa05-': 1, 'claiborne': 1, 'clarks ': 1, 'class ': 1, 'classic': 1, 'classic ': 1, 'classixx5': 1, 'cleanser ': 1, 'clear ': 1, 'clf': 1, 'cloud': 1, 'clowns ': 1, 'club': 1, 'cm ': 1, 'cn-': 1, 'cnspoke ': 1, 'co ': 1, 'co108st1lbk ': 1, 'coca-': 1, 'coffee': 1, 'coiltek ': 1, 'cola ': 1, 'coli ': 1, 'coliseumgres ': 1, 'colombo': 1, 'colombo ': 1, 'color': 1, 'colour ': 1, 'colt ': 1, 'comarello': 1, 'combat ': 1, 'comoag': 1, 'compact ': 1, 'compakt ': 1, 'company': 1, 'compaq ': 1, 'completo': 1, 'concept ': 1, 'conceptual ': 1, 'condemned ': 1, 'condor ': 1, 'console ': 1, 'conte ': 1, 'conti ': 1, 'contra ': 1, 'contract': 1, 'convers ': 1, 'convertible': 1, 'coolpad ': 1, 'core': 1, 'core ': 1, 'core-': 1, 'core2 ': 1, 'core2duo': 1, 'core2duo3.': 1, 'cornwall': 1, 'corso ': 1, 'cortina ': 1, 'cortland ': 1, 'corum ': 1, 'costa ': 1, 'countryman ': 1, 'cover ': 1, 'cower ': 1, 'cp ': 1, 'cp-': 1, 'cp650 ': 1, 'cqc ': 1, 'cr2032': 1, 'craft ': 1, 'crafted ': 1, 'crafter': 1, 'crank ': 1, 'creative ': 1, 'creavit ': 1, 'credit': 1, 'cree ': 1, 'creed ': 1, 'creep ': 1, 'cremona': 1, 'crew ': 1, 'cross': 1, 'cross ': 1, 'crossfire': 1, 'crossfit ': 1, 'crown ': 1, 'cruiser': 1, 'cruiser ': 1, 'cruizer ': 1, 'cry ': 1, 'cry4': 1, 'cry4 ': 1, 'cryo': 1, 'crystal ': 1, 'cs-': 1, 'cs2 ': 1, 'cs4': 1, 'cst ': 1, 'ct-': 1, 'ctr40': 1, 'ctv710': 1, 'ctx ': 1, 'cub-': 1, 'cube': 1, 'cube ': 1, 'cubot ': 1, 'cuisine ': 1, 'cup ': 1, 'curren': 1, 'curren ': 1, 'custom': 1, 'cutie ': 1, 'cv-': 1, 'cycledesign ': 1, 'cyclotech ': 1, 'cветодиодная ': 1, 'cедло ': 1, 'cейф ': 1, 'cистемный ': 1, 'cмеситель ': 1, 'cоковыжималка ': 1, 'cони ': 1, 'cпальный ': 1, 'cруб ': 1, 'cтенка ': 1, 'cтерилизатор ': 1, 'cтиральная ': 1, 'cубмарина': 1, 'cумка ': 1, 'cумочка ': 1, 'd050sr ': 1, 'd10 ': 1, 'd100': 1, 'd1399': 1, 'd2105': 1, 'd257': 1, 'd265мм': 1, 'd270': 1, 'd28 ': 1, 'd2826-': 1, 'd303': 1, 'd5303': 1, 'd5503 ': 1, 'd6603 ': 1, 'd690': 1, 'd690 ': 1, 'd7 ': 1, 'da-': 1, 'dab ': 1, 'daewoo': 1, 'daewoo ': 1, 'dainese ': 1, 'daiwa': 1, 'daiwa ': 1, 'dallas ': 1, 'dalvey': 1, 'danfoss': 1, 'danfoss ': 1, 'danhill': 1, 'daniel ': 1, 'dark ': 1, 'daslight': 1, 'dat ': 1, 'data ': 1, 'dawn': 1, 'dawn ': 1, 'day': 1, 'daytona': 1, 'daytona ': 1, 'db ': 1, 'db-': 1, 'dbx': 1, 'dbx ': 1, 'dc5800': 1, 'dd ': 1, 'dd-': 1, 'ddj ': 1, 'ddr2 ': 1, 'ddr3': 1, 'ddr3 ': 1, 'ddr3/': 1, 'de ': 1, 'dead ': 1, 'deck ': 1, 'decoretto': 1, 'deep ': 1, 'deeper ': 1, 'defy ': 1, 'delfin': 1, 'dell ': 1, 'dell-': 1, 'delonghi': 1, 'delta ': 1, 'delux ': 1, 'deluxe': 1, 'demo': 1, 'demon ': 1, 'den ': 1, 'dender ': 1, 'dendy ': 1, 'denny ': 1, 'denon ': 1, 'deploy': 1, 'deppa': 1, 'des-': 1, 'design': 1, 'design ': 1, 'designo ': 1, 'desire ': 1, 'detelina ': 1, 'deus ': 1, 'deutsch': 1, 'dewal': 1, 'dewalt': 1, 'dexp ': 1, 'dexshell': 1, 'df ': 1, 'df-': 1, 'dfb': 1, 'dfc ': 1, 'dfm-': 1, 'dfr ': 1, 'dg ': 1, 'dg834g': 1, 'dgs-': 1, 'dia750-': 1, 'diakshok4': 1, 'dialog ': 1, 'diamond': 1, 'diamond ': 1, 'dictionary ': 1, 'diesel': 1, 'diesel ': 1, 'digilab ': 1, 'digital ': 1, 'digitech ': 1, 'digiwalker ': 1, 'digma ': 1, 'dimensions': 1, 'dinky': 1, 'dinner ': 1, 'dino ': 1, 'dior': 1, 'dior ': 1, 'dir ': 1, 'dir-': 1, 'direct ': 1, 'disco ': 1, 'discovery ': 1, 'disk': 1, 'disney': 1, 'distinta ': 1, 'disto ': 1, 'distortion': 1, 'distortion ': 1, 'divided': 1, 'dj810510 ': 1, 'dji ': 1, 'djm ': 1, 'djm-': 1, 'dk1': 1, 'dkny ': 1, 'dkvm-': 1, 'dl ': 1, 'dl-': 1, 'dlc': 1, 'dle ': 1, 'dlink': 1, 'dlink ': 1, 'dlink-': 1, 'dls-': 1, 'dm-': 1, 'dm3': 1, 'dm500': 1, 'dmc-': 1, 'dmi ': 1, 'dmx': 1, 'dmx ': 1, 'dn-': 1, 'dob ': 1, 'dock': 1, 'dock ': 1, 'dod ': 1, 'dogs': 1, 'dolby ': 1, 'dolce ': 1, 'dollar': 1, 'domain ': 1, 'domani': 1, 'domyos ': 1, 'donjoy ': 1, 'doock ': 1, 'dos ': 1, 'dosi ': 1, 'dota ': 1, 'double': 1, 'doubled ': 1, 'down ': 1, 'dp-': 1, 'dr ': 1, 'draco': 1, 'dragon': 1, 'drazice ': 1, 'dreadnough': 1, 'dreadnought ': 1, 'dream': 1, 'dream ': 1, 'dreamcast': 1, 'drh ': 1, 'drift ': 1, 'drive': 1, 'drive ': 1, 'driver': 1, 'droid ': 1, 'drop ': 1, 'ds ': 1, 'ds-': 1, 'ds211j ': 1, 'dsl': 1, 'dsl ': 1, 'dsl-': 1, 'dsp2401': 1, 'dt1055-': 1, 'dtc-': 1, 'dtm ': 1, 'du ': 1, 'dual ': 1, 'dualshock': 1, 'dualshock ': 1, 'duas': 1, 'duck ': 1, 'duette ': 1, 'duncan ': 1, 'duo': 1, 'duo ': 1, 'duofix': 1, 'duos': 1, 'duospoke ': 1, 'dupont ': 1, 'dura-': 1, 'dus ': 1, 'dutti': 1, 'duty ': 1, 'dv290': 1, 'dv6': 1, 'dvc-': 1, 'dvd': 1, 'dvd ': 1, 'dvd-': 1, 'dvi': 1, 'dw/': 1, 'dwa-': 1, 'dynacord': 1, 'dynacord ': 1, 'dz4204': 1, 'dиаdэнс-': 1, 'dятьково': 1, 'e002 ': 1, 'e1 ': 1, 'e1008': 1, 'e101': 1, 'e14 ': 1, 'e14/': 1, 'e140': 1, 'e1550': 1, 'e1720nr ': 1, 'e1910s': 1, 'e1941s ': 1, 'e2014hf ': 1, 'e2105': 1, 'e2220': 1, 'e2260 ': 1, 'e27/': 1, 'e4 ': 1, 'e40-': 1, 'e4600': 1, 'e521': 1, 'e550': 1, 'e642g': 1, 'e651': 1, 'e6540 ': 1, 'e6603 ': 1, 'e6633 ': 1, 'e6653 ': 1, 'e6683 ': 1, 'e6700': 1, 'e6750': 1, 'e72': 1, 'e8 ': 1, 'e845-': 1, 'e900a': 1, 'ea190m ': 1, 'early ': 1, 'earpods ': 1, 'earth ': 1, 'easton ': 1, 'easy ': 1, 'easynote ': 1, 'eax64272803': 1, 'eb-': 1, 'ec ': 1, 'ec-': 1, 'ec4s1r': 1, 'ecam ': 1, 'echo ': 1, 'eclipse': 1, 'eco ': 1, 'eco-': 1, 'ecola ': 1, 'economics ': 1, 'edea': 1, 'edge': 1, 'edge ': 1, 'edifier ': 1, 'edition ': 1, 'effort': 1, 'eg ': 1, 'eglo': 1, 'ego': 1, 'eh-': 1, 'ehlek ': 1, 'ehx ': 1, 'einhell ': 1, 'ej ': 1, 'ek1300': 1, 'ek27g09': 1, 'el ': 1, 'el-': 1, 'el1084-': 1, 'el130': 1, 'el410': 1, 'elan ': 1, 'electribe ': 1, 'electric': 1, 'electric ': 1, 'electro ': 1, 'electro-': 1, 'electrolux ': 1, 'electronic ': 1, 'electronica': 1, 'electronics ': 1, 'elegant': 1, 'elektrox ': 1, 'elementis ': 1, 'elements ': 1, 'elenberg': 1, 'elenberg ': 1, 'elephone ': 1, 'elite ': 1, 'elite-': 1, 'elitech ': 1, 'elodie ': 1, 'elp-': 1, 'elysium ': 1, 'em355rrxra170 ': 1, 'emachines': 1, 'emachines ': 1, 'emg ': 1, 'emiliana ': 1, 'emily ': 1, 'emmaljunga ': 1, 'emp ': 1, 'emx660': 1, 'en ': 1, 'endever ': 1, 'endura ': 1, 'energetics ': 1, 'energy ': 1, 'enfamil ': 1, 'engine ': 1, 'england': 1, 'english': 1, 'english ': 1, 'enjoy ': 1, 'envision ': 1, 'eon206p ': 1, 'ep ': 1, 'epi ': 1, 'epil ': 1, 'epiphone': 1, 'epm8': 1, 'epson ': 1, 'eq ': 1, 'equipe ': 1, 'equium ': 1, 'era ': 1, 'erdi ': 1, 'erg': 1, 'ergogel ': 1, 'ergomax ': 1, 'erich ': 1, 'ericsson ': 1, 'erisson': 1, 'erisson ': 1, 'es ': 1, 'es-': 1, 'es3.': 1, 'es65.': 1, 'es80v-': 1, 'escada': 1, 'escape ': 1, 'eshmt34': 1, 'eshmt34c': 1, 'eshmt44c': 1, 'eshmt91c4': 1, 'eshsd66c42': 1, 'espionage': 1, 'espresso ': 1, 'essential ': 1, 'essenza ': 1, 'estima ': 1, 'esx-': 1, 'etc ': 1, 'ethernetкоммутаторtenda ': 1, 'etrex ': 1, 'etv ': 1, 'euphony': 1, 'euro ': 1, 'eurofon ': 1, 'eurolive ': 1, 'europlus ': 1, 'eurorack ': 1, 'eurosvet ': 1, 'eurowatt ': 1, 'evil ': 1, 'evo ': 1, 'evoli ': 1, 'evolution ': 1, 'ew ': 1, 'ew100 ': 1, 'ex2220 ': 1, 'exclusive': 1, 'exeq ': 1, 'exo-': 1, 'expanber': 1, 'experia': 1, 'experia ': 1, 'expert ': 1, 'explay ': 1, 'explorer': 1, 'explorer ': 1, 'express ': 1, 'exsplay ': 1, 'external ': 1, 'extreme': 1, 'extreme-': 1, 'ezytech ': 1, 'f1 ': 1, 'f1081td': 1, 'f13-': 1, 'f1320d': 1, 'f150': 1, 'f24p1dx': 1, 'f310': 1, 'f402ca': 1, 'f47': 1, 'f4w ': 1, 'f5 ': 1, 'f553ma ': 1, 'f565c': 1, 'f5rl': 1, 'f600-': 1, 'f6550w': 1, 'f6m1-': 1, 'f720p': 1, 'f813j': 1, 'f91-': 1, 'fabiani ': 1, 'fac ': 1, 'face2face': 1, 'fame ': 1, 'famicom': 1, 'families': 1, 'families ': 1, 'fantazy': 1, 'far ': 1, 'farcry4': 1, 'fashion ': 1, 'faso ': 1, 'fast ': 1, 'fat ': 1, 'fathom': 1, 'favourite': 1, 'favourite ': 1, 'fb-': 1, 'fb6122ar': 1, 'fbs ': 1, 'fc8g-': 1, 'fca610': 1, 'fcb1010': 1, 'fd ': 1, 'fe ': 1, 'fedon': 1, 'fender ': 1, 'ferm': 1, 'fernandes': 1, 'fernandes ': 1, 'ferra': 1, 'ferrari': 1, 'ferre': 1, 'ferrum ': 1, 'festa ': 1, 'festool ': 1, 'fg ': 1, 'fg360d10': 1, 'fg700ms ': 1, 'fh-': 1, 'fhd': 1, 'fhilips': 1, 'fi ': 1, 'fiac ': 1, 'ficher ': 1, 'field ': 1, 'fifa14 ': 1, 'fifa15': 1, 'fiio ': 1, 'finding ': 1, 'fineber ': 1, 'fire': 1, 'fire ': 1, 'first ': 1, 'fis': 1, 'fis ': 1, 'fischer': 1, 'fischer ': 1, 'fisher': 1, 'fishman ': 1, 'fit': 1, 'fit ': 1, 'fitbike ': 1, 'fitness ': 1, 'fitstudio': 1, 'fitt ': 1, 'five': 1, 'fix': 1, 'fixer ': 1, 'fixo-': 1, 'fj010': 1, 'flaer': 1, 'flag': 1, 'flame ': 1, 'flashback ': 1, 'flatron ': 1, 'flight': 1, 'flight ': 1, 'flip ': 1, 'flite ': 1, 'floating ': 1, 'floor ': 1, 'florentina': 1, 'flow ': 1, 'fls ': 1, 'fluke ': 1, 'fluo ': 1, 'fly': 1, 'flying ': 1, 'fm ': 1, 'fmstpsb': 1, 'fmt ': 1, 'fonepad ': 1, 'for ': 1, 'force': 1, 'force ': 1, 'forerunner ': 1, 'form ': 1, 'forsage ': 1, 'fossil': 1, 'fountek ': 1, 'fox ': 1, 'fp8512': 1, 'fp91g': 1, 'fp937s': 1, 'fpv ': 1, 'fr89ex': 1, 'france': 1, 'franck ': 1, 'franke': 1, 'frankie ': 1, 'frans ': 1, 'freestyle ': 1, 'fresh': 1, 'fresh ': 1, 'frhf ': 1, 'friso ': 1, 'frontman ': 1, 'frosted ': 1, 'frozen': 1, 'frs-': 1, 'fs ': 1, 'fs-': 1, 'fs111a': 1, 'fsa': 1, 'fsled': 1, 'fst ': 1, 'fubag ': 1, 'fujitsu ': 1, 'full ': 1, 'fullhd ': 1, 'fullips ': 1, 'funkierbike ': 1, 'furla': 1, 'furman ': 1, 'fusion': 1, 'fusion ': 1, 'fuzz': 1, 'fw16 ': 1, 'fx-': 1, 'fx35': 1, 'fz-': 1, 'g1 ': 1, 'g1300': 1, 'g13ss': 1, 'g1840': 1, 'g1x': 1, 'g2 ': 1, 'g2-': 1, 'g23 ': 1, 'g2361': 1, 'g23sru ': 1, 'g2420hdbl': 1, 'g25': 1, 'g3 ': 1, 'g3-': 1, 'g31': 1, 'g313н': 1, 'g355h/': 1, 'g400': 1, 'g4s': 1, 'g505s': 1, 'g531h/': 1, 'g55': 1, 'g565': 1, 'g565 ': 1, 'g570 ': 1, 'g580': 1, 'g580 ': 1, 'g6 ': 1, 'g6-': 1, 'g604t ': 1, 'g60vх': 1, 'g640g ': 1, 'g800f': 1, 'g850f ': 1, 'g900ad ': 1, 'g900f': 1, 'g900f ': 1, 'g925f': 1, 'g928f': 1, 'gabbana ': 1, 'gabor': 1, 'gai ': 1, 'galactic ': 1, 'galaksi': 1, 'galaksi ': 1, 'galasxy ': 1, 'galaxe ': 1, 'galaxi ': 1, 'galaxy ': 1, 'galka ': 1, 'game ': 1, 'gamebox': 1, 'gameboy': 1, 'gamecube': 1, 'garden ': 1, 'garmin ': 1, 'garrett ': 1, 'gas': 1, 'gataw': 1, 'gb ': 1, 'gb819': 1, 'gbh ': 1, 'gbh2600': 1, 'gbic ': 1, 'gc3060 ': 1, 'gd ': 1, 'gd-': 1, 'gdib46l': 1, 'gdr-': 1, 'ge-': 1, 'gear ': 1, 'geax ': 1, 'geberit ': 1, 'gefen ': 1, 'geforce ': 1, 'geforce-': 1, 'geiger ': 1, 'gel ': 1, 'gel-': 1, 'gemelli ': 1, 'gene': 1, 'genebre ': 1, 'geneva': 1, 'genius': 1, 'genius ': 1, 'geniys': 1, 'gerber ': 1, 'germany': 1, 'gezatone ': 1, 'gf ': 1, 'ghosts': 1, 'ght-': 1, 'ghz': 1, 'ghz ': 1, 'gia': 1, 'gianfranco ': 1, 'gibson': 1, 'gibson ': 1, 'giga ': 1, 'gigabyte ': 1, 'gigante ': 1, 'gila ': 1, 'gilda ': 1, 'ginnryuu': 1, 'ginzzu ': 1, 'gio ': 1, 'giro': 1, 'giro ': 1, 'giudi': 1, 'giyo': 1, 'gla ': 1, 'glade ': 1, 'glass': 1, 'glass ': 1, 'glatum ': 1, 'glo': 1, 'globex-': 1, 'globo': 1, 'glw ': 1, 'go ': 1, 'go-': 1, 'gods ': 1, 'gold': 1, 'gold ': 1, 'goldstar': 1, 'goochie ': 1, 'goose': 1, 'gorenje': 1, 'gorillapod ': 1, 'gp ': 1, 'gprs': 1, 'gps': 1, 'gps ': 1, 'gps-': 1, 'grace': 1, 'graco': 1, 'graco ': 1, 'graf': 1, 'graf ': 1, 'grammar': 1, 'gran ': 1, 'grana ': 1, 'grand': 1, 'grand2': 1, 'grander ': 1, 'grandeur ': 1, 'grape': 1, 'graphite': 1, 'gray': 1, 'gray ': 1, 'gre ': 1, 'great ': 1, 'greco ': 1, 'greek ': 1, 'green ': 1, 'greenell': 1, 'greenhorn ': 1, 'greg ': 1, 'grey ': 1, 'grg ': 1, 'grg150dx-': 1, 'grg170dx': 1, 'griptight ': 1, 'groff': 1, 'grohe ': 1, 'grpht/': 1, 'grundfos ': 1, 'grx ': 1, 'gs ': 1, 'gs1004': 1, 'gsb ': 1, 'gsmart': 1, 'gsr205': 1, 'gt ': 1, 'gt3': 1, 'gt3 ': 1, 'gt610m ': 1, 'gt91-': 1, 'gta ': 1, 'gtr': 1, 'gts250': 1, 'gtx ': 1, 'gtx560ti': 1, 'gtx970': 1, 'gu10 ': 1, 'gucci': 1, 'guess': 1, 'guess ': 1, 'gus ': 1, 'gusto': 1, 'gusto ': 1, 'gutar': 1, 'gx1': 1, 'gx53': 1, 'gyardo': 1, 'gym': 1, 'gymstick ': 1, 'gyro ': 1, 'h10-': 1, 'h103 ': 1, 'h118n': 1, 'h209': 1, 'h298n': 1, 'h3x': 1, 'ha-': 1, 'had': 1, 'haier': 1, 'haier ': 1, 'hailo ': 1, 'haipai ': 1, 'hair ': 1, 'halco': 1, 'halo ': 1, 'hals': 1, 'halsall': 1, 'hammer ': 1, 'handmade': 1, 'hansa ': 1, 'hansgrohe ': 1, 'happy': 1, 'happy ': 1, 'happych ': 1, 'harmonia': 1, 'harmonist': 1, 'harmonix ': 1, 'harmony': 1, 'harmony ': 1, 'hartan ': 1, 'hat ': 1, 'hauck ': 1, 'hb42s01': 1, 'hb43k01': 1, 'hbs ': 1, 'hbs-': 1, 'hc ': 1, 'hc-': 1, 'hd ': 1, 'hd200 ': 1, 'hd500gb/': 1, 'hd5470': 1, 'hd7670 ': 1, 'hd7770/': 1, 'hdd': 1, 'head': 1, 'headway ': 1, 'heart': 1, 'hearts': 1, 'hearts ': 1, 'heisskraft ': 1, 'helicopter ': 1, 'helios ': 1, 'hello ': 1, 'hemisphere ': 1, 'herbelin ': 1, 'hermes': 1, 'hero ': 1, 'hex ': 1, 'hf1200a': 1, 'hf8': 1, 'hg400-': 1, 'hi-': 1, 'hifi ': 1, 'high': 1, 'high ': 1, 'high/': 1, 'highlight ': 1, 'highscreen ': 1, 'hightrek ': 1, 'higscreen ': 1, 'hiking ': 1, 'hilti': 1, 'hilti ': 1, 'hinkley': 1, 'hip-': 1, 'hipp ': 1, 'hirta': 1, 'hit ': 1, 'hitachi': 1, 'hits ': 1, 'hiwatt ': 1, 'hl ': 1, 'hl-': 1, 'hl865l ': 1, 'hm ': 1, 'hm1317c ': 1, 'hobbywing ': 1, 'hogs': 1, 'hohne': 1, 'hohner': 1, 'hohner ': 1, 'hokia': 1, 'holex': 1, 'holiday': 1, 'holland ': 1, 'homtom ': 1, 'honda ': 1, 'honor ': 1, 'honor3c': 1, 'honphone ': 1, 'hop ': 1, 'hora': 1, 'hori ': 1, 'horizon ': 1, 'horizont': 1, 'hormann ': 1, 'horus06 ': 1, 'hot ': 1, 'hotcase': 1, 'hotel': 1, 'hotel ': 1, 'hotpoint ': 1, 'hotpoint-': 1, 'house ': 1, 'housefit ': 1, 'hp16x1 ': 1, 'hp1730': 1, 'hpi ': 1, 'hps ': 1, 'hqt-': 1, 'hr ': 1, 'hr1863/': 1, 'hrc': 1, 'hrg1 ': 1, 'hrizolit ': 1, 'hrm ': 1, 'hrm1': 1, 'hs ': 1, 'hs3910 ': 1, 'hsp ': 1, 'hss': 1, 'ht435r': 1, 'ht878': 1, 'htcnexus ': 1, 'hts8100': 1, 'huawei': 1, 'hub': 1, 'hublot ': 1, 'hugo ': 1, 'humm': 1, 'humminbird ': 1, 'hunter': 1, 'hunter ': 1, 'huntsman': 1, 'hutchinson ': 1, 'hv30': 1, 'hv4 ': 1, 'hy-': 1, 'hy2000si': 1, 'hybrid ': 1, 'hydro ': 1, 'hydrostop': 1, 'hysek ': 1, 'hyundai ': 1, 'hyundal ': 1, 'i3 ': 1, 'i3-': 1, 'i3600': 1, 'i5-': 1, 'i5/': 1, 'i6 ': 1, 'i7 ': 1, 'i7.': 1, 'i8160 ': 1, 'i8190': 1, 'i9082 ': 1, 'i9100g ': 1, 'i9300': 1, 'i9505': 1, 'ibanez': 1, 'ibm ': 1, 'ibt ': 1, 'ibz10g': 1, 'ic ': 1, 'ice ': 1, 'iceberg ': 1, 'iced ': 1, 'id ': 1, 'id9': 1, 'ideacentre ': 1, 'ideatab ': 1, 'idem ': 1, 'idition': 1, 'idsd ': 1, 'idxd7 ': 1, 'ignis ': 1, 'ignite': 1, 'ihoo-': 1, 'ii ': 1, 'iid ': 1, 'iii ': 1, 'ikea ': 1, 'ikon ': 1, 'illumo ': 1, 'im-': 1, 'imac': 1, 'imac ': 1, 'imakatsu ': 1, 'immobil ': 1, 'imperiale': 1, 'impulse ': 1, 'imuca ': 1, 'in ': 1, 'incipio': 1, 'infamous': 1, 'infamous ': 1, 'infanta ': 1, 'infiniter ': 1, 'infinity ': 1, 'informer ': 1, 'ingiesina': 1, 'inglesina ': 1, 'injustice': 1, 'inline': 1, 'inmold ': 1, 'inramous ': 1, 'insights ': 1, 'inspired': 1, 'instinct': 1, 'instruments ': 1, 'int': 1, 'int-': 1, 'integral': 1, 'intel ': 1, 'intermediate': 1, 'international ': 1, 'interstep': 1, 'intex': 1, 'intex ': 1, 'inti ': 1, 'intimes ': 1, 'into ': 1, 'invizimals ': 1, 'invotone ': 1, 'inwin': 1, 'inzer ': 1, 'ion': 1, 'ion ': 1, 'ios ': 1, 'ip33 ': 1, 'ip65-': 1, 'ip65kit': 1, 'ip68': 1, 'ipad ': 1, 'ipad2 ': 1, 'iphon5': 1, 'iphone': 1, 'iphone ': 1, 'iphone/': 1, 'ipods ': 1, 'ips ': 1, 'ips12la': 1, 'ips277l': 1, 'iq ': 1, 'iq300': 1, 'ir ': 1, 'irbis': 1, 'irda': 1, 'irig ': 1, 'irit ': 1, 'iron ': 1, 'irulu': 1, 'isoroc ': 1, 'isys': 1, 'it ': 1, 'it057 ': 1, 'italia ': 1, 'italiano': 1, 'italy': 1, 'iteria ': 1, 'itr15': 1, 'itunes ': 1, 'iv ': 1, 'ivanka ': 1, 'iwb6105': 1, 'iwub ': 1, 'ix-': 1, 'iкеа': 1, 'j100f': 1, 'j100h/': 1, 'j110i': 1, 'j207': 1, 'j5 ': 1, 'j500': 1, 'jackall ': 1, 'jackson ': 1, 'jacobs': 1, 'jacques ': 1, 'jailbreak': 1, 'jamo ': 1, 'japan': 1, 'japan ': 1, 'java': 1, 'jazz': 1, 'jazz ': 1, 'jazzway': 1, 'jbl': 1, 'jbl ': 1, 'jerseys': 1, 'jetem ': 1, 'jewels': 1, 'jiayu ': 1, 'jikajika': 1, 'jinga ': 1, 'jintai ': 1, 'jm ': 1, 'jmp': 1, 'jo ': 1, 'joby ': 1, 'jockey': 1, 'joe ': 1, 'johnson ': 1, 'jordan ': 1, 'jovial ': 1, 'jp ': 1, 'jr ': 1, 'jrx115': 1, 'js3201j': 1, 'ju ': 1, 'juan': 1, 'juicy ': 1, 'julia ': 1, 'juliet': 1, 'jumper ': 1, 'junior': 1, 'junior ': 1, 'just ': 1, 'jvc ': 1, 'jx-': 1, 'k1014 ': 1, 'k1590': 1, 'k3 ': 1, 'k300i': 1, 'k3e ': 1, 'k50af': 1, 'k70i': 1, 'k770i': 1, 'k850': 1, 'k8708h': 1, 'kacper ': 1, 'kadett': 1, 'kaldo/': 1, 'kaleo': 1, 'kambrook ': 1, 'kango ': 1, 'kaoss ': 1, 'kaplan ': 1, 'kare ': 1, 'karen ': 1, 'karon ': 1, 'karthago ': 1, 'kasper': 1, 'kd-': 1, 'keepall ': 1, 'kemppi ': 1, 'kenda ': 1, 'keneksi': 1, 'kenneth ': 1, 'kent ': 1, 'kenwood ': 1, 'kerama ': 1, 'kerona ': 1, 'keros ': 1, 'kershaw ': 1, 'kettler': 1, 'kevin': 1, 'kfc ': 1, 'kg ': 1, 'kg49 ': 1, 'kia': 1, 'kiabi': 1, 'kicker ': 1, 'kids ': 1, 'kidtracker ': 1, 'kii': 1, 'killzone ': 1, 'kindle ': 1, 'kinect': 1, 'king': 1, 'king ': 1, 'kingdoms ': 1, 'kiswel ': 1, 'kit': 1, 'kitanica ': 1, 'kitchenaid': 1, 'kitchenaid ': 1, 'kitty': 1, 'klein': 1, 'klondike ': 1, 'kmc ': 1, 'knack ': 1, 'knight': 1, 'knight ': 1, 'knights ': 1, 'ko ': 1, 'kolcraft ': 1, 'kombat ': 1, 'kop ': 1, 'kors': 1, 'kors ': 1, 'kougar ': 1, 'krause ': 1, 'kristy': 1, 'krups': 1, 'ksb300': 1, 'ktm ': 1, 'kubcirkonii ': 1, 'kurt ': 1, 'kus-': 1, 'kv29cs60k': 1, 'kv29fx64k ': 1, 'kvc503': 1, 'kw152': 1, 'l10736po-': 1, 'l1530p': 1, 'l1530s ': 1, 'l1715s': 1, 'l1717s': 1, 'l1730s': 1, 'l1750sq': 1, 'l1750sq ': 1, 'l1750u': 1, 'l1752tr': 1, 'l1753s ': 1, 'l192ws': 1, 'l1953s-': 1, 'l2 ': 1, 'l300': 1, 'l54922.': 1, 'l58.': 1, 'l700p': 1, 'l90': 1, 'l925': 1, 'la12c ': 1, 'la670wea-': 1, 'lacoste': 1, 'lacroix': 1, 'lacroix ': 1, 'lady ': 1, 'lafleur ': 1, 'laica': 1, 'lalaloopsy': 1, 'lamp': 1, 'lamp ': 1, 'land ': 1, 'lander': 1, 'landrover ': 1, 'lange': 1, 'lanjinjue': 1, 'lanriz ': 1, 'laptop ': 1, 'larsen': 1, 'laser ': 1, 'late ': 1, 'latte ': 1, 'laurent ': 1, 'lavamat ': 1, 'lavazza': 1, 'layla ': 1, 'lb3210': 1, 'lc-': 1, 'lcd1970nxp': 1, 'lce': 1, 'le ': 1, 'le-': 1, 'leader ': 1, 'league ': 1, 'leak': 1, 'leatherman ': 1, 'leco ': 1, 'leco-': 1, 'led': 1, 'led ': 1, 'led-': 1, 'led/': 1, 'lego ': 1, 'leki ': 1, 'lemans ': 1, 'lemark': 1, 'lennon ': 1, 'lenovo': 1, 'lenovo ': 1, 'lenovoz570': 1, 'lens': 1, 'lentelmxb-': 1, 'leon': 1, 'leon ': 1, 'lesen': 1, 'letv ': 1, 'level ': 1, 'lexicon ': 1, 'lf ': 1, 'lf-': 1, 'lge5 ': 1, 'lgflatron ': 1, 'lgq': 1, 'lhb655 ': 1, 'li ': 1, 'li-': 1, 'lianail ': 1, 'libre': 1, 'lifan ': 1, 'life': 1, 'lifeproof ': 1, 'light': 1, 'lightjockey ': 1, 'lightstar ': 1, 'lignatone': 1, 'lil': 1, 'lime ': 1, 'line ': 1, 'line6 ': 1, 'link': 1, 'link ': 1, 'linkdir-': 1, 'lip': 1, 'little ': 1, 'liu ': 1, 'live': 1, 'live ': 1, 'living': 1, 'living ': 1, 'lladro ': 1, 'lm280 ': 1, 'lnx': 1, 'lock ': 1, 'logan ': 1, 'logic ': 1, 'logicroof ': 1, 'login': 1, 'login ': 1, 'london': 1, 'long ': 1, 'longhi': 1, 'longhi ': 1, 'longneck ': 1, 'looper ': 1, 'lord ': 1, 'lorella ': 1, 'lossless': 1, 'lotos ': 1, 'lotus ': 1, 'louis ': 1, 'louisvuitton ': 1, 'love': 1, 'love ': 1, 'lovin ': 1, 'loving ': 1, 'lowrance ': 1, 'lowrence ': 1, 'lp ': 1, 'lp154w01': 1, 'lp156wf4': 1, 'lp156wh3': 1, 'lpb ': 1, 'lpj ': 1, 'lps ': 1, 'lrf ': 1, 'ls ': 1, 'ls-': 1, 'ls3528': 1, 'ls60840l ': 1, 'lsp-': 1, 'lszh.': 1, 'lt ': 1, 'lt-': 1, 'lt126 ': 1, 'lt25i': 1, 'lt26i': 1, 'lt26w ': 1, 'lt29i': 1, 'ltd ': 1, 'lte/': 1, 'ltn140at04': 1, 'ltn140at20': 1, 'ltn154x3': 1, 'ltn156at17': 1, 'lu-': 1, 'luce ': 1, 'lumia': 1, 'lumia ': 1, 'lumier ': 1, 'luminarc ': 1, 'luminor': 1, 'luminor ': 1, 'lumme ': 1, 'lunu ': 1, 'lupus': 1, 'lusio': 1, 'lux': 1, 'lux ': 1, 'luxe': 1, 'lv412a ': 1, 'lxion ': 1, 'lyte ': 1, 'lка ': 1, 'm07018016-': 1, 'm1080 ': 1, 'm1300 ': 1, 'm131': 1, 'm160 ': 1, 'm17018022-': 1, 'm2 ': 1, 'm20': 1, 'm3-': 1, 'm337': 1, 'm360 ': 1, 'm395': 1, 'm4 ': 1, 'm40u': 1, 'm430': 1, 'm445': 1, 'm4502': 1, 'm4793': 1, 'm4wl ': 1, 'm615': 1, 'm7/': 1, 'm727g': 1, 'm72e ': 1, 'm76r': 1, 'm88-': 1, 'm90': 1, 'ma-': 1, 'ma4.': 1, 'macandrew': 1, 'macbook ': 1, 'maclaren ': 1, 'made ': 1, 'maestro ': 1, 'magic': 1, 'magic ': 1, 'magor': 1, 'maier ': 1, 'main ': 1, 'maintain ': 1, 'maison ': 1, 'major ': 1, 'makita': 1, 'makita ': 1, 'makxmara': 1, 'malaga': 1, 'maman': 1, 'mamaroo ': 1, 'mamas ': 1, 'mambo': 1, 'manfg': 1, 'mans ': 1, 'manuel ': 1, 'many': 1, 'many ': 1, 'manzari': 1, 'marantz ': 1, 'marazzi': 1, 'marcato': 1, 'marcel': 1, 'marianna ': 1, 'marina ': 1, 'marita': 1, 'marita ': 1, 'mark ': 1, 'market ': 1, 'marlins': 1, 'marshall ': 1, 'marta': 1, 'marta ': 1, 'martens': 1, 'martin': 1, 'martin ': 1, 'martinez': 1, 'martinez ': 1, 'marvel': 1, 'maschine ': 1, 'mascot': 1, 'mascotte': 1, 'masculino': 1, 'mashine': 1, 'massager': 1, 'massimo ': 1, 'master': 1, 'master ': 1, 'mastermind ': 1, 'matrix ': 1, 'matte ': 1, 'max ': 1, 'max-': 1, 'maxcity ': 1, 'maxco': 1, 'maxim': 1, 'maxima': 1, 'maxima ': 1, 'maximed ': 1, 'maximum ': 1, 'maxmara': 1, 'maxtone': 1, 'maxtone ': 1, 'maxwatt ': 1, 'maxwell ': 1, 'maxxis ': 1, 'maya ': 1, 'mb-': 1, 'mb12': 1, 'mbtz ': 1, 'mc ': 1, 'mca-': 1, 'mccartney ': 1, 'mci ': 1, 'mco-': 1, 'me ': 1, 'me-': 1, 'me172v': 1, 'me302kl ': 1, 'meat ': 1, 'medela ': 1, 'medeli ': 1, 'mediapad ': 1, 'mediat': 1, 'medicine ': 1, 'medisana ': 1, 'mega': 1, 'mega ': 1, 'megafon ': 1, 'meizu': 1, 'meizu ': 1, 'melana': 1, 'melinda ': 1, 'memo ': 1, 'memorex ': 1, 'memory ': 1, 'men ': 1, 'men\"': 1, 'mercedes': 1, 'merida': 1, 'merino ': 1, 'merrell': 1, 'mersedes': 1, 'mersedes-': 1, 'mes1010': 1, 'mesh ': 1, 'messages ': 1, 'meta ': 1, 'metabo ': 1, 'metal': 1, 'metropolis ': 1, 'mf-': 1, 'mf841ru/': 1, 'mg ': 1, 'mg-': 1, 'mg1 ': 1, 'mg102c': 1, 'mg15cf': 1, 'mg30cfx': 1, 'mg82cx': 1, 'mgn ': 1, 'mgz': 1, 'mh75b': 1, 'mh77b': 1, 'mhil503-': 1, 'mhz': 1, 'mhz/': 1, 'mi ': 1, 'mi3 ': 1, 'mi4': 1, 'mi4 ': 1, 'mi4c ': 1, 'mia ': 1, 'miband ': 1, 'michel ': 1, 'michelle ': 1, 'micro': 1, 'micro ': 1, 'micro-': 1, 'microlab': 1, 'microlab ': 1, 'microlife ': 1, 'micromax ': 1, 'microshift ': 1, 'microsoft ': 1, 'micuna ': 1, 'mid': 1, 'mid ': 1, 'miele ': 1, 'mighty ': 1, 'migliore': 1, 'mii': 1, 'mikado ': 1, 'mikhael ': 1, 'mikhail ': 1, 'mikro': 1, 'mikro ': 1, 'mikrotik': 1, 'mikrotik ': 1, 'mil-': 1, 'military': 1, 'milk ': 1, 'mille': 1, 'millen': 1, 'milwaukee ': 1, 'minelab ': 1, 'mini': 1, 'mini ': 1, 'mini2 ': 1, 'mini4 ': 1, 'minizhu ': 1, 'minnie': 1, 'minnow ': 1, 'mint': 1, 'miracle': 1, 'mirage ': 1, 'mirron': 1, 'mistery': 1, 'mix ': 1, 'mixcopter ': 1, 'mixline ': 1, 'mixtrack ': 1, 'mj1tbr': 1, 'mk ': 1, 'mk-': 1, 'mk3': 1, 'mkm6003': 1, 'ml ': 1, 'mm ': 1, 'mm1040': 1, 'mma-': 1, 'mms ': 1, 'mms/': 1, 'mobile ': 1, 'model ': 1, 'modem ': 1, 'modula ': 1, 'mofi ': 1, 'monaco': 1, 'monarch': 1, 'moniliforme ': 1, 'monitor': 1, 'monitor ': 1, 'monplay': 1, 'montana ': 1, 'montefiore ': 1, 'moon ': 1, 'mora ': 1, 'mortal ': 1, 'mosa ': 1, 'moscow ': 1, 'moses': 1, 'moss': 1, 'motel': 1, 'mother ': 1, 'motive ': 1, 'moto ': 1, 'motorola ': 1, 'moulinex ': 1, 'mount ': 1, 'mountain ': 1, 'move': 1, 'move ': 1, 'moxa ': 1, 'mp ': 1, 'mp830': 1, 'mpd ': 1, 'ms ': 1, 'ms300': 1, 'ms802m': 1, 'ms960': 1, 'msg ': 1, 'msi ': 1, 'msp5 ': 1, 'msv-': 1, 'mt ': 1, 'mt27i ': 1, 'mt34b': 1, 'mt34l': 1, 'mt91': 1, 'mtb': 1, 'mtp-': 1, 'mts-': 1, 'mtx': 1, 'mtx ': 1, 'mtx29 ': 1, 'mu ': 1, 'mu-': 1, 'mu0404': 1, 'multi-': 1, 'multical ': 1, 'multideck ': 1, 'multipad ': 1, 'multiphone ': 1, 'multisync ': 1, 'multypad ': 1, 'muong ': 1, 'musician ': 1, 'musicman ': 1, 'musonik': 1, 'mutsy ': 1, 'muzi': 1, 'mw ': 1, 'mw-': 1, 'mw663': 1, 'mx-': 1, 'mx2 ': 1, 'mx3 ': 1, 'mx4 ': 1, 'mx660p': 1, 'mya': 1, 'mymantra': 1, 'mystery ': 1, 'n03ru': 1, 'n10e': 1, 'n10p': 1, 'n11': 1, 'n12': 1, 'n12u': 1, 'n13': 1, 'n150 ': 1, 'n16-': 1, 'n18': 1, 'n21': 1, 'n21а': 1, 'n2810': 1, 'n290er': 1, 'n310': 1, 'n350 ': 1, 'n385': 1, 'n389': 1, 'n41': 1, 'n427': 1, 'n48': 1, 'n52': 1, 'n53n': 1, 'n594': 1, 'n6-': 1, 'n600': 1, 'n601rt ': 1, 'n61': 1, 'n67-': 1, 'n70': 1, 'n7100 ': 1, 'n73': 1, 'n730': 1, 'n73sv': 1, 'n8000': 1, 'n8000 ': 1, 'n803': 1, 'n9 ': 1, 'n900': 1, 'n95': 1, 'n95 ': 1, 'n956': 1, 'naf': 1, 'naf ': 1, 'naida ': 1, 'nan ': 1, 'nan1 ': 1, 'nancy ': 1, 'nando ': 1, 'nano ': 1, 'nanoplus': 1, 'nanostation ': 1, 'nardin': 1, 'nardin ': 1, 'nary': 1, 'nas ': 1, 'nasonpearl': 1, 'nat': 1, 'natal': 1, 'nateks ': 1, 'native ': 1, 'nato ': 1, 'nautico ': 1, 'nautilus ': 1, 'nav50': 1, 'navien ': 1, 'navigator ': 1, 'navington ': 1, 'navitimer': 1, 'nayada': 1, 'nb5540': 1, 'ncch-': 1, 'ne ': 1, 'ne-': 1, 'neat ': 1, 'nec': 1, 'nec ': 1, 'neck ': 1, 'neicha ': 1, 'neo': 1, 'neo ': 1, 'neomid ': 1, 'neptun': 1, 'nerf': 1, 'nerf ': 1, 'nescaf ': 1, 'nescar ': 1, 'nespresso': 1, 'nespresso ': 1, 'nest ': 1, 'net ': 1, 'nettop ': 1, 'networks ': 1, 'neverland': 1, 'new': 1, 'new ': 1, 'newform ': 1, 'nexave ': 1, 'next': 1, 'next ': 1, 'nextorch ': 1, 'nexus': 1, 'nexus ': 1, 'nfender ': 1, 'nfs': 1, 'nfs ': 1, 'nhl ': 1, 'nia/': 1, 'nice': 1, 'nicolla ': 1, 'nike': 1, 'nike ': 1, 'nillkin': 1, 'nissan ': 1, 'nitto ': 1, 'nm-': 1, 'nmt450': 1, 'nokia': 1, 'nordway': 1, 'nordway ': 1, 'norfin': 1, 'norfin ': 1, 'not ': 1, 'note ': 1, 'note-': 1, 'note2': 1, 'notebook ': 1, 'nova': 1, 'nova ': 1, 'nozomi ': 1, 'np-': 1, 'nport-': 1, 'ns-': 1, 'ns50 ': 1, 'nu6000dsp': 1, 'nuby ': 1, 'nuc ': 1, 'nuga ': 1, 'nuk': 1, 'numark ': 1, 'nuq-': 1, 'nus ': 1, 'nutrilak ': 1, 'nutrilon ': 1, 'nux ': 1, 'nvidia ': 1, 'nw/': 1, 'o0920 ': 1, 'oak': 1, 'oasis ': 1, 'ocean': 1, 'octalink ': 1, 'oculus ': 1, 'odeon': 1, 'odyssey ': 1, 'of ': 1, 'off-': 1, 'og ': 1, 'oggi': 1, 'okuma ': 1, 'olimpia': 1, 'omax ': 1, 'omega': 1, 'omega ': 1, 'omni ': 1, 'omo ': 1, 'onbeat ': 1, 'onc': 1, 'one': 1, 'one.': 1, 'oneplus ': 1, 'only ': 1, 'open ': 1, 'opera': 1, 'opi ': 1, 'opium ': 1, 'ops ': 1, 'optima ': 1, 'optipro': 1, 'orange': 1, 'orange ': 1, 'oras ': 1, 'oregon ': 1, 'organic': 1, 'origami ': 1, 'original': 1, 'originals': 1, 'orion': 1, 'orion ': 1, 'orlett': 1, 'ornament ': 1, 'oro ': 1, 'orto': 1, 'oso ': 1, 'ostin ': 1, 'other ': 1, 'otiplex ': 1, 'ouaps': 1, 'oukitel': 1, 'overdrive ': 1, 'oxelo': 1, 'oxford': 1, 'oxygen ': 1, 'oysters': 1, 'oysters ': 1, 'p1000': 1, 'p1728': 1, 'p19vrn': 1, 'p200-': 1, 'p21 ': 1, 'p2250': 1, 'p3100': 1, 'p3s ': 1, 'p5100 ': 1, 'p5100-': 1, 'p5200': 1, 'p550 ': 1, 'p5700-': 1, 'p5b-': 1, 'p6 ': 1, 'p604 ': 1, 'p7000 ': 1, 'p8000 ': 1, 'pacifica ': 1, 'pacifica-': 1, 'pack ': 1, 'packard ': 1, 'pacrard': 1, 'pad ': 1, 'paf': 1, 'pag ': 1, 'palacio ': 1, 'palazzo ': 1, 'palladium': 1, 'pampers ': 1, 'panasonic ': 1, 'panasonik ': 1, 'pandora': 1, 'pandora ': 1, 'panerai': 1, 'panerai ': 1, 'panzerkampfwagen ': 1, 'paolo ': 1, 'pap4055duo ': 1, 'papaloni': 1, 'papas ': 1, 'pappa': 1, 'pappa ': 1, 'paragon': 1, 'parati ': 1, 'paris': 1, 'paris ': 1, 'pariya ': 1, 'park': 1, 'park ': 1, 'parrot ': 1, 'part71': 1, 'pascal ': 1, 'paso ': 1, 'patek ': 1, 'paterra ': 1, 'paters': 1, 'paul ': 1, 'pauline': 1, 'pavilion': 1, 'pavilion ': 1, 'pb1000': 1, 'pb600': 1, 'pc870 ': 1, 'pch ': 1, 'pci-': 1, 'pcmcia ': 1, 'pd-': 1, 'pe ': 1, 'peavey': 1, 'pedophile ': 1, 'peg ': 1, 'pegas ': 1, 'pegperego': 1, 'peli ': 1, 'penguins ': 1, 'pennia ': 1, 'pentium ': 1, 'perception ': 1, 'perego': 1, 'perego ': 1, 'perfect ': 1, 'perfomanc': 1, 'perpetual ': 1, 'perroti': 1, 'pertpipe': 1, 'peru ': 1, 'peston ': 1, 'petzl ': 1, 'pg58': 1, 'phb0713al': 1, 'phenix ': 1, 'phenom ': 1, 'philippe': 1, 'philips': 1, 'philips ': 1, 'phillips ': 1, 'phoenix': 1, 'phone': 1, 'phone ': 1, 'phoria': 1, 'photobook ': 1, 'photoshop': 1, 'php ': 1, 'phrasal ': 1, 'phuket ': 1, 'piece ': 1, 'pill': 1, 'pill ': 1, 'pink': 1, 'pinspot ': 1, 'pinza ': 1, 'pioneer ': 1, 'pittsburgh ': 1, 'pituso': 1, 'pixma ': 1, 'pla': 1, 'planet': 1, 'planet ': 1, 'plane² ': 1, 'plants ': 1, 'plastinina': 1, 'platron': 1, 'play': 1, 'play ': 1, 'playstaion ': 1, 'playstation': 1, 'playstation ': 1, 'playstation3 ': 1, 'pleasure': 1, 'pliko': 1, 'pll ': 1, 'plr ': 1, 'plus ': 1, 'plush ': 1, 'pmc0350ad': 1, 'pmc0531ad': 1, 'pnb': 1, 'pobling ': 1, 'podium ': 1, 'poe': 1, 'poe ': 1, 'pof ': 1, 'point ': 1, 'poivre ': 1, 'pokemon ': 1, 'polar ': 1, 'polaris ': 1, 'polaris-': 1, 'police': 1, 'politic': 1, 'politics ': 1, 'poljot ': 1, 'polly': 1, 'polly ': 1, 'poni ': 1, 'pool ': 1, 'porcelanite ': 1, 'porche ': 1, 'port ': 1, 'porta ': 1, 'portable ': 1, 'posner ': 1, 'potti ': 1, 'powercom ': 1, 'powerjet ': 1, 'powerline ': 1, 'pp29l': 1, 'ppc ': 1, 'ppl800a': 1, 'pr360': 1, 'pr55vt60 ': 1, 'prada': 1, 'prada ': 1, 'prado ': 1, 'prampol': 1, 'pre-': 1, 'premature': 1, 'premier ': 1, 'premium': 1, 'premium ': 1, 'prestigio': 1, 'pretty': 1, 'prf ': 1, 'price': 1, 'price ': 1, 'pride ': 1, 'priests ': 1, 'prima': 1, 'prima ': 1, 'primacolore ': 1, 'primark': 1, 'prime': 1, 'prime ': 1, 'primo': 1, 'princeton': 1, 'princia ': 1, 'print ': 1, 'pris': 1, 'pro ': 1, 'processor ': 1, 'profession ': 1, 'profil ': 1, 'proform ': 1, 'project ': 1, 'projector ': 1, 'proliant ': 1, 'promax ': 1, 'promix': 1, 'promod': 1, 'props': 1, 'prorab ': 1, 'prorek': 1, 'protherm ': 1, 'prrh26-': 1, 'ps/': 1, 'ps2 ': 1, 'ps3': 1, 'ps3 ': 1, 'ps4': 1, 'ps4 ': 1, 'ps50c430a1wxru': 1, 'pseudopectinatus ': 1, 'psr ': 1, 'psvita ': 1, 'pt-': 1, 'ptyb3 ': 1, 'pu ': 1, 'pullbear': 1, 'puls64gb': 1, 'pulsar ': 1, 'pulse': 1, 'pulse ': 1, 'puppy ': 1, 'purple': 1, 'push': 1, 'pyc ': 1, 'q10': 1, 'q180': 1, 'q1b-': 1, 'q21': 1, 'q2754': 1, 'q392': 1, 'q415 ': 1, 'q50': 1, 'q8455m ': 1, 'q9c4': 1, 'qd154': 1, 'qnap ': 1, 'qold ': 1, 'qosmio ': 1, 'qq ': 1, 'qr/': 1, 'qsc': 1, 'qso ': 1, 'qu-': 1, 'quad-': 1, 'quarter ': 1, 'quartz ': 1, 'quarz': 1, 'quba ': 1, 'quick ': 1, 'qumo ': 1, 'r26le8k': 1, 'r2800': 1, 'r304sb-': 1, 'r50-': 1, 'r52': 1, 'r530 ': 1, 'r55c3': 1, 'r720': 1, 'r800': 1, 'r9852': 1, 'race ': 1, 'raceking ': 1, 'racer ': 1, 'racing ': 1, 'radical ': 1, 'radiotehnika ': 1, 'rado ': 1, 'rag-': 1, 'rage': 1, 'raider ': 1, 'rain ': 1, 'raizer ': 1, 'ralph ': 1, 'ramos ': 1, 'rapala': 1, 'rashid ': 1, 'ray ': 1, 'ray4bk/': 1, 'rayman ': 1, 'raze ': 1, 'rbk': 1, 'rbx170': 1, 'rc11': 1, 'rc9g9ru': 1, 'rch-': 1, 'rd ': 1, 'rds': 1, 're ': 1, 'reaction': 1, 'reading ': 1, 'rear': 1, 'rear ': 1, 'rebq': 1, 'red': 1, 'red ': 1, 'red/': 1, 'redber ': 1, 'redme ': 1, 'redmi ': 1, 'redmond ': 1, 'redstop ': 1, 'redverg': 1, 'reebok': 1, 'reebok ': 1, 'reef ': 1, 'reference ': 1, 'regale': 1, 'rehau': 1, 'reindeer': 1, 'reissue': 1, 'relogio ': 1, 'remax': 1, 'remover ': 1, 'renta': 1, 'replux ': 1, 'republic': 1, 'resident ': 1, 'resist': 1, 'resonator': 1, 'respect ': 1, 'retina': 1, 'retina ': 1, 'retro ': 1, 'rev': 1, 'rev ': 1, 'reverb': 1, 'revolution ': 1, 'rex ': 1, 'rezerved': 1, 'rf-': 1, 'rfr ': 1, 'rg7321': 1, 'rgb': 1, 'rgb ': 1, 'rh2551': 1, 'rho-': 1, 'ria ': 1, 'rich': 1, 'richard ': 1, 'rick ': 1, 'rieker': 1, 'rieker ': 1, 'rift ': 1, 'riho ': 1, 'riko ': 1, 'rimless ': 1, 'rinascimento': 1, 'rinasimento': 1, 'riper': 1, 'riri': 1, 'ritmix': 1, 'ritmix ': 1, 'riva ': 1, 'riviera ': 1, 'rizer ': 1, 'rj ': 1, 'rk-': 1, 'rk1h301/': 1, 'rk3188': 1, 'rmc-': 1, 'rmc02': 1, 'rmp-': 1, 'rms': 1, 'ro-': 1, 'road ': 1, 'roadie ': 1, 'roces': 1, 'roces ': 1, 'rock': 1, 'rock ': 1, 'rockdale ': 1, 'rocksmith ': 1, 'rocktron ': 1, 'roland ': 1, 'rolex': 1, 'rolex ': 1, 'roli ': 1, 'rolling ': 1, 'rolsen ': 1, 'rolson': 1, 'romance ': 1, 'romanson': 1, 'romax ': 1, 'rome ': 1, 'ronin ': 1, 'root ': 1, 'rose ': 1, 'rossignol ': 1, 'rossinka': 1, 'rostok ': 1, 'router': 1, 'routerboard ': 1, 'rover': 1, 'roverpad ': 1, 'row ': 1, 'rowenta': 1, 'rowenta ': 1, 'roxy': 1, 'royal ': 1, 'royal-': 1, 'rq ': 1, 'rq1155/': 1, 'rreff ': 1, 'rs-': 1, 'rs41': 1, 'rst ': 1, 'rsx115 ': 1, 'rt-': 1, 'rubin ': 1, 'ruble ': 1, 'ruby': 1, 'rudbeckia ': 1, 'ruggear': 1, 'ruler ': 1, 'rumble ': 1, 'run': 1, 'runco ': 1, 'russtone': 1, 'rv-': 1, 'rv511': 1, 'rv515': 1, 'rv725av': 1, 'rw ': 1, 'rw/': 1, 'rx10': 1, 'rx1270': 1, 'rx32le8': 1, 'ryobi ': 1, 'rz ': 1, 'rzs ': 1, 'rс ': 1, 's02 ': 1, 's10': 1, 's10-': 1, 's105 ': 1, 's110gd-': 1, 's19b220b': 1, 's19b300': 1, 's19c150 ': 1, 's202 ': 1, 's20a300b': 1, 's210 ': 1, 's24/': 1, 's24050 ': 1, 's24d391hl ': 1, 's3 ': 1, 's300 ': 1, 's3000': 1, 's4 ': 1, 's4008 ': 1, 's4416nk.': 1, 's451': 1, 's500': 1, 's5002': 1, 's5230 ': 1, 's5230w': 1, 's5380d': 1, 's5611': 1, 's5830': 1, 's5mini': 1, 's7 ': 1, 's720 ': 1, 's80/': 1, 's800': 1, 's90': 1, 's90-': 1, 's960 ': 1, 'sa-': 1, 'sable ': 1, 'sabo': 1, 'saeco ': 1, 'saffire ': 1, 'sagu': 1, 'saints ': 1, 'saitek ': 1, 'sakae/': 1, 'salming': 1, 'salming ': 1, 'salmo ': 1, 'salmon ': 1, 'salon ': 1, 'sam ': 1, 'sameung ': 1, 'samick': 1, 'samson ': 1, 'samsund ': 1, 'samsung': 1, 'samsung ': 1, 'samsunggalaxy ': 1, 'samsungsyncmaster ': 1, 'samurai': 1, 'sanchi ': 1, 'sanction ': 1, 'sanibel ': 1, 'sanita': 1, 'sansevieria ': 1, 'santek': 1, 'sanyo ': 1, 'sap': 1, 'sapphire ': 1, 'sargan ': 1, 'sasaki ': 1, 'sat ': 1, 'sata': 1, 'satellite ': 1, 'satin': 1, 'satin ': 1, 'satori ': 1, 'saturn ': 1, 'sb ': 1, 'sb-': 1, 'sbe ': 1, 'sc-': 1, 'scale': 1, 'scanning ': 1, 'scarlett': 1, 'scarlett ': 1, 'scenicview ': 1, 'scf': 1, 'scf330/': 1, 'scf332': 1, 'scf332/': 1, 'scf870/': 1, 'schalkau': 1, 'schecter': 1, 'schecter ': 1, 'scholar ': 1, 'scholl': 1, 'scholl ': 1, 'scooter': 1, 'scorpion': 1, 'scott ': 1, 'scream': 1, 'sculpey': 1, 'sculptor': 1, 'sculpture ': 1, 'sd66': 1, 'sdm-': 1, 'sdr17': 1, 'sds': 1, 'seaboard ': 1, 'secoh ': 1, 'second ': 1, 'secret': 1, 'sectional ': 1, 'see ': 1, 'seg ': 1, 'sega ': 1, 'segway': 1, 'seiko ': 1, 'selfie': 1, 'selfridge': 1, 'selle ': 1, 'selma ': 1, 'sense ': 1, 'sensotouch ': 1, 'serato ': 1, 'series': 1, 'series ': 1, 'ses': 1, 'seymour ': 1, 'sf ': 1, 'sf13 ': 1, 'sfc': 1, 'sfr ': 1, 'sg ': 1, 'sga20 ': 1, 'sgr ': 1, 'sh-': 1, 'sh265': 1, 'shadow ': 1, 'shadows': 1, 'shaft-': 1, 'shaggy ': 1, 'shaper': 1, 'shark ': 1, 'sharp ': 1, 'sheff': 1, 'shell': 1, 'shellcase ': 1, 'shield': 1, 'shifters': 1, 'shimano': 1, 'shimano ': 1, 'shinglas ': 1, 'shining': 1, 'shirahoshi': 1, 'shivaki-': 1, 'shk ': 1, 'shock': 1, 'shock ': 1, 'shooter ': 1, 'short ': 1, 'shot': 1, 'showmax': 1, 'shox ': 1, 'shunt': 1, 'shure ': 1, 'shy ': 1, 'si ': 1, 'siemens ': 1, 'siena': 1, 'sigelei ': 1, 'sigma ': 1, 'sign': 1, 'siiii ': 1, 'silhouette': 1, 'silicone ': 1, 'silk-': 1, 'silver ': 1, 'silver/': 1, 'sim ': 1, 'sim-': 1, 'similac ': 1, 'simple ': 1, 'simplicity': 1, 'sin ': 1, 'sinbo': 1, 'sinbo ': 1, 'sincmaster ': 1, 'singer': 1, 'sipo': 1, 'sippi ': 1, 'sirius ': 1, 'sirocco': 1, 'sirocco ': 1, 'sisi ': 1, 'sitka ': 1, 'sity ': 1, 'sk ': 1, 'ska-': 1, 'skagen ': 1, 'skar ': 1, 'ski ': 1, 'skiff ': 1, 'skill ': 1, 'skm ': 1, 'skmei ': 1, 'skruer': 1, 'sky': 1, 'sky-': 1, 'skyline ': 1, 'skymec ': 1, 'skyrim': 1, 'sl ': 1, 'sl-': 1, 'sl41': 1, 'slant ': 1, 'slaro ': 1, 'sleeping ': 1, 'slide': 1, 'slider': 1, 'slim': 1, 'slim ': 1, 'slx ': 1, 'sm ': 1, 'sm-': 1, 'sm2 ': 1, 'sm58 ': 1, 'smart': 1, 'smart ': 1, 'smarthead ': 1, 'smarti ': 1, 'smartphone ': 1, 'smartwatch': 1, 'smc2bm': 1, 'smd3528 ': 1, 'smd5050': 1, 'smd5050 ': 1, 'smf01pgeu': 1, 'smile': 1, 'smile ': 1, 'smlm ': 1, 'smooth': 1, 'smv50m50': 1, 'snack ': 1, 'snap ': 1, 'snatch ': 1, 'snell ': 1, 'snock': 1, 'snowboard': 1, 'snugli ': 1, 'snzf22j1': 1, 'socket ': 1, 'socks ': 1, 'soft ': 1, 'soiakio': 1, 'sokolov ': 1, 'sola': 1, 'sola ': 1, 'solano/': 1, 'solaris': 1, 'solid ': 1, 'solo': 1, 'solo-': 1, 'sololift ': 1, 'sololift2 ': 1, 'son': 1, 'soni': 1, 'soni ': 1, 'sonic': 1, 'sonic ': 1, 'sonico': 1, 'sony ': 1, 'sonyplaystation ': 1, 'sorrento ': 1, 'souls': 1, 'souls ': 1, 'sound': 1, 'soundking': 1, 'south ': 1, 'sp ': 1, 'sp-': 1, 'sp42': 1, 'sp650s': 1, 'spa ': 1, 'spa8000-': 1, 'space ': 1, 'spark': 1, 'spd ': 1, 'speaker ': 1, 'specia': 1, 'special': 1, 'specialized': 1, 'speed': 1, 'speedmaster ': 1, 'speedy': 1, 'spheraflex ': 1, 'spider-': 1, 'spine ': 1, 'spinning ': 1, 'spirit ': 1, 'spk-': 1, 'splinter ': 1, 'sponte ': 1, 'sport': 1, 'sportcontact ': 1, 'sportline': 1, 'sports': 1, 'sports ': 1, 'spotlight ': 1, 'sprint ': 1, 'sprinter ': 1, 'sps ': 1, 'spyke ': 1, 'squier ': 1, 'sr18': 1, 'sram ': 1, 'srs-': 1, 'ss ': 1, 'ss001-': 1, 'ss5050': 1, 'ssa-': 1, 'ssa271j1': 1, 'ssd': 1, 'st ': 1, 'st-': 1, 'st21': 1, 'st21i': 1, 'st25i': 1, 'sta ': 1, 'stabilo ': 1, 'stacked': 1, 'stadler ': 1, 'stage ': 1, 'stagg ': 1, 'stand': 1, 'stand ': 1, 'standard ': 1, 'standart ': 1, 'star': 1, 'star ': 1, 'starlite': 1, 'starlite ': 1, 'start': 1, 'start ': 1, 'station ': 1, 'statue': 1, 'stay ': 1, 'stayer ': 1, 'stc ': 1, 'steam ': 1, 'steel ': 1, 'stein': 1, 'stella': 1, 'stella ': 1, 'stendor ': 1, 'stephen ': 1, 'sterling ': 1, 'stern': 1, 'sth-': 1, 'stihl ': 1, 'stingray': 1, 'stingray ': 1, 'stokke ': 1, 'stories ': 1, 'stormfront': 1, 'stradivarius': 1, 'strap': 1, 'stratocaster': 1, 'stratos ': 1, 'street': 1, 'street ': 1, 'stripe': 1, 'stripped ': 1, 'strong ': 1, 'structure': 1, 'stud ': 1, 'student\"': 1, 'studio ': 1, 'studiophile ': 1, 'style ': 1, 'stylus ': 1, 'sub ': 1, 'submarine': 1, 'submersible': 1, 'sugar': 1, 'suite ': 1, 'summer ': 1, 'sumsung ': 1, 'sun': 1, 'sun ': 1, 'sunburst': 1, 'sunlight': 1, 'sunlight ': 1, 'sunlite ': 1, 'sunringe ': 1, 'sunringle ': 1, 'supadance ': 1, 'super ': 1, 'superslim ': 1, 'supertooth ': 1, 'supra': 1, 'supra ': 1, 'supreme': 1, 'supreme ': 1, 'suprim ': 1, 'surfer ': 1, 'surpa ': 1, 'survival ': 1, 'sven': 1, 'sven ': 1, 'sven-': 1, 'sw ': 1, 'sw150': 1, 'swarovski': 1, 'swat': 1, 'swatch': 1, 'swc': 1, 'sweetpeace': 1, 'swift ': 1, 'swing': 1, 'swiss ': 1, 'switch': 1, 'swix ': 1, 'sx011t': 1, 'sx1 ': 1, 'sxt ': 1, 'sylvanian ': 1, 'syma ': 1, 'symphony ': 1, 'syncmasater ': 1, 'syncmaster ': 1, 'system ': 1, 't100 ': 1, 't100tal ': 1, 't2 ': 1, 't231': 1, 't250i': 1, 't310': 1, 't60': 1, 't650': 1, 'ta2': 1, 'tab ': 1, 'tab2': 1, 'tab3 ': 1, 'tab4 ': 1, 'table': 1, 'tabletop ': 1, 'tacx ': 1, 'tail ': 1, 'tako ': 1, 'talk ': 1, 'talus': 1, 'tangle ': 1, 'tape ': 1, 'tarket': 1, 'tarkett ': 1, 'tas1254': 1, 'tascam ': 1, 'tassimo': 1, 'tassimo ': 1, 'tasty ': 1, 'tavitta': 1, 'tbs-': 1, 'tc ': 1, 'tc3008': 1, 'tc96': 1, 'tca ': 1, 'td ': 1, 'td-': 1, 'tdd-': 1, 'te ': 1, 'te11 ': 1, 'team': 1, 'team ': 1, 'tec ': 1, 'tech ': 1, 'technic ': 1, 'techno': 1, 'techno ': 1, 'technologies ': 1, 'techwell': 1, 'teclast ': 1, 'tecnica ': 1, 'teezer ': 1, 'tefal ': 1, 'telecaster ': 1, 'tenson ': 1, 'terra': 1, 'terra ': 1, 'tes ': 1, 'tesla': 1, 'tesla ': 1, 'teutonia ': 1, 'tew-': 1, 'tew432pi ': 1, 'texet': 1, 'texet ': 1, 'text ': 1, 'tezenis': 1, 'tf ': 1, 'tf101 ': 1, 'tf103cg': 1, 'tf3-': 1, 'tf300t': 1, 'th-': 1, 'thanh ': 1, 'the': 1, 'theevilwithin': 1, 'therapy': 1, 'therm-': 1, 'thermex ': 1, 'thermicsole ': 1, 'thermovision': 1, 'thetford ': 1, 'thf-': 1, 'thinkpad ': 1, 'thor': 1, 'thrash ': 1, 'three': 1, 'thule ': 1, 'tichonova': 1, 'tiffany ': 1, 'timberland': 1, 'timberland ': 1, 'time ': 1, 'timson ': 1, 'tiny ': 1, 'tipo': 1, 'tippee': 1, 'tissot': 1, 'tissot ': 1, 'titanium ': 1, 'titis ': 1, 'tj ': 1, 'tka-': 1, 'tl ': 1, 'tl-': 1, 'tlc ': 1, 'tlevstcln': 1, 'tlo ': 1, 'tmh18': 1, 'tml ': 1, 'tn ': 1, 'to ': 1, 'toefl ': 1, 'togas': 1, 'tokio ': 1, 'toll': 1, 'tolomeo ': 1, 'tomb ': 1, 'tommee ': 1, 'tomy': 1, 'tondo ': 1, 'tone': 1, 'tone ': 1, 'tonelab ': 1, 'tonelli': 1, 'tony ': 1, 'tool': 1, 'tool ': 1, 'top': 1, 'top ': 1, 'top-': 1, 'topas ': 1, 'topaz ': 1, 'topeak ': 1, 'topline ': 1, 'topshop': 1, 'toralei ': 1, 'torneo ': 1, 'total ': 1, 'totolink ': 1, 'touch ': 1, 'touchstone ': 1, 'tourister ': 1, 'tourney': 1, 'toute ': 1, 'tower': 1, 'tozzi': 1, 'tq79': 1, 'tr ': 1, 'tr005': 1, 'track ': 1, 'trade': 1, 'traktor': 1, 'traktor ': 1, 'transformer': 1, 'transformer ': 1, 'transgression ': 1, 'transparent ': 1, 'travelmate ': 1, 'tremolo': 1, 'trend ': 1, 'trendnet': 1, 'trendnet ': 1, 'treviso ': 1, 'trial': 1, 'tribal ': 1, 'tricone ': 1, 'trilogy ': 1, 'trinitron': 1, 'trinitron ': 1, 'trio ': 1, 'trio-': 1, 'trip': 1, 'trophy': 1, 'trophy ': 1, 'trump': 1, 'trustfire': 1, 'ts ': 1, 'ts-': 1, 'tsunami ': 1, 'tt0n002d': 1, 'tt40-': 1, 'tti': 1, 'tube-': 1, 'tubular ': 1, 'tundra ': 1, 'tupperware': 1, 'turbo ': 1, 'turbosound ': 1, 'turis ': 1, 'turismo ': 1, 'turtles ': 1, 'tutis ': 1, 'tv ': 1, 'tw-': 1, 'tw9200': 1, 'twister': 1, 'twyford ': 1, 'tx ': 1, 'tx-': 1, 'tx22 ': 1, 'txt ': 1, 'typ ': 1, 'type ': 1, 'tyvek ': 1, 'u7x ': 1, 'u80': 1, 'ubiquiti ': 1, 'ue32eh5000': 1, 'ue40d5000pw': 1, 'ue40eh5007k': 1, 'ue46d5500rw': 1, 'uefa ': 1, 'ufo': 1, 'ugg ': 1, 'uj8c0 ': 1, 'ulefone ': 1, 'ultra': 1, 'ultra ': 1, 'ultrafit': 1, 'ultraslim ': 1, 'ultrasling ': 1, 'ultratech ': 1, 'ultraviolet': 1, 'ulu11': 1, 'ulysse ': 1, 'um1-': 1, 'umc204': 1, 'un ': 1, 'un55': 1, 'un96-': 1, 'unc': 1, 'unc ': 1, 'uncharted': 1, 'uncharted ': 1, 'uni': 1, 'uni-': 1, 'uniqlo': 1, 'united ': 1, 'unity': 1, 'unity ': 1, 'universal': 1, 'unlimited ': 1, 'uno ': 1, 'until ': 1, 'up3': 1, 'upper-': 1, 'ups-': 1, 'upsd ': 1, 'urbanrider': 1, 'usa ': 1, 'usb': 1, 'usb-': 1, 'usd ': 1, 'usm ': 1, 'uv ': 1, 'uwatch ': 1, 'uwear': 1, 'v173 ': 1, 'v19 ': 1, 'v193hq': 1, 'v1b': 1, 'v580': 1, 'v7 ': 1, 'v9 ': 1, 'va ': 1, 'vaio': 1, 'valentine ': 1, 'valentino ': 1, 'vandevorst': 1, 'vans': 1, 'vape': 1, 'vapor ': 1, 'vario ': 1, 'varsovia': 1, 'vb47e': 1, 'vcbg10z ': 1, 'vci-': 1, 'vd400 ': 1, 'vdo ': 1, 've500': 1, 'vee ': 1, 'vega ': 1, 'vegum ': 1, 'velo ': 1, 'veloce ': 1, 'venoteks': 1, 'veralinga ': 1, 'verbs': 1, 'verdi ': 1, 'veribor': 1, 'versace': 1, 'versailess ': 1, 'verse': 1, 'version ': 1, 'vertex': 1, 'vestax ': 1, 'vestel': 1, 'vestfrost ': 1, 'vfem ': 1, 'vg1921 ': 1, 'vga': 1, 'vh ': 1, 'vi3000': 1, 'vibr': 1, 'vibration ': 1, 'vibrax ': 1, 'vibroskin ': 1, 'viceroy': 1, 'vichini': 1, 'vici': 1, 'victoria\"': 1, 'video ': 1, 'view ': 1, 'viewsonic': 1, 'viewsonic ': 1, 'viewsonicva703m': 1, 'villa': 1, 'villa ': 1, 'vinca ': 1, 'vindicator ': 1, 'vintage': 1, 'vintage ': 1, 'vintage812022': 1, 'vinyl ': 1, 'violet ': 1, 'vip ': 1, 'viper ': 1, 'visaton ': 1, 'visconte': 1, 'vita ': 1, 'vitacci ': 1, 'vitesse': 1, 'vito ': 1, 'vitre': 1, 'vittoria': 1, 'vittoria ': 1, 'viva ': 1, 'vl-': 1, 'vmax135xwv2': 1, 'vocabulary': 1, 'vocal': 1, 'voicecom ': 1, 'voip ': 1, 'voltex': 1, 'voodu ': 1, 'vpc-': 1, 'vps ': 1, 'vr ': 1, 'vrb-': 1, 'vrx': 1, 'vs ': 1, 'vs-': 1, 'vs248h ': 1, 'vsi ': 1, 'vt.': 1, 'vtech': 1, 'vuitton ': 1, 'vw-': 1, 'vw2245': 1, 'vx2235wm': 1, 'w13 ': 1, 'w1934s-': 1, 'w1942se': 1, 'w1942se ': 1, 'w1943c': 1, 'w1943cv': 1, 'w200i': 1, 'w21 ': 1, 'w2234s ': 1, 'w2243s': 1, 'w254 ': 1, 'w38 ': 1, 'w4 ': 1, 'w5472': 1, 'w6610 ': 1, 'w666': 1, 'w701': 1, 'w732': 1, 'w7712 ': 1, 'w8 ': 1, 'w8961nd': 1, 'w900i': 1, 'wa901nd': 1, 'waist ': 1, 'walk ': 1, 'walker': 1, 'wall ': 1, 'wallet': 1, 'walter': 1, 'wandersmann': 1, 'wap-': 1, 'wapl-': 1, 'war ': 1, 'warm ': 1, 'warmer': 1, 'wars': 1, 'wars ': 1, 'washburn ': 1, 'watch ': 1, 'water ': 1, 'wb ': 1, 'wd ': 1, 'wd-': 1, 'wd10175sd': 1, 'wdr ': 1, 'we ': 1, 'web': 1, 'web-': 1, 'wed\"': 1, 'wega': 1, 'weide ': 1, 'weldtite': 1, 'weldtite ': 1, 'well': 1, 'well ': 1, 'wellberg': 1, 'wellgo': 1, 'wellington': 1, 'wendy ': 1, 'wenge ': 1, 'werkel': 1, 'wester ': 1, 'westland ': 1, 'wf8590nmw9': 1, 'wf8590nmw9 ': 1, 'wff1200 ': 1, 'wff862': 1, 'wg6476': 1, 'wh ': 1, 'wheels ': 1, 'whirlpool': 1, 'white': 1, 'white ': 1, 'white/': 1, 'wht ': 1, 'wi ': 1, 'wifa ': 1, 'wifi': 1, 'wifi ': 1, 'wii': 1, 'wii ': 1, 'wiki': 1, 'wileyfox ': 1, 'wilkins': 1, 'williams': 1, 'win10': 1, 'wind ': 1, 'windbreak ': 1, 'windrider ': 1, 'winner ': 1, 'winter ': 1, 'wireless ': 1, 'wireless-': 1, 'wis24140': 1, 'wis82': 1, 'wisl ': 1, 'wite': 1, 'with ': 1, 'wither ': 1, 'wiu ': 1, 'wiu80': 1, 'wiue ': 1, 'wize ': 1, 'wj7sce ': 1, 'wkb ': 1, 'wkd ': 1, 'wkl ': 1, 'wlg24060oe': 1, 'wlk ': 1, 'wm ': 1, 'wm-': 1, 'wm7601': 1, 'wmm-': 1, 'wmss-': 1, 'wn ': 1, 'wn-': 1, 'wn6004rs': 1, 'wn727': 1, 'wn821n': 1, 'wn823n': 1, 'wnq': 1, 'wok': 1, 'wolf': 1, 'wolf ': 1, 'wood': 1, 'woodskin ': 1, 'word ': 1, 'workbook': 1, 'workout ': 1, 'world ': 1, 'worn ': 1, 'wowwee ': 1, 'wr-': 1, 'wr1042nd': 1, 'wr741nd': 1, 'wr841nd': 1, 'wrc': 1, 'wrex ': 1, 'ws ': 1, 'wt ': 1, 'wunderlicht ': 1, 'wv-': 1, 'wxga': 1, 'x0.': 1, 'x090s': 1, 'x1 ': 1, 'x1-': 1, 'x100e ': 1, 'x163h': 1, 'x17': 1, 'x20': 1, 'x200la-': 1, 'x4 ': 1, 'x5 ': 1, 'x52': 1, 'x54hr': 1, 'x552m': 1, 'x552mj-': 1, 'x553ma': 1, 'x5sw': 1, 'x6 ': 1, 'x60': 1, 'x70': 1, 'x72': 1, 'x751l': 1, 'x8c ': 1, 'x98 ': 1, 'xaomi ': 1, 'xb-': 1, 'xbox360': 1, 'xbox360 ': 1, 'xc ': 1, 'xc-': 1, 'xc11-': 1, 'xd300': 1, 'xdriver ': 1, 'xenpak-': 1, 'xenyx ': 1, 'xg5102c/': 1, 'xiaomi ': 1, 'xigma ': 1, 'xix ': 1, 'xkey': 1, 'xl145 ': 1, 'xl2411z': 1, 'xlc ': 1, 'xlr': 1, 'xm-': 1, 'xp ': 1, 'xpedia ': 1, 'xperia': 1, 'xperia ': 1, 'xplod ': 1, 'xplory': 1, 'xpressive ': 1, 'xpressmusic': 1, 'xpressmusic ': 1, 'xs1': 1, 'xsperia ': 1, 'xt ': 1, 'xti ': 1, 'xtouch': 1, 'xv-': 1, 'xvii': 1, 'xx ': 1, 'xx1': 1, 'xxl': 1, 'xxl-': 1, 'xxs': 1, 'y511': 1, 'yacht': 1, 'yamaha': 1, 'yamaha ': 1, 'yardage ': 1, 'yazole': 1, 'yca-': 1, 'yellow': 1, 'yerasov ': 1, 'yf ': 1, 'yh35b': 1, 'ym-': 1, 'yo ': 1, 'yo-': 1, 'yoga ': 1, 'york ': 1, 'yoshi ': 1, 'yota ': 1, 'you ': 1, 'ysl ': 1, 'yves ': 1, 'z1 ': 1, 'z1-': 1, 'z11plus': 1, 'z170cg ': 1, 'z2 ': 1, 'z3 ': 1, 'z3-': 1, 'z3170': 1, 'z330': 1, 'z71v ': 1, 'z800': 1, 'z87-': 1, 'zalman ': 1, 'zanussi ': 1, 'zaskar ': 1, 'zd-': 1, 'ze500cl': 1, 'ze500cl ': 1, 'ze550kl': 1, 'ze550ml ': 1, 'ze551kl ': 1, 'zeiss ': 1, 'zeit ': 1, 'zelmer ': 1, 'zena ': 1, 'zenfon ': 1, 'zenfone2 ': 1, 'zenpad ': 1, 'zenpad10': 1, 'zepter': 1, 'zepter ': 1, 'zera ': 1, 'zerowatt': 1, 'zet': 1, 'zet ': 1, 'zf008': 1, 'zhemchug ': 1, 'zimber ': 1, 'zinger': 1, 'zippo': 1, 'zk3': 1, 'zorg ': 1, 'zp999 ': 1, 'zt ': 1, 'zte': 1, 'zuri': 1, 'zwergnase': 1, 'zx ': 1, 'zx5': 1, 'zxhn ': 1, 'zyxel ': 1, 'а5 ': 1, 'а5500-': 1, 'аб ': 1, 'абажур ': 1, 'абакан': 1, 'абрикосов ': 1, 'абстракция': 1, 'абхазии': 1, 'абхазии ': 1, 'абхазию ': 1, 'абхазия': 1, 'абхазия ': 1, 'ав ': 1, 'авангард': 1, 'аванта ': 1, 'аввг ': 1, 'авент ': 1, 'аверсус': 1, 'авиа': 1, 'авр': 1, 'авс': 1, 'австралия': 1, 'австралия ': 1, 'австрия': 1, 'авто': 1, 'авто-': 1, 'авто/': 1, 'автобиография': 1, 'автобусная ': 1, 'автомати': 1, 'автоматики': 1, 'автоматический ': 1, 'автомобилем': 1, 'автомобиль ': 1, 'автономная ': 1, 'автор': 1, 'автора': 1, 'авторалли': 1, 'авторские ': 1, 'автостопер ': 1, 'автотур ': 1, 'агабекян ': 1, 'агадир': 1, 'агата': 1, 'агеносов': 1, 'агломрамора': 1, 'адаптер': 1, 'адаптером': 1, 'аденауэр': 1, 'адениумы': 1, 'адора': 1, 'адреналине': 1, 'адыгея ': 1, 'аек ': 1, 'ажурная ': 1, 'аз-': 1, 'азбука': 1, 'азкабана': 1, 'азори ': 1, 'аизе': 1, 'айва ': 1, 'айфон': 1, 'айфон ': 1, 'айфон6': 1, 'айфона ': 1, 'ак-': 1, 'ака': 1, 'акаба ': 1, 'академия.': 1, 'акамулятор ': 1, 'акация': 1, 'акваланг': 1, 'аквамарин ': 1, 'аквамарином': 1, 'аквариум': 1, 'аквариума ': 1, 'аквариумная ': 1, 'аккаунт ': 1, 'аккордеон ': 1, 'аккум': 1, 'аккум ': 1, 'аккумулятор': 1, 'аккумуляторный ': 1, 'аккумулятором': 1, 'аккустическая ': 1, 'акрил ': 1, 'акриловую ': 1, 'акриловый': 1, 'аксенов': 1, 'аксессуаров ': 1, 'аксессуары ': 1, 'аксесуары': 1, 'аксион': 1, 'аксион ': 1, 'акссесуары ': 1, 'активная ': 1, 'активные': 1, 'активный': 1, 'активный ': 1, 'акулич ': 1, 'акунин ': 1, 'акупунктура ': 1, 'акустик': 1, 'акустика': 1, 'акустики ': 1, 'акустику': 1, 'акустичекую ': 1, 'акустическая': 1, 'акустическая ': 1, 'акустический ': 1, 'акустических': 1, 'акустическое ': 1, 'акустическую ': 1, 'александр ': 1, 'александра ': 1, 'алексей ': 1, 'алексея ': 1, 'алексий ': 1, 'аленка ': 1, 'аленушка ': 1, 'алех ': 1, 'алиса': 1, 'аллее': 1, 'алмаз': 1, 'алмазная ': 1, 'алмазного ': 1, 'алое ': 1, 'алоэ': 1, 'алтын-': 1, 'алфавит ': 1, 'аль-': 1, 'альбом': 1, 'альбом-': 1, 'альбоме': 1, 'альбомом': 1, 'альбомы ': 1, 'альта-': 1, 'альтиметром': 1, 'альфа': 1, 'алюм': 1, 'алюминевый ': 1, 'алюминиевая': 1, 'алюминиевые': 1, 'алюминиевые ': 1, 'алюминиевый': 1, 'алюминиевый ': 1, 'алюминии': 1, 'алюминий': 1, 'алюминий ': 1, 'амариллис': 1, 'американские ': 1, 'американский ': 1, 'американского ': 1, 'америки ': 1, 'америна ': 1, 'аметистом': 1, 'аметисты': 1, 'амигуруми ': 1, 'амортиз': 1, 'амортизатором ': 1, 'амфибия ': 1, 'амфитон': 1, 'амфитон ': 1, 'аналог ': 1, 'аналоговые ': 1, 'аналоговый ': 1, 'анапа': 1, 'анапа ': 1, 'анапу ': 1, 'анатомии': 1, 'анатомическая ': 1, 'ангара': 1, 'ангара ': 1, 'ангел': 1, 'ангел ': 1, 'англ': 1, 'английская': 1, 'английская ': 1, 'английские ': 1, 'английским ': 1, 'англия ': 1, 'андалусия ': 1, 'андерсон': 1, 'анджелос': 1, 'андора ': 1, 'андорра ': 1, 'андорру': 1, 'андрей ': 1, 'андроид': 1, 'андроиде': 1, 'анекдоты ': 1, 'анекс ': 1, 'анжелика': 1, 'аниме ': 1, 'антенна ': 1, 'антенной': 1, 'антенны ': 1, 'антивандальное ': 1, 'антик': 1, 'антиквариат ': 1, 'антикварный': 1, 'антикварный ': 1, 'антилы ': 1, 'антипрокольная ': 1, 'антистресс ': 1, 'антология ': 1, 'антонио ': 1, 'ап-': 1, 'аполонна': 1, 'аппарат ': 1, 'аппаратный ': 1, 'аппараты ': 1, 'аппликации ': 1, 'апреле-': 1, 'аптечка ': 1, 'арабских ': 1, 'араукария': 1, 'арафатка ': 1, 'арбата': 1, 'арбитрек': 1, 'ардаматский': 1, 'ардо': 1, 'ардо ': 1, 'аренда ': 1, 'аристон ': 1, 'аристон/': 1, 'арка ': 1, 'арктика': 1, 'аркхема ': 1, 'арма': 1, 'арматура ': 1, 'арматуру ': 1, 'армейские': 1, 'армения ': 1, 'армстронг': 1, 'ароматный ': 1, 'арона': 1, 'арония': 1, 'арсенал ': 1, 'арт ': 1, 'арт-': 1, 'арт.': 1, 'артемия ': 1, 'артик ': 1, 'артикул ': 1, 'артис': 1, 'артопедическая': 1, 'артур': 1, 'ас-': 1, 'аскона ': 1, 'асп-': 1, 'аср': 1, 'асс': 1, 'ассортимен': 1, 'ассортименте ': 1, 'асти': 1, 'астрея': 1, 'астрологии': 1, 'астрономии': 1, 'асус': 1, 'асфальт ': 1, 'асы ': 1, 'атлас': 1, 'атласное ': 1, 'атласной ': 1, 'атласы': 1, 'атлетика': 1, 'атлетический': 1, 'атлетический ': 1, 'атмосферная ': 1, 'атон ': 1, 'аудио ': 1, 'аудиодиск': 1, 'аудиомониторы': 1, 'аудиосистема': 1, 'аудиосистема ': 1, 'афанасьева': 1, 'африка ': 1, 'афродита': 1, 'афтер ': 1, 'ахименесы': 1, 'аша ': 1, 'аэратор ': 1, 'аэрогриль ': 1, 'аэропортов': 1, 'б06 ': 1, 'бабочек': 1, 'бабочка': 1, 'бабушкины ': 1, 'бабчка-': 1, 'багажная': 1, 'багажник ': 1, 'багажный ': 1, 'багдад': 1, 'бадлоны': 1, 'база ': 1, 'базальтовый ': 1, 'базе ': 1, 'базовый ': 1, 'байкер ': 1, 'байкерская ': 1, 'байкерский ': 1, 'баки ': 1, 'баккиоки': 1, 'баклажан ': 1, 'бакси ': 1, 'бактерицидная ': 1, 'балалайка ': 1, 'балалайкой ': 1, 'баланс ': 1, 'баланса': 1, 'балансборд': 1, 'балансир ': 1, 'балансировочный ': 1, 'балансиры ': 1, 'балдахина': 1, 'балдахином': 1, 'баленко ': 1, 'балетки': 1, 'балетки ': 1, 'балка ': 1, 'балконная ': 1, 'баллоне ': 1, 'балон ': 1, 'бальбоа ': 1, 'бальзамин': 1, 'бамбук': 1, 'бамбуковое ': 1, 'бамбуковые ': 1, 'бампер-': 1, 'бамперы ': 1, 'бандаж': 1, 'бани': 1, 'бани ': 1, 'банка ': 1, 'банками ': 1, 'банные ': 1, 'баночек': 1, 'баночки ': 1, 'бань ': 1, 'баню': 1, 'баня ': 1, 'бар': 1, 'барбарис ': 1, 'барби ': 1, 'барельеф ': 1, 'баритон': 1, 'барка ': 1, 'барнаульский ': 1, 'барная ': 1, 'барной ': 1, 'барный': 1, 'барный ': 1, 'барокко ': 1, 'барроко': 1, 'бартер ': 1, 'барука': 1, 'бархатные ': 1, 'барьер ': 1, 'бас ': 1, 'бас-': 1, 'басавик': 1, 'басовик ': 1, 'басовый ': 1, 'бассейна': 1, 'бат ': 1, 'батарею': 1, 'батарея': 1, 'батарея ': 1, 'батильоны': 1, 'батоцера': 1, 'баттс': 1, 'батут ': 1, 'батый': 1, 'баунсер': 1, 'баунсер ': 1, 'бахрома': 1, 'бачка ': 1, 'бачком': 1, 'бачок': 1, 'башкирия7 ': 1, 'башмак ': 1, 'башня-': 1, 'бегемотик': 1, 'беговая': 1, 'беговая ': 1, 'бегония': 1, 'бегония ': 1, 'бегущей ': 1, 'бединге ': 1, 'беж': 1, 'бежевого ': 1, 'бежевое ': 1, 'без ': 1, 'безлактозный': 1, 'безопасности': 1, 'бел': 1, 'беларуси': 1, 'белая': 1, 'белисарио ': 1, 'беллакт ': 1, 'белоруссии': 1, 'белоснежка': 1, 'белуга ': 1, 'белухе': 1, 'белые': 1, 'белый ': 1, 'белый/': 1, 'белыми ': 1, 'бельгия': 1, 'белье': 1, 'белье ': 1, 'белье-': 1, 'бельпостель ': 1, 'белья': 1, 'белья ': 1, 'бельё': 1, 'бельё ': 1, 'белянин': 1, 'бенг-': 1, 'бенджамина': 1, 'бензиновый ': 1, 'бензопила ': 1, 'бензопилам ': 1, 'бензопилу': 1, 'бенкью': 1, 'берген': 1, 'берег': 1, 'береза ': 1, 'березовые': 1, 'березовый ': 1, 'беременной': 1, 'беременной ': 1, 'беременных': 1, 'беременяшек': 1, 'берлин ': 1, 'бернар': 1, 'берёз': 1, 'берёзы ': 1, 'бескаркасное ': 1, 'бесперебойник ': 1, 'бесперебойного ': 1, 'беспл': 1, 'бесплатно ': 1, 'бесплатной ': 1, 'беспрово': 1, 'беспроводной': 1, 'беспроводной ': 1, 'беспроводных ': 1, 'бессмертие': 1, 'бессмертие ': 1, 'бест ': 1, 'бесшовное ': 1, 'бетар': 1, 'бетон ': 1, 'бетонная ': 1, 'бетонное ': 1, 'бетономешалка ': 1, 'бетону ': 1, 'бетховена': 1, 'библии': 1, 'библиотека': 1, 'библиотека ': 1, 'библия': 1, 'библия ': 1, 'бивень ': 1, 'биг ': 1, 'биде ': 1, 'бидон ': 1, 'бизнес': 1, 'биксы ': 1, 'билайн': 1, 'билеты': 1, 'билли': 1, 'бильярд ': 1, 'биметал ': 1, 'биметалл': 1, 'биметаллическая ': 1, 'биметаллические ': 1, 'биметаллический ': 1, 'бинокль ': 1, 'био-': 1, 'биокорректор': 1, 'биологии ': 1, 'биология': 1, 'биология ': 1, 'биометалл': 1, 'биоповреждений ': 1, 'биорс ': 1, 'биостекло': 1, 'биотуалет ': 1, 'биржевой ': 1, 'бири ': 1, 'бирка ': 1, 'бирма': 1, 'бирюзой': 1, 'бисера': 1, 'бисера ': 1, 'бисером': 1, 'бисмарк': 1, 'бит ': 1, 'битвы': 1, 'благовещенск': 1, 'блази': 1, 'бластер ': 1, 'блендер': 1, 'блендер ': 1, 'блендерный ': 1, 'блендером ': 1, 'блесен': 1, 'блеск': 1, 'блестками': 1, 'блестящее ': 1, 'ближайшие ': 1, 'блинница': 1, 'блинница ': 1, 'блок': 1, 'блок ': 1, 'блоки': 1, 'блоки/': 1, 'блокипредлагаем ': 1, 'блокировки ': 1, 'блузка': 1, 'блузку': 1, 'блюдо': 1, 'блюдо ': 1, 'блюдца ': 1, 'блюдце': 1, 'блюдцем': 1, 'блютуз-': 1, 'бог': 1, 'бог ': 1, 'богатырь ': 1, 'богемия': 1, 'богемский ': 1, 'богиня ': 1, 'богородица ': 1, 'боди ': 1, 'бодибар': 1, 'бодибар ': 1, 'бодибилдинга': 1, 'боевые ': 1, 'боем': 1, 'божией ': 1, 'бойла ': 1, 'бойлер': 1, 'бойлер ': 1, 'бойцовские': 1, 'бок ': 1, 'бокал ': 1, 'бокалы ': 1, 'бокк ': 1, 'бокоплавы ': 1, 'бокс': 1, 'бокс ': 1, 'бокса': 1, 'боксерские ': 1, 'боксёрская ': 1, 'болгарию ': 1, 'болгария': 1, 'болгарка': 1, 'болгарка ': 1, 'более ': 1, 'боливар ': 1, 'болт ': 1, 'болторез ': 1, 'большие ': 1, 'большим ': 1, 'большое ': 1, 'большой': 1, 'большой ': 1, 'большую ': 1, 'бондаж': 1, 'бонка ': 1, 'бонус': 1, 'бораненков': 1, 'боровик': 1, 'бортами': 1, 'бортами ': 1, 'бортиками': 1, 'борфреза': 1, 'босаножки': 1, 'боснии': 1, 'босоножки ': 1, 'босс': 1, 'бостон': 1, 'ботаники': 1, 'ботильоны ': 1, 'ботинками': 1, 'ботинки ': 1, 'ботинок': 1, 'ботиночки': 1, 'бох ': 1, 'бохо ': 1, 'бочком ': 1, 'бочонки': 1, 'бочонок ': 1, 'бош ': 1, 'бра': 1, 'бра ': 1, 'браслет ': 1, 'браслеты ': 1, 'браун ': 1, 'браунинг ': 1, 'браш': 1, 'бревна': 1, 'брезент ': 1, 'брезентовые ': 1, 'брейсы ': 1, 'брелка ': 1, 'брелки ': 1, 'бриджи': 1, 'брижит ': 1, 'бриз': 1, 'брилл': 1, 'бриллиант\"': 1, 'бриллиантами': 1, 'бриллиантами ': 1, 'бриллиантовой ': 1, 'бриллиантом': 1, 'бриллиантом ': 1, 'бриллианты': 1, 'бритва': 1, 'бритья': 1, 'бронза': 1, 'бронзовое ': 1, 'бронзовый': 1, 'бронирован': 1, 'бронирование': 1, 'бронирование ': 1, 'бронированию': 1, 'бронкс': 1, 'брошь ': 1, 'брус': 1, 'брус ': 1, 'бруса': 1, 'бруса ': 1, 'брусовая ': 1, 'брусья': 1, 'брусья ': 1, 'брю': 1, 'брюк': 1, 'брюк ': 1, 'брюки': 1, 'брюки ': 1, 'бу ': 1, 'бугениллии': 1, 'буги-': 1, 'будильник': 1, 'будуаре': 1, 'бук': 1, 'бука': 1, 'букашечка': 1, 'буква ': 1, 'буквы': 1, 'буквы ': 1, 'букет ': 1, 'букеты': 1, 'буклет ': 1, 'букса ': 1, 'булгакова': 1, 'бульонница': 1, 'бум-': 1, 'бумаг': 1, 'бумага ': 1, 'бумаге ': 1, 'бумаги ': 1, 'бумажные ': 1, 'бурения ': 1, 'бустер ': 1, 'бутербродница ': 1, 'бутолочка ': 1, 'бутыли ': 1, 'бутылки ': 1, 'бутылочек': 1, 'бутылочек ': 1, 'бутылочка ': 1, 'бутылочки': 1, 'бутылочки ': 1, 'бутылочкой ': 1, 'бутыль ': 1, 'бухгалтерии': 1, 'бухта': 1, 'быстросьемный ': 1, 'бытовые ': 1, 'бэтмен ': 1, 'бюст ': 1, 'бязевое ': 1, 'бязи': 1, 'бязь ': 1, 'в25 ': 1, 'в27хш16хd13.': 1, 'вrоwning ': 1, 'вvr ': 1, 'вавилона': 1, 'вагонка': 1, 'вагонка ': 1, 'вагончик ': 1, 'ваза': 1, 'ваза-': 1, 'вазе ': 1, 'вазочка ': 1, 'вазочки': 1, 'вазы ': 1, 'валенки': 1, 'валентин ': 1, 'валиханов': 1, 'вальгус ': 1, 'вам ': 1, 'ванечка': 1, 'ванильное ': 1, 'ванна ': 1, 'ванная ': 1, 'ванной ': 1, 'ванночка ': 1, 'ванночкой': 1, 'ванну': 1, 'ванную': 1, 'ванную ': 1, 'ванны': 1, 'ванны ': 1, 'ванный ': 1, 'варадеро ': 1, 'вариантов': 1, 'вариегатная ': 1, 'вариегатные': 1, 'варикозных ': 1, 'варочная ': 1, 'василий ': 1, 'вата ': 1, 'ватный ': 1, 'ватрушка': 1, 'вафельницу': 1, 'вашего ': 1, 'вашей ': 1, 'вашем ': 1, 'вашим ': 1, 'ваших ': 1, 'ввгп-': 1, 'введение ': 1, 'вверх ': 1, 'вдохновляющие ': 1, 'ве700g-': 1, 'веб ': 1, 'вега': 1, 'вегас': 1, 'веги': 1, 'вежливых ': 1, 'везувий': 1, 'век': 1, 'века': 1, 'века ': 1, 'веко': 1, 'великих': 1, 'великобритания': 1, 'великолепный ': 1, 'велодетали ': 1, 'велоджерси': 1, 'велокомпьютер': 1, 'велокомпьютер ': 1, 'велокуртка': 1, 'велопарковка ': 1, 'велопокрышка': 1, 'велопокрышка ': 1, 'велорюкзак': 1, 'велосипед': 1, 'велосипеда': 1, 'велосипеда ': 1, 'велосипедистов': 1, 'велосипедная ': 1, 'велосипедное ': 1, 'велосипедные': 1, 'велосипедные ': 1, 'велосипедный': 1, 'велосипедный ': 1, 'велосипедов': 1, 'велотренажер': 1, 'велотренажер ': 1, 'велотренажёр ': 1, 'велотуфли ': 1, 'велоформа': 1, 'велошлем ': 1, 'велоэкиперовка': 1, 'велоэлипсоид': 1, 'венге': 1, 'венге ': 1, 'венге/': 1, 'венгрию': 1, 'венерина ': 1, 'венесуэла ': 1, 'венесуэлы': 1, 'венеция': 1, 'веники ': 1, 'веников': 1, 'венские ': 1, 'венский ': 1, 'венский-': 1, 'вентиля': 1, 'вентилятор ': 1, 'вепьря': 1, 'вера': 1, 'верандо': 1, 'верандой': 1, 'верандой ': 1, 'вербилки': 1, 'веревка ': 1, 'вересаев': 1, 'верн': 1, 'верона': 1, 'версаль ': 1, 'версия': 1, 'версия ': 1, 'верстак ': 1, 'вертикализатор': 1, 'вертикалка': 1, 'вертикальная ': 1, 'вертикальной ': 1, 'вертикальные ': 1, 'вертолёт ': 1, 'вертушка ': 1, 'верхней ': 1, 'верхняя ': 1, 'веряскина': 1, 'вес ': 1, 'весеннее': 1, 'весеннее ': 1, 'весенняя': 1, 'весна': 1, 'весна-': 1, 'весовые': 1, 'веста ': 1, 'весы': 1, 'весы ': 1, 'весь ': 1, 'ветка': 1, 'ветка ': 1, 'ветош': 1, 'ветровка': 1, 'ветровка ': 1, 'ветровлагозащитный': 1, 'ветчины': 1, 'вечернее': 1, 'вечерние ': 1, 'вечеря ': 1, 'вечноцветущая': 1, 'вечный ': 1, 'вешалка ': 1, 'вешалки ': 1, 'вещах ': 1, 'вещи': 1, 'вещмешок': 1, 'взвешивания ': 1, 'взгляд': 1, 'взломастойкости': 1, 'взрослых ': 1, 'виади': 1, 'вибрационная': 1, 'вибрационной ': 1, 'виброплита ': 1, 'виго': 1, 'виде ': 1, 'видения': 1, 'видения ': 1, 'видео': 1, 'видео ': 1, 'видеокамера': 1, 'видеокамера ': 1, 'видеокамерой': 1, 'видеокартой': 1, 'видеомагнитофон': 1, 'видеомикшер ': 1, 'видеотека': 1, 'видима': 1, 'видюха ': 1, 'визажиста': 1, 'византия': 1, 'визитница ': 1, 'вик ': 1, 'виктор ': 1, 'вилкой': 1, 'виллерой ': 1, 'виниловая ': 1, 'виниловые ': 1, 'винни': 1, 'винни ': 1, 'винный ': 1, 'вино': 1, 'винограда': 1, 'винтажная': 1, 'винтажное ': 1, 'винтажные': 1, 'винтажный ': 1, 'винтовых ': 1, 'винье ': 1, 'вираж': 1, 'виртикальная ': 1, 'виртуальной ': 1, 'вискоза ': 1, 'висячий ': 1, 'виталий ': 1, 'витая ': 1, 'витеб': 1, 'витой ': 1, 'витрина ': 1, 'витрину': 1, 'витязь ': 1, 'вишневский': 1, 'вишня': 1, 'вишня ': 1, 'вишнёвый': 1, 'вишнёвый ': 1, 'вкладыши ': 1, 'включается': 1, 'вкус ': 1, 'вкусной ': 1, 'вл-': 1, 'влагозащищенные ': 1, 'влагозащищённый ': 1, 'владикавказ-': 1, 'владыка ': 1, 'владыки': 1, 'властелином': 1, 'влюбленные': 1, 'влюбленные ': 1, 'влюбленных': 1, 'вместе': 1, 'вместе ': 1, 'вмх': 1, 'внедорожник ': 1, 'внешней ': 1, 'внешний': 1, 'внутренние ': 1, 'внутри': 1, 'во ': 1, 'воблера': 1, 'воблеры': 1, 'воблеры ': 1, 'вов': 1, 'вода': 1, 'водки': 1, 'водогазопроводные': 1, 'водолазный ': 1, 'водонагреватели ': 1, 'водонагреватель ': 1, 'водонепроницаемая ': 1, 'водонепроницаемый': 1, 'водонепроницаемый ': 1, 'воды': 1, 'воды ': 1, 'военного ': 1, 'военных ': 1, 'возможен ': 1, 'возраста': 1, 'воинской ': 1, 'войне ': 1, 'войны ': 1, 'вокальный ': 1, 'вокруг ': 1, 'волгограде': 1, 'волко-': 1, 'волма-': 1, 'волоколамск ': 1, 'волосы': 1, 'волосы ': 1, 'волошина': 1, 'волчьи ': 1, 'волшебника ': 1, 'волшебное ': 1, 'волшебный ': 1, 'воробьевский ': 1, 'воронеж': 1, 'воронеж ': 1, 'ворота ': 1, 'вороток-': 1, 'ворсма': 1, 'ворсом': 1, 'воскресение': 1, 'воскрешение ': 1, 'восленский': 1, 'восстановление/': 1, 'восстановленных ': 1, 'восточному': 1, 'восточные ': 1, 'восхождение ': 1, 'восьми ': 1, 'вояж': 1, 'вратарей ': 1, 'вратарская ': 1, 'времени': 1, 'времени ': 1, 'времён ': 1, 'врумиз': 1, 'всадник': 1, 'всегда ': 1, 'всесезонное ': 1, 'всех ': 1, 'всецарица': 1, 'всп ': 1, 'вспененный ': 1, 'вставка ': 1, 'вставкой': 1, 'вставкой ': 1, 'вставок': 1, 'вставок ': 1, 'встраиваемая ': 1, 'встраиваемый ': 1, 'встроенная ': 1, 'встроенной ': 1, 'встроенным ': 1, 'встроенных ': 1, 'встроиным ': 1, 'вся ': 1, 'всё ': 1, 'вт ': 1, 'второго ': 1, 'второе ': 1, 'вузов ': 1, 'вузы': 1, 'вульф': 1, 'входная': 1, 'входная ': 1, 'входную ': 1, 'входные ': 1, 'вч ': 1, 'вы ': 1, 'выбираем ': 1, 'выбор': 1, 'выдвижные ': 1, 'выдвижными ': 1, 'выделанные': 1, 'выделки': 1, 'выживания': 1, 'выживания ': 1, 'выжимка ': 1, 'выкл': 1, 'выключател': 1, 'выключатели ': 1, 'выключатель ': 1, 'вылет ': 1, 'вылетом ': 1, 'вылеты ': 1, 'вынос ': 1, 'выносная ': 1, 'выпечки ': 1, 'выписку': 1, 'выпрямители ': 1, 'выпуск ': 1, 'выпускников': 1, 'выпускное': 1, 'выпускному ': 1, 'выравнивающая': 1, 'вырастить ': 1, 'высокий ': 1, 'высота ': 1, 'высоту ': 1, 'выставки ': 1, 'выставочного ': 1, 'высшего ': 1, 'выход': 1, 'выходного ': 1, 'вышивания': 1, 'вышивания ': 1, 'вышивка': 1, 'вышивкой ': 1, 'вышитая ': 1, 'вышитые ': 1, 'вышка-': 1, 'вьетнам ': 1, 'вязаная ': 1, 'вязанная': 1, 'вязанная ': 1, 'вязанное ': 1, 'вязанные ': 1, 'вязаные ': 1, 'вятка ': 1, 'габриель ': 1, 'гавайская ': 1, 'гагарина ': 1, 'газету': 1, 'газировки': 1, 'газобетонный': 1, 'газовая': 1, 'газовая ': 1, 'газовой ': 1, 'газовый ': 1, 'газонные ': 1, 'газоны': 1, 'гайк': 1, 'гайка ': 1, 'галекс': 1, 'галогенные': 1, 'гамак ': 1, 'гамма-': 1, 'гандылян': 1, 'гантели ': 1, 'гантель ': 1, 'гаражные': 1, 'гаражные ': 1, 'гарантией ': 1, 'гарантии ': 1, 'гарантия': 1, 'гарантия ': 1, 'гардеробгая': 1, 'гардеробная': 1, 'гардина ': 1, 'гардины': 1, 'гардины ': 1, 'гардины/': 1, 'гармонизации': 1, 'гармонизирующими ': 1, 'гармонист ': 1, 'гармошка': 1, 'гарнитур': 1, 'гарнитур ': 1, 'гарнитура ': 1, 'гарнитурой ': 1, 'гарри ': 1, 'гарсия ': 1, 'гаршок': 1, 'гатара ': 1, 'гашек': 1, 'гвозди ': 1, 'гвс': 1, 'гвс ': 1, 'гдр ': 1, 'геба': 1, 'гевара': 1, 'геймпад': 1, 'геймпад ': 1, 'геймпада': 1, 'геймпада ': 1, 'гелакси ': 1, 'геленджик': 1, 'гели ': 1, 'геллеров ': 1, 'гель ': 1, 'гель-': 1, 'генералиссимус ': 1, 'генератор ': 1, 'генератора': 1, 'генри': 1, 'географии': 1, 'географический ': 1, 'география': 1, 'геона': 1, 'георг': 1, 'георгий ': 1, 'георгин': 1, 'георгина': 1, 'герасименко': 1, 'гербы ': 1, 'герман': 1, 'германии': 1, 'германия': 1, 'германия ': 1, 'герметик': 1, 'герои': 1, 'герои ': 1, 'гжели': 1, 'гжель ': 1, 'гибдд': 1, 'гибискус': 1, 'гибискус ': 1, 'гибкая ': 1, 'гибралтар': 1, 'гига ': 1, 'гигеинический': 1, 'гигиенического ': 1, 'гигов': 1, 'гидравлический ': 1, 'гидро ': 1, 'гидромассажем ': 1, 'гидромассажная ': 1, 'гидропоника': 1, 'гидропрокладка ': 1, 'гидрофибизированные ': 1, 'гильза ': 1, 'гимнастический ': 1, 'гипоаллергенная': 1, 'гипоаллергенный ': 1, 'гиппеаструмы': 1, 'гипс ': 1, 'гипсовая ': 1, 'гипсовый': 1, 'гипсокартон ': 1, 'гипюра ': 1, 'гири': 1, 'гири ': 1, 'гирлянда': 1, 'гирлянда ': 1, 'гироскутер ': 1, 'гиря ': 1, 'гитара': 1, 'гитара ': 1, 'гитаре': 1, 'гитару': 1, 'гитару ': 1, 'гитары': 1, 'гитары ': 1, 'гитлера': 1, 'главбух ': 1, 'главное ': 1, 'гладиатор': 1, 'гладильная': 1, 'гладильная ': 1, 'гладильной ': 1, 'гладиолусов': 1, 'глазом': 1, 'глинтвейна': 1, 'глобалистика': 1, 'глоксинии': 1, 'глория': 1, 'глубокие': 1, 'глухая ': 1, 'глуховский': 1, 'глюкометра ': 1, 'глюкометру ': 1, 'глянцевые ': 1, 'гнезда ': 1, 'гном': 1, 'гномов': 1, 'го ': 1, 'гоа': 1, 'год': 1, 'год ': 1, 'года': 1, 'года ': 1, 'годов': 1, 'годовой ': 1, 'годы': 1, 'голем ': 1, 'голеностопного ': 1, 'голеностопный ': 1, 'голландская ': 1, 'голливуда': 1, 'голова ': 1, 'головка': 1, 'головка ': 1, 'головки': 1, 'головки ': 1, 'головодержатель ': 1, 'голову ': 1, 'головы': 1, 'головы ': 1, 'голограмма ': 1, 'голубая': 1, 'голубого ': 1, 'голубое ': 1, 'голубой': 1, 'голубом ': 1, 'гольфы': 1, 'гомер ': 1, 'гор': 1, 'горбачева': 1, 'горелка ': 1, 'горизонтальный ': 1, 'горилла ': 1, 'горим ': 1, 'горка': 1, 'горка ': 1, 'горку': 1, 'горлом ': 1, 'горная ': 1, 'горнолыжная ': 1, 'горнолыжные': 1, 'горнолыжные ': 1, 'горнолыжный ': 1, 'горных ': 1, 'города': 1, 'города ': 1, 'городам': 1, 'городов': 1, 'городскую ': 1, 'горох': 1, 'горшки': 1, 'горшки-': 1, 'горшок ': 1, 'горький': 1, 'горящее ': 1, 'горящие ': 1, 'горящий ': 1, 'гостеприимная ': 1, 'гостиная': 1, 'гостиная ': 1, 'гостинная': 1, 'гостинной': 1, 'гостинную': 1, 'гостинный ': 1, 'готовить ': 1, 'гофрированной ': 1, 'гофрой ': 1, 'гра': 1, 'гравировкой': 1, 'гравитационные': 1, 'гравитационные ': 1, 'град-': 1, 'грамм ': 1, 'граммофон': 1, 'граммофона ': 1, 'гран ': 1, 'гран-': 1, 'гранатовый': 1, 'гранатом ': 1, 'гранд': 1, 'гранд ': 1, 'гранит ': 1, 'гранита': 1, 'граф': 1, 'графин ': 1, 'графинчик': 1, 'граффити-': 1, 'грей ': 1, 'грек': 1, 'грелка': 1, 'грес ': 1, 'грецию': 1, 'греция ': 1, 'греческое ': 1, 'греющей ': 1, 'грибных ': 1, 'гривен ': 1, 'гриллер ': 1, 'гриль ': 1, 'грин': 1, 'грипсы': 1, 'гриф ': 1, 'гроздь ': 1, 'громкий ': 1, 'грош ': 1, 'грубой ': 1, 'грудь ': 1, 'груза ': 1, 'грузии': 1, 'грунт ': 1, 'группа': 1, 'группа ': 1, 'группой ': 1, 'груша': 1, 'груша ': 1, 'грушеньки': 1, 'груши': 1, 'грязной ': 1, 'губ ': 1, 'губернаторской ': 1, 'гузмания': 1, 'гуляем': 1, 'гуматэм': 1, 'гунфу': 1, 'гурд ': 1, 'гуру ': 1, 'густав ': 1, 'густой ': 1, 'гусь ': 1, 'гэлекси ': 1, 'д25х950х1000мм ': 1, 'да ': 1, 'давления ': 1, 'дали ': 1, 'дам5': 1, 'дамаск': 1, 'дамы ': 1, 'данилов': 1, 'данилова ': 1, 'дания': 1, 'дания ': 1, 'дата-': 1, 'датчик ': 1, 'датчиком': 1, 'дачи': 1, 'дачи ': 1, 'дачу': 1, 'дающего': 1, 'дв ': 1, 'две ': 1, 'дверей': 1, 'двери': 1, 'двери ': 1, 'двери-': 1, 'дверки ': 1, 'дверная': 1, 'дверное ': 1, 'дверные ': 1, 'дверца': 1, 'дверцы ': 1, 'дверь ': 1, 'дверь\"': 1, 'дверь-': 1, 'дверьми ': 1, 'двигатель ': 1, 'двойни ': 1, 'двойной': 1, 'двойные ': 1, 'двор': 1, 'дворецкий': 1, 'двп': 1, 'двс ': 1, 'двупольная ': 1, 'двуспальная': 1, 'двуспальный ': 1, 'двусторонняя ': 1, 'двутавровая ': 1, 'двухдверный ': 1, 'двухколпаковые': 1, 'двухосевой ': 1, 'двухполосные ': 1, 'двухсекционный ': 1, 'двухстворчатые ': 1, 'двухстворчатый': 1, 'двухуровневые': 1, 'двухцветкая ': 1, 'двухъярусная ': 1, 'двухярусная ': 1, 'де ': 1, 'дева ': 1, 'девочек': 1, 'девочка': 1, 'девушек': 1, 'девушки': 1, 'дедал': 1, 'дейс': 1, 'декаротивное': 1, 'деко': 1, 'декор': 1, 'декора': 1, 'декора ': 1, 'декоративная': 1, 'декоративное ': 1, 'декоративной ': 1, 'декоративные': 1, 'декоративный': 1, 'декоративный ': 1, 'декором': 1, 'делаю ': 1, 'делимано ': 1, 'делл ': 1, 'дело ': 1, 'деловой': 1, 'дельта ': 1, 'демисезон': 1, 'демисезонное': 1, 'демисезонное ': 1, 'демисезонные': 1, 'демисезонные ': 1, 'денга ': 1, 'деннис': 1, 'день ': 1, 'деньги': 1, 'депилятор': 1, 'дер': 1, 'дербан': 1, 'дереве': 1, 'деревенском ': 1, 'деревня ': 1, 'дерево ': 1, 'дереву': 1, 'деревянное ': 1, 'деревянные': 1, 'деревянные ': 1, 'деревянный ': 1, 'держатель ': 1, 'десяти ': 1, 'деталь ': 1, 'детей': 1, 'детей ': 1, 'детектив ': 1, 'детективы ': 1, 'детка': 1, 'детки ': 1, 'детск': 1, 'детская': 1, 'детские ': 1, 'детский ': 1, 'детское ': 1, 'детской': 1, 'детской ': 1, 'детскую': 1, 'детскую ': 1, 'детства': 1, 'детям': 1, 'детям ': 1, 'дефектами': 1, 'деят-': 1, 'джедаев': 1, 'джерси': 1, 'джи ': 1, 'джилекс ': 1, 'джинсовая ': 1, 'джинсовка': 1, 'джинсовое ': 1, 'джинсовый ': 1, 'джинсы': 1, 'джинцы': 1, 'джойстик': 1, 'джойстик ': 1, 'джойстика': 1, 'джойстики': 1, 'джон ': 1, 'джоплин ': 1, 'джостик': 1, 'джостик ': 1, 'джунглях': 1, 'дзержинского ': 1, 'диагностика ': 1, 'диадему': 1, 'диана': 1, 'диафильмы ': 1, 'диван': 1, 'диван ': 1, 'диван\"': 1, 'диван-': 1, 'дивана ': 1, 'диванчик': 1, 'диванчик ': 1, 'дидактические ': 1, 'диджейский ': 1, 'диез ': 1, 'дизай': 1, 'дизайн-': 1, 'дизайнерам': 1, 'дизайнерская ': 1, 'дизайнерский': 1, 'дизайнерский ': 1, 'дизельный ': 1, 'дикая ': 1, 'дикий': 1, 'дилера': 1, 'дилетантов': 1, 'димисезонное': 1, 'диммер': 1, 'динамик': 1, 'динамик ': 1, 'динамика ': 1, 'динамики ': 1, 'динамический': 1, 'динара': 1, 'динозавр ': 1, 'диод': 1, 'диода': 1, 'диск ': 1, 'диска': 1, 'дисками': 1, 'диски': 1, 'диски ': 1, 'дисковая ': 1, 'дискового ': 1, 'дисковод ': 1, 'дисковые': 1, 'дисковые ': 1, 'дисковый ': 1, 'дискотечный ': 1, 'дискошары': 1, 'дисней ': 1, 'дисплей': 1, 'дисплей ': 1, 'дистанционного ': 1, 'дифф': 1, 'диффенбахию': 1, 'диффенбахия': 1, 'дли': 1, 'длин ': 1, 'длина ': 1, 'длинноворсовый ': 1, 'длинное ': 1, 'длинные ': 1, 'длинный ': 1, 'длиной': 1, 'длиной ': 1, 'для ': 1, 'дмитров': 1, 'дн ': 1, 'дневник ': 1, 'дневники ': 1, 'дней': 1, 'дня': 1, 'дня ': 1, 'до ': 1, 'до-': 1, 'до30 ': 1, 'добролюбов': 1, 'добрую ': 1, 'добрый ': 1, 'доводчик': 1, 'довоенная ': 1, 'довоенное': 1, 'дождя ': 1, 'дожить ': 1, 'дозатор ': 1, 'док ': 1, 'док-': 1, 'докстанция': 1, 'доктор ': 1, 'документов': 1, 'документы ': 1, 'долговечный ': 1, 'доллар ': 1, 'долларов ': 1, 'долларовое ': 1, 'дом': 1, 'дом ': 1, 'дома': 1, 'домашная ': 1, 'домашнего ': 1, 'домашней ': 1, 'домашние ': 1, 'домашнии': 1, 'домашний ': 1, 'домбае ': 1, 'домбай ': 1, 'домик': 1, 'домик-': 1, 'домиком': 1, 'доминикана': 1, 'доминикана ': 1, 'доминикану ': 1, 'домов': 1, 'домов ': 1, 'домотканый ': 1, 'донка': 1, 'донна ': 1, 'донцова ': 1, 'дополнительный ': 1, 'дорога ': 1, 'дородовый ': 1, 'дорожкой': 1, 'дорожная ': 1, 'дорожных ': 1, 'доска ': 1, 'доской': 1, 'доставка': 1, 'доставкой': 1, 'доставкой ': 1, 'доступа': 1, 'доступа ': 1, 'доступа-': 1, 'доступно ': 1, 'доступной ': 1, 'досуга': 1, 'дочурки': 1, 'дошкольника': 1, 'дошкольников': 1, 'доюй ': 1, 'дп ': 1, 'др ': 1, 'драйвера ': 1, 'драцена': 1, 'драцены': 1, 'дрейк': 1, 'дрель-': 1, 'дроби ': 1, 'дровник': 1, 'друг-': 1, 'другие ': 1, 'друзья': 1, 'дск': 1, 'дск-': 1, 'ду ': 1, 'ду25': 1, 'дуас': 1, 'дуб ': 1, 'дуба': 1, 'дуба ': 1, 'дубай ': 1, 'дубини': 1, 'дубленка': 1, 'дубленка ': 1, 'дубленки ': 1, 'дубленку': 1, 'дублёнка': 1, 'дуга ': 1, 'дуговой ': 1, 'дукат ': 1, 'думочки': 1, 'дункан': 1, 'дуня': 1, 'дуос ': 1, 'дутая': 1, 'дутик ': 1, 'дутики': 1, 'дутики ': 1, 'дутыши': 1, 'духовное ': 1, 'душа ': 1, 'душевой ': 1, 'душевую ': 1, 'душем': 1, 'дым': 1, 'дым ': 1, 'дыма': 1, 'дыма ': 1, 'дымчатые ': 1, 'дэа-': 1, 'дэкория': 1, 'дэн ': 1, 'дэу ': 1, 'дюймов': 1, 'дюймовый ': 1, 'дюкан': 1, 'дёшево': 1, 'е173': 1, 'е1820 ': 1, 'е52': 1, 'е639': 1, 'е8400 ': 1, 'евпатории ': 1, 'евро-': 1, 'европейских ': 1, 'европы': 1, 'его ': 1, 'егэ ': 1, 'единичка ': 1, 'единой ': 1, 'единство ': 1, 'ее ': 1, 'ежедневники ': 1, 'екатерина': 1, 'екатерина ': 1, 'екатерины ': 1, 'елабуги': 1, 'елена ': 1, 'елитный ': 1, 'елочка ': 1, 'елочные ': 1, 'елочных ': 1, 'ем ': 1, 'емкости ': 1, 'енота ': 1, 'еремей ': 1, 'ершик ': 1, 'есенин': 1, 'ессентуки': 1, 'естесственных ': 1, 'естествознание': 1, 'есть ': 1, 'ефимова ': 1, 'ешко': 1, 'жак ': 1, 'жаккард ': 1, 'жаккардовой ': 1, 'жаклин ': 1, 'жалюзи ': 1, 'жалюзийные ': 1, 'жанра ': 1, 'жби': 1, 'жд ': 1, 'же ': 1, 'жевотных': 1, 'железноводск': 1, 'железные': 1, 'железные ': 1, 'железный ': 1, 'железобетонные ': 1, 'желетка ': 1, 'желетки ': 1, 'желтого ': 1, 'желтое': 1, 'желтое ': 1, 'желтый': 1, 'желтый ': 1, 'жемчужные ': 1, 'жен': 1, 'женечка ': 1, 'женск': 1, 'женская': 1, 'женский ': 1, 'женских ': 1, 'женского ': 1, 'женской ': 1, 'женскую': 1, 'женскую ': 1, 'женщин': 1, 'женщины ': 1, 'жерновая ': 1, 'жесткий': 1, 'жесткого ': 1, 'жестяная ': 1, 'жестяные ': 1, 'жетем ': 1, 'жетон ': 1, 'жетонами': 1, 'живец ': 1, 'живой ': 1, 'живопись ': 1, 'животные': 1, 'животных': 1, 'жидкий ': 1, 'жидкого ': 1, 'жидкокристаллический': 1, 'жизни': 1, 'жизни ': 1, 'жизнь ': 1, 'жилет ': 1, 'жилетик': 1, 'жилетка ': 1, 'жкх': 1, 'жкх ': 1, 'жозефина': 1, 'жужа': 1, 'жук ': 1, 'журавинка': 1, 'журнал ': 1, 'журнальные ': 1, 'журнальный': 1, 'жёлтого ': 1, 'жёсткого ': 1, 'за ': 1, 'заболеван': 1, 'забор ': 1, 'заварки ': 1, 'заварочный': 1, 'завод ': 1, 'завода': 1, 'заводная ': 1, 'заводных ': 1, 'завтраки': 1, 'заглушка ': 1, 'заглушки ': 1, 'загородных ': 1, 'загрузка ': 1, 'загрузки': 1, 'загрузкой': 1, 'зад': 1, 'задания ': 1, 'задачник ': 1, 'задвижка': 1, 'заднего ': 1, 'заднее ': 1, 'задние ': 1, 'задний': 1, 'задний ': 1, 'задняя': 1, 'заезды ': 1, 'зажигалка ': 1, 'зайка ': 1, 'заказ': 1, 'заказ ': 1, 'закаленное ': 1, 'закидушка': 1, 'закладка ': 1, 'заколка ': 1, 'заколках': 1, 'заколки-': 1, 'закрытым ': 1, 'зал': 1, 'зала': 1, 'замесочное ': 1, 'замечательные ': 1, 'замиокулькас': 1, 'замка': 1, 'замка ': 1, 'замком ': 1, 'замок ': 1, 'замок-': 1, 'замша': 1, 'замша ': 1, 'замшевые': 1, 'занавес': 1, 'занавески': 1, 'зандер': 1, 'зановески': 1, 'зануси': 1, 'занусси': 1, 'занятий ': 1, 'запад': 1, 'западная ': 1, 'запечатан': 1, 'заплатки': 1, 'запомните ': 1, 'запонки': 1, 'запорный ': 1, 'запчас': 1, 'запчасти': 1, 'запчасти ': 1, 'запчасть ': 1, 'запчастям ': 1, 'заркало': 1, 'засолки': 1, 'застраховано ': 1, 'засыпной': 1, 'затмение': 1, 'защелка ': 1, 'защите ': 1, 'защитная ': 1, 'защитнику ': 1, 'защитное': 1, 'защитное ': 1, 'защитные ': 1, 'защитный': 1, 'защитный ': 1, 'защиты ': 1, 'защищён ': 1, 'заяц': 1, 'заяц ': 1, 'звезда ': 1, 'звездные ': 1, 'звездный ': 1, 'звездочка': 1, 'звезды': 1, 'зверолов': 1, 'зверский ': 1, 'зверята ': 1, 'звоните ': 1, 'звонить ': 1, 'звонок': 1, 'звонок ': 1, 'звп': 1, 'звука': 1, 'звука ': 1, 'звуковая ': 1, 'звуковую ': 1, 'звуком': 1, 'звукосниматель ': 1, 'звёздного ': 1, 'звёздные ': 1, 'здоровья ': 1, 'зеленая ': 1, 'зеленоград': 1, 'зеленые': 1, 'зеленый': 1, 'земляничка-': 1, 'зенит ': 1, 'зеркала ': 1, 'зеркалами ': 1, 'зеркало': 1, 'зеркало ': 1, 'зеркало-': 1, 'зеркалом': 1, 'зеркальная ': 1, 'зеркальный ': 1, 'зигмунд ': 1, 'зик': 1, 'зил': 1, 'зима': 1, 'зима ': 1, 'зима-': 1, 'зимне-': 1, 'зимнее': 1, 'зимние': 1, 'зимние ': 1, 'зимний': 1, 'зимний ': 1, 'зимнюю': 1, 'зимняя ': 1, 'зимы ': 1, 'зиппи ': 1, 'зк-': 1, 'злаков': 1, 'злотых': 1, 'змеевика': 1, 'змр-': 1, 'знаки': 1, 'знаки ': 1, 'знаменитые ': 1, 'знание': 1, 'значки': 1, 'зов': 1, 'зодиака': 1, 'золота': 1, 'золотистый ': 1, 'золото': 1, 'золото ': 1, 'золото-': 1, 'золотое': 1, 'золотое ': 1, 'золотой': 1, 'золотой ': 1, 'золотом ': 1, 'золотые': 1, 'золотые ': 1, 'золотым ': 1, 'золотых ': 1, 'золя ': 1, 'зона': 1, 'зону ': 1, 'зоркий': 1, 'зоркий ': 1, 'зорький-': 1, 'зубной ': 1, 'зубр ': 1, 'зубъев ': 1, 'зум ': 1, 'зур': 1, 'ибица': 1, 'ибица ': 1, 'ибп ': 1, 'иванов': 1, 'иваново': 1, 'ивановская ': 1, 'ивар': 1, 'ивушка-': 1, 'иглы': 1, 'игнатьев': 1, 'игр ': 1, 'играешь ': 1, 'играми': 1, 'играми ': 1, 'играют ': 1, 'игровой': 1, 'игровой ': 1, 'игровую ': 1, 'игрой ': 1, 'игрока': 1, 'игрушек': 1, 'игрушек ': 1, 'игрушек/': 1, 'игрушечная ': 1, 'игрушка': 1, 'игрушка ': 1, 'игрушка-': 1, 'игрушки': 1, 'игры': 1, 'игры ': 1, 'идательство ': 1, 'идеал': 1, 'идеале ': 1, 'идеальное ': 1, 'идеальном ': 1, 'идеальный': 1, 'иерусалим ': 1, 'из ': 1, 'извлечения ': 1, 'изготавливаем ': 1, 'изготовления': 1, 'изд': 1, 'изд.': 1, 'издательство ': 1, 'изделий ': 1, 'изделия': 1, 'излишки': 1, 'измельчитель ': 1, 'измерения ': 1, 'измерительный': 1, 'изобилия': 1, 'изобразительное ': 1, 'изогнутая ': 1, 'израиль ': 1, 'изумруд ': 1, 'изумрудное ': 1, 'изумруды ': 1, 'икеа': 1, 'икеа ': 1, 'икеи': 1, 'икея': 1, 'икея ': 1, 'икон': 1, 'икона': 1, 'иконы ': 1, 'икт ': 1, 'иллюстрации ': 1, 'иллюстрированная ': 1, 'ильменау': 1, 'имама ': 1, 'именами ': 1, 'именной ': 1, 'имитация ': 1, 'император': 1, 'император ': 1, 'империале': 1, 'импорт ': 1, 'импульсный ': 1, 'имущество ': 1, 'инвалидная': 1, 'инвалидная ': 1, 'инвалидное ': 1, 'инвалидную ': 1, 'инвалидов ': 1, 'инвекторный ': 1, 'инверсионные': 1, 'инвертор': 1, 'инвертор ': 1, 'инверторный ': 1, 'ингалятор ': 1, 'индезит ': 1, 'индейская ': 1, 'индии': 1, 'индийский ': 1, 'индикаторах ': 1, 'индикаторы ': 1, 'индию ': 1, 'индия ': 1, 'индонезия': 1, 'инерционный ': 1, 'инка ': 1, 'иностранных ': 1, 'инсити': 1, 'инспайр ': 1, 'инспирон': 1, 'инсталляционный ': 1, 'инстоляция ': 1, 'инстр': 1, 'инструмент ': 1, 'инструмента': 1, 'инструментальная': 1, 'инструментальный ': 1, 'интарсией': 1, 'интегр': 1, 'интегрированная ': 1, 'интерактивное ': 1, 'интерактивные': 1, 'интерио': 1, 'интерне': 1, 'интернет ': 1, 'интернет-': 1, 'интернета': 1, 'интерскол ': 1, 'интерфейс ': 1, 'интерьерная ': 1, 'инфатрини': 1, 'инфракрасная': 1, 'инфраструктуры ': 1, 'ионизации': 1, 'ионный ': 1, 'ионообменная ': 1, 'ионофореза': 1, 'иорданию': 1, 'иордания': 1, 'ирина ': 1, 'ирисы ': 1, 'иркутск-': 1, 'иск': 1, 'искусства ': 1, 'искусствен': 1, 'искусственный ': 1, 'искусству': 1, 'исландия ': 1, 'испанию': 1, 'испания': 1, 'испания-': 1, 'исполнение ': 1, 'использовался': 1, 'использованный': 1, 'испольщованный': 1, 'исправная ': 1, 'исскувство ': 1, 'истония ': 1, 'история ': 1, 'истре': 1, 'исчисления': 1, 'ит/': 1, 'италия': 1, 'италорех': 1, 'итальянская': 1, 'итальянская ': 1, 'итальянские ': 1, 'итальянского ': 1, 'итальянской ': 1, 'июля': 1, 'июне': 1, 'йо ': 1, 'йога': 1, 'йоги ': 1, 'йогуртница ': 1, 'йорк': 1, 'йоркский ': 1, 'йошкар-': 1, 'кабана': 1, 'кабачков': 1, 'кабель ': 1, 'кабельный ': 1, 'кабина': 1, 'каблук ': 1, 'каблуке': 1, 'кадка ': 1, 'казаков-': 1, 'казахстан': 1, 'казахстана': 1, 'казимир ': 1, 'каира': 1, 'каймой': 1, 'кайта': 1, 'как ': 1, 'кактус ': 1, 'кактусы': 1, 'каланхоэ': 1, 'калатея ': 1, 'калибр': 1, 'калибр ': 1, 'калитка': 1, 'калитка ': 1, 'калитки ': 1, 'калитку': 1, 'калиточный ': 1, 'калонка': 1, 'каляска': 1, 'каляску': 1, 'камбре': 1, 'каменная ': 1, 'камера': 1, 'камеры': 1, 'камин': 1, 'каминные ': 1, 'камней': 1, 'камнем': 1, 'камни ': 1, 'камня': 1, 'камнями': 1, 'камнями ': 1, 'камод': 1, 'кампьютера ': 1, 'камфорного ': 1, 'канада ': 1, 'канадская ': 1, 'канализационный': 1, 'канализация': 1, 'канди ': 1, 'каньки': 1, 'каньон': 1, 'капельная ': 1, 'капельного ': 1, 'капилка': 1, 'капитальный ': 1, 'капитан ': 1, 'капля': 1, 'каподимонте': 1, 'капри ': 1, 'капсульная ': 1, 'капсульного ': 1, 'капучино ': 1, 'капуччинатором': 1, 'капюноном': 1, 'капюшоном': 1, 'каракульчи': 1, 'карандаш': 1, 'карандашница': 1, 'карапуз ': 1, 'карапуз-': 1, 'карась ': 1, 'карбон ': 1, 'кардинал ': 1, 'кардиодатчик': 1, 'кардиодатчик ': 1, 'кардиомонитором': 1, 'карелии ': 1, 'карельского ': 1, 'каретки ': 1, 'каркас ': 1, 'карликовые ': 1, 'карманный ': 1, 'кармашек ': 1, 'кармашки ': 1, 'карнавальный ': 1, 'карповое': 1, 'карповый ': 1, 'карт ': 1, 'карта': 1, 'карта ': 1, 'карташов': 1, 'картина': 1, 'картину': 1, 'картины': 1, 'картины ': 1, 'картон': 1, 'картофелемялка ': 1, 'картриджами': 1, 'картриджи ': 1, 'карту ': 1, 'карты': 1, 'карусель ': 1, 'каруселька ': 1, 'каскад': 1, 'касса': 1, 'кассета ': 1, 'кассеты ': 1, 'кастилия': 1, 'кастрюля ': 1, 'ката ': 1, 'каталог': 1, 'катания': 1, 'катания ': 1, 'катафоты ': 1, 'катушек ': 1, 'катушка': 1, 'катушки': 1, 'катюша': 1, 'каустби': 1, 'каучуком': 1, 'кафельная ': 1, 'кач': 1, 'качалка ': 1, 'качели': 1, 'качели-': 1, 'качелька ': 1, 'качественное ': 1, 'качественные ': 1, 'качественный ': 1, 'качество': 1, 'кашемир': 1, 'кашемир ': 1, 'кашемира ': 1, 'кашемировый': 1, 'кашпо': 1, 'кашпо ': 1, 'квадпркопер': 1, 'квадрат ': 1, 'квадратная ': 1, 'квадратный': 1, 'квадрокоптер': 1, 'квадрокоптер ': 1, 'квартиру': 1, 'кварц': 1, 'кварца ': 1, 'кварцевая': 1, 'кварцевые ': 1, 'квасник': 1, 'квт ': 1, 'кг/': 1, 'кеа ': 1, 'кевларах ': 1, 'кедр ': 1, 'кедра': 1, 'кеды': 1, 'кей ': 1, 'кейс ': 1, 'кейсе': 1, 'кексница': 1, 'кексов': 1, 'кенвуд ': 1, 'кенгуру': 1, 'кенгуруша-': 1, 'кепка': 1, 'кепки ': 1, 'керамзита': 1, 'керамика': 1, 'керамические ': 1, 'керамический': 1, 'керамическую ': 1, 'керамогранита ': 1, 'керасиновая ': 1, 'кигуруми': 1, 'ким ': 1, 'кимано ': 1, 'кимоно ': 1, 'кинг ': 1, 'киндера': 1, 'кинескоп': 1, 'киносценарии': 1, 'кинотеатр': 1, 'кинотеатр ': 1, 'кинотеатра': 1, 'киотный ': 1, 'киото': 1, 'кипр ': 1, 'кипре': 1, 'киргизия ': 1, 'кирпич': 1, 'кисловодск': 1, 'кисловодск ': 1, 'кисломолочный': 1, 'кислород ': 1, 'кислорода': 1, 'кислородный ': 1, 'кистей ': 1, 'кисть-': 1, 'китае': 1, 'китайский ': 1, 'китайских ': 1, 'китайского ': 1, 'китаянки': 1, 'клавиатура': 1, 'клада ': 1, 'кладка': 1, 'клапан ': 1, 'класик': 1, 'класика': 1, 'класика ': 1, 'класс': 1, 'класса': 1, 'классик': 1, 'классика': 1, 'классическое': 1, 'классическое ': 1, 'классные ': 1, 'классом': 1, 'классы': 1, 'клатчи': 1, 'клва': 1, 'клей': 1, 'клей ': 1, 'клеродендрум ': 1, 'клетка': 1, 'клетку': 1, 'клещи ': 1, 'клиент ': 1, 'клингерт ': 1, 'клиновский': 1, 'клинские ': 1, 'клинское ': 1, 'клиппан': 1, 'клипсы ': 1, 'клипся ': 1, 'клктч': 1, 'клоун': 1, 'клоун ': 1, 'клоуны': 1, 'клуб ': 1, 'клубни': 1, 'клубни ': 1, 'ключ': 1, 'ключ ': 1, 'ключей': 1, 'ключей ': 1, 'ключик ': 1, 'клюшка ': 1, 'клён ': 1, 'км-': 1, 'книг': 1, 'книг ': 1, 'книга': 1, 'книга ': 1, 'книга-': 1, 'книгах': 1, 'книги': 1, 'книги ': 1, 'книжечка': 1, 'книжка': 1, 'книжка ': 1, 'книжку': 1, 'книжная ': 1, 'кнорре ': 1, 'ко ': 1, 'кобальтового ': 1, 'кобальтовое ': 1, 'кобура ': 1, 'кованная': 1, 'кованные ': 1, 'кованный ': 1, 'ковер ': 1, 'ковки': 1, 'ковра ': 1, 'ковриик': 1, 'коврик': 1, 'ковриками ': 1, 'коврики-': 1, 'ковров': 1, 'ковровое ': 1, 'ковролин': 1, 'ковролин ': 1, 'ковры': 1, 'ковёр': 1, 'коггала ': 1, 'коготь ': 1, 'код ': 1, 'кодовая ': 1, 'кожа ': 1, 'кожа-': 1, 'кожаная': 1, 'кожаная ': 1, 'кожанная ': 1, 'кожанную ': 1, 'кожанные': 1, 'кожанные ': 1, 'кожанный': 1, 'кожаное ': 1, 'кожаные': 1, 'кожаные ': 1, 'кожей ': 1, 'кожухе': 1, 'козлика': 1, 'козырькомдо ': 1, 'коко': 1, 'кокотница': 1, 'колба ': 1, 'колес ': 1, 'колеса': 1, 'колесико ': 1, 'колесникова': 1, 'колесо': 1, 'колесо ': 1, 'колесом': 1, 'колесы': 1, 'колец ': 1, 'колечко ': 1, 'колиа ': 1, 'коллаж': 1, 'колледжей': 1, 'коллекции': 1, 'коллекционный ': 1, 'коллекция': 1, 'коллекция ': 1, 'колодки ': 1, 'колокольчик': 1, 'колокольчика': 1, 'колокольчиками': 1, 'колонка': 1, 'колонки': 1, 'колонок ': 1, 'колотилов': 1, 'колотые': 1, 'колпачки ': 1, 'колпачок ': 1, 'колхозная': 1, 'колыбель ': 1, 'колыбелька ': 1, 'колыбельная': 1, 'кольцерез ': 1, 'кольцо': 1, 'кольцо ': 1, 'кольцр': 1, 'коляска ': 1, 'коляске ': 1, 'коляски': 1, 'коляску ': 1, 'коляску-': 1, 'колясочки': 1, 'колёс ': 1, 'колёса ': 1, 'команда ': 1, 'командирские ': 1, 'комб ': 1, 'комбаин': 1, 'комбайн': 1, 'комбайн ': 1, 'комбат ': 1, 'комби': 1, 'комбинезон': 1, 'комбинезон ': 1, 'комбинированного ': 1, 'комбинированные': 1, 'комбинированный': 1, 'комбо ': 1, 'комбоусилитель ': 1, 'комиссионка': 1, 'комитекс ': 1, 'комлект ': 1, 'коммерческая ': 1, 'коммуникация ': 1, 'коммутатор ': 1, 'комн ': 1, 'комнатная': 1, 'комнатное ': 1, 'комнатные': 1, 'комнатный ': 1, 'комнату': 1, 'комнату ': 1, 'комнаты': 1, 'комод ': 1, 'комод/': 1, 'комодами': 1, 'комоды': 1, 'комоды ': 1, 'комп': 1, 'комп ': 1, 'компа ': 1, 'компакт ': 1, 'компактная ': 1, 'компактный ': 1, 'компактус ': 1, 'компании ': 1, 'компл': 1, 'комплекс': 1, 'комплекс ': 1, 'комплексы ': 1, 'комплект ': 1, 'комплекта ': 1, 'комплектацией ': 1, 'комплекте': 1, 'комплектом ': 1, 'комплектущие ': 1, 'комплектующие ': 1, 'комплекты': 1, 'комплкаркас': 1, 'композиторы': 1, 'композиц': 1, 'композиция': 1, 'композиция ': 1, 'компректе': 1, 'компрессионые': 1, 'компрессор/': 1, 'компрессорный ': 1, 'компьтер ': 1, 'компьютер': 1, 'компьютер ': 1, 'компьютер-': 1, 'компьютер/': 1, 'компьютера': 1, 'компьютерные': 1, 'компьютерные ': 1, 'компьютерный': 1, 'компьютерный ': 1, 'компьютор': 1, 'комтех ': 1, 'комуфлированный': 1, 'комуфляж ': 1, 'комф ': 1, 'комфорт ': 1, 'комфортер': 1, 'конаково': 1, 'конвекционная ': 1, 'конверт ': 1, 'конвертом': 1, 'конго ': 1, 'кондор': 1, 'конец ': 1, 'конрад ': 1, 'конский ': 1, 'конструктор ': 1, 'контактной ': 1, 'контактор ': 1, 'контейнер': 1, 'контр ': 1, 'контроллер ': 1, 'контрольные': 1, 'конфетница ': 1, 'конфетницы': 1, 'концентратор ': 1, 'концертное ': 1, 'концертный': 1, 'концертный ': 1, 'коньков': 1, 'коньяка': 1, 'коп': 1, 'коп ': 1, 'копеек': 1, 'копеек ': 1, 'копер ': 1, 'копии': 1, 'копии ': 1, 'копилки': 1, 'копирайтинг': 1, 'копия ': 1, 'коптильня ': 1, 'копчения': 1, 'копыл': 1, 'копыт ': 1, 'корабликом': 1, 'коралловое ': 1, 'корела ': 1, 'корзина': 1, 'корзина ': 1, 'корзине': 1, 'корзины ': 1, 'коридорные': 1, 'коричневая ': 1, 'коричневого ': 1, 'коричневый': 1, 'коричневый ': 1, 'кормления ': 1, 'кормления\"': 1, 'коробе': 1, 'коробка ': 1, 'коробках': 1, 'коробке': 1, 'коробке ': 1, 'коробки': 1, 'коробкой ': 1, 'коробку ': 1, 'коробочк': 1, 'коробочки': 1, 'коробы': 1, 'корова': 1, 'коровий ': 1, 'королева ': 1, 'королевство ': 1, 'королю': 1, 'коронационныц ': 1, 'коронка ': 1, 'коронки': 1, 'короной': 1, 'коростень ': 1, 'короткая ': 1, 'короткий': 1, 'короткими ': 1, 'корпус': 1, 'корпуса': 1, 'корпуса ': 1, 'корпусной ': 1, 'коррекции ': 1, 'корро ': 1, 'корс': 1, 'корсиканец': 1, 'кортежем ': 1, 'корундами': 1, 'корундом': 1, 'корытце': 1, 'косвенного ': 1, 'косметики': 1, 'косметический ': 1, 'косметичка': 1, 'косметичка ': 1, 'косметологический ': 1, 'космический ': 1, 'космодром ': 1, 'космос ': 1, 'костыли': 1, 'костыли ': 1, 'костыль ': 1, 'кость ': 1, 'костюм ': 1, 'костюмная': 1, 'костюмы': 1, 'костяной ': 1, 'костяными ': 1, 'косули': 1, 'косуха ': 1, 'котел ': 1, 'котики': 1, 'которое ': 1, 'коттеджа': 1, 'коттеджный': 1, 'котёл ': 1, 'кофе': 1, 'кофе ': 1, 'кофе-': 1, 'кофеварка ': 1, 'кофеварку ': 1, 'кофейные': 1, 'кофейный': 1, 'кофейный ': 1, 'кофейных ': 1, 'кофемашина': 1, 'кофемашину': 1, 'кофемашину ': 1, 'кофемолка ': 1, 'кофта ': 1, 'кофту': 1, 'кофты': 1, 'кочалку': 1, 'кошачим ': 1, 'кошек ': 1, 'кошелек': 1, 'кошелек ': 1, 'кошельке': 1, 'кошелёк ': 1, 'кошка ': 1, 'кошками': 1, 'кошки ': 1, 'кпс-': 1, 'кпснг': 1, 'кра': 1, 'краб ': 1, 'крабы': 1, 'краватка': 1, 'краватку ': 1, 'краги ': 1, 'край': 1, 'край ': 1, 'красавин': 1, 'красавица': 1, 'красавица ': 1, 'красив': 1, 'красивая': 1, 'красивая ': 1, 'красивого ': 1, 'красивое ': 1, 'красивый': 1, 'красивых ': 1, 'краска ': 1, 'краски': 1, 'краскопульт ': 1, 'красная': 1, 'красного ': 1, 'краснодара': 1, 'краснодара ': 1, 'краснодарский ': 1, 'красное ': 1, 'красные': 1, 'красные ': 1, 'красный': 1, 'красный ': 1, 'красным ': 1, 'красоту ': 1, 'красоты': 1, 'красочные ': 1, 'крассула': 1, 'крассула ': 1, 'краткая ': 1, 'кратко ': 1, 'кредитка': 1, 'крем-': 1, 'креманки ': 1, 'кремовая': 1, 'кремовый': 1, 'кремовым ': 1, 'крепеж': 1, 'крепежного ': 1, 'креплени': 1, 'креплением': 1, 'креплениями ': 1, 'крепость ': 1, 'крепыш ': 1, 'кресел': 1, 'кресла': 1, 'кресла ': 1, 'креслами': 1, 'кресло': 1, 'кресло ': 1, 'крестиком ': 1, 'крестовик': 1, 'крестом': 1, 'кристалл': 1, 'кристаллами ': 1, 'кристофер ': 1, 'критика ': 1, 'крк-': 1, 'кровати ': 1, 'кроватка': 1, 'кроватки-': 1, 'кроватку': 1, 'кроватку ': 1, 'кровать ': 1, 'кровать-': 1, 'кровные ': 1, 'кровотечений ': 1, 'крокрис': 1, 'кролик': 1, 'кроличьего ': 1, 'кроличьим ': 1, 'кромка ': 1, 'крона ': 1, 'кронштейн': 1, 'кроны ': 1, 'кроссовер': 1, 'кроссовки': 1, 'кроссовки ': 1, 'кротон': 1, 'кроха ': 1, 'кроя': 1, 'круг': 1, 'круглая': 1, 'круглая ': 1, 'круглогубцы ': 1, 'круглое': 1, 'круглые ': 1, 'круговую ': 1, 'круговые ': 1, 'кружева ': 1, 'кружевом': 1, 'кружек': 1, 'кружкак': 1, 'крузо ': 1, 'круиз ': 1, 'крупная': 1, 'крутой ': 1, 'крыло': 1, 'крыло ': 1, 'крыльев ': 1, 'крым': 1, 'крым ': 1, 'крымские ': 1, 'крышки ': 1, 'крючка ': 1, 'крючки': 1, 'крючком': 1, 'крючок ': 1, 'кто ': 1, 'куба': 1, 'кубанский': 1, 'кубики ': 1, 'кубинские ': 1, 'кубическая': 1, 'кубка ': 1, 'кубовые ': 1, 'кубок': 1, 'кубок ': 1, 'кудрявый': 1, 'кузнечики': 1, 'кузьмичом': 1, 'кукла ': 1, 'куклы': 1, 'куклы ': 1, 'кукол': 1, 'кукол ': 1, 'куколки': 1, 'куколки ': 1, 'кукольного ': 1, 'кукольный ': 1, 'кукушкой': 1, 'кулинарные ': 1, 'кулича ': 1, 'кулон': 1, 'кулон ': 1, 'куницы': 1, 'купальник ': 1, 'купальники ': 1, 'купания': 1, 'купе': 1, 'купе-': 1, 'купера': 1, 'купила': 1, 'купиния': 1, 'купите ': 1, 'купить ': 1, 'куплены ': 1, 'куполом': 1, 'купон ': 1, 'купэ': 1, 'купюра': 1, 'кургане': 1, 'курносики': 1, 'курорты ': 1, 'курс': 1, 'куртка': 1, 'куртка-': 1, 'куртку ': 1, 'курточка': 1, 'куса ': 1, 'кустарники': 1, 'кухни ': 1, 'кухню': 1, 'кухонная ': 1, 'кухонного ': 1, 'кухонной ': 1, 'кухонные ': 1, 'кухонный ': 1, 'кф ': 1, 'кц0024043 ': 1, 'кэмерон': 1, 'кюдо ': 1, 'ла ': 1, 'лабораторная ': 1, 'лабрадоры': 1, 'лава ': 1, 'лавамиша': 1, 'лаванда ': 1, 'лавка ': 1, 'лавки': 1, 'лавки ': 1, 'лаврового ': 1, 'лагеря ': 1, 'лагуна': 1, 'ладонка': 1, 'ладыженская': 1, 'лазаревское': 1, 'лазер': 1, 'лазер ': 1, 'лазерное ': 1, 'лайм': 1, 'лайм ': 1, 'лак ': 1, 'лака': 1, 'лаками': 1, 'лакированный ': 1, 'лаковые ': 1, 'лакруа': 1, 'лалалупси': 1, 'лама ': 1, 'ламбрекен ': 1, 'ламинированная': 1, 'ламинированная ': 1, 'ламинированные ': 1, 'ламированная': 1, 'ламп ': 1, 'лампа': 1, 'лампами': 1, 'лампан': 1, 'лампочки': 1, 'лампочки ': 1, 'лампу ': 1, 'лампы': 1, 'лампы ': 1, 'лампы-': 1, 'ланка ': 1, 'ланку ': 1, 'лапах ': 1, 'лапм': 1, 'лас-': 1, 'ласины ': 1, 'ласты': 1, 'ласты ': 1, 'латекса': 1, 'латины': 1, 'латте': 1, 'латунный ': 1, 'латунь ': 1, 'лаура ': 1, 'лг-': 1, 'лев': 1, 'левая': 1, 'левитанус': 1, 'легенда': 1, 'легенды ': 1, 'легкие': 1, 'легкий': 1, 'легкоатлетические ': 1, 'легкого ': 1, 'лего ': 1, 'ледовые ': 1, 'ледянки': 1, 'ледяной ': 1, 'лежа': 1, 'лежачих ': 1, 'лезвия ': 1, 'лейби': 1, 'лейки ': 1, 'лекарств': 1, 'лекций ': 1, 'лен': 1, 'ленин': 1, 'ленина ': 1, 'леново ': 1, 'леноллиум': 1, 'лент ': 1, 'лента': 1, 'лентами ': 1, 'ленте': 1, 'лентой': 1, 'ленты': 1, 'ленты ': 1, 'леон ': 1, 'леона ': 1, 'леопард': 1, 'леопардовая ': 1, 'леопардовое': 1, 'леопардовое ': 1, 'лепнина': 1, 'лес': 1, 'лес ': 1, 'леса': 1, 'лесенка': 1, 'леска': 1, 'леска ': 1, 'лесков': 1, 'лесная ': 1, 'лестница ': 1, 'лестницей': 1, 'лестницу ': 1, 'лестницы': 1, 'лет ': 1, 'летающая ': 1, 'летающий ': 1, 'летие ': 1, 'летнее ': 1, 'летние': 1, 'летний ': 1, 'летняя': 1, 'лето': 1, 'летом': 1, 'летящая ': 1, 'лечебный ': 1, 'лечение ': 1, 'лиана': 1, 'либерия': 1, 'ливана ': 1, 'лидер ': 1, 'лиз': 1, 'лиза': 1, 'лик': 1, 'ликвидация ': 1, 'лилий ': 1, 'лилия': 1, 'лилия ': 1, 'лимитер ': 1, 'лимонов': 1, 'лин ': 1, 'линейка': 1, 'линейный ': 1, 'линзы ': 1, 'линолеум ': 1, 'липа': 1, 'липсиц': 1, 'липучка': 1, 'липучках': 1, 'липучке ': 1, 'лир ': 1, 'лис': 1, 'лиса ': 1, 'листа': 1, 'лиственница': 1, 'лиственницы': 1, 'листовой': 1, 'листы': 1, 'листы ': 1, 'листья ': 1, 'листьями': 1, 'лисы': 1, 'лисы ': 1, 'литература ': 1, 'литературе': 1, 'литературная ': 1, 'литературное ': 1, 'литературы': 1, 'литературы ': 1, 'литиевая ': 1, 'литой ': 1, 'литров': 1, 'лиц': 1, 'лицензионные ': 1, 'лицензионный ': 1, 'лицензированные': 1, 'лицензия': 1, 'лицензия ': 1, 'личным ': 1, 'лишнее': 1, 'лишняя ': 1, 'лобелия ': 1, 'лобзик': 1, 'лобзик ': 1, 'ловец ': 1, 'ловушка ': 1, 'логарифмическая ': 1, 'логарифмическую ': 1, 'логарифмов ': 1, 'логин ': 1, 'логотипом ': 1, 'лодка ': 1, 'ложек': 1, 'ложечкой': 1, 'ложка': 1, 'ложка ': 1, 'ложки ': 1, 'лоза': 1, 'локомотивных ': 1, 'ломтерезка ': 1, 'лонгман ': 1, 'лорд ': 1, 'лос-': 1, 'лосины': 1, 'лося': 1, 'лот ': 1, 'лоферы ': 1, 'лощеный ': 1, 'лр-': 1, 'лука': 1, 'луковый ': 1, 'луч ': 1, 'лучезапястный ': 1, 'лучшие ': 1, 'лучший ': 1, 'лучших ': 1, 'лфз': 1, 'лфзи': 1, 'лыж ': 1, 'лыжероллеры': 1, 'лыжи ': 1, 'лыжное ': 1, 'лыжные ': 1, 'львишка ': 1, 'льду': 1, 'любая ': 1, 'любви': 1, 'любимым': 1, 'люблю ': 1, 'любовь ': 1, 'любого ': 1, 'любое': 1, 'любой ': 1, 'любых ': 1, 'людей ': 1, 'людмила ': 1, 'люкс': 1, 'люкс-': 1, 'люксовый ': 1, 'люлька': 1, 'люлька ': 1, 'люльку ': 1, 'люминисцентные': 1, 'люмия ': 1, 'люпин ': 1, 'люстра': 1, 'люстру': 1, 'люстру ': 1, 'люстры': 1, 'люстры ': 1, 'лютнер': 1, 'лютый ': 1, 'ля ': 1, 'лягушка': 1, 'лёжа': 1, 'м10': 1, 'м128': 1, 'м350': 1, 'м550 ': 1, 'м8 ': 1, 'маблос ': 1, 'маврик': 1, 'магазина': 1, 'магн': 1, 'магнитный ': 1, 'магнитола ': 1, 'магниты': 1, 'магнолия': 1, 'маджик': 1, 'мае': 1, 'маз': 1, 'май-': 1, 'майер ': 1, 'майка ': 1, 'майнкрафт ': 1, 'майские': 1, 'майские ': 1, 'мак': 1, 'макарена ': 1, 'макдональс ': 1, 'маки ': 1, 'макита ': 1, 'макияжа': 1, 'макияжа ': 1, 'маккартней': 1, 'макконнелл ': 1, 'макрофлекс ': 1, 'макси': 1, 'макстон': 1, 'мал': 1, 'малазийского ': 1, 'малайзийский': 1, 'маленкья': 1, 'маленький ': 1, 'малинное ': 1, 'малиновка-': 1, 'малиновый': 1, 'мало ': 1, 'малогабаритная ': 1, 'малореченское': 1, 'малые': 1, 'малые ': 1, 'малый': 1, 'малый ': 1, 'малыша': 1, 'малышей': 1, 'малышей ': 1, 'малышка ': 1, 'малышмамино ': 1, 'мальчик': 1, 'мальчика ': 1, 'мальчишечья': 1, 'малютка-': 1, 'мам': 1, 'мама': 1, 'мама ': 1, 'маме': 1, 'мамедов': 1, 'мамикониан ': 1, 'мамсунг ': 1, 'ман': 1, 'мангал': 1, 'мангал ': 1, 'мангалу ': 1, 'мангалы': 1, 'мандарин': 1, 'манеж': 1, 'манеж ': 1, 'манеж-': 1, 'манекен ': 1, 'манетка ': 1, 'манеты ': 1, 'маникюр': 1, 'маникюра ': 1, 'манитор': 1, 'манометром ': 1, 'мансардное ': 1, 'мансардой ': 1, 'марии ': 1, 'марина': 1, 'маринченко ': 1, 'мария': 1, 'марк ': 1, 'марки': 1, 'марки ': 1, 'маркиз ': 1, 'маркиза': 1, 'марлена ': 1, 'мармышки': 1, 'марок': 1, 'марок ': 1, 'марокко': 1, 'марс ': 1, 'марсала': 1, 'марсианин': 1, 'марта': 1, 'марта ': 1, 'мартас': 1, 'марте': 1, 'маршал': 1, 'маршрутизатор': 1, 'маршрутизатор ': 1, 'масажер ': 1, 'маскировочный ': 1, 'маской': 1, 'масленичный ': 1, 'масленка ': 1, 'масло': 1, 'маслом': 1, 'массажер': 1, 'массажер ': 1, 'массажеры': 1, 'массажную ': 1, 'массажные': 1, 'массажные ': 1, 'массажный': 1, 'массивные ': 1, 'мастер ': 1, 'мастер-': 1, 'мастера ': 1, 'мастерка ': 1, 'мастеровое ': 1, 'мастерская ': 1, 'математика': 1, 'математика ': 1, 'матери': 1, 'материал': 1, 'материалы ': 1, 'матовая ': 1, 'матовое': 1, 'матовые ': 1, 'матовый ': 1, 'матрас': 1, 'матраса': 1, 'матрасами': 1, 'матрасик ': 1, 'матрасиком': 1, 'матрасом': 1, 'матрасом ': 1, 'матрасы': 1, 'матрасы ': 1, 'матрац': 1, 'матрац ': 1, 'матрацами': 1, 'матрацем': 1, 'матрешка': 1, 'матрица': 1, 'матрица ': 1, 'матрос ': 1, 'матрёшка': 1, 'матрёшки': 1, 'маузер ': 1, 'махагон': 1, 'махагон ': 1, 'махрового ': 1, 'махровое ': 1, 'махровые ': 1, 'махровый': 1, 'маш': 1, 'маша ': 1, 'машина': 1, 'машина ': 1, 'машина-': 1, 'машинка': 1, 'машинки ': 1, 'машинку': 1, 'машинку ': 1, 'машинок ': 1, 'машину': 1, 'машину ': 1, 'мая': 1, 'маяк ': 1, 'маятник': 1, 'маятник ': 1, 'маятниковым ': 1, 'маятником': 1, 'маятником ': 1, 'мвд': 1, 'мвидео': 1, 'мдс1-': 1, 'мдф': 1, 'мдф ': 1, 'ме ': 1, 'меб': 1, 'мебели': 1, 'мебели ': 1, 'мебель ': 1, 'мебельная ': 1, 'мебельную ': 1, 'мебельные ': 1, 'мебельный ': 1, 'мегафон': 1, 'мегафон ': 1, 'медали': 1, 'медальный ': 1, 'медбол': 1, 'медведя': 1, 'медведя ': 1, 'медведями': 1, 'медецинские ': 1, 'медицина': 1, 'медицинбол': 1, 'медицине': 1, 'медицинская ': 1, 'медицинские ': 1, 'медицинский ': 1, 'медичи': 1, 'медленнорастущая ': 1, 'медная': 1, 'медная ': 1, 'медный': 1, 'медовая/': 1, 'межкомнатиная ': 1, 'межкомнатная': 1, 'межкомнатные': 1, 'межкомнатные ': 1, 'межпальцевая ': 1, 'межсезонье': 1, 'мексика ': 1, 'мелассу ': 1, 'мелким ': 1, 'мелколистные ': 1, 'мелодия': 1, 'мельхиор': 1, 'мельхиор ': 1, 'мельхиоровый ': 1, 'мембрана ': 1, 'менделеева': 1, 'менделеева ': 1, 'меню ': 1, 'меняю ': 1, 'мери ': 1, 'мериносов': 1, 'мерный ': 1, 'мерседес': 1, 'мес': 1, 'места ': 1, 'местная': 1, 'место': 1, 'месяца': 1, 'месяцев ': 1, 'метал': 1, 'металическа ': 1, 'металические ': 1, 'металл ': 1, 'металл-': 1, 'металла': 1, 'металла ': 1, 'металлик ': 1, 'металлическая': 1, 'металлическая ': 1, 'металлическая-': 1, 'металлические': 1, 'металлические ': 1, 'металлических ': 1, 'металлическую': 1, 'металлическую ': 1, 'металлодетектор ': 1, 'металлоискатель ': 1, 'металлопластиковые ': 1, 'металлопрокат ': 1, 'металлорукав ': 1, 'металлу ': 1, 'меткон ': 1, 'метлахской': 1, 'методические ': 1, 'метра': 1, 'метра ': 1, 'метрик': 1, 'метрика ': 1, 'метров': 1, 'метровые ': 1, 'меттер': 1, 'метчикодержатель ': 1, 'мех': 1, 'мех ': 1, 'меха ': 1, 'механизмом': 1, 'механика': 1, 'механическая': 1, 'механические': 1, 'меховая': 1, 'меховое ': 1, 'меховой ': 1, 'меховую ': 1, 'меховые ': 1, 'мехом': 1, 'мечты ': 1, 'мешках': 1, 'мешков ': 1, 'мешок ': 1, 'мидж ': 1, 'миди ': 1, 'микрафон': 1, 'микропроцессоры ': 1, 'микрософт ': 1, 'микрофибра ': 1, 'микрофон': 1, 'микрофон ': 1, 'микс ': 1, 'миксера ': 1, 'микшер': 1, 'микшер ': 1, 'микшер/': 1, 'микшерный ': 1, 'миланский ': 1, 'милая ': 1, 'милитари': 1, 'милосердия': 1, 'милые ': 1, 'милых ': 1, 'мими-': 1, 'мин': 1, 'мини': 1, 'мини-': 1, 'минимальный ': 1, 'министадион ': 1, 'министерство ': 1, 'минифигурка ': 1, 'минплита ': 1, 'миньон': 1, 'миостимуляией': 1, 'мир': 1, 'мир ': 1, 'мираж ': 1, 'мире': 1, 'мириам ': 1, 'миро': 1, 'мировая ': 1, 'мировой': 1, 'мировой ': 1, 'мирта': 1, 'мисс ': 1, 'мистери': 1, 'митчеллз': 1, 'мичуринец': 1, 'мишель ': 1, 'мишка': 1, 'мишка ': 1, 'мкр': 1, 'мкупон ': 1, 'мл/': 1, 'младенца': 1, 'млечный': 1, 'мм ': 1, 'ммд': 1, 'ммд ': 1, 'ммд-': 1, 'ммз ': 1, 'много ': 1, 'многолетник': 1, 'многоуровневая ': 1, 'многофункциональная ': 1, 'многофункциональный ': 1, 'мобиль ': 1, 'мобильник': 1, 'мобильный ': 1, 'могикане ': 1, 'мод': 1, 'моделей': 1, 'модели ': 1, 'модели-': 1, 'модель ': 1, 'модельеры': 1, 'модельки ': 1, 'модем': 1, 'модем-': 1, 'модемы': 1, 'модерн ': 1, 'модное ': 1, 'модонна': 1, 'модулей': 1, 'модули ': 1, 'модульную ': 1, 'модульные': 1, 'модульный ': 1, 'моента ': 1, 'можга': 1, 'можно ': 1, 'мозаика ': 1, 'мозаичные ': 1, 'мой ': 1, 'мойдодыр': 1, 'мойка': 1, 'мойка ': 1, 'мокасины ': 1, 'мокрый ': 1, 'молдинг ': 1, 'молинаро ': 1, 'молнии': 1, 'молний ': 1, 'молния ': 1, 'молодая': 1, 'молодежи': 1, 'молодежная': 1, 'молодежная ': 1, 'молодежные': 1, 'молодежь ': 1, 'молокоотсос': 1, 'молокоотсос ': 1, 'молокоотсосы': 1, 'молокотсос ': 1, 'молот ': 1, 'молотку ': 1, 'молоток': 1, 'молочная ': 1, 'молочник ': 1, 'молочного ': 1, 'мольберт ': 1, 'мона ': 1, 'монах': 1, 'мондо': 1, 'монет ': 1, 'монетn31 ': 1, 'монета': 1, 'монетник ': 1, 'монетница ': 1, 'монетный ': 1, 'монеток.': 1, 'монету': 1, 'монеты': 1, 'монеты ': 1, 'монитор': 1, 'монитор17': 1, 'монитора ': 1, 'мониторов': 1, 'монитором': 1, 'моно ': 1, 'моноблок': 1, 'монпансье ': 1, 'монро': 1, 'монро ': 1, 'монстер ': 1, 'монстера': 1, 'монстера ': 1, 'монстр-': 1, 'монтаж ': 1, 'монтажки': 1, 'монтажная': 1, 'монтажная ': 1, 'монтажную ': 1, 'монтажные ': 1, 'монтажный ': 1, 'моп2': 1, 'морган': 1, 'морганитом ': 1, 'мордора ': 1, 'морелли': 1, 'моркови ': 1, 'мормышки': 1, 'мормышки ': 1, 'моро': 1, 'мороженое': 1, 'морские ': 1, 'морской ': 1, 'мортал ': 1, 'морю': 1, 'моря ': 1, 'морячок': 1, 'москвич': 1, 'москву': 1, 'мотивы': 1, 'мото ': 1, 'моток': 1, 'мотокомбинезон': 1, 'мотокросса': 1, 'мотокросса ': 1, 'мотор ': 1, 'мотоцикла': 1, 'мощности ': 1, 'мощные ': 1, 'мощный': 1, 'мрамор': 1, 'мраморная': 1, 'мс72': 1, 'мск ': 1, 'мстера': 1, 'мстители': 1, 'мтб ': 1, 'муж': 1, 'мужика': 1, 'мужицкий ': 1, 'мужская': 1, 'мужская ': 1, 'мужские': 1, 'мужские/': 1, 'мужское ': 1, 'мужской': 1, 'мужской ': 1, 'мужчине': 1, 'мужчины': 1, 'муза': 1, 'музыка': 1, 'музыка ': 1, 'музыкальная': 1, 'музыкальная ': 1, 'музыкального ': 1, 'музыкальное ': 1, 'музыкант ': 1, 'музыканта': 1, 'музыки': 1, 'мульрезка ': 1, 'мульт-': 1, 'мульти-': 1, 'мультиварка': 1, 'мультиварка ': 1, 'мультиварки': 1, 'мультиварку ': 1, 'мультик ': 1, 'мультимедиа': 1, 'мультимедийная ': 1, 'мультиметр ': 1, 'мультипано ': 1, 'мультипликатоную ': 1, 'мультипликаторная ': 1, 'мультистайлер ': 1, 'мультитул ': 1, 'мультяшка ': 1, 'муляж': 1, 'муляжи ': 1, 'муми-': 1, 'мунчаев': 1, 'мусульман/': 1, 'мутон': 1, 'мутона': 1, 'муфта ': 1, 'мхк': 1, 'мцыри ': 1, 'мчс ': 1, 'мыла ': 1, 'мыш': 1, 'мышка': 1, 'мэф ': 1, 'мюллер ': 1, 'мя ': 1, 'мягкая ': 1, 'мягкие ': 1, 'мягкий ': 1, 'мягкой ': 1, 'мятая ': 1, 'мятный ': 1, 'мяч': 1, 'нoвый': 1, 'на ': 1, 'набережная': 1, 'набор': 1, 'набор ': 1, 'наборная ': 1, 'навес': 1, 'навес ': 1, 'навесная': 1, 'навесная ': 1, 'навесных': 1, 'навесом': 1, 'навесы': 1, 'навигаmitac ': 1, 'навигатор': 1, 'навигатор ': 1, 'навоз': 1, 'наволочка': 1, 'наволочки ': 1, 'навсегда ': 1, 'нагр': 1, 'нагрева ': 1, 'нагреватель ': 1, 'нагрудное ': 1, 'надевающий ': 1, 'надежная ': 1, 'надежный ': 1, 'надо ': 1, 'надписью ': 1, 'надувная': 1, 'надувная ': 1, 'надувной ': 1, 'надёжные ': 1, 'название ': 1, 'назначением ': 1, 'назови': 1, 'найди ': 1, 'найти ': 1, 'накидка': 1, 'накидушки ': 1, 'накладка': 1, 'накладка ': 1, 'наклейка ': 1, 'наклейки ': 1, 'наковальня': 1, 'наколенник ': 1, 'наколенники ': 1, 'наконечник ': 1, 'накопителем ': 1, 'накопительный': 1, 'налетайте': 1, 'наливной ': 1, 'наливные ': 1, 'наличие': 1, 'наличии': 1, 'налогообложение': 1, 'намывной ': 1, 'напитков': 1, 'напитков ': 1, 'напольная': 1, 'напольная ': 1, 'напольное ': 1, 'напольные': 1, 'напольный': 1, 'напряжения ': 1, 'напрямую ': 1, 'наращивания ': 1, 'народной ': 1, 'народный ': 1, 'народных ': 1, 'народов': 1, 'народов ': 1, 'наружняя ': 1, 'наручные ': 1, 'нарядная ': 1, 'нарядное ': 1, 'нас ': 1, 'насадка ': 1, 'насадки': 1, 'насадки ': 1, 'насекомые ': 1, 'населения ': 1, 'насос ': 1, 'насос/': 1, 'насоса ': 1, 'насосная ': 1, 'насосной ': 1, 'насосом': 1, 'насосы': 1, 'настен': 1, 'настенная': 1, 'настенная ': 1, 'настенно-': 1, 'настенное': 1, 'настенные ': 1, 'настенный ': 1, 'настольное ': 1, 'настольные': 1, 'настольный': 1, 'настольный ': 1, 'настоящая': 1, 'настоящего ': 1, 'настоящему ': 1, 'настоящих ': 1, 'настоящций ': 1, 'наступательная ': 1, 'нат ': 1, 'нательное ': 1, 'натуральная ': 1, 'натурального ': 1, 'натуральной ': 1, 'натуральные': 1, 'натуральный ': 1, 'натуральным ': 1, 'натуральных ': 1, 'наука ': 1, 'наутилиус': 1, 'нахлыста': 1, 'начала ': 1, 'начинающих': 1, 'начинающих ': 1, 'наш': 1, 'наш ': 1, 'нашего ': 1, 'наши ': 1, 'нашивка ': 1, 'нд-': 1, 'не ': 1, 'неба ': 1, 'небеса': 1, 'небесного ': 1, 'небесные ': 1, 'небольшом ': 1, 'небулайзер ': 1, 'нева ': 1, 'неваляшка ': 1, 'невероятная': 1, 'невского': 1, 'недели ': 1, 'неделька ': 1, 'недорого.': 1, 'нежность ': 1, 'незабываемого ': 1, 'незабываемую ': 1, 'незацепляйки': 1, 'ней ': 1, 'нейропсихология ': 1, 'некоторые': 1, 'некрасовцев': 1, 'нелегал ': 1, 'немагнитная': 1, 'немецкий ': 1, 'немецкого': 1, 'немецкого ': 1, 'немецкую ': 1, 'ненецкий': 1, 'необычное ': 1, 'необычные ': 1, 'непентес': 1, 'нерабочий': 1, 'нерабочий ': 1, 'нержавейки': 1, 'нержавейки ': 1, 'нержавеющая ': 1, 'нержавеющей ': 1, 'несет ': 1, 'несовершеннолетних': 1, 'нестле': 1, 'нет ': 1, 'нетания': 1, 'нетбук': 1, 'нетбук ': 1, 'нетбука': 1, 'нецки': 1, 'нечастая ': 1, 'нечистую ': 1, 'ниблер': 1, 'ниблер ': 1, 'нивелир': 1, 'нидерланды ': 1, 'низким ': 1, 'ника ': 1, 'ника4': 1, 'никел ': 1, 'никелированные ': 1, 'никелированный': 1, 'николавева': 1, 'николай': 1, 'нитариста': 1, 'нител': 1, 'нитяные ': 1, 'ницше': 1, 'нная': 1, 'нов': 1, 'новая ': 1, 'новгорорда': 1, 'новенький': 1, 'новинка ': 1, 'новинки ': 1, 'нового': 1, 'нового ': 1, 'новое': 1, 'новое ': 1, 'новой': 1, 'новом ': 1, 'новорожденных': 1, 'новосибирске': 1, 'новостройки': 1, 'новую': 1, 'новую ': 1, 'новые': 1, 'новый': 1, 'новый ': 1, 'новый/': 1, 'новыми ': 1, 'новых': 1, 'новых ': 1, 'ног': 1, 'ног ': 1, 'ноге ': 1, 'ноготочков': 1, 'нож ': 1, 'нождак': 1, 'ножей ': 1, 'ножек': 1, 'нокиа': 1, 'нокия ': 1, 'номерам': 1, 'номинала': 1, 'норвег': 1, 'норвегия ': 1, 'норка': 1, 'норка ': 1, 'норка-': 1, 'норки': 1, 'норки ': 1, 'норковая ': 1, 'норковую ': 1, 'норковые ': 1, 'носа': 1, 'носиком': 1, 'носовой ': 1, 'ностальжи ': 1, 'ноты ': 1, 'ноутбук': 1, 'ноутбук ': 1, 'ноутбука': 1, 'ноутбука ': 1, 'ноутбуки ': 1, 'ночей': 1, 'ночей/': 1, 'ночи': 1, 'ночник': 1, 'ночник ': 1, 'ночного ': 1, 'ночной ': 1, 'нуга ': 1, 'нуга-': 1, 'нужны ': 1, 'нуотбук ': 1, 'нутрилак ': 1, 'нш-': 1, 'нью-': 1, 'ньюрокеры': 1, 'нэнни': 1, 'нэнни ': 1, 'нячанг ': 1, 'оазис': 1, 'оаэ': 1, 'оаэ ': 1, 'об/': 1, 'обеденная ': 1, 'обеденную ': 1, 'обеденный': 1, 'обер': 1, 'облаках': 1, 'облако ': 1, 'области ': 1, 'облицовочный ': 1, 'обложка ': 1, 'обмен ': 1, 'обод ': 1, 'обода ': 1, 'ободок': 1, 'оборотень ': 1, 'оборудование': 1, 'оборудование ': 1, 'оборудования ': 1, 'обр': 1, 'образ ': 1, 'образец': 1, 'образная ': 1, 'обратный ': 1, 'обрезиненные ': 1, 'обрезиненный ': 1, 'обрезки ': 1, 'обрезная': 1, 'обрезная ': 1, 'обретает ': 1, 'обруч ': 1, 'обручальное ': 1, 'обсадные ': 1, 'обучения': 1, 'обучения ': 1, 'общая ': 1, 'общей ': 1, 'общества ': 1, 'общество': 1, 'обществу': 1, 'объемные ': 1, 'овал': 1, 'овал ': 1, 'овальной ': 1, 'оватта': 1, 'овечьей ': 1, 'овечьи ': 1, 'овечья ': 1, 'овощерезка': 1, 'овощные ': 1, 'овощьное': 1, 'овчарка': 1, 'огнестойкий ': 1, 'огнеупорная ': 1, 'огни ': 1, 'огня ': 1, 'ого ': 1, 'ограждение': 1, 'ограждением': 1, 'ограждения ': 1, 'ограниченная ': 1, 'ограничитель ': 1, 'огромная ': 1, 'огурцы': 1, 'одежда': 1, 'одежда ': 1, 'одежды ': 1, 'одеяла ': 1, 'одеяло ': 1, 'одеяло-': 1, 'одинарный ': 1, 'одинокий ': 1, 'одиночества': 1, 'одинцово': 1, 'одна ': 1, 'одно ': 1, 'одном ': 1, 'односпальная': 1, 'односпальная ': 1, 'односпальные': 1, 'одну ': 1, 'одуин-': 1, 'оздоровления ': 1, 'озерный ': 1, 'озеру ': 1, 'озу ': 1, 'океан': 1, 'океан ': 1, 'океаном': 1, 'окно': 1, 'окон ': 1, 'окрасом': 1, 'окрашенная': 1, 'окружающий ': 1, 'ола': 1, 'олененка ': 1, 'олененок': 1, 'оленя': 1, 'оленёнок': 1, 'оливия': 1, 'оливковая': 1, 'олимпиада': 1, 'олимпийские ': 1, 'олмстад ': 1, 'ольха': 1, 'омск': 1, 'операции ': 1, 'операция': 1, 'опи': 1, 'опилки ': 1, 'описание': 1, 'описание ': 1, 'опора': 1, 'опора ': 1, 'опоры': 1, 'оправа': 1, 'оптимального ': 1, 'оптовый ': 1, 'оптовым ': 1, 'оптом': 1, 'оптом ': 1, 'опыты ': 1, 'оранж': 1, 'оранжевая': 1, 'орбита ': 1, 'органайзер': 1, 'органза': 1, 'органза ': 1, 'организуем ': 1, 'орден ': 1, 'орденов': 1, 'орех': 1, 'оригинал': 1, 'оригинал ': 1, 'оригинальные': 1, 'оригинальные ': 1, 'оригинальный ': 1, 'оригинальныйнабор ': 1, 'орилаг ': 1, 'орио': 1, 'орт ': 1, 'ортез ': 1, 'орто-': 1, 'ортодонтическая ': 1, 'ортопед ': 1, 'ортопедические': 1, 'ортопедические ': 1, 'ортопедический ': 1, 'оружейная ': 1, 'оружейный': 1, 'оружие': 1, 'оружие\"': 1, 'орхидеи ': 1, 'осанки ': 1, 'освещение': 1, 'осенние': 1, 'осенние ': 1, 'осень-': 1, 'осины ': 1, 'основа ': 1, 'основами ': 1, 'основании ': 1, 'основном ': 1, 'основы ': 1, 'особый': 1, 'осталось ': 1, 'остатки': 1, 'остатки ': 1, 'острова': 1, 'ось ': 1, 'от ': 1, 'отава': 1, 'отбеливания ': 1, 'отбойники': 1, 'отбойный ': 1, 'отве': 1, 'отверс': 1, 'отверстием ': 1, 'отверстия': 1, 'отвечаю': 1, 'отвод ': 1, 'отдам ': 1, 'отделением ': 1, 'отделке': 1, 'отделкой ': 1, 'отделочные ': 1, 'отдельно ': 1, 'отдых': 1, 'отдых ': 1, 'отдыха': 1, 'отеле ': 1, 'отели ': 1, 'отель ': 1, 'отечественной ': 1, 'отжима ': 1, 'откатные ': 1, 'откидной ': 1, 'откосы ': 1, 'открытие': 1, 'открытие ': 1, 'открытка': 1, 'открытка ': 1, 'открыто ': 1, 'открытой ': 1, 'открыты ': 1, 'открытый ': 1, 'открытыми ': 1, 'отл': 1, 'отлично ': 1, 'отличное': 1, 'отличное ': 1, 'отличной ': 1, 'отличном ': 1, 'отличную ': 1, 'отличный ': 1, 'отопление ': 1, 'отопления': 1, 'отопления ': 1, 'отпечатки ': 1, 'отправка ': 1, 'отражательная ': 1, 'отражением ': 1, 'отрез ': 1, 'отрезной': 1, 'отсекатель ': 1, 'отсеков ': 1, 'оттенком': 1, 'отягощений ': 1, 'офигенный ': 1, 'офиса': 1, 'офиса ': 1, 'офисная ': 1, 'офисное ': 1, 'офисный': 1, 'офицерская ': 1, 'охота': 1, 'охота ': 1, 'охотник ': 1, 'охотника': 1, 'охотничий ': 1, 'охоты': 1, 'охоты ': 1, 'оцин': 1, 'оцинко': 1, 'оцинков': 1, 'оцинкованная ': 1, 'оцинкованый': 1, 'оч ': 1, 'очаровательная ': 1, 'очаровательное ': 1, 'очаровашка': 1, 'очаровашки ': 1, 'очистки ': 1, 'очищения ': 1, 'очки ': 1, 'очков ': 1, 'ош-': 1, 'ошн': 1, 'п4 ': 1, 'павильон': 1, 'павлика ': 1, 'павловича ': 1, 'паги': 1, 'падение ': 1, 'падушка ': 1, 'паеток': 1, 'пазо-': 1, 'пайетки': 1, 'пайты': 1, 'пакет ': 1, 'пакс ': 1, 'палантин': 1, 'палантин ': 1, 'палас': 1, 'палас ': 1, 'палатка': 1, 'палатку': 1, 'палатку ': 1, 'палау ': 1, 'палермо ': 1, 'палка': 1, 'палками': 1, 'палки': 1, 'палки ': 1, 'пальма': 1, 'пальма ': 1, 'пальто': 1, 'пальто ': 1, 'пальцы ': 1, 'памперс ': 1, 'памперсов ': 1, 'памперсом ': 1, 'памперсы': 1, 'памяти ': 1, 'памятные ': 1, 'память ': 1, 'панама ': 1, 'панда': 1, 'панданус': 1, 'пандора': 1, 'панды ': 1, 'панелей': 1, 'панели': 1, 'панели ': 1, 'панельку ': 1, 'панкратов': 1, 'панно': 1, 'панно ': 1, 'панорамное ': 1, 'панфилова': 1, 'папка ': 1, 'папок': 1, 'пара': 1, 'пара ': 1, 'парабеллум ': 1, 'паравозик': 1, 'парад ': 1, 'параллон': 1, 'параплан ': 1, 'парик': 1, 'парик ': 1, 'парк': 1, 'паркет ': 1, 'парковка ': 1, 'парковые ': 1, 'парные ': 1, 'пароварка': 1, 'пароварка ': 1, 'пароварка-': 1, 'пароварку': 1, 'пароварку ': 1, 'паровоз ': 1, 'паровозик': 1, 'пароизоляционная ': 1, 'парок ': 1, 'парта': 1, 'партьеры ': 1, 'парус': 1, 'пары': 1, 'пары ': 1, 'паспорта ': 1, 'патефон': 1, 'патефон ': 1, 'патефона': 1, 'патологическая ': 1, 'патрон': 1, 'патрон ': 1, 'патронов': 1, 'патруль ': 1, 'патруль-': 1, 'паттайю ': 1, 'паттайя': 1, 'паук ': 1, 'паука': 1, 'паука/': 1, 'паучий ': 1, 'пауэрлифтинг': 1, 'пачка ': 1, 'пачкой': 1, 'паяльник ': 1, 'пдд': 1, 'пду': 1, 'пег-': 1, 'педали': 1, 'педаль ': 1, 'педалями ': 1, 'педикюра': 1, 'педикюрный ': 1, 'пейзаж ': 1, 'пекелис': 1, 'пелагия ': 1, 'пеларгонии': 1, 'пеленальная ': 1, 'пеленальный': 1, 'пеленальный ': 1, 'пеленальным ': 1, 'пеленания': 1, 'пеленок': 1, 'пена ': 1, 'пеналом': 1, 'пенни ': 1, 'пенсов ': 1, 'пену ': 1, 'пеньюар ': 1, 'пепельница': 1, 'пеппы': 1, 'пепси-': 1, 'первого ': 1, 'первой ': 1, 'первые ': 1, 'первых ': 1, 'пере': 1, 'перевёртыш': 1, 'переговоров': 1, 'перегородка ': 1, 'перегородки ': 1, 'переделок': 1, 'переднего': 1, 'передняя ': 1, 'пережитое': 1, 'перекид': 1, 'перекидная ': 1, 'переключатель ': 1, 'перемен ': 1, 'переноса ': 1, 'переноска': 1, 'переноску': 1, 'перец ': 1, 'перечница': 1, 'перио': 1, 'перламутра': 1, 'перламутром': 1, 'перманентного ': 1, 'перо': 1, 'персон': 1, 'персоналом': 1, 'персональная ': 1, 'персоны': 1, 'перстень ': 1, 'перуанской': 1, 'перчатки': 1, 'перчатки ': 1, 'песец ': 1, 'пескова': 1, 'песочница ': 1, 'петербург ': 1, 'петербурга': 1, 'петлями': 1, 'петр ': 1, 'петух': 1, 'печатная': 1, 'печки': 1, 'печная ': 1, 'печора ': 1, 'печь ': 1, 'пещеров ': 1, 'пиала': 1, 'пианино': 1, 'пивных ': 1, 'пивозом ': 1, 'пигтелы ': 1, 'пиджак ': 1, 'пиз': 1, 'пикгард ': 1, 'пикселюс ': 1, 'пикуль ': 1, 'пила': 1, 'пила ': 1, 'пилки ': 1, 'пиломатериал ': 1, 'пилон': 1, 'пилотажного ': 1, 'пилы ': 1, 'пингвин ': 1, 'пиноккио': 1, 'пиньята': 1, 'пирамидка ': 1, 'пири': 1, 'пирогов': 1, 'пирометр ': 1, 'пистолета': 1, 'письменный': 1, 'письменный ': 1, 'питан': 1, 'питание ': 1, 'питанием ': 1, 'питания': 1, 'питания ': 1, 'питьевой ': 1, 'питья': 1, 'пихора': 1, 'пихта': 1, 'пихты': 1, 'пище': 1, 'пищевой ': 1, 'пк ': 1, 'пкcore ': 1, 'пкм': 1, 'плавания': 1, 'плавающая': 1, 'плавающий ': 1, 'плавни': 1, 'плагон ': 1, 'плазма': 1, 'планиметрии ': 1, 'планка ': 1, 'планшет ': 1, 'планшета': 1, 'планшетный ': 1, 'планшетофон ': 1, 'планшеты ': 1, 'пластик': 1, 'пластиковая': 1, 'пластиковая ': 1, 'пластиковое ': 1, 'пластиковом ': 1, 'пластиковые': 1, 'пластиковый': 1, 'пласткомпозита': 1, 'пластмассовая ': 1, 'плата': 1, 'плататье ': 1, 'платки': 1, 'платки ': 1, 'платок': 1, 'платок ': 1, 'платок-': 1, 'платформа': 1, 'платье': 1, 'платье ': 1, 'платьеце': 1, 'платью': 1, 'платья': 1, 'плафон': 1, 'плафон ': 1, 'плащ ': 1, 'плед': 1, 'плейн': 1, 'плейстейшен ': 1, 'пленка': 1, 'пленка ': 1, 'пленке': 1, 'пленке ': 1, 'плену ': 1, 'плетеная ': 1, 'плетения ': 1, 'плетеного ': 1, 'плетеное ': 1, 'плечами ': 1, 'плечевой ': 1, 'плечо': 1, 'плечо ': 1, 'плиткарез ': 1, 'плитки ': 1, 'плиткорез': 1, 'плиты ': 1, 'плойка': 1, 'плойка ': 1, 'плойкой ': 1, 'плойку': 1, 'плоская': 1, 'плоский': 1, 'плотные ': 1, 'плоттер ': 1, 'плошки ': 1, 'плюмерия': 1, 'плюс': 1, 'плюс ': 1, 'плюша': 1, 'пляжный ': 1, 'плясуньи': 1, 'плёнка ': 1, 'пм ': 1, 'пнв-': 1, 'пнг': 1, 'пневмо ': 1, 'по ': 1, 'по1000тр': 1, 'победа': 1, 'победе ': 1, 'победоносец': 1, 'победы ': 1, 'повелитель ': 1, 'поверхность ': 1, 'повести ': 1, 'повесть ': 1, 'поводки': 1, 'поводок ': 1, 'поворотное ': 1, 'поворотный ': 1, 'повседневности': 1, 'повседневные': 1, 'повязка ': 1, 'повязки': 1, 'погодовка ': 1, 'погодовку': 1, 'погодок': 1, 'пограничная': 1, 'погремушка-': 1, 'погружная ': 1, 'погружной ': 1, 'подарки': 1, 'подарков ': 1, 'подарок': 1, 'подарок ': 1, 'подарочная ': 1, 'подарочные ': 1, 'подарочный': 1, 'подарю': 1, 'подаю ': 1, 'подвес ': 1, 'подвеска': 1, 'подвесками ': 1, 'подвесная ': 1, 'подвесное ': 1, 'подвесной ': 1, 'подвесные': 1, 'подвесные ': 1, 'подвесных ': 1, 'подвесы': 1, 'подвешивания ': 1, 'подводного ': 1, 'подводной ': 1, 'подводный': 1, 'подголовник': 1, 'подгородников ': 1, 'подготовки ': 1, 'подгузники ': 1, 'подгузники-': 1, 'поддон ': 1, 'поддонов': 1, 'поделки ': 1, 'подзарядкой': 1, 'подиум': 1, 'подкатной ': 1, 'подкачаться': 1, 'подкладе': 1, 'подкладка ': 1, 'подкладочная ': 1, 'подколдовываем': 1, 'подложка': 1, 'подлокотниками': 1, 'подмосковья': 1, 'подножка': 1, 'подножка ': 1, 'подогреватель ': 1, 'пододеяльник': 1, 'пододеяльники': 1, 'подойдёт ': 1, 'подполковн': 1, 'подростка': 1, 'подростковое': 1, 'подростковый ': 1, 'подруга ': 1, 'подруги ': 1, 'подружка ': 1, 'подсачек ': 1, 'подсв': 1, 'подсветка ': 1, 'подсветки ': 1, 'подсветкой ': 1, 'подсвечник': 1, 'подсвечник ': 1, 'подсвечник\"': 1, 'подседельного ': 1, 'подседельный ': 1, 'подседёльный': 1, 'подставка ': 1, 'подставке': 1, 'подставке ': 1, 'подставкой': 1, 'подставку-': 1, 'подстаканик ': 1, 'подстаканник': 1, 'подстаканники': 1, 'подсумок ': 1, 'подушек ': 1, 'подушечка ': 1, 'подуши': 1, 'подушка': 1, 'подушки': 1, 'подушки ': 1, 'подушку': 1, 'подшипников ': 1, 'подъемника': 1, 'подъемные ': 1, 'поезд ': 1, 'пожарный ': 1, 'пожилых ': 1, 'позвоничника': 1, 'позитивной ': 1, 'позиций ': 1, 'познания': 1, 'позолота': 1, 'позолотой': 1, 'позолоченные ': 1, 'позолоченный ': 1, 'поильник': 1, 'поильник ': 1, 'поисковый ': 1, 'покахонтес': 1, 'покровские ': 1, 'покрывала': 1, 'покрывало': 1, 'покрывало ': 1, 'покрытие': 1, 'покрытие ': 1, 'покрытия ': 1, 'покрышка ': 1, 'покрышки': 1, 'покрышки ': 1, 'покупаем ': 1, 'покупка ': 1, 'пол': 1, 'пол ': 1, 'пола ': 1, 'полев': 1, 'полесье': 1, 'полетный ': 1, 'поликатон': 1, 'полимерная ': 1, 'полипропиленовые ': 1, 'полипропиленовых ': 1, 'полировочная ': 1, 'политех': 1, 'политэкономия': 1, 'полиуретан': 1, 'полиэтиленовая ': 1, 'полка': 1, 'полка ': 1, 'полки': 1, 'полкой ': 1, 'полная ': 1, 'полное ': 1, 'полные ': 1, 'полный ': 1, 'поло': 1, 'половик': 1, 'половички ': 1, 'полога': 1, 'полосатыми ': 1, 'полоски ': 1, 'полосные ': 1, 'полосный ': 1, 'полотенца ': 1, 'полотенце': 1, 'полотенце ': 1, 'полотенцесушитель ': 1, 'полотна': 1, 'полотна ': 1, 'полотно': 1, 'полотно ': 1, 'полочками': 1, 'полочки': 1, 'полтинник': 1, 'полтинник ': 1, 'полуавтомат ': 1, 'полуботинки': 1, 'полуботинки ': 1, 'полуботинки-': 1, 'полумини': 1, 'полупрозрачном ': 1, 'полусапоги': 1, 'полусапоги ': 1, 'полусапожки': 1, 'полушка ': 1, 'полушки ': 1, 'полушубок': 1, 'полцарства ': 1, 'польз': 1, 'польская ': 1, 'польский': 1, 'польской ': 1, 'польша': 1, 'польша ': 1, 'полюса': 1, 'полями ': 1, 'поляна': 1, 'поляна ': 1, 'помазок ': 1, 'поменяю ': 1, 'помидоры': 1, 'помост ': 1, 'помочи': 1, 'помошница': 1, 'помощь ': 1, 'помощью ': 1, 'помпа ': 1, 'помпонов': 1, 'помпоны ': 1, 'понсети ': 1, 'пончо ': 1, 'понье': 1, 'поп-': 1, 'поперечная': 1, 'поплавки': 1, 'поплавковый ': 1, 'попперов': 1, 'попугай ': 1, 'популярные ': 1, 'популярный ': 1, 'поречная': 1, 'поризованный ': 1, 'породам ': 1, 'поролон': 1, 'поролоновый ': 1, 'пороха': 1, 'порошковая ': 1, 'поррас ': 1, 'портами ': 1, 'портативный ': 1, 'портмоне ': 1, 'портов ': 1, 'портовой ': 1, 'портовый': 1, 'портретом ': 1, 'португалии ': 1, 'портьерная ': 1, 'поручня': 1, 'поршневой ': 1, 'посад': 1, 'посадочные ': 1, 'посередине': 1, 'посетителей ': 1, 'последнему ': 1, 'последние ': 1, 'последний ': 1, 'послеоперационный ': 1, 'послеродовой': 1, 'послеродовой ': 1, 'пособие': 1, 'пособия': 1, 'посрамитель ': 1, 'пост ': 1, 'поставка ': 1, 'постелька ': 1, 'постельного ': 1, 'постникова-': 1, 'поступательного ': 1, 'поступающих ': 1, 'посуда': 1, 'посудомоечную ': 1, 'посуды': 1, 'потока': 1, 'потолочная': 1, 'потолочно ': 1, 'потолочный ': 1, 'потолочныйvibia': 1, 'поттер': 1, 'поттер ': 1, 'похату ': 1, 'похудения ': 1, 'поцелуй ': 1, 'почтовый ': 1, 'пояс': 1, 'пояс-': 1, 'поясничный ': 1, 'поясные ': 1, 'поясом': 1, 'ппрс ': 1, 'пра': 1, 'прав': 1, 'правил ': 1, 'правила ': 1, 'правилам': 1, 'правило ': 1, 'правильная ': 1, 'правые': 1, 'прага': 1, 'праздника': 1, 'праздники ': 1, 'празднику-': 1, 'праздничное ': 1, 'праздничные ': 1, 'практик': 1, 'практик ': 1, 'практикум': 1, 'практически ': 1, 'практичный ': 1, 'преамп': 1, 'преамп ': 1, 'пред': 1, 'предлагаем ': 1, 'предложение': 1, 'предмет ': 1, 'предмета': 1, 'предметов': 1, 'предметов ': 1, 'предметы ': 1, 'предоплаты ': 1, 'президенты': 1, 'президенты ': 1, 'прекрасное ': 1, 'прекрасную ': 1, 'преминений': 1, 'премиум ': 1, 'премьер': 1, 'премьера': 1, 'пресса': 1, 'прессованной ': 1, 'престолов': 1, 'преуспевать ': 1, 'пржевальский': 1, 'при ': 1, 'прибалтику ': 1, 'прибор ': 1, 'прибор-': 1, 'приборам': 1, 'приборостроении ': 1, 'привезу': 1, 'привод': 1, 'привода ': 1, 'приводами ': 1, 'приготовления ': 1, 'придачу': 1, 'прижимной ': 1, 'призрак ': 1, 'приключения': 1, 'приключения ': 1, 'прикорма ': 1, 'прикроватные ': 1, 'прикроватные-': 1, 'прикроватный': 1, 'прикроватный ': 1, 'прикрытием': 1, 'прима': 1, 'прима ': 1, 'приманок ': 1, 'принимаю ': 1, 'принтер': 1, 'принтер ': 1, 'принтеры': 1, 'принтом': 1, 'принцесс': 1, 'принцесса ': 1, 'приставка ': 1, 'приставки ': 1, 'приставная ': 1, 'пристрелки': 1, 'притяженье ': 1, 'прихожая ': 1, 'прихожей': 1, 'прихожии': 1, 'прихожую': 1, 'прихожую ': 1, 'прически ': 1, 'пришелец': 1, 'приэльбрусье ': 1, 'приёмник ': 1, 'про ': 1, 'про2 ': 1, 'проба': 1, 'пробивной ': 1, 'пробирки ': 1, 'пробы ': 1, 'прованс ': 1, 'проводной': 1, 'проводной ': 1, 'проводом ': 1, 'програм': 1, 'программе': 1, 'программе ': 1, 'программирование ': 1, 'программка': 1, 'программное ': 1, 'прогресс ': 1, 'прогулка ': 1, 'прогулок': 1, 'прогулочная': 1, 'прогулочная ': 1, 'прогулочный ': 1, 'продаем ': 1, 'продается': 1, 'продаж ': 1, 'продажа': 1, 'продажа ': 1, 'продажа/': 1, 'продажи ': 1, 'продам': 1, 'продам ': 1, 'продан ': 1, 'продаю': 1, 'продаюся ': 1, 'продаются': 1, 'продаются ': 1, 'продаём ': 1, 'продаётся': 1, 'продаётся ': 1, 'продукция ': 1, 'проект ': 1, 'проектор ': 1, 'проекторы': 1, 'проекционные ': 1, 'проема ': 1, 'прожектор ': 1, 'проигрывателей ': 1, 'проигрывателем': 1, 'проигрыватель ': 1, 'произв ': 1, 'произведений ': 1, 'производ': 1, 'производим ': 1, 'производительный ': 1, 'производителя': 1, 'производителя ': 1, 'производства': 1, 'производства ': 1, 'прокат ': 1, 'прокачки ': 1, 'прокладками': 1, 'промокаемый ': 1, 'пропеллеры ': 1, 'прорезиненный ': 1, 'прорезиненый': 1, 'прорезной': 1, 'просветов': 1, 'просвещение': 1, 'просто ': 1, 'простую ': 1, 'простые ': 1, 'простыней': 1, 'простыни ': 1, 'протанга': 1, 'протечки ': 1, 'противогаз ': 1, 'противопожарные ': 1, 'противопролежневая ': 1, 'противоударное ': 1, 'проточного ': 1, 'проточные ': 1, 'проточный ': 1, 'проф': 1, 'проф ': 1, 'профес': 1, 'профессиональная ': 1, 'профессиональное': 1, 'профессиональный ': 1, 'профи': 1, 'профилактики ': 1, 'профиль ': 1, 'профиль\"': 1, 'профлист ': 1, 'проходной ': 1, 'процесcор ': 1, 'прочная': 1, 'прошивки ': 1, 'прошит ': 1, 'прошита ': 1, 'прошитая': 1, 'прошитая ': 1, 'прошитого ': 1, 'прошитый ': 1, 'пружинящих': 1, 'пруф': 1, 'прыгун ': 1, 'прыгунки': 1, 'прыгунок': 1, 'прыгуны': 1, 'прыжки ': 1, 'пряди': 1, 'пряжа': 1, 'пряжа ': 1, 'пряжи': 1, 'прялка ': 1, 'прямой ': 1, 'прямоугольным ': 1, 'пс ': 1, 'пс0018129 ': 1, 'психоанализ ': 1, 'психотерапевтическая ': 1, 'птица ': 1, 'пуанты ': 1, 'пуговица ': 1, 'пуговицы': 1, 'пуговицы ': 1, 'пульсар-': 1, 'пульсометр ': 1, 'пульта': 1, 'пульте': 1, 'пупка': 1, 'пупочной ': 1, 'пурусники': 1, 'пусеты ': 1, 'пускатели': 1, 'пустые ': 1, 'пустышка': 1, 'пустышка ': 1, 'пустышки': 1, 'путевки ': 1, 'путеводитель ': 1, 'путевок ': 1, 'путевые ': 1, 'путешественник ': 1, 'путешественника': 1, 'путешествие ': 1, 'пути ': 1, 'путишествий': 1, 'путёвки ': 1, 'пуф': 1, 'пуф ': 1, 'пух': 1, 'пух ': 1, 'пуховик': 1, 'пуховики': 1, 'пуховичок': 1, 'пуховое ': 1, 'пуху': 1, 'пушистик': 1, 'пушка ': 1, 'пушкин': 1, 'пушкин ': 1, 'пушкина': 1, 'пхукет ': 1, 'пыляев': 1, 'пьедесталом': 1, 'пьедисталом': 1, 'пьедисталом ': 1, 'пьедосталом': 1, 'пэ-': 1, 'пэпси ': 1, 'пюре': 1, 'пюре ': 1, 'пятигорск': 1, 'пятистенок ': 1, 'пяточек ': 1, 'пять ': 1, 'пёсик': 1, 'р3-': 1, 'рs3': 1, 'рабица': 1, 'работ ': 1, 'работа ': 1, 'работает ': 1, 'работающий ': 1, 'работе ': 1, 'работы ': 1, 'рабочая ': 1, 'рабочее': 1, 'рабочее ': 1, 'рабочем ': 1, 'рабочи': 1, 'рабочие ': 1, 'рабочий': 1, 'равиоли ': 1, 'рагулина': 1, 'раджниш ': 1, 'ради ': 1, 'радиатор ': 1, 'радио ': 1, 'радиола': 1, 'радиотехника': 1, 'радиоуправляемая ': 1, 'радиоуправляемые ': 1, 'радиоуправляемый ': 1, 'радиоуправляемых ': 1, 'радо ': 1, 'радонеж': 1, 'радуга ': 1, 'раждвижной ': 1, 'раз ': 1, 'разбитым ': 1, 'разбор': 1, 'разборку': 1, 'разборная': 1, 'разборная ': 1, 'разборные': 1, 'разборный': 1, 'разветвитель ': 1, 'развивалась ': 1, 'развивающая ': 1, 'развивающие ': 1, 'развивающии ': 1, 'развивающий ': 1, 'развивающих ': 1, 'развлечений ': 1, 'разгрузка': 1, 'раздачи ': 1, 'раздвижной': 1, 'раздвижной ': 1, 'раздвижные': 1, 'раздвижные ': 1, 'раздвижными ': 1, 'раздел ': 1, 'раздельно': 1, 'различная ': 1, 'различные': 1, 'различных ': 1, 'разм ': 1, 'размер ': 1, 'размера': 1, 'размерам': 1, 'размеры': 1, 'размеры ': 1, 'разметочный': 1, 'разновидностей ': 1, 'разное': 1, 'разнообразные ': 1, 'разноцветным ': 1, 'разные ': 1, 'разный ': 1, 'разных ': 1, 'разработка': 1, 'разработка ': 1, 'разрезом ': 1, 'разум': 1, 'разъемный ': 1, 'разъёмом ': 1, 'раиса ': 1, 'рай': 1, 'райдер': 1, 'район': 1, 'райские ': 1, 'рак': 1, 'ракавина ': 1, 'ракета': 1, 'раковина': 1, 'раковина ': 1, 'раковиной': 1, 'раковиной ': 1, 'раковину': 1, 'раковины': 1, 'раковины ': 1, 'ракушка': 1, 'ралли ': 1, 'рама': 1, 'рама ': 1, 'рамка': 1, 'рамка ': 1, 'рамке ': 1, 'рамок ': 1, 'раннее ': 1, 'раритет ': 1, 'раритетная ': 1, 'раритетных ': 1, 'раскладная ': 1, 'раскраска': 1, 'раскроечное ': 1, 'распашной': 1, 'распашной ': 1, 'распашные': 1, 'распил': 1, 'распиловочный ': 1, 'распродажа': 1, 'распродажа ': 1, 'распродаю ': 1, 'рассада': 1, 'рассада ': 1, 'рассады ': 1, 'рассвета': 1, 'рассвета ': 1, 'растворомешалка ': 1, 'растение': 1, 'растений': 1, 'растения': 1, 'растишка': 1, 'растровые ': 1, 'растущий': 1, 'расцветка ': 1, 'расцветки': 1, 'расческа ': 1, 'расческа-': 1, 'расчёска ': 1, 'расширительный ': 1, 'рация ': 1, 'рбч.': 1, 'рго': 1, 'рдг-': 1, 'реализуем ': 1, 'реально-': 1, 'реальности': 1, 'реальности ': 1, 'реанимацион': 1, 'ребенка': 1, 'ребенок': 1, 'ребёнка': 1, 'ребёнка ': 1, 'ревматизма': 1, 'региона': 1, 'регул': 1, 'регулир': 1, 'регулировок ': 1, 'регулируемая ': 1, 'регулируемы': 1, 'регулируемые': 1, 'регулируемый': 1, 'регулируемый ': 1, 'регулируемым ': 1, 'регулятором ': 1, 'редкие': 1, 'редкие ': 1, 'редкий': 1, 'редкое ': 1, 'режимный': 1, 'резак ': 1, 'резина': 1, 'резиновые ': 1, 'резиновыми ': 1, 'резная': 1, 'резная ': 1, 'рейка': 1, 'рейнбоу ': 1, 'рейх-': 1, 'реклама ': 1, 'рекомендации': 1, 'рекомендуем ': 1, 'рекс ': 1, 'ремешок': 1, 'ремонта ': 1, 'ремонтный ': 1, 'ремонтных ': 1, 'ремонту ': 1, 'ренесанс': 1, 'рено ': 1, 'реольставни': 1, 'репин': 1, 'репродукция ': 1, 'репутация': 1, 'рертро ': 1, 'ресивер ': 1, 'ресниц': 1, 'республика': 1, 'рессивером': 1, 'реставрация ': 1, 'рестлинг ': 1, 'ресторанов ': 1, 'ретро': 1, 'ретро ': 1, 'ретро-': 1, 'рефлектор ': 1, 'реформы': 1, 'рецепты ': 1, 'решетки': 1, 'рига': 1, 'рим': 1, 'римская ': 1, 'рио': 1, 'рисунками': 1, 'рисунок': 1, 'ритм': 1, 'рифленный ': 1, 'рлиткорез ': 1, 'рмз-': 1, 'роан ': 1, 'робинзон ': 1, 'робот-': 1, 'ровница': 1, 'рог': 1, 'роддом': 1, 'роджер ': 1, 'родингит ': 1, 'родины': 1, 'родирование': 1, 'родная ': 1, 'родос ': 1, 'роды': 1, 'рожковая': 1, 'роза': 1, 'роза ': 1, 'розетка ': 1, 'розетки': 1, 'розетки ': 1, 'розницу ': 1, 'розово': 1, 'розово-': 1, 'розовое': 1, 'розовый': 1, 'розовым ': 1, 'розочка': 1, 'розы': 1, 'розы ': 1, 'рок ': 1, 'роквул': 1, 'рокон-': 1, 'ролик ': 1, 'ролинг': 1, 'ролл ': 1, 'роллека': 1, 'роллеры': 1, 'ролтер': 1, 'романов ': 1, 'романтизм ': 1, 'романы': 1, 'ромашки ': 1, 'ромб': 1, 'ромбы ': 1, 'ромпер ': 1, 'роскошное ': 1, 'роскошные': 1, 'росписью': 1, 'росси': 1, 'россии': 1, 'россии ': 1, 'российская ': 1, 'российской ': 1, 'россия': 1, 'росстур': 1, 'ростелеком': 1, 'ростест ': 1, 'ростов': 1, 'ротанга': 1, 'ротгипс': 1, 'ротор ': 1, 'роторайзер ': 1, 'роутер': 1, 'роутеры': 1, 'рохля ': 1, 'рст ': 1, 'рсфср': 1, 'руб': 1, 'руб ': 1, 'руб.': 1, 'рубашек ': 1, 'рубашка ': 1, 'рубином ': 1, 'рубленная ': 1, 'рубль ': 1, 'рубля ': 1, 'рук': 1, 'рука ': 1, 'рукавами': 1, 'рукавов ': 1, 'руковом': 1, 'рукоделия': 1, 'рукоятки ': 1, 'рукрейтузы ': 1, 'руку/': 1, 'рулем': 1, 'рулонах': 1, 'рулонное ': 1, 'рулонные ': 1, 'руль ': 1, 'румынский ': 1, 'рупор': 1, 'рус': 1, 'рускеала': 1, 'руский ': 1, 'русские ': 1, 'русским ': 1, 'русско-': 1, 'русского ': 1, 'русскому ': 1, 'русскую ': 1, 'руссо': 1, 'рутиловым ': 1, 'руффиг': 1, 'ручками ': 1, 'ручкой': 1, 'ручкой ': 1, 'ручная': 1, 'ручная ': 1, 'ручной': 1, 'рф ': 1, 'рф-': 1, 'рыбак': 1, 'рыбалки ': 1, 'рыбацкие': 1, 'рыбка': 1, 'рыбки': 1, 'рыболовная ': 1, 'рыболовный ': 1, 'рыжей ': 1, 'рыженков': 1, 'рыжие ': 1, 'рынок ': 1, 'рюкзак': 1, 'рюкзак ': 1, 'рюкзаки': 1, 'рюкзачок': 1, 'рюкзачок ': 1, 'рюмками': 1, 'рюмки': 1, 'рюмок': 1, 'с0154': 1, 'с0464': 1, 'с1605': 1, 'с2-': 1, 'с3 ': 1, 'с3-': 1, 'с601': 1, 'с6903 ': 1, 'сall ': 1, 'сhgx767h': 1, 'саббуфер ': 1, 'сабвуфер': 1, 'сабвуфер ': 1, 'сабвуфера ': 1, 'сабувер ': 1, 'сабуфер': 1, 'сабуфер ': 1, 'сабфуфер': 1, 'саговая ': 1, 'сада ': 1, 'садика': 1, 'садовая ': 1, 'садово-': 1, 'садовые ': 1, 'садовый': 1, 'саженцы': 1, 'саи ': 1, 'саипа-': 1, 'сайдинг ': 1, 'сайта': 1, 'сакуры': 1, 'салата': 1, 'салатники': 1, 'салатников ': 1, 'салатовое': 1, 'салон ': 1, 'салона': 1, 'салфетка ': 1, 'салфеток': 1, 'сальник ': 1, 'сам ': 1, 'самара': 1, 'самая ': 1, 'самодельные': 1, 'самокат ': 1, 'самоклеющаяся ': 1, 'самолетов': 1, 'саморезы': 1, 'самосвал ': 1, 'самостоятельные ': 1, 'самоучитель ': 1, 'самсун ': 1, 'самсунга ': 1, 'самых ': 1, 'санатории ': 1, 'санаторий': 1, 'санаторий ': 1, 'санаториях ': 1, 'сандалики': 1, 'санитарный ': 1, 'санки': 1, 'санки ': 1, 'санки-': 1, 'санкт-': 1, 'сансевиерия': 1, 'сансевиерия ': 1, 'сантехника': 1, 'сантхническа': 1, 'санфаянс ': 1, 'саперный': 1, 'саплина ': 1, 'сапоги': 1, 'сапоги-': 1, 'сапожки': 1, 'сапожки ': 1, 'сарафан': 1, 'сарафан ': 1, 'сарган': 1, 'саржа': 1, 'сармак': 1, 'сатин': 1, 'сатин ': 1, 'сатина': 1, 'сатина ': 1, 'сатинато ': 1, 'саундбар': 1, 'саундбар ': 1, 'сауны': 1, 'сахих ': 1, 'сб-': 1, 'сбоку ': 1, 'сборе': 1, 'сборе ': 1, 'сборник': 1, 'сборник ': 1, 'сборный': 1, 'сва-': 1, 'свадебные': 1, 'свадебный ': 1, 'свадьбу': 1, 'свадьбу ': 1, 'сварки': 1, 'сварная ': 1, 'сварочный ': 1, 'све': 1, 'свердлова': 1, 'сверлильный ': 1, 'сверло ': 1, 'сверхмощный ': 1, 'света': 1, 'света ': 1, 'светильник': 1, 'светильник ': 1, 'светильника ': 1, 'светильниками ': 1, 'светильники': 1, 'светильники ': 1, 'светлана-': 1, 'светлов': 1, 'световой ': 1, 'светод': 1, 'светодиодная ': 1, 'светодиодной': 1, 'светодиодный ': 1, 'светом ': 1, 'светофор': 1, 'светофора ': 1, 'светящиеся': 1, 'светящиеся ': 1, 'свеча': 1, 'свеча ': 1, 'свечей': 1, 'свистком ': 1, 'свитерки': 1, 'свитерок': 1, 'свич': 1, 'свияша': 1, 'свобода': 1, 'своего ': 1, 'свои ': 1, 'свч ': 1, 'связи': 1, 'связи ': 1, 'связь ': 1, 'святого ': 1, 'сгон-': 1, 'сд ': 1, 'сдачи ': 1, 'сдвижные ': 1, 'сделай ': 1, 'сделано ': 1, 'себ': 1, 'себастьяна': 1, 'себя ': 1, 'северный ': 1, 'севок': 1, 'сезоны': 1, 'сейф': 1, 'сейф ': 1, 'сейф-': 1, 'секатор': 1, 'секретки': 1, 'сексуальной ': 1, 'секц': 1, 'секции': 1, 'секционные': 1, 'секционные ': 1, 'селектор ': 1, 'село ': 1, 'семейное': 1, 'семен ': 1, 'семена': 1, 'семена ': 1, 'семи ': 1, 'семикаракоры': 1, 'семпер': 1, 'семпер ': 1, 'семьи': 1, 'семья ': 1, 'сендвич ': 1, 'сено ': 1, 'сенсор ': 1, 'сенсорны': 1, 'сенсорные ': 1, 'сенсорный ': 1, 'сенсоры ': 1, 'сепаратор': 1, 'септик': 1, 'септик ': 1, 'серафимович': 1, 'серая': 1, 'серая ': 1, 'сервер ': 1, 'сервиз': 1, 'сервиз ': 1, 'сервировоч': 1, 'сервис': 1, 'сергеев-': 1, 'сердечный ': 1, 'сердце': 1, 'серебра': 1, 'серебренную ': 1, 'серебристые': 1, 'серебристые ': 1, 'серебром ': 1, 'серебрянные ': 1, 'серебряное ': 1, 'серебряной ': 1, 'серебряную ': 1, 'серебряные ': 1, 'серебряный ': 1, 'серег ': 1, 'середины ': 1, 'сережек': 1, 'сережки': 1, 'серии': 1, 'серии ': 1, 'серий': 1, 'серкл ': 1, 'серо ': 1, 'серого ': 1, 'сертификат ': 1, 'сертификатом': 1, 'серые': 1, 'серый': 1, 'серый ': 1, 'серьги': 1, 'сетевая ': 1, 'сетевой ': 1, 'сетка ': 1, 'сетки ': 1, 'сибири': 1, 'сибирский': 1, 'сибирь-': 1, 'сигвей ': 1, 'сидением ': 1, 'сиденье': 1, 'сидя ': 1, 'силикон': 1, 'силикон ': 1, 'силиконовы': 1, 'силиконовые ': 1, 'силовая ': 1, 'силовой ': 1, 'силу': 1, 'сильвер ': 1, 'сим-': 1, 'символ ': 1, 'символическую ': 1, 'симилак': 1, 'симками': 1, 'симкой': 1, 'симочный': 1, 'симулятор ': 1, 'симфония ': 1, 'синай ': 1, 'сингер': 1, 'сингониумы ': 1, 'сине-': 1, 'синее ': 1}\n"
     ]
    }
   ],
   "source": [
    "print(dict_sorted)"
   ]
  },
  {
   "cell_type": "code",
   "execution_count": 117,
   "metadata": {},
   "outputs": [],
   "source": [
    "# unique, counts = np.unique(feature_names, return_counts=True)"
   ]
  },
  {
   "cell_type": "code",
   "execution_count": 138,
   "metadata": {},
   "outputs": [],
   "source": [
    "# print(np.asarray((unique, counts)).T)"
   ]
  },
  {
   "cell_type": "code",
   "execution_count": 257,
   "metadata": {
    "pycharm": {
     "name": "#%%\n"
    }
   },
   "outputs": [
    {
     "name": "stdout",
     "output_type": "stream",
     "text": [
      "20079\n"
     ]
    },
    {
     "data": {
      "text/plain": [
       "{'бильярдный ': 9067,\n",
       " 'стол': 17799,\n",
       " 'крассула ': 12673,\n",
       " 'оватта': 14611,\n",
       " 'денежное ': 10611,\n",
       " 'дерево': 10628,\n",
       " 'фиксатор': 18843,\n",
       " 'вальгус ': 9449,\n",
       " 'подставка ': 15570,\n",
       " 'для ': 10807,\n",
       " 'цветов': 19213,\n",
       " 'комплект ': 12361,\n",
       " 'мебели': 13578,\n",
       " 'ибица': 11446,\n",
       " 'wi-': 8016,\n",
       " 'fi ': 4152,\n",
       " 'роутер ': 16672,\n",
       " 'link ': 5319,\n",
       " 'dir-': 3646,\n",
       " '615': 1886,\n",
       " 'электрический ': 19811,\n",
       " 'самовар': 16870,\n",
       " 'sony ': 7165,\n",
       " 'experia ': 4051,\n",
       " 'snell ': 7128,\n",
       " 'farcry ': 4107,\n",
       " 'ps4': 6476,\n",
       " 'продам': 16017,\n",
       " 'смартфон ': 17337,\n",
       " 'nokia ': 6026,\n",
       " 'lumia ': 5413,\n",
       " '630 ': 1903,\n",
       " 'dual ': 3760,\n",
       " 'чёрный': 19435,\n",
       " 'minelab ': 5709,\n",
       " '17 ': 521,\n",
       " 'smart ': 7104,\n",
       " 'ctx ': 3448,\n",
       " '3030': 1221,\n",
       " 'ведьмак ': 9509,\n",
       " 'дикая ': 10747,\n",
       " 'охота': 14910,\n",
       " 'продаются ': 16024,\n",
       " 'коньки ': 12447,\n",
       " 'фигурные ': 18835,\n",
       " 'женские': 11124,\n",
       " 'ретро ': 16545,\n",
       " 'свеча ': 17000,\n",
       " 'очень ': 14931,\n",
       " 'красивая': 12642,\n",
       " 'настенная ': 14240,\n",
       " 'полка': 15659,\n",
       " 'навесная': 14124,\n",
       " 'пиджак ': 15257,\n",
       " 'из ': 11499,\n",
       " 'экокожи': 19760,\n",
       " 'стол ': 17800,\n",
       " 'со ': 17391,\n",
       " 'стульями': 17897,\n",
       " 'набор ': 14118,\n",
       " 'машинок ': 13557,\n",
       " '26 ': 1049,\n",
       " 'штук': 19692,\n",
       " 'продам ': 16018,\n",
       " 'компьютер': 12387,\n",
       " 'сруб ': 17622,\n",
       " 'айпад ': 8438,\n",
       " 'шкаф': 19592,\n",
       " 'комод ': 12341,\n",
       " 'компьютерный ': 12397,\n",
       " 'всей ': 9885,\n",
       " 'семьи': 17077,\n",
       " 'билли': 9064,\n",
       " 'стеллажи ': 17738,\n",
       " 'от ': 14820,\n",
       " 'икеа': 11530,\n",
       " 'iphone ': 4929,\n",
       " '16 ': 474,\n",
       " 'white': 8010,\n",
       " 'зановески': 11261,\n",
       " 'светильник ': 16970,\n",
       " 'настольный': 14252,\n",
       " 'нож ': 14451,\n",
       " 'вrоwning ': 9423,\n",
       " 'складной ': 17270,\n",
       " 'da-': 3511,\n",
       " 'бас-': 8889,\n",
       " 'гитара': 10204,\n",
       " 'спорт ': 17581,\n",
       " 'шапки ': 19458,\n",
       " '599': 1804,\n",
       " 'фунгицид ': 19018,\n",
       " 'против ': 16086,\n",
       " 'грибных ': 10398,\n",
       " 'бактериальных ': 8812,\n",
       " 'заболеван': 11184,\n",
       " 'пластилин ': 15344,\n",
       " 'marvel': 5540,\n",
       " 'мстители': 14007,\n",
       " 'матрас ': 13519,\n",
       " 'ватный ': 9486,\n",
       " '70x190 ': 2037,\n",
       " 'чехле ': 19384,\n",
       " 'поликатон': 15646,\n",
       " 'статуэтка ': 17703,\n",
       " 'обезьяна': 14541,\n",
       " 'символ ': 17182,\n",
       " 'нового ': 14425,\n",
       " 'года': 10252,\n",
       " 'горшочек ': 10327,\n",
       " 'ссср': 17628,\n",
       " 'платье': 15364,\n",
       " 'телефон': 18120,\n",
       " 'prestigio': 6427,\n",
       " 'шведская ': 19501,\n",
       " 'стенка': 17742,\n",
       " 'стенка ': 17743,\n",
       " 'ольховка ': 14701,\n",
       " 'декор-': 10576,\n",
       " 'зеркало': 11364,\n",
       " 'бетон ': 9039,\n",
       " 'фундамента ': 19019,\n",
       " '200 ': 792,\n",
       " 'п4 ': 14946,\n",
       " 'w6 ': 7926,\n",
       " 'f50': 4078,\n",
       " 'завод': 11192,\n",
       " 'новые ': 14436,\n",
       " 'санки ': 16900,\n",
       " 'коляска ': 12290,\n",
       " 'ника4': 14390,\n",
       " 'перекид': 15170,\n",
       " 'ручка': 16747,\n",
       " 'шорты ': 19648,\n",
       " 'хлопок ': 19101,\n",
       " 'почти ': 15832,\n",
       " 'стульчик ': 17892,\n",
       " 'кормления': 12501,\n",
       " 'пеларгония ': 15122,\n",
       " 'розебудная': 16599,\n",
       " 'туфли': 18484,\n",
       " 'шкаф ': 19593,\n",
       " 'чердак': 19346,\n",
       " 'электрогенератор ': 19823,\n",
       " 'бензиновый': 8983,\n",
       " 'двери': 10487,\n",
       " 'гребной ': 10387,\n",
       " 'тренажер ': 18354,\n",
       " 'kettler ': 5107,\n",
       " 'kadett': 5066,\n",
       " 'ноутбук': 14496,\n",
       " 'кейс ': 11983,\n",
       " 'lg ': 5291,\n",
       " 'spirit ': 7206,\n",
       " 'pulsar ': 6496,\n",
       " 'shellcase ': 7006,\n",
       " 'красный': 12665,\n",
       " 'выпрямитель ': 9954,\n",
       " 'волос ': 9831,\n",
       " 'maxima': 5562,\n",
       " 'прихожей': 15964,\n",
       " 'табуретами': 18004,\n",
       " 'детск': 10655,\n",
       " 'люстра ': 13282,\n",
       " 'потолочная': 15819,\n",
       " 'манеж ': 13410,\n",
       " 'бреви ': 9272,\n",
       " 'brevi': 3032,\n",
       " 'прихожая ': 15963,\n",
       " 'maxim': 5561,\n",
       " 'дверь ': 10498,\n",
       " 'металлическая': 13667,\n",
       " 'новый ': 14438,\n",
       " '5s ': 1817,\n",
       " 'золотой ': 11421,\n",
       " '16gb': 508,\n",
       " 'горизот ': 10293,\n",
       " 'виго': 9675,\n",
       " 'перчатки ': 15210,\n",
       " 'оптом': 14732,\n",
       " 'розница': 16604,\n",
       " 'paso ': 6227,\n",
       " '3008': 1204,\n",
       " 'защитное ': 11305,\n",
       " 'стекло ': 17723,\n",
       " 'meizu ': 5608,\n",
       " 'm2note': 5447,\n",
       " 'дубленка': 10961,\n",
       " 'натуральная': 14265,\n",
       " 'стаканы ': 17649,\n",
       " 'coca-': 3327,\n",
       " 'cola ': 3330,\n",
       " '2014': 842,\n",
       " 'acer ': 2431,\n",
       " 'v206hqlab': 7749,\n",
       " 'игрушки ': 11483,\n",
       " 'ручной ': 16758,\n",
       " 'работы ': 16253,\n",
       " 'по ': 15439,\n",
       " 'низким ': 14387,\n",
       " 'ценам': 19235,\n",
       " 'серебряная ': 17115,\n",
       " 'черепаха ': 19352,\n",
       " 'на ': 14115,\n",
       " 'продажу': 16016,\n",
       " 'два ': 10484,\n",
       " 'стола ': 17802,\n",
       " 'угловых': 18529,\n",
       " 'полотенцесушитель ': 15688,\n",
       " 'электрический': 19810,\n",
       " 'америна ': 8578,\n",
       " 'белый': 8961,\n",
       " 'тумба-': 18441,\n",
       " 'умывальник ': 18620,\n",
       " 'раковиной': 16367,\n",
       " 'ps4 ': 6477,\n",
       " 'fifa15': 4160,\n",
       " 'люстра': 13281,\n",
       " 'мультиварка ': 14048,\n",
       " 'mystery': 5867,\n",
       " 'samsung ': 6884,\n",
       " 'galaxy ': 4371,\n",
       " 'tab ': 7408,\n",
       " '10.': 120,\n",
       " 'sm-': 7100,\n",
       " 't531 ': 7399,\n",
       " 'электроды ': 19832,\n",
       " 'standard ': 7260,\n",
       " 'элвс ': 19801,\n",
       " 'щетки ': 19735,\n",
       " 'болгарку ': 9191,\n",
       " 'круг': 12753,\n",
       " 'коньячные ': 12451,\n",
       " 'бокалы': 9177,\n",
       " 'yamaha ': 8222,\n",
       " 'c40': 3102,\n",
       " 'тостер ': 18314,\n",
       " 'atlanta ': 2673,\n",
       " 'ath-': 2665,\n",
       " '231': 963,\n",
       " 'korg ': 5145,\n",
       " 'electribe ': 3910,\n",
       " 'esx-': 4016,\n",
       " 'ноутбук ': 14497,\n",
       " 'asus ': 2657,\n",
       " 'n73sv': 5916,\n",
       " 'жигули': 11150,\n",
       " 'москвич': 13972,\n",
       " 'серьги ': 17142,\n",
       " 'золотые ': 11425,\n",
       " 'бриллиантами': 9294,\n",
       " 'тостер': 18313,\n",
       " 'стильный ': 17772,\n",
       " 'сони ': 17470,\n",
       " 'коробкой ': 12514,\n",
       " 'документами': 10842,\n",
       " 'кожаная ': 12191,\n",
       " 'сумка': 17920,\n",
       " 'cappelletto ': 3156,\n",
       " 'этюдник ': 19955,\n",
       " 'полевой ': 15639,\n",
       " 'выдвижными ': 9934,\n",
       " 'ножками': 14458,\n",
       " 'великолепный ': 9521,\n",
       " 'детский ': 10661,\n",
       " 'электромобиль ': 19843,\n",
       " 'bmw ': 2957,\n",
       " 'х6m': 19045,\n",
       " 'highscreen ': 4670,\n",
       " 'zera ': 8306,\n",
       " 'фикус': 18847,\n",
       " 'норковая ': 14479,\n",
       " 'шуба': 19704,\n",
       " 'тунис ': 18455,\n",
       " 'москвы ': 13975,\n",
       " 'июне': 11709,\n",
       " 'radiotehnika ': 6572,\n",
       " 's90-': 6854,\n",
       " 'prestigio ': 6428,\n",
       " 'multipad ': 5835,\n",
       " 'ultra ': 7687,\n",
       " 'duo ': 3770,\n",
       " 'корпус ': 12538,\n",
       " 'пароварка ': 15046,\n",
       " 'как ': 11748,\n",
       " 'новая': 14416,\n",
       " 'титановые ': 18220,\n",
       " 'рыболовные ': 16773,\n",
       " 'поводки': 15454,\n",
       " '012-': 46,\n",
       " '21qsalg03717g-': 910,\n",
       " '19 ': 625,\n",
       " 'kubcirkonii ': 5160,\n",
       " 'кольца ': 12282,\n",
       " '925': 2300,\n",
       " 'замшевая ': 11255,\n",
       " 'кепка': 11992,\n",
       " 'аккумулятор ': 8465,\n",
       " 'panasonic ': 6201,\n",
       " '18650': 605,\n",
       " '3200mah': 1262,\n",
       " 'игры ': 11485,\n",
       " 'пс4': 16151,\n",
       " 'айфик ': 8441,\n",
       " '4ка': 1614,\n",
       " 'ltd ': 5401,\n",
       " 'delux ': 3571,\n",
       " 'replica': 6647,\n",
       " 'каруселька ': 11890,\n",
       " 'заводная ': 11195,\n",
       " 'телевизор': 18108,\n",
       " 'кронштейн': 12743,\n",
       " 'учебники ': 18737,\n",
       " '11 ': 229,\n",
       " 'класс': 12065,\n",
       " 'whirlpool ': 8008,\n",
       " 'awg-': 2712,\n",
       " '324-': 1279,\n",
       " '600': 1847,\n",
       " 'шекспир ': 19520,\n",
       " 'шиллер': 19552,\n",
       " 'отд': 14836,\n",
       " 'тома': 18255,\n",
       " 'академия.': 8449,\n",
       " '1937г': 668,\n",
       " 'стиральная ': 17783,\n",
       " 'машина ': 13550,\n",
       " 'самсунг ': 16887,\n",
       " 'загрузка ': 11203,\n",
       " 'белья ': 8972,\n",
       " 'электрогитара ': 19826,\n",
       " 'thunder': 7516,\n",
       " 'фоторамка': 18961,\n",
       " 'за ': 11182,\n",
       " 'вятка': 10011,\n",
       " 'сережки ': 17127,\n",
       " 'наличии': 14189,\n",
       " 'кофейный ': 12597,\n",
       " 'столик': 17811,\n",
       " 'двери ': 10488,\n",
       " 'межкомнатные': 13620,\n",
       " 'rt-': 6776,\n",
       " 'n10p': 5875,\n",
       " 'щенок ': 19731,\n",
       " 'ficher ': 4155,\n",
       " 'price': 6431,\n",
       " 'ощути ': 14945,\n",
       " 'мощь ': 13996,\n",
       " 'скорость ': 17278,\n",
       " 'lenovo ': 5277,\n",
       " 'v580': 7752,\n",
       " 'core ': 3377,\n",
       " 'i7 ': 4797,\n",
       " '3520m': 1332,\n",
       " 'диван': 10724,\n",
       " 'очиститель ': 14932,\n",
       " 'воды ': 9807,\n",
       " 'zepter': 8304,\n",
       " 'd2005': 3488,\n",
       " 'монитор ': 13921,\n",
       " 'жк ': 11165,\n",
       " 'viewsonic ': 7837,\n",
       " 'va2016w ': 7756,\n",
       " '20 ': 787,\n",
       " 'дюймов': 11013,\n",
       " 'sakura ': 6869,\n",
       " 'sa-': 6856,\n",
       " '7753': 2117,\n",
       " 'шестиструнная ': 19544,\n",
       " 'акустическая ': 8508,\n",
       " 'чехлом': 19386,\n",
       " 'asuz ': 2658,\n",
       " 'zenfone ': 8298,\n",
       " 'a450': 2391,\n",
       " 'межкомнатная ': 13619,\n",
       " 'мозаика': 13864,\n",
       " 'обменяю ': 14556,\n",
       " 'ванна ': 9456,\n",
       " 'акриловая ': 8477,\n",
       " 'banoperito ': 2783,\n",
       " 'aralia ': 2588,\n",
       " 'de ': 3547,\n",
       " 'lux ': 5426,\n",
       " '170x75': 531,\n",
       " 'экскурсия-': 19789,\n",
       " 'игра': 11461,\n",
       " 'зарница': 11286,\n",
       " 'школ ': 19606,\n",
       " 'рулонные ': 16721,\n",
       " 'шторы ': 19688,\n",
       " 'mini ': 5711,\n",
       " 'тканью ': 18229,\n",
       " 'лаура ': 12987,\n",
       " 'плойка ': 15416,\n",
       " 'стайлер ': 17641,\n",
       " 'babyliss ': 2757,\n",
       " 'pro ': 6449,\n",
       " 'perfect ': 6275,\n",
       " 'curl': 3456,\n",
       " 'housefit ': 4733,\n",
       " 'ht-': 4751,\n",
       " '90332hp': 2279,\n",
       " 'подвесной ': 15493,\n",
       " 'модуль ': 13854,\n",
       " 'электробритва ': 19819,\n",
       " 'philips ': 6298,\n",
       " 'at-': 2660,\n",
       " '890': 2229,\n",
       " 'детская ': 10657,\n",
       " 'ps3 ': 6474,\n",
       " 'slim ': 7097,\n",
       " '350 ': 1324,\n",
       " 'xbox ': 8161,\n",
       " '360 ': 1355,\n",
       " '500 ': 1636,\n",
       " 'слон-': 17321,\n",
       " 'качалка': 11923,\n",
       " 'халат ': 19056,\n",
       " 'медицинский': 13607,\n",
       " 'домик ': 10869,\n",
       " 'сортер ': 17484,\n",
       " 'полесье': 15641,\n",
       " 'сапоги ': 16911,\n",
       " 'сумка ': 17921,\n",
       " 'кожанная ': 12192,\n",
       " 'итальянская': 11698,\n",
       " 'тысячелетие ': 18492,\n",
       " 'русской ': 16738,\n",
       " 'истории': 11682,\n",
       " 'роутер': 16671,\n",
       " 'компьютерный': 12396,\n",
       " 'кольцо ': 12287,\n",
       " 'бриллиантом': 9299,\n",
       " 'сплиттер': 17579,\n",
       " 'входная': 9924,\n",
       " 'круглый ': 12761,\n",
       " 'чехол ': 19391,\n",
       " 'продаю ': 16021,\n",
       " 'чудесный ': 19420,\n",
       " 'автомобиль ': 8398,\n",
       " 'ребенка ': 16454,\n",
       " 'x6m': 8150,\n",
       " '101 ': 159,\n",
       " 'стиральную ': 17786,\n",
       " 'машину': 13558,\n",
       " 'груша ': 10425,\n",
       " 'бокса': 9183,\n",
       " 'пропеллеры ': 16064,\n",
       " 'skymec ': 7084,\n",
       " '1345 ': 359,\n",
       " 'quick ': 6541,\n",
       " 'release ': 6639,\n",
       " 'carbon ': 3165,\n",
       " 'props': 6463,\n",
       " 'трансформер ': 18338,\n",
       " 'gene': 4408,\n",
       " 'две ': 10485,\n",
       " 'лавки ': 12918,\n",
       " 'частного ': 19311,\n",
       " 'дома ': 10855,\n",
       " 'или ': 11542,\n",
       " 'дачи': 10477,\n",
       " 'кожаные ': 12200,\n",
       " 'сапоги': 16910,\n",
       " 'сервиз ': 17096,\n",
       " 'гдр': 10091,\n",
       " 'платье ': 15365,\n",
       " 'фигурного ': 18833,\n",
       " 'катания ': 11906,\n",
       " 'размер ': 16334,\n",
       " '44-': 1531,\n",
       " 'кофты': 12608,\n",
       " 'пайты': 14960,\n",
       " 'свитерки': 17009,\n",
       " 'системный ': 17223,\n",
       " 'блок': 9125,\n",
       " 'классическое ': 12077,\n",
       " 'белое': 8953,\n",
       " 'aio ': 2479,\n",
       " 'smarti ': 7109,\n",
       " 'multi-': 5832,\n",
       " 'touch ': 7587,\n",
       " 'a550': 2399,\n",
       " 'андроид': 8629,\n",
       " 'блузки': 9136,\n",
       " 'бадлоны': 8797,\n",
       " 'футболки': 19029,\n",
       " 'колонки ': 12266,\n",
       " 'microlab ': 5675,\n",
       " 'solo ': 7151,\n",
       " '2с ': 1166,\n",
       " 'новые': 14435,\n",
       " 'генератор ': 10108,\n",
       " 'дыма ': 11002,\n",
       " 'viper ': 7853,\n",
       " 'оригинальные ': 14758,\n",
       " 'ботинки ': 9237,\n",
       " 'timberland': 7520,\n",
       " '38.': 1385,\n",
       " 'рибок': 16552,\n",
       " 'besmoda ': 2882,\n",
       " 'конструирование ': 12421,\n",
       " 'женской ': 11132,\n",
       " 'мужской ': 14024,\n",
       " 'одежды ': 14639,\n",
       " '2013-': 841,\n",
       " '14г': 417,\n",
       " 'tab2 ': 7410,\n",
       " '8gb': 2239,\n",
       " 'fpv ': 4249,\n",
       " 'квадрокоптер ': 11959,\n",
       " 'syma ': 7378,\n",
       " 'x5sw': 8146,\n",
       " 'видеокамерой': 9685,\n",
       " 'xp ': 8192,\n",
       " 'deus ': 3597,\n",
       " 'катушка ': 11913,\n",
       " '28 ': 1089,\n",
       " 'наушники ': 14279,\n",
       " 'ws4': 8110,\n",
       " 'без ': 8934,\n",
       " 'блока': 9127,\n",
       " 'ivanka ': 4967,\n",
       " 'trump': 7632,\n",
       " 'оригинал': 14753,\n",
       " 'мебель ': 13580,\n",
       " 'школьника': 19608,\n",
       " 'massimo ': 5548,\n",
       " 'dutti': 3781,\n",
       " 'кинескоп': 12017,\n",
       " '51 ': 1683,\n",
       " 'шейный ': 19518,\n",
       " 'корсет ': 12548,\n",
       " 'orlett': 6133,\n",
       " 'уф ': 18722,\n",
       " 'лампа': 12956,\n",
       " 'док-': 10835,\n",
       " 'станция ': 17669,\n",
       " 'ipod': 4935,\n",
       " 'продаётся ': 16027,\n",
       " 'планшет ': 15328,\n",
       " 'digma ': 3634,\n",
       " 'optima ': 6116,\n",
       " '25 ': 1005,\n",
       " 'рублей ': 16689,\n",
       " '2000 ': 796,\n",
       " 'россия ': 16659,\n",
       " 'рубеже ': 16685,\n",
       " 'просвещение': 16071,\n",
       " 'электроника ': 19848,\n",
       " '25ас-': 1041,\n",
       " '126': 312,\n",
       " 'рыболовная ': 16771,\n",
       " 'база ': 8798,\n",
       " 'отдыха': 14846,\n",
       " 'gta ': 4545,\n",
       " 'серьги': 17141,\n",
       " 'электрическая ': 19809,\n",
       " 'соковыжималка': 17434,\n",
       " 'новая ': 14417,\n",
       " 'упаковке': 18657,\n",
       " 'прихожая': 15962,\n",
       " 'подголовник': 15506,\n",
       " 'вверх ': 9498,\n",
       " 'хлопок': 19100,\n",
       " 'гантель ': 10044,\n",
       " 'разборная ': 16298,\n",
       " 'хромированная ': 19165,\n",
       " 'кейсе': 11984,\n",
       " 'дальномер ': 10456,\n",
       " 'bosch ': 2993,\n",
       " 'plr ': 6354,\n",
       " 'plus': 6355,\n",
       " 'комод': 12340,\n",
       " 'сноуборд ': 17380,\n",
       " 'arbor ': 2590,\n",
       " 'series ': 6976,\n",
       " '170': 523,\n",
       " 'macbook ': 5474,\n",
       " '2011': 835,\n",
       " 'xperia ': 8197,\n",
       " '2305': 957,\n",
       " 'кактус ': 11749,\n",
       " 'turbinicarpus ': 7647,\n",
       " 'pseudopectinatus ': 6481,\n",
       " '198675': 727,\n",
       " 'power ': 6402,\n",
       " 'five': 4189,\n",
       " 'coolpad ': 3371,\n",
       " 'настольная ': 14249,\n",
       " 'лампа ': 12957,\n",
       " 'твери ': 18088,\n",
       " 'чтения': 19408,\n",
       " 'тур ': 18458,\n",
       " 'арабские ': 8672,\n",
       " 'эмираты ': 19910,\n",
       " 'питанием ': 15302,\n",
       " 'неделю': 14308,\n",
       " 'jbl ': 5003,\n",
       " 'charge ': 3254,\n",
       " 'ibanez ': 4812,\n",
       " 's420': 6829,\n",
       " 'cardio ': 3169,\n",
       " 'twister': 7659,\n",
       " 'мормышки ': 13959,\n",
       " 'безнасадочные': 8937,\n",
       " 'fitstudio': 4187,\n",
       " 'коньки': 12446,\n",
       " 'туфли ': 18485,\n",
       " 'открытым ': 14864,\n",
       " 'носом': 14490,\n",
       " 'ванна': 9455,\n",
       " 'ребенка': 16453,\n",
       " 'usb ': 7733,\n",
       " '3g ': 1409,\n",
       " 'модем ': 13839,\n",
       " 'мегафон': 13588,\n",
       " 'huawei': 4761,\n",
       " 'e1550': 3814,\n",
       " 'чайник ': 19295,\n",
       " 'пластиковый ': 15343,\n",
       " 'centek ': 3225,\n",
       " 'ct-': 3444,\n",
       " '0030': 24,\n",
       " 'игрушечная ': 11478,\n",
       " 'сабвуфер': 16814,\n",
       " 'крытые ': 12791,\n",
       " 'резиновые ': 16488,\n",
       " '6s ': 1988,\n",
       " 'новый': 14437,\n",
       " 'быстросьемный ': 9408,\n",
       " 'пилон': 15274,\n",
       " '2х ': 1173,\n",
       " 'режимный': 16480,\n",
       " 'высота ': 9974,\n",
       " '135 ': 361,\n",
       " 'летящая ': 13087,\n",
       " 'юбка ': 19977,\n",
       " 'bsb ': 3053,\n",
       " 'collection': 3334,\n",
       " 'фарфоровая ': 18779,\n",
       " 'фигурка ': 18830,\n",
       " 'лисы': 13146,\n",
       " 'me ': 5588,\n",
       " '170c': 527,\n",
       " 'пара ': 15019,\n",
       " 'проигрывателей ': 16042,\n",
       " 'denon ': 3583,\n",
       " 'dn-': 3689,\n",
       " 's3000': 6823,\n",
       " 'кухни ': 12888,\n",
       " 'комнаты': 12339,\n",
       " 'изделия ': 11513,\n",
       " 'элементами ': 19877,\n",
       " 'ковки': 12164,\n",
       " 'би ': 9047,\n",
       " 'метал ': 13654,\n",
       " '10 ': 118,\n",
       " 'руб': 16677,\n",
       " 'юбилейные ': 19973,\n",
       " 'монеты': 13917,\n",
       " 'стул ': 17885,\n",
       " 'массива ': 13489,\n",
       " 'лиственницы': 13139,\n",
       " 'фея-': 18814,\n",
       " 'френч-': 18990,\n",
       " 'пресс ': 15900,\n",
       " 'артикул ': 8713,\n",
       " '40156': 1462,\n",
       " 'знаменитые ': 11404,\n",
       " 'наручные ': 14219,\n",
       " 'часы ': 19319,\n",
       " 'skmei ': 7078,\n",
       " '1025': 174,\n",
       " 'утяжелители ': 18720,\n",
       " 'поясные ': 15842,\n",
       " 'adsl/': 2455,\n",
       " 'ethernet-': 4021,\n",
       " 'маршрутизатор ': 13460,\n",
       " 'dsl ': 3752,\n",
       " '2500u': 1016,\n",
       " 'фиолетовый ': 18873,\n",
       " 'шарфик': 19485,\n",
       " 'голубой ': 10281,\n",
       " 'шарф': 19482,\n",
       " 'шарф ': 19483,\n",
       " 'настольная': 14248,\n",
       " '5130 ': 1698,\n",
       " 'xpressmusic': 8201,\n",
       " 'мягкая ': 14097,\n",
       " 'игрушка ': 11480,\n",
       " 'заяц': 11311,\n",
       " 'бра ': 9256,\n",
       " 'светильник': 16969,\n",
       " '6500': 1939,\n",
       " 'накладки ': 14172,\n",
       " 'avent': 2701,\n",
       " 'кулон': 12847,\n",
       " 'удача': 18544,\n",
       " 'дрель-': 10935,\n",
       " 'шуруповерт ': 19716,\n",
       " 'dwt ': 3794,\n",
       " 'abs-': 2424,\n",
       " 'behringer ': 2853,\n",
       " 'phoria ': 6306,\n",
       " 'umc204': 7698,\n",
       " 'сепаратор': 17087,\n",
       " 'гирю ': 10200,\n",
       " '24кг ': 1003,\n",
       " 'чайно-': 19299,\n",
       " 'сервиз': 17095,\n",
       " 'модонна': 13850,\n",
       " 'китаянки': 12051,\n",
       " 'ниточная ': 14405,\n",
       " 'штора': 19683,\n",
       " 'ниблер ': 14378,\n",
       " 'атласное ': 8747,\n",
       " 'чёрное ': 19433,\n",
       " 'праздничное ': 15863,\n",
       " '360e ': 1360,\n",
       " 'прошитый': 16126,\n",
       " 'персональный ': 15203,\n",
       " '90f ': 2285,\n",
       " 'молоток ': 13895,\n",
       " 'отбойный ': 14825,\n",
       " 'hm1317c ': 4695,\n",
       " 'makita': 5495,\n",
       " 'журнальный ': 11177,\n",
       " 'столик ': 17812,\n",
       " 'икея': 11533,\n",
       " 'булат ': 9365,\n",
       " 'окуджава': 14683,\n",
       " 'путешествие ': 16189,\n",
       " 'дилетантов': 10751,\n",
       " 'indesit': 4867,\n",
       " 'блок ': 9126,\n",
       " 'поризованный ': 15762,\n",
       " '75 ': 2080,\n",
       " 'porikam ': 6394,\n",
       " '25-': 1006,\n",
       " 'купальник ': 12853,\n",
       " 'художественной ': 19178,\n",
       " 'гимнастики': 10177,\n",
       " 'модель ': 13835,\n",
       " 'экошпон': 19774,\n",
       " 'стильная ': 17768,\n",
       " 'разноцветным ': 16344,\n",
       " 'принтом': 15948,\n",
       " 'пила ': 15267,\n",
       " 'торцовочная ': 18307,\n",
       " 'прогресс ': 16000,\n",
       " 'пту-': 16158,\n",
       " '255/': 1033,\n",
       " '1800': 571,\n",
       " 'табурет ': 18003,\n",
       " 'металл ': 13661,\n",
       " '4х2': 1623,\n",
       " 'samsung': 6883,\n",
       " 'box ': 3007,\n",
       " '250gb': 1020,\n",
       " 'женский ': 11127,\n",
       " 'кожаный ': 12201,\n",
       " 'ремень ': 16513,\n",
       " 'vera ': 7793,\n",
       " 'pelle': 6267,\n",
       " 'поясная': 15839,\n",
       " 'раздвижные': 16321,\n",
       " 'самовывоз': 16872,\n",
       " 'мкр': 13807,\n",
       " 'кузнечики': 12823,\n",
       " 'кофеварка ': 12590,\n",
       " 'gl ': 4449,\n",
       " '0706': 100,\n",
       " 'юбочки ': 19982,\n",
       " '100': 122,\n",
       " 'el\"': 3904,\n",
       " 'porta ': 6396,\n",
       " 'mg1 ': 5642,\n",
       " 'alu ': 2525,\n",
       " 'bs ': 3051,\n",
       " 'гитару ': 10210,\n",
       " 'ямаха': 20029,\n",
       " 'ковер': 12162,\n",
       " 'orville ': 6140,\n",
       " 'by ': 3081,\n",
       " 'gibson ': 4431,\n",
       " '61 ': 1876,\n",
       " 'reissue': 6638,\n",
       " 'музыкальный ': 14037,\n",
       " 'мобиль ': 13824,\n",
       " 'кроватку': 12727,\n",
       " 'экскаватор ': 19782,\n",
       " 'lego ': 5269,\n",
       " 'technic ': 7454,\n",
       " '8235': 2188,\n",
       " 'столовый ': 17819,\n",
       " 'времён ': 9879,\n",
       " 'итальянская ': 11699,\n",
       " 'campomaggi': 3140,\n",
       " 'плиткорез': 15411,\n",
       " 'z3 ': 8262,\n",
       " 'sipo': 7057,\n",
       " 'покрывало ': 15621,\n",
       " 'цветное ': 19209,\n",
       " 'новое ': 14427,\n",
       " '160x220': 487,\n",
       " 'дым ': 11000,\n",
       " '900 ': 2272,\n",
       " 'мс72': 14003,\n",
       " 's4 ': 6826,\n",
       " 'черн': 19354,\n",
       " 'монет ': 13907,\n",
       " '2015 ': 846,\n",
       " 'года ': 10253,\n",
       " '10к': 220,\n",
       " '50к': 1675,\n",
       " '10р': 224,\n",
       " 'ммд': 13814,\n",
       " 'валенки': 9445,\n",
       " 'плитка': 15407,\n",
       " 'перстень ': 15205,\n",
       " '585 ': 1800,\n",
       " 'пробы': 15982,\n",
       " 'аккумуляторы ': 8471,\n",
       " 'эриксон': 19936,\n",
       " 'yotaphone ': 8245,\n",
       " 'обмен': 14552,\n",
       " 'magari ': 5480,\n",
       " 'b1/': 2726,\n",
       " 'corso ': 3383,\n",
       " 'di ': 3616,\n",
       " 'italiano': 4961,\n",
       " 'ikea': 4848,\n",
       " 'айфон ': 8443,\n",
       " 'куртка ': 12875,\n",
       " 'натур': 14264,\n",
       " 'кожа': 12187,\n",
       " 'стулья': 17895,\n",
       " 'стеновые ': 17751,\n",
       " 'панели ': 15005,\n",
       " 'под ': 15472,\n",
       " 'кирпич': 12030,\n",
       " 'искусственный ': 11661,\n",
       " 'gio ': 4442,\n",
       " 'n427': 5900,\n",
       " 'комбинезон ': 12313,\n",
       " 'защитный': 11307,\n",
       " 'велошлем ': 9556,\n",
       " 'giro ': 4446,\n",
       " 'me2 ': 5591,\n",
       " 'highlight ': 4668,\n",
       " 'yellow': 8228,\n",
       " 'желтый': 11111,\n",
       " 'кроватка': 12723,\n",
       " 'орхидея ': 14787,\n",
       " 'фаленопсис ': 18763,\n",
       " 'розово': 16608,\n",
       " 'вишнёвый ': 9747,\n",
       " '22004': 923,\n",
       " 'радиаторы ': 16272,\n",
       " 'отопления': 14879,\n",
       " 'модульная ': 13855,\n",
       " '136 ': 368,\n",
       " 'глория ': 10232,\n",
       " '295': 1111,\n",
       " 'кух': 12886,\n",
       " 'уголок': 18533,\n",
       " 'часовой ': 19308,\n",
       " 'браслет ': 9260,\n",
       " 'винтаж ': 9718,\n",
       " 'fixo-': 4192,\n",
       " 'flex ': 4202,\n",
       " 'растягивающийся': 16430,\n",
       " 'жилет ': 11158,\n",
       " 'swat': 7362,\n",
       " 'три ': 18385,\n",
       " 'elenberg ': 3927,\n",
       " 'ss5050': 7237,\n",
       " 'колонки': 12265,\n",
       " 'саб': 16811,\n",
       " 'перфоратор': 15207,\n",
       " 'чудесное ': 19418,\n",
       " 'которое ': 12582,\n",
       " 'подойдёт ': 15539,\n",
       " 'любое': 13262,\n",
       " 'желтая': 11107,\n",
       " 'msi ': 5805,\n",
       " 'gt ': 4536,\n",
       " '70 ': 2010,\n",
       " 'onc': 6103,\n",
       " 'hublot ': 4764,\n",
       " 'big ': 2902,\n",
       " 'bang ': 2782,\n",
       " '995': 2347,\n",
       " 'колонка ': 12261,\n",
       " 'philips': 6297,\n",
       " 'элетрическая ': 19880,\n",
       " 'беговая ': 8925,\n",
       " 'дорожка ': 10896,\n",
       " 'до ': 10821,\n",
       " '120 ': 273,\n",
       " 'бойла ': 9171,\n",
       " 'метал': 13653,\n",
       " 'full ': 4289,\n",
       " 'hd ': 4628,\n",
       " 'led ': 5263,\n",
       " '22 ': 918,\n",
       " 'дюйма ': 11012,\n",
       " '223v5l': 939,\n",
       " 'санаторий': 16892,\n",
       " 'знание': 11405,\n",
       " 'сочи': 17519,\n",
       " 'молокоотсос ': 13889,\n",
       " 'tommee ': 7556,\n",
       " 'tippee': 7527,\n",
       " 'x553ma': 8144,\n",
       " 'часы': 19318,\n",
       " 'винтажная ': 9720,\n",
       " 'янтарная ': 20037,\n",
       " 'подвеска ': 15488,\n",
       " 'цепочке': 19258,\n",
       " 'la ': 5194,\n",
       " 'fleur': 4200,\n",
       " 'уличный ': 18599,\n",
       " 'sp ': 7179,\n",
       " 'куба': 12807,\n",
       " 'варадеро ': 9471,\n",
       " 'вылет ': 9946,\n",
       " '13 ': 341,\n",
       " 'марта ': 13455,\n",
       " 'ночей': 14502,\n",
       " 'старт ': 17689,\n",
       " 'дуас': 10954,\n",
       " 'ортопедические ': 14773,\n",
       " 'матрасы': 13527,\n",
       " 'живец ': 11145,\n",
       " 'карась ': 11842,\n",
       " 'рыбалки': 16765,\n",
       " 'sven': 7354,\n",
       " 'фантастика': 18768,\n",
       " 'кристофер ': 12716,\n",
       " 'сташефф': 17710,\n",
       " 'чародей ': 19303,\n",
       " 'разгневанны': 16313,\n",
       " 'шарлотта ': 19471,\n",
       " 'земляничка-': 11356,\n",
       " 'конструктор': 12422,\n",
       " 'uncharted ': 7706,\n",
       " 'ps3': 6473,\n",
       " 'дверцы ': 10497,\n",
       " 'жалюзийные ': 11088,\n",
       " 'дерева': 10623,\n",
       " 'палатку ': 14975,\n",
       " 'зимнюю': 11388,\n",
       " 'подседельная ': 15564,\n",
       " 'medi': 5597,\n",
       " 'защитная ': 11301,\n",
       " 'крышка ': 12794,\n",
       " 'дубленка ': 10962,\n",
       " 'молодежная': 13884,\n",
       " 'велосипедная ': 9541,\n",
       " 'толстовка': 18245,\n",
       " 'соковыжималка ': 17435,\n",
       " 'bork ': 2989,\n",
       " 'ju ': 5033,\n",
       " 'cup ': 3455,\n",
       " '21095 ': 896,\n",
       " '64 ': 1917,\n",
       " 'gb ': 4385,\n",
       " 'rose ': 6751,\n",
       " 'gold': 4469,\n",
       " 'маникюрный ': 13421,\n",
       " 'ссср ': 17629,\n",
       " '1950-': 682,\n",
       " 'ворсма': 9853,\n",
       " 'nillkin': 6013,\n",
       " 'h324 ': 4581,\n",
       " 'leon': 5281,\n",
       " '920 ': 2298,\n",
       " 'windows ': 8035,\n",
       " 'возможен ': 9813,\n",
       " 'торг': 18289,\n",
       " 'срочно ': 17621,\n",
       " 'compact ': 3349,\n",
       " '12000': 277,\n",
       " 'торг ': 18290,\n",
       " 'возможе': 9812,\n",
       " 'акустические ': 8509,\n",
       " 's90 ': 6853,\n",
       " '4ом': 1617,\n",
       " 'мощная ': 13991,\n",
       " 'светодиодная ': 16985,\n",
       " 'e40-': 3831,\n",
       " '120w': 290,\n",
       " 'цоколь ': 19285,\n",
       " 'е27': 11022,\n",
       " 'лицензионный ': 13166,\n",
       " 'диск ': 10773,\n",
       " 'rise ': 6696,\n",
       " 'of ': 6087,\n",
       " ...}"
      ]
     },
     "execution_count": 257,
     "metadata": {},
     "output_type": "execute_result"
    }
   ],
   "source": [
    "print(len(count_vectorizer.vocabulary_))\n",
    "count_vectorizer.vocabulary_"
   ]
  },
  {
   "cell_type": "code",
   "execution_count": 249,
   "metadata": {},
   "outputs": [
    {
     "data": {
      "text/plain": [
       "17838"
      ]
     },
     "execution_count": 249,
     "metadata": {},
     "output_type": "execute_result"
    }
   ],
   "source": [
    "count_vectorizer.vocabulary_['стол']"
   ]
  },
  {
   "cell_type": "code",
   "execution_count": 48,
   "metadata": {},
   "outputs": [],
   "source": [
    "# X_train[0, 15273]\n",
    "# 0.739\n",
    "# 0.7402\n",
    "\n",
    "# 0.7400\n",
    "# 0.6936\n",
    "# 0.6946"
   ]
  },
  {
   "cell_type": "code",
   "execution_count": 258,
   "metadata": {
    "pycharm": {
     "name": "#%%\n"
    }
   },
   "outputs": [
    {
     "data": {
      "text/html": [
       "<style>#sk-container-id-69 {color: black;background-color: white;}#sk-container-id-69 pre{padding: 0;}#sk-container-id-69 div.sk-toggleable {background-color: white;}#sk-container-id-69 label.sk-toggleable__label {cursor: pointer;display: block;width: 100%;margin-bottom: 0;padding: 0.3em;box-sizing: border-box;text-align: center;}#sk-container-id-69 label.sk-toggleable__label-arrow:before {content: \"▸\";float: left;margin-right: 0.25em;color: #696969;}#sk-container-id-69 label.sk-toggleable__label-arrow:hover:before {color: black;}#sk-container-id-69 div.sk-estimator:hover label.sk-toggleable__label-arrow:before {color: black;}#sk-container-id-69 div.sk-toggleable__content {max-height: 0;max-width: 0;overflow: hidden;text-align: left;background-color: #f0f8ff;}#sk-container-id-69 div.sk-toggleable__content pre {margin: 0.2em;color: black;border-radius: 0.25em;background-color: #f0f8ff;}#sk-container-id-69 input.sk-toggleable__control:checked~div.sk-toggleable__content {max-height: 200px;max-width: 100%;overflow: auto;}#sk-container-id-69 input.sk-toggleable__control:checked~label.sk-toggleable__label-arrow:before {content: \"▾\";}#sk-container-id-69 div.sk-estimator input.sk-toggleable__control:checked~label.sk-toggleable__label {background-color: #d4ebff;}#sk-container-id-69 div.sk-label input.sk-toggleable__control:checked~label.sk-toggleable__label {background-color: #d4ebff;}#sk-container-id-69 input.sk-hidden--visually {border: 0;clip: rect(1px 1px 1px 1px);clip: rect(1px, 1px, 1px, 1px);height: 1px;margin: -1px;overflow: hidden;padding: 0;position: absolute;width: 1px;}#sk-container-id-69 div.sk-estimator {font-family: monospace;background-color: #f0f8ff;border: 1px dotted black;border-radius: 0.25em;box-sizing: border-box;margin-bottom: 0.5em;}#sk-container-id-69 div.sk-estimator:hover {background-color: #d4ebff;}#sk-container-id-69 div.sk-parallel-item::after {content: \"\";width: 100%;border-bottom: 1px solid gray;flex-grow: 1;}#sk-container-id-69 div.sk-label:hover label.sk-toggleable__label {background-color: #d4ebff;}#sk-container-id-69 div.sk-serial::before {content: \"\";position: absolute;border-left: 1px solid gray;box-sizing: border-box;top: 0;bottom: 0;left: 50%;z-index: 0;}#sk-container-id-69 div.sk-serial {display: flex;flex-direction: column;align-items: center;background-color: white;padding-right: 0.2em;padding-left: 0.2em;position: relative;}#sk-container-id-69 div.sk-item {position: relative;z-index: 1;}#sk-container-id-69 div.sk-parallel {display: flex;align-items: stretch;justify-content: center;background-color: white;position: relative;}#sk-container-id-69 div.sk-item::before, #sk-container-id-69 div.sk-parallel-item::before {content: \"\";position: absolute;border-left: 1px solid gray;box-sizing: border-box;top: 0;bottom: 0;left: 50%;z-index: -1;}#sk-container-id-69 div.sk-parallel-item {display: flex;flex-direction: column;z-index: 1;position: relative;background-color: white;}#sk-container-id-69 div.sk-parallel-item:first-child::after {align-self: flex-end;width: 50%;}#sk-container-id-69 div.sk-parallel-item:last-child::after {align-self: flex-start;width: 50%;}#sk-container-id-69 div.sk-parallel-item:only-child::after {width: 0;}#sk-container-id-69 div.sk-dashed-wrapped {border: 1px dashed gray;margin: 0 0.4em 0.5em 0.4em;box-sizing: border-box;padding-bottom: 0.4em;background-color: white;}#sk-container-id-69 div.sk-label label {font-family: monospace;font-weight: bold;display: inline-block;line-height: 1.2em;}#sk-container-id-69 div.sk-label-container {text-align: center;}#sk-container-id-69 div.sk-container {/* jupyter's `normalize.less` sets `[hidden] { display: none; }` but bootstrap.min.css set `[hidden] { display: none !important; }` so we also need the `!important` here to be able to override the default hidden behavior on the sphinx rendered scikit-learn.org. See: https://github.com/scikit-learn/scikit-learn/issues/21755 */display: inline-block !important;position: relative;}#sk-container-id-69 div.sk-text-repr-fallback {display: none;}</style><div id=\"sk-container-id-69\" class=\"sk-top-container\"><div class=\"sk-text-repr-fallback\"><pre>LogisticRegression()</pre><b>In a Jupyter environment, please rerun this cell to show the HTML representation or trust the notebook. <br />On GitHub, the HTML representation is unable to render, please try loading this page with nbviewer.org.</b></div><div class=\"sk-container\" hidden><div class=\"sk-item\"><div class=\"sk-estimator sk-toggleable\"><input class=\"sk-toggleable__control sk-hidden--visually\" id=\"sk-estimator-id-69\" type=\"checkbox\" checked><label for=\"sk-estimator-id-69\" class=\"sk-toggleable__label sk-toggleable__label-arrow\">LogisticRegression</label><div class=\"sk-toggleable__content\"><pre>LogisticRegression()</pre></div></div></div></div></div>"
      ],
      "text/plain": [
       "LogisticRegression()"
      ]
     },
     "execution_count": 258,
     "metadata": {},
     "output_type": "execute_result"
    }
   ],
   "source": [
    "np.random.seed(1)\n",
    "log_reg = LogisticRegression(multi_class='auto', solver='lbfgs')\n",
    "log_reg.fit(X_train, y_train)"
   ]
  },
  {
   "cell_type": "code",
   "execution_count": 259,
   "metadata": {
    "pycharm": {
     "name": "#%%\n"
    }
   },
   "outputs": [
    {
     "data": {
      "text/plain": [
       "0.6946"
      ]
     },
     "execution_count": 259,
     "metadata": {},
     "output_type": "execute_result"
    }
   ],
   "source": [
    "preds = log_reg.predict(X_val)\n",
    "accuracy_score(preds, y_val)"
   ]
  },
  {
   "cell_type": "markdown",
   "metadata": {
    "pycharm": {
     "name": "#%% md\n"
    }
   },
   "source": [
    "### Учим w2v"
   ]
  },
  {
   "cell_type": "markdown",
   "metadata": {
    "pycharm": {
     "name": "#%% md\n"
    }
   },
   "source": [
    "Идеи:\n",
    "- Обучить качественные векторные представление слов на неразмеченных данных;\n",
    "- Получить из них вектора заголовков;\n",
    "- Оценить адекватность;\n",
    "- Оценить качество решения нашей задачи;\n",
    "- Большая размерность позволит получить более качественные векторные представления;\n",
    "- Сравнить CBOW и skip-gram;\n",
    "- ???"
   ]
  },
  {
   "cell_type": "code",
   "execution_count": 70,
   "metadata": {
    "pycharm": {
     "name": "#%%\n"
    }
   },
   "outputs": [
    {
     "name": "stdout",
     "output_type": "stream",
     "text": [
      "(200000, 2)\n"
     ]
    },
    {
     "data": {
      "text/html": [
       "<div>\n",
       "<style scoped>\n",
       "    .dataframe tbody tr th:only-of-type {\n",
       "        vertical-align: middle;\n",
       "    }\n",
       "\n",
       "    .dataframe tbody tr th {\n",
       "        vertical-align: top;\n",
       "    }\n",
       "\n",
       "    .dataframe thead th {\n",
       "        text-align: right;\n",
       "    }\n",
       "</style>\n",
       "<table border=\"1\" class=\"dataframe\">\n",
       "  <thead>\n",
       "    <tr style=\"text-align: right;\">\n",
       "      <th></th>\n",
       "      <th>item_id</th>\n",
       "      <th>title</th>\n",
       "    </tr>\n",
       "  </thead>\n",
       "  <tbody>\n",
       "    <tr>\n",
       "      <th>30000</th>\n",
       "      <td>377939</td>\n",
       "      <td>1 рубль царские 10 штук</td>\n",
       "    </tr>\n",
       "    <tr>\n",
       "      <th>30001</th>\n",
       "      <td>384779</td>\n",
       "      <td>Напольный насос giyo высокого давления, с мано...</td>\n",
       "    </tr>\n",
       "    <tr>\n",
       "      <th>30002</th>\n",
       "      <td>276889</td>\n",
       "      <td>Sony Xperia m2 Dual</td>\n",
       "    </tr>\n",
       "    <tr>\n",
       "      <th>30003</th>\n",
       "      <td>155718</td>\n",
       "      <td>Zoom B2.1U+ AC Процессор эффектов для бас-гитары</td>\n",
       "    </tr>\n",
       "    <tr>\n",
       "      <th>30004</th>\n",
       "      <td>260705</td>\n",
       "      <td>Люстра Favourite petite 1574-7P</td>\n",
       "    </tr>\n",
       "  </tbody>\n",
       "</table>\n",
       "</div>"
      ],
      "text/plain": [
       "       item_id                                              title\n",
       "30000   377939                            1 рубль царские 10 штук\n",
       "30001   384779  Напольный насос giyo высокого давления, с мано...\n",
       "30002   276889                                Sony Xperia m2 Dual\n",
       "30003   155718   Zoom B2.1U+ AC Процессор эффектов для бас-гитары\n",
       "30004   260705                    Люстра Favourite petite 1574-7P"
      ]
     },
     "execution_count": 70,
     "metadata": {},
     "output_type": "execute_result"
    }
   ],
   "source": [
    "import re\n",
    "from gensim.models.word2vec import Word2Vec\n",
    "from sklearn.linear_model import SGDClassifier\n",
    "\n",
    "# From CountVectorizer() (default pattern)\n",
    "WORD_PATTERN = '(?u)\\\\b\\\\w\\\\w+\\\\b'\n",
    "\n",
    "reg_exp = re.compile(pattern=WORD_PATTERN)\n",
    "w2v_train_data = pd.read_csv('unlabeled_data.csv',  index_col=0)\n",
    "print(w2v_train_data.shape)\n",
    "w2v_train_data.head()"
   ]
  },
  {
   "cell_type": "code",
   "execution_count": 72,
   "metadata": {},
   "outputs": [
    {
     "data": {
      "text/plain": [
       "'1 рубль царские 10 штук'"
      ]
     },
     "execution_count": 72,
     "metadata": {},
     "output_type": "execute_result"
    }
   ],
   "source": [
    "w2v_train_data.values[0, 1]"
   ]
  },
  {
   "cell_type": "code",
   "execution_count": 73,
   "metadata": {
    "pycharm": {
     "name": "#%%\n"
    }
   },
   "outputs": [
    {
     "data": {
      "text/plain": [
       "[['рубль', 'царские', '10', 'штук'],\n",
       " ['напольный', 'насос', 'giyo', 'высокого', 'давления', 'манометр'],\n",
       " ['sony', 'xperia', 'm2', 'dual']]"
      ]
     },
     "execution_count": 73,
     "metadata": {},
     "output_type": "execute_result"
    }
   ],
   "source": [
    "sentences = [reg_exp.findall(s.lower()) for s in w2v_train_data.title]\n",
    "sentences[:3]"
   ]
  },
  {
   "cell_type": "code",
   "execution_count": 74,
   "metadata": {
    "pycharm": {
     "name": "#%%\n"
    },
    "scrolled": true
   },
   "outputs": [
    {
     "name": "stdout",
     "output_type": "stream",
     "text": [
      "Loss after epoch 0: 1437889.75\n",
      "Loss after epoch 1: 869712.25\n",
      "Loss after epoch 2: 722732.75\n",
      "Loss after epoch 3: 643189.25\n",
      "Loss after epoch 4: 585492.0\n",
      "Loss after epoch 5: 499774.5\n",
      "Loss after epoch 6: 477723.5\n",
      "Loss after epoch 7: 460667.5\n",
      "Loss after epoch 8: 444513.0\n",
      "Loss after epoch 9: 424619.5\n",
      "Loss after epoch 10: 421782.5\n",
      "Loss after epoch 11: 412589.5\n",
      "Loss after epoch 12: 405083.5\n",
      "Loss after epoch 13: 398461.5\n",
      "Loss after epoch 14: 366084.0\n",
      "Loss after epoch 15: 339888.0\n",
      "Loss after epoch 16: 334103.0\n",
      "Loss after epoch 17: 330086.0\n",
      "Loss after epoch 18: 326449.0\n",
      "Loss after epoch 19: 325956.0\n"
     ]
    },
    {
     "data": {
      "text/plain": [
       "(11628398, 14684740)"
      ]
     },
     "execution_count": 74,
     "metadata": {},
     "output_type": "execute_result"
    }
   ],
   "source": [
    "w2v_model = Word2Vec(sg=1,)\n",
    "w2v_model.build_vocab(sentences)\n",
    "w2v_model.train(\n",
    "    sentences,\n",
    "    total_examples=w2v_model.corpus_count,\n",
    "    epochs=20,\n",
    "    compute_loss=True,\n",
    "    callbacks=[LossLogger()]\n",
    ")"
   ]
  },
  {
   "cell_type": "code",
   "execution_count": 75,
   "metadata": {
    "pycharm": {
     "name": "#%%\n"
    }
   },
   "outputs": [
    {
     "data": {
      "text/plain": [
       "[('продаю', 0.8961564898490906),\n",
       " ('породам', 0.7989452481269836),\n",
       " ('новую', 0.686275839805603),\n",
       " ('продадим', 0.616396963596344),\n",
       " ('отдам', 0.5739603042602539),\n",
       " ('кабину', 0.5723707675933838),\n",
       " ('хорошую', 0.5699202418327332),\n",
       " ('подам', 0.5693252086639404),\n",
       " ('женскую', 0.5608842968940735),\n",
       " ('норковую', 0.5580729842185974)]"
      ]
     },
     "execution_count": 75,
     "metadata": {},
     "output_type": "execute_result"
    }
   ],
   "source": [
    "w2v_model.wv.similar_by_word('продам')"
   ]
  },
  {
   "cell_type": "code",
   "execution_count": 76,
   "metadata": {
    "pycharm": {
     "name": "#%%\n"
    }
   },
   "outputs": [
    {
     "data": {
      "text/plain": [
       "[('iphone', 0.8230351805686951),\n",
       " ('iphone5', 0.8207362294197083),\n",
       " ('ipone', 0.8072177171707153),\n",
       " ('6plus', 0.7946138978004456),\n",
       " ('iphone4', 0.794045090675354),\n",
       " ('айфоны', 0.7828352451324463),\n",
       " ('айфон4', 0.7741789221763611),\n",
       " ('айфонов', 0.7714698910713196),\n",
       " ('5c', 0.768720805644989),\n",
       " ('5с', 0.7647431492805481)]"
      ]
     },
     "execution_count": 76,
     "metadata": {},
     "output_type": "execute_result"
    }
   ],
   "source": [
    "w2v_model.wv.similar_by_word('айфон')"
   ]
  },
  {
   "cell_type": "code",
   "execution_count": 77,
   "metadata": {
    "pycharm": {
     "name": "#%%\n"
    }
   },
   "outputs": [],
   "source": [
    "class Word2VecTransformer:\n",
    "    \n",
    "    def __init__(self, w2v_model, word_pattern):\n",
    "        \n",
    "        self.w2v_model = w2v_model\n",
    "        self.word_pattern = word_pattern\n",
    "        self.re = re.compile(pattern=self.word_pattern)\n",
    "        \n",
    "    def fit(self, X):\n",
    "        return self\n",
    "    \n",
    "    def transform(self, X):\n",
    "        \n",
    "        X_transformed = np.zeros((len(X), self.w2v_model.wv.vector_size))\n",
    "        for i, title in enumerate(X):\n",
    "            \n",
    "            title_vector = np.zeros((self.w2v_model.wv.vector_size,))\n",
    "            tokens = self.re.findall(title.lower())\n",
    "            for token in tokens:\n",
    "                if token in self.w2v_model.wv.key_to_index:\n",
    "                    title_vector += self.w2v_model.wv.get_vector(token)\n",
    "                    \n",
    "            X_transformed[i] = title_vector\n",
    "        \n",
    "        return X_transformed"
   ]
  },
  {
   "cell_type": "code",
   "execution_count": 78,
   "metadata": {
    "pycharm": {
     "name": "#%%\n"
    }
   },
   "outputs": [],
   "source": [
    "w2v_transformer = Word2VecTransformer(w2v_model=w2v_model, word_pattern=WORD_PATTERN)\n",
    "\n",
    "train_w2v = w2v_transformer.transform(train_titles.values)\n",
    "val_w2v = w2v_transformer.transform(val_titles.values)"
   ]
  },
  {
   "cell_type": "code",
   "execution_count": 79,
   "metadata": {
    "pycharm": {
     "name": "#%%\n"
    }
   },
   "outputs": [
    {
     "data": {
      "text/html": [
       "<style>#sk-container-id-19 {color: black;background-color: white;}#sk-container-id-19 pre{padding: 0;}#sk-container-id-19 div.sk-toggleable {background-color: white;}#sk-container-id-19 label.sk-toggleable__label {cursor: pointer;display: block;width: 100%;margin-bottom: 0;padding: 0.3em;box-sizing: border-box;text-align: center;}#sk-container-id-19 label.sk-toggleable__label-arrow:before {content: \"▸\";float: left;margin-right: 0.25em;color: #696969;}#sk-container-id-19 label.sk-toggleable__label-arrow:hover:before {color: black;}#sk-container-id-19 div.sk-estimator:hover label.sk-toggleable__label-arrow:before {color: black;}#sk-container-id-19 div.sk-toggleable__content {max-height: 0;max-width: 0;overflow: hidden;text-align: left;background-color: #f0f8ff;}#sk-container-id-19 div.sk-toggleable__content pre {margin: 0.2em;color: black;border-radius: 0.25em;background-color: #f0f8ff;}#sk-container-id-19 input.sk-toggleable__control:checked~div.sk-toggleable__content {max-height: 200px;max-width: 100%;overflow: auto;}#sk-container-id-19 input.sk-toggleable__control:checked~label.sk-toggleable__label-arrow:before {content: \"▾\";}#sk-container-id-19 div.sk-estimator input.sk-toggleable__control:checked~label.sk-toggleable__label {background-color: #d4ebff;}#sk-container-id-19 div.sk-label input.sk-toggleable__control:checked~label.sk-toggleable__label {background-color: #d4ebff;}#sk-container-id-19 input.sk-hidden--visually {border: 0;clip: rect(1px 1px 1px 1px);clip: rect(1px, 1px, 1px, 1px);height: 1px;margin: -1px;overflow: hidden;padding: 0;position: absolute;width: 1px;}#sk-container-id-19 div.sk-estimator {font-family: monospace;background-color: #f0f8ff;border: 1px dotted black;border-radius: 0.25em;box-sizing: border-box;margin-bottom: 0.5em;}#sk-container-id-19 div.sk-estimator:hover {background-color: #d4ebff;}#sk-container-id-19 div.sk-parallel-item::after {content: \"\";width: 100%;border-bottom: 1px solid gray;flex-grow: 1;}#sk-container-id-19 div.sk-label:hover label.sk-toggleable__label {background-color: #d4ebff;}#sk-container-id-19 div.sk-serial::before {content: \"\";position: absolute;border-left: 1px solid gray;box-sizing: border-box;top: 0;bottom: 0;left: 50%;z-index: 0;}#sk-container-id-19 div.sk-serial {display: flex;flex-direction: column;align-items: center;background-color: white;padding-right: 0.2em;padding-left: 0.2em;position: relative;}#sk-container-id-19 div.sk-item {position: relative;z-index: 1;}#sk-container-id-19 div.sk-parallel {display: flex;align-items: stretch;justify-content: center;background-color: white;position: relative;}#sk-container-id-19 div.sk-item::before, #sk-container-id-19 div.sk-parallel-item::before {content: \"\";position: absolute;border-left: 1px solid gray;box-sizing: border-box;top: 0;bottom: 0;left: 50%;z-index: -1;}#sk-container-id-19 div.sk-parallel-item {display: flex;flex-direction: column;z-index: 1;position: relative;background-color: white;}#sk-container-id-19 div.sk-parallel-item:first-child::after {align-self: flex-end;width: 50%;}#sk-container-id-19 div.sk-parallel-item:last-child::after {align-self: flex-start;width: 50%;}#sk-container-id-19 div.sk-parallel-item:only-child::after {width: 0;}#sk-container-id-19 div.sk-dashed-wrapped {border: 1px dashed gray;margin: 0 0.4em 0.5em 0.4em;box-sizing: border-box;padding-bottom: 0.4em;background-color: white;}#sk-container-id-19 div.sk-label label {font-family: monospace;font-weight: bold;display: inline-block;line-height: 1.2em;}#sk-container-id-19 div.sk-label-container {text-align: center;}#sk-container-id-19 div.sk-container {/* jupyter's `normalize.less` sets `[hidden] { display: none; }` but bootstrap.min.css set `[hidden] { display: none !important; }` so we also need the `!important` here to be able to override the default hidden behavior on the sphinx rendered scikit-learn.org. See: https://github.com/scikit-learn/scikit-learn/issues/21755 */display: inline-block !important;position: relative;}#sk-container-id-19 div.sk-text-repr-fallback {display: none;}</style><div id=\"sk-container-id-19\" class=\"sk-top-container\"><div class=\"sk-text-repr-fallback\"><pre>SGDClassifier()</pre><b>In a Jupyter environment, please rerun this cell to show the HTML representation or trust the notebook. <br />On GitHub, the HTML representation is unable to render, please try loading this page with nbviewer.org.</b></div><div class=\"sk-container\" hidden><div class=\"sk-item\"><div class=\"sk-estimator sk-toggleable\"><input class=\"sk-toggleable__control sk-hidden--visually\" id=\"sk-estimator-id-19\" type=\"checkbox\" checked><label for=\"sk-estimator-id-19\" class=\"sk-toggleable__label sk-toggleable__label-arrow\">SGDClassifier</label><div class=\"sk-toggleable__content\"><pre>SGDClassifier()</pre></div></div></div></div></div>"
      ],
      "text/plain": [
       "SGDClassifier()"
      ]
     },
     "execution_count": 79,
     "metadata": {},
     "output_type": "execute_result"
    }
   ],
   "source": [
    "log_reg = SGDClassifier()\n",
    "log_reg.fit(train_w2v, y_train)"
   ]
  },
  {
   "cell_type": "code",
   "execution_count": 80,
   "metadata": {
    "pycharm": {
     "name": "#%%\n"
    }
   },
   "outputs": [
    {
     "data": {
      "text/plain": [
       "0.721"
      ]
     },
     "execution_count": 80,
     "metadata": {},
     "output_type": "execute_result"
    }
   ],
   "source": [
    "preds = log_reg.predict(val_w2v)\n",
    "accuracy_score(preds, y_val)"
   ]
  },
  {
   "cell_type": "markdown",
   "metadata": {
    "pycharm": {
     "name": "#%% md\n"
    }
   },
   "source": [
    "### Работа на семинаре: [TF-IDF](https://ru.wikipedia.org/wiki/TF-IDF)"
   ]
  },
  {
   "cell_type": "code",
   "execution_count": null,
   "metadata": {
    "pycharm": {
     "name": "#%%\n"
    }
   },
   "outputs": [],
   "source": [
    "from sklearn.base import BaseEstimator, TransformerMixin\n",
    "\n",
    "class TFIDFVectorizer(BaseEstimator, TransformerMixin):\n",
    "    \n",
    "    def __init__():\n",
    "        pass\n",
    "    \n",
    "    def fit(self, X):\n",
    "        return self\n",
    "    \n",
    "    def transform(self, X):\n",
    "        pass"
   ]
  },
  {
   "cell_type": "markdown",
   "metadata": {
    "pycharm": {
     "name": "#%% md\n"
    }
   },
   "source": [
    "### Работа на семинаре: suggest на подаче"
   ]
  },
  {
   "cell_type": "markdown",
   "metadata": {
    "pycharm": {
     "name": "#%% md\n"
    }
   },
   "source": [
    "* Реализовать [TF-IDF](https://ru.wikipedia.org/wiki/TF-IDF) transformer\n",
    "* Обучить линейную модель на признаках TF-IDf сравнить с реализацией из sklearn\n",
    "    - Разобраться с каждым гиперпараметром реализации TF-IDf из sklearn\n",
    "    \n",
    "* Обучить word2vec на данных data/unlabeled_data.csv\n",
    "* Попробовать улучшить результат который получили с помощью w2v"
   ]
  },
  {
   "cell_type": "markdown",
   "metadata": {
    "pycharm": {
     "name": "#%% md\n"
    }
   },
   "source": [
    "### Домашнее задание"
   ]
  },
  {
   "cell_type": "markdown",
   "metadata": {
    "pycharm": {
     "name": "#%% md\n"
    }
   },
   "source": [
    "Теоритическая часть (обязательно)."
   ]
  },
  {
   "cell_type": "markdown",
   "metadata": {
    "pycharm": {
     "name": "#%% md\n"
    }
   },
   "source": [
    "1. Посмотреть видео на [3BlueBrowb](https://youtu.be/aircAruvnKk)"
   ]
  },
  {
   "cell_type": "markdown",
   "metadata": {
    "pycharm": {
     "name": "#%% md\n"
    }
   },
   "source": [
    "Практическая часть."
   ]
  },
  {
   "cell_type": "markdown",
   "metadata": {
    "pycharm": {
     "name": "#%% md\n"
    }
   },
   "source": [
    "**Реализовать класс Suggester, который возвращает от 1 до 5 наиболее вероятных категорий по введённой строке.**\n",
    "\n",
    "accuracy по top1 > 0.78"
   ]
  },
  {
   "cell_type": "code",
   "execution_count": null,
   "metadata": {
    "pycharm": {
     "name": "#%%\n"
    }
   },
   "outputs": [],
   "source": [
    "from typing import List\n",
    "\n",
    "class Suggester:\n",
    "    \n",
    "    def __init__(self, max_suggest_count=5, default_suggest=''):\n",
    "        self.max_suggest_count = max_suggest_count\n",
    "        self.default_suggest = default_suggest\n",
    "        \n",
    "    def suggest(self, title: str):\n",
    "        print('Для дома и дачи|Посуда и товары для кухни|Посуда')\n",
    "        print('Хобби и отдых|Коллекционирование|Другое')\n",
    "    \n",
    "    def test_suggest(self):\n",
    "        \n",
    "        title = input()\n",
    "        while title != 'stop':\n",
    "            \n",
    "            suggest = self.suggest(title)\n",
    "\n",
    "            if suggest:\n",
    "                print(suggest)\n",
    "            else:\n",
    "                print(self.default_suggest)\n",
    "            \n",
    "            title = input()"
   ]
  },
  {
   "cell_type": "code",
   "execution_count": null,
   "metadata": {
    "pycharm": {
     "name": "#%%\n"
    }
   },
   "outputs": [],
   "source": [
    "sug = Suggester()\n",
    "sug.test_suggest()"
   ]
  }
 ],
 "metadata": {
  "kernelspec": {
   "display_name": "Python 3 (ipykernel)",
   "language": "python",
   "name": "python3"
  },
  "language_info": {
   "codemirror_mode": {
    "name": "ipython",
    "version": 3
   },
   "file_extension": ".py",
   "mimetype": "text/x-python",
   "name": "python",
   "nbconvert_exporter": "python",
   "pygments_lexer": "ipython3",
   "version": "3.10.4"
  }
 },
 "nbformat": 4,
 "nbformat_minor": 4
}
