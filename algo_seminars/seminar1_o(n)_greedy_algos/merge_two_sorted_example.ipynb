{
 "cells": [
  {
   "cell_type": "code",
   "execution_count": 1,
   "metadata": {
    "ExecuteTime": {
     "end_time": "2022-09-29T20:44:10.057567Z",
     "start_time": "2022-09-29T20:44:10.049019Z"
    }
   },
   "outputs": [],
   "source": [
    "import random"
   ]
  },
  {
   "cell_type": "code",
   "execution_count": 2,
   "metadata": {
    "ExecuteTime": {
     "end_time": "2022-09-29T20:44:10.061332Z",
     "start_time": "2022-09-29T20:44:10.059681Z"
    }
   },
   "outputs": [],
   "source": [
    "# Дано - 2 отсортированных массива\n",
    "# a = [1, 2, >5, 7] N\n",
    "# b = [>4, 6, 10] M\n",
    "# Нужно получить из них массив, который содержит элементы обоих, и также отсортирован\n",
    "# c = [1, 2, 4, 5, 6, 7, 10]"
   ]
  },
  {
   "cell_type": "code",
   "execution_count": 3,
   "metadata": {
    "ExecuteTime": {
     "end_time": "2022-09-29T20:44:10.066201Z",
     "start_time": "2022-09-29T20:44:10.062458Z"
    }
   },
   "outputs": [],
   "source": [
    "# N + M\n",
    "def merge_linear(a: list, b: list) -> list:\n",
    "    i_a, i_b = 0, 0\n",
    "    c = []\n",
    "    while i_a < len(a) and i_b < len(b):\n",
    "        if a[i_a] < b[i_b]:\n",
    "            c.append(a[i_a])\n",
    "            i_a += 1\n",
    "        else:\n",
    "            c.append(b[i_b])\n",
    "            i_b += 1\n",
    "            \n",
    "    if i_a < len(a):\n",
    "        c.extend(a[i_a:])\n",
    "    else:\n",
    "        c.extend(b[i_b:])\n",
    "        \n",
    "    return c\n",
    "\n",
    "# (N + M)*log(N+M)\n",
    "def merge_by_sorting(a: list, b: list) -> list:\n",
    "    return sorted(a + b)"
   ]
  },
  {
   "cell_type": "code",
   "execution_count": 4,
   "metadata": {
    "ExecuteTime": {
     "end_time": "2022-09-29T20:44:10.069167Z",
     "start_time": "2022-09-29T20:44:10.067324Z"
    }
   },
   "outputs": [],
   "source": [
    "a_size, b_size = 10**6, 10**6"
   ]
  },
  {
   "cell_type": "code",
   "execution_count": 5,
   "metadata": {
    "ExecuteTime": {
     "end_time": "2022-09-29T20:44:11.386282Z",
     "start_time": "2022-09-29T20:44:10.071554Z"
    }
   },
   "outputs": [],
   "source": [
    "a = sorted([random.randint(0, a_size) for _ in range(a_size)])\n",
    "b = sorted([random.randint(0, b_size) for _ in range(b_size)])"
   ]
  },
  {
   "cell_type": "code",
   "execution_count": 6,
   "metadata": {
    "ExecuteTime": {
     "end_time": "2022-09-29T20:44:11.808833Z",
     "start_time": "2022-09-29T20:44:11.387207Z"
    }
   },
   "outputs": [],
   "source": [
    "_ = merge_linear(a, b)"
   ]
  },
  {
   "cell_type": "code",
   "execution_count": 7,
   "metadata": {
    "ExecuteTime": {
     "end_time": "2022-09-29T20:44:18.541093Z",
     "start_time": "2022-09-29T20:44:11.809761Z"
    }
   },
   "outputs": [
    {
     "name": "stdout",
     "output_type": "stream",
     "text": [
      "82 ms ± 2.25 ms per loop (mean ± std. dev. of 7 runs, 10 loops each)\n"
     ]
    }
   ],
   "source": [
    "%%timeit\n",
    "x = merge_by_sorting(a, b)"
   ]
  },
  {
   "cell_type": "code",
   "execution_count": 8,
   "metadata": {
    "ExecuteTime": {
     "end_time": "2022-09-29T20:44:18.543733Z",
     "start_time": "2022-09-29T20:44:18.542026Z"
    }
   },
   "outputs": [],
   "source": [
    "a_size, b_size = 10**4, 10**4"
   ]
  },
  {
   "cell_type": "code",
   "execution_count": 9,
   "metadata": {
    "ExecuteTime": {
     "end_time": "2022-09-29T20:44:18.567877Z",
     "start_time": "2022-09-29T20:44:18.544596Z"
    }
   },
   "outputs": [],
   "source": [
    "a = sorted([random.randint(0, 100000) for _ in range(a_size)])\n",
    "b = sorted([random.randint(0, 100000) for _ in range(b_size)])"
   ]
  },
  {
   "cell_type": "code",
   "execution_count": 10,
   "metadata": {
    "ExecuteTime": {
     "end_time": "2022-09-29T20:44:21.473859Z",
     "start_time": "2022-09-29T20:44:18.568584Z"
    }
   },
   "outputs": [
    {
     "name": "stdout",
     "output_type": "stream",
     "text": [
      "3.58 ms ± 23.8 µs per loop (mean ± std. dev. of 7 runs, 100 loops each)\n"
     ]
    }
   ],
   "source": [
    "%%timeit\n",
    "merge_linear(a, b)"
   ]
  },
  {
   "cell_type": "code",
   "execution_count": 11,
   "metadata": {
    "ExecuteTime": {
     "end_time": "2022-09-29T20:44:23.828869Z",
     "start_time": "2022-09-29T20:44:21.474607Z"
    }
   },
   "outputs": [
    {
     "name": "stdout",
     "output_type": "stream",
     "text": [
      "290 µs ± 4.25 µs per loop (mean ± std. dev. of 7 runs, 1,000 loops each)\n"
     ]
    }
   ],
   "source": [
    "%%timeit\n",
    "merge_by_sorting(a, b)"
   ]
  },
  {
   "cell_type": "code",
   "execution_count": null,
   "metadata": {},
   "outputs": [],
   "source": []
  }
 ],
 "metadata": {
  "kernelspec": {
   "display_name": "Python 3 (ipykernel)",
   "language": "python",
   "name": "python3"
  },
  "language_info": {
   "codemirror_mode": {
    "name": "ipython",
    "version": 3
   },
   "file_extension": ".py",
   "mimetype": "text/x-python",
   "name": "python",
   "nbconvert_exporter": "python",
   "pygments_lexer": "ipython3",
   "version": "3.9.10"
  }
 },
 "nbformat": 4,
 "nbformat_minor": 4
}
