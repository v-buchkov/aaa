{
 "cells": [
  {
   "cell_type": "code",
   "execution_count": 1,
   "id": "2b8dd88f",
   "metadata": {
    "ExecuteTime": {
     "end_time": "2022-09-29T20:40:06.674201Z",
     "start_time": "2022-09-29T20:40:06.668046Z"
    }
   },
   "outputs": [],
   "source": [
    "import dis\n",
    "\n",
    "import random\n",
    "from typing import List"
   ]
  },
  {
   "cell_type": "code",
   "execution_count": 2,
   "id": "e0971c7a",
   "metadata": {
    "ExecuteTime": {
     "end_time": "2022-09-29T20:40:06.677420Z",
     "start_time": "2022-09-29T20:40:06.675673Z"
    }
   },
   "outputs": [],
   "source": [
    "size = 10**5"
   ]
  },
  {
   "cell_type": "code",
   "execution_count": 3,
   "id": "192ce051",
   "metadata": {
    "ExecuteTime": {
     "end_time": "2022-09-29T20:40:06.681161Z",
     "start_time": "2022-09-29T20:40:06.678546Z"
    }
   },
   "outputs": [],
   "source": [
    "# len(arr) = N\n",
    "# сложность N * const\n",
    "def find(arr: list, item: int) -> bool:\n",
    "    for el in arr: # N iterations\n",
    "        if el == item: # constant cost\n",
    "            return True\n",
    "        \n",
    "    return False\n",
    "\n",
    "\n",
    "\n",
    "# len(arr) = N, len(arr[0]) = M\n",
    "# сложность N * M * L\n",
    "def find_2d(arr: List[List[int]], item: int) -> bool:\n",
    "    for row in arr: # N iterations\n",
    "        for el in row: # M iterations\n",
    "            if el == item: # constant cost\n",
    "                return True\n",
    "        \n",
    "    return False\n",
    "\n",
    "\n"
   ]
  },
  {
   "cell_type": "code",
   "execution_count": 4,
   "id": "2f73f9aa",
   "metadata": {
    "ExecuteTime": {
     "end_time": "2022-09-29T20:40:06.685225Z",
     "start_time": "2022-09-29T20:40:06.682922Z"
    }
   },
   "outputs": [
    {
     "name": "stdout",
     "output_type": "stream",
     "text": [
      "  4           0 LOAD_FAST                0 (arr)\n",
      "              2 GET_ITER\n",
      "        >>    4 FOR_ITER                18 (to 24)\n",
      "              6 STORE_FAST               2 (el)\n",
      "\n",
      "  5           8 LOAD_FAST                2 (el)\n",
      "             10 LOAD_FAST                1 (item)\n",
      "             12 COMPARE_OP               2 (==)\n",
      "             14 POP_JUMP_IF_FALSE        4\n",
      "\n",
      "  6          16 POP_TOP\n",
      "             18 LOAD_CONST               1 (True)\n",
      "             20 RETURN_VALUE\n",
      "             22 JUMP_ABSOLUTE            4\n",
      "\n",
      "  8     >>   24 LOAD_CONST               2 (False)\n",
      "             26 RETURN_VALUE\n"
     ]
    }
   ],
   "source": [
    "dis.dis(find)"
   ]
  },
  {
   "cell_type": "code",
   "execution_count": 5,
   "id": "ca7df5cc",
   "metadata": {
    "ExecuteTime": {
     "end_time": "2022-09-29T20:40:06.697950Z",
     "start_time": "2022-09-29T20:40:06.685933Z"
    }
   },
   "outputs": [],
   "source": [
    "example = list(range(10**6))"
   ]
  },
  {
   "cell_type": "code",
   "execution_count": 6,
   "id": "ddd076f4",
   "metadata": {
    "ExecuteTime": {
     "end_time": "2022-09-29T20:40:17.417610Z",
     "start_time": "2022-09-29T20:40:06.698831Z"
    }
   },
   "outputs": [
    {
     "name": "stdout",
     "output_type": "stream",
     "text": [
      "13.2 ms ± 262 µs per loop (mean ± std. dev. of 7 runs, 100 loops each)\n"
     ]
    }
   ],
   "source": [
    "%%timeit\n",
    "find(example, 10**7)"
   ]
  },
  {
   "cell_type": "code",
   "execution_count": 7,
   "id": "541b2d4b",
   "metadata": {
    "ExecuteTime": {
     "end_time": "2022-09-29T20:40:22.741097Z",
     "start_time": "2022-09-29T20:40:17.418492Z"
    }
   },
   "outputs": [
    {
     "name": "stdout",
     "output_type": "stream",
     "text": [
      "6.56 ms ± 20.6 µs per loop (mean ± std. dev. of 7 runs, 100 loops each)\n"
     ]
    }
   ],
   "source": [
    "%%timeit\n",
    "find(example, 5*10**5)"
   ]
  },
  {
   "cell_type": "code",
   "execution_count": 8,
   "id": "874d5866",
   "metadata": {
    "ExecuteTime": {
     "end_time": "2022-09-29T20:40:22.746490Z",
     "start_time": "2022-09-29T20:40:22.742024Z"
    }
   },
   "outputs": [
    {
     "data": {
      "text/plain": [
       "40.2"
      ]
     },
     "execution_count": 8,
     "metadata": {},
     "output_type": "execute_result"
    }
   ],
   "source": [
    "80.4 * 5*10**5 / 10**6"
   ]
  },
  {
   "cell_type": "code",
   "execution_count": 9,
   "id": "ae994260",
   "metadata": {
    "ExecuteTime": {
     "end_time": "2022-09-29T20:40:29.149548Z",
     "start_time": "2022-09-29T20:40:22.747217Z"
    }
   },
   "outputs": [
    {
     "name": "stdout",
     "output_type": "stream",
     "text": [
      "78.8 ns ± 0.418 ns per loop (mean ± std. dev. of 7 runs, 10,000,000 loops each)\n"
     ]
    }
   ],
   "source": [
    "%%timeit\n",
    "find(example, 0)"
   ]
  },
  {
   "cell_type": "code",
   "execution_count": null,
   "id": "ca37afd6",
   "metadata": {},
   "outputs": [],
   "source": []
  }
 ],
 "metadata": {
  "kernelspec": {
   "display_name": "Python 3 (ipykernel)",
   "language": "python",
   "name": "python3"
  },
  "language_info": {
   "codemirror_mode": {
    "name": "ipython",
    "version": 3
   },
   "file_extension": ".py",
   "mimetype": "text/x-python",
   "name": "python",
   "nbconvert_exporter": "python",
   "pygments_lexer": "ipython3",
   "version": "3.9.10"
  }
 },
 "nbformat": 4,
 "nbformat_minor": 5
}
