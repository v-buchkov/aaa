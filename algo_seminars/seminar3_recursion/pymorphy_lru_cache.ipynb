{
 "cells": [
  {
   "cell_type": "markdown",
   "metadata": {},
   "source": [
    "Это пример, как lru_cache можно применить для существенного ускорения обработки текста."
   ]
  },
  {
   "cell_type": "code",
   "execution_count": 1,
   "metadata": {
    "ExecuteTime": {
     "end_time": "2022-10-19T18:04:14.557264Z",
     "start_time": "2022-10-19T18:04:14.252720Z"
    }
   },
   "outputs": [],
   "source": [
    "from typing import List\n",
    "from functools import lru_cache\n",
    "\n",
    "import pymorphy2\n",
    "import nltk"
   ]
  },
  {
   "cell_type": "code",
   "execution_count": 2,
   "metadata": {
    "ExecuteTime": {
     "end_time": "2022-10-19T18:04:14.779405Z",
     "start_time": "2022-10-19T18:04:14.558448Z"
    }
   },
   "outputs": [
    {
     "name": "stderr",
     "output_type": "stream",
     "text": [
      "[nltk_data] Downloading package brown to /Users/greenwolf/nltk_data...\n",
      "[nltk_data]   Package brown is already up-to-date!\n"
     ]
    },
    {
     "data": {
      "text/plain": [
       "True"
      ]
     },
     "execution_count": 2,
     "metadata": {},
     "output_type": "execute_result"
    }
   ],
   "source": [
    "nltk.download('brown')"
   ]
  },
  {
   "cell_type": "code",
   "execution_count": 3,
   "metadata": {
    "ExecuteTime": {
     "end_time": "2022-10-19T18:04:14.784338Z",
     "start_time": "2022-10-19T18:04:14.782657Z"
    }
   },
   "outputs": [],
   "source": [
    "corpus = nltk.corpus.brown"
   ]
  },
  {
   "cell_type": "code",
   "execution_count": 4,
   "metadata": {
    "ExecuteTime": {
     "end_time": "2022-10-19T18:04:14.797075Z",
     "start_time": "2022-10-19T18:04:14.785379Z"
    }
   },
   "outputs": [],
   "source": [
    "words = corpus.words()"
   ]
  },
  {
   "cell_type": "code",
   "execution_count": 5,
   "metadata": {
    "ExecuteTime": {
     "end_time": "2022-10-19T18:04:14.841380Z",
     "start_time": "2022-10-19T18:04:14.798308Z"
    }
   },
   "outputs": [],
   "source": [
    "morph = pymorphy2.MorphAnalyzer()"
   ]
  },
  {
   "cell_type": "code",
   "execution_count": 6,
   "metadata": {
    "ExecuteTime": {
     "end_time": "2022-10-19T18:04:26.760392Z",
     "start_time": "2022-10-19T18:04:14.842125Z"
    }
   },
   "outputs": [
    {
     "name": "stdout",
     "output_type": "stream",
     "text": [
      "147 µs ± 2.27 µs per loop (mean ± std. dev. of 7 runs, 10,000 loops each)\n"
     ]
    }
   ],
   "source": [
    "%%timeit\n",
    "morph.parse('хёндай')[0].normal_form"
   ]
  },
  {
   "cell_type": "code",
   "execution_count": 7,
   "metadata": {
    "ExecuteTime": {
     "end_time": "2022-10-19T18:04:27.835191Z",
     "start_time": "2022-10-19T18:04:26.761115Z"
    }
   },
   "outputs": [],
   "source": [
    "def normalize(word: str, morph: pymorphy2.MorphAnalyzer):\n",
    "    return morph.parse(word)[0].normal_form\n",
    "\n",
    "@lru_cache(maxsize=len(set(words)))\n",
    "def normalize_lru(word: str, morph: pymorphy2.MorphAnalyzer):\n",
    "    return morph.parse(word)[0].normal_form\n",
    " \n",
    "\n",
    "def normalize_corpus(words: List[str], morph: pymorphy2.MorphAnalyzer):\n",
    "    return [normalize(word, morph) for word in words]\n",
    "\n",
    "\n",
    "def normalize_corpus_lru(words: List[str], morph: pymorphy2.MorphAnalyzer):\n",
    "    return [normalize_lru(word, morph) for word in words]"
   ]
  },
  {
   "cell_type": "code",
   "execution_count": 8,
   "metadata": {
    "ExecuteTime": {
     "end_time": "2022-10-19T18:04:39.284869Z",
     "start_time": "2022-10-19T18:04:27.835921Z"
    }
   },
   "outputs": [
    {
     "name": "stdout",
     "output_type": "stream",
     "text": [
      "CPU times: user 11.3 s, sys: 104 ms, total: 11.4 s\n",
      "Wall time: 11.4 s\n"
     ]
    }
   ],
   "source": [
    "%%time\n",
    "normalized = normalize_corpus(words, morph)"
   ]
  },
  {
   "cell_type": "code",
   "execution_count": 9,
   "metadata": {
    "ExecuteTime": {
     "end_time": "2022-10-19T18:04:41.140911Z",
     "start_time": "2022-10-19T18:04:39.286619Z"
    }
   },
   "outputs": [
    {
     "name": "stdout",
     "output_type": "stream",
     "text": [
      "CPU times: user 1.82 s, sys: 35.2 ms, total: 1.85 s\n",
      "Wall time: 1.85 s\n"
     ]
    }
   ],
   "source": [
    "%%time\n",
    "normalized_lru = normalize_corpus_lru(words, morph)"
   ]
  },
  {
   "cell_type": "code",
   "execution_count": 10,
   "metadata": {
    "ExecuteTime": {
     "end_time": "2022-10-19T18:04:41.171999Z",
     "start_time": "2022-10-19T18:04:41.141716Z"
    }
   },
   "outputs": [
    {
     "data": {
      "text/plain": [
       "True"
      ]
     },
     "execution_count": 10,
     "metadata": {},
     "output_type": "execute_result"
    }
   ],
   "source": [
    "normalized == normalized_lru"
   ]
  },
  {
   "cell_type": "markdown",
   "metadata": {},
   "source": [
    "Получили ускорение почти в 7 раз, добавив одну строку кода!"
   ]
  },
  {
   "cell_type": "code",
   "execution_count": null,
   "metadata": {},
   "outputs": [],
   "source": []
  }
 ],
 "metadata": {
  "kernelspec": {
   "display_name": "Python 3 (ipykernel)",
   "language": "python",
   "name": "python3"
  },
  "language_info": {
   "codemirror_mode": {
    "name": "ipython",
    "version": 3
   },
   "file_extension": ".py",
   "mimetype": "text/x-python",
   "name": "python",
   "nbconvert_exporter": "python",
   "pygments_lexer": "ipython3",
   "version": "3.9.10"
  }
 },
 "nbformat": 4,
 "nbformat_minor": 4
}
