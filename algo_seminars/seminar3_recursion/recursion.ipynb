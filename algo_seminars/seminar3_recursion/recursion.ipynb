{
 "cells": [
  {
   "cell_type": "markdown",
   "metadata": {},
   "source": [
    "# Числа Фибоначчи"
   ]
  },
  {
   "cell_type": "markdown",
   "metadata": {},
   "source": [
    "Познакомимся с рекурсией на примере чисел Фибоначчи.\n",
    "Это последовательность, которая как раз определена рекурсивно - каждое следующее число равно сумме двух предыдущих.\n",
    "Первые 2 числа - 1, 1 (иногда 0, 1).\n",
    "\n",
    "1, 1, 2, 3, 5, 8, 13, 21, 34 ..."
   ]
  },
  {
   "cell_type": "markdown",
   "metadata": {},
   "source": [
    "### рекурсивная функция"
   ]
  },
  {
   "cell_type": "code",
   "execution_count": 1,
   "metadata": {
    "ExecuteTime": {
     "end_time": "2022-10-19T17:56:10.505098Z",
     "start_time": "2022-10-19T17:56:10.499083Z"
    }
   },
   "outputs": [],
   "source": [
    "# Рекурсивная функция - это такая функция, которая вызывает саму себя.\n",
    "# Данная функция позволяет вычислить n-ное число Фибоначчи по определению.\n",
    "def fib(n):\n",
    "    if n <= 1:\n",
    "        return 1\n",
    "    \n",
    "    return fib(n - 1) + fib(n - 2)"
   ]
  },
  {
   "cell_type": "code",
   "execution_count": 2,
   "metadata": {
    "ExecuteTime": {
     "end_time": "2022-10-19T17:56:10.513544Z",
     "start_time": "2022-10-19T17:56:10.506344Z"
    }
   },
   "outputs": [
    {
     "data": {
      "text/plain": [
       "10946"
      ]
     },
     "execution_count": 2,
     "metadata": {},
     "output_type": "execute_result"
    }
   ],
   "source": [
    "fib(20)"
   ]
  },
  {
   "cell_type": "code",
   "execution_count": 3,
   "metadata": {
    "ExecuteTime": {
     "end_time": "2022-10-19T17:56:10.681304Z",
     "start_time": "2022-10-19T17:56:10.514373Z"
    }
   },
   "outputs": [
    {
     "name": "stdout",
     "output_type": "stream",
     "text": [
      "CPU times: user 164 ms, sys: 1.73 ms, total: 166 ms\n",
      "Wall time: 165 ms\n"
     ]
    },
    {
     "data": {
      "text/plain": [
       "1346269"
      ]
     },
     "execution_count": 3,
     "metadata": {},
     "output_type": "execute_result"
    }
   ],
   "source": [
    "%%time\n",
    "fib(30)"
   ]
  },
  {
   "cell_type": "code",
   "execution_count": 4,
   "metadata": {
    "ExecuteTime": {
     "end_time": "2022-10-19T17:56:13.589018Z",
     "start_time": "2022-10-19T17:56:10.682538Z"
    }
   },
   "outputs": [
    {
     "name": "stdout",
     "output_type": "stream",
     "text": [
      "CPU times: user 2.88 s, sys: 21.9 ms, total: 2.9 s\n",
      "Wall time: 2.9 s\n"
     ]
    },
    {
     "data": {
      "text/plain": [
       "24157817"
      ]
     },
     "execution_count": 4,
     "metadata": {},
     "output_type": "execute_result"
    }
   ],
   "source": [
    "%%time\n",
    "fib(36)"
   ]
  },
  {
   "cell_type": "markdown",
   "metadata": {},
   "source": [
    "У рекурсивного решения этой задачи есть существенный недостаток - из-за того, что каждый раз функция вызывает 2 копии себя, мы получаем экспоненциальную сложность порядка **O(2^n)**. Это видно на примерах выше: для **n=30** функция работает 222ms, а для **n=35** - уже в 10 раз дольше. Для **n=100** мы вообще не дождемся её завершения."
   ]
  },
  {
   "cell_type": "markdown",
   "metadata": {},
   "source": [
    "Формально оценить сложность рекурсивной функции можно при помощи рекуррентного соотношения"
   ]
  },
  {
   "cell_type": "markdown",
   "metadata": {},
   "source": [
    "$\n",
    "T(n) = T(n - 1) + T(n - 2) + C \\\\\n",
    "T(n) \\le 2T(n - 1) + C \\\\\n",
    "T(n) \\le 4T(n - 2) + (2 + 1) C \\\\\n",
    "T(n) \\le 2^k(n - k) + (2^k - 1) C  \\\\\n",
    "T(n) \\le 2^n * C1 \\\\\n",
    "$"
   ]
  },
  {
   "cell_type": "markdown",
   "metadata": {},
   "source": [
    "### мемоизация при помощи lru_cache"
   ]
  },
  {
   "cell_type": "markdown",
   "metadata": {},
   "source": [
    "Проблема рекурсивного решения в том, что мы много раз вызываем функцию с одними и теми же аргументами. \n",
    "Для борьбы с этой проблемой применяют мемоизацию - запоминание результата работы функции с заданным набором аргументов."
   ]
  },
  {
   "cell_type": "code",
   "execution_count": 5,
   "metadata": {
    "ExecuteTime": {
     "end_time": "2022-10-19T17:56:13.593102Z",
     "start_time": "2022-10-19T17:56:13.590918Z"
    }
   },
   "outputs": [],
   "source": [
    "# воспользуемся декоратором lru_cache, который как раз реализует мемоизацию \n",
    "# он запоминает результат вызова функции для maxsize последних аргументов\n",
    "from functools import lru_cache\n",
    "\n",
    "@lru_cache(maxsize=1000)\n",
    "def fib_lru(n):\n",
    "    if n <= 1:\n",
    "        return n\n",
    "    return fib_lru(n - 1) + fib_lru(n - 2)"
   ]
  },
  {
   "cell_type": "code",
   "execution_count": 6,
   "metadata": {
    "ExecuteTime": {
     "end_time": "2022-10-19T17:56:13.595939Z",
     "start_time": "2022-10-19T17:56:13.593952Z"
    }
   },
   "outputs": [],
   "source": [
    "def fib_memo(n, memo: dict):\n",
    "    if n in memo:\n",
    "        return memo[n]\n",
    "    if n <= 1:\n",
    "        return n\n",
    "    \n",
    "    fib_curr =  fib_lru(n - 1) + fib_lru(n - 2)\n",
    "    memo[n] = fib_curr\n",
    "    return fib_curr"
   ]
  },
  {
   "cell_type": "code",
   "execution_count": 7,
   "metadata": {
    "ExecuteTime": {
     "end_time": "2022-10-19T17:56:13.599858Z",
     "start_time": "2022-10-19T17:56:13.596746Z"
    }
   },
   "outputs": [
    {
     "name": "stdout",
     "output_type": "stream",
     "text": [
      "CPU times: user 660 µs, sys: 106 µs, total: 766 µs\n",
      "Wall time: 778 µs\n"
     ]
    },
    {
     "data": {
      "text/plain": [
       "139423224561697880139724382870407283950070256587697307264108962948325571622863290691557658876222521294125"
      ]
     },
     "execution_count": 7,
     "metadata": {},
     "output_type": "execute_result"
    }
   ],
   "source": [
    "%%time\n",
    "memo = {}\n",
    "fib_memo(500, memo)"
   ]
  },
  {
   "cell_type": "markdown",
   "metadata": {},
   "source": [
    "С использованием мемоизации мы понизили сложность по времени до линейной. Теперь функция вызывается ровно 1 раз для каждого значения n.\n",
    "Но, решения с мемоизацией всегда требуют дополнительную память, чтобы хранить результаты."
   ]
  },
  {
   "cell_type": "markdown",
   "metadata": {},
   "source": [
    "### итеративное решение"
   ]
  },
  {
   "cell_type": "markdown",
   "metadata": {},
   "source": [
    "Любую рекурсивную функцию можно переписать с использованием цикла. Для нашей задачи это сделать достаточно просто."
   ]
  },
  {
   "cell_type": "code",
   "execution_count": 8,
   "metadata": {
    "ExecuteTime": {
     "end_time": "2022-10-19T17:56:13.602310Z",
     "start_time": "2022-10-19T17:56:13.600575Z"
    }
   },
   "outputs": [],
   "source": [
    "def fib_no_recusrion(n: int):\n",
    "    fib0, fib1 = 0, 1\n",
    "    for _ in range(n):\n",
    "        fib0, fib1 = fib1, fib0 + fib1\n",
    "        \n",
    "    return fib0\n",
    "        \n",
    "        "
   ]
  },
  {
   "cell_type": "code",
   "execution_count": 9,
   "metadata": {
    "ExecuteTime": {
     "end_time": "2022-10-19T17:56:25.394344Z",
     "start_time": "2022-10-19T17:56:13.604236Z"
    }
   },
   "outputs": [
    {
     "name": "stdout",
     "output_type": "stream",
     "text": [
      "CPU times: user 11.7 s, sys: 62.1 ms, total: 11.8 s\n",
      "Wall time: 11.8 s\n"
     ]
    }
   ],
   "source": [
    "%%time\n",
    "x = fib_no_recusrion(1000000)"
   ]
  },
  {
   "cell_type": "markdown",
   "metadata": {},
   "source": [
    "Это решение также линейно, но не требует дополнительной памяти."
   ]
  },
  {
   "cell_type": "markdown",
   "metadata": {},
   "source": [
    "# Обход словаря"
   ]
  },
  {
   "cell_type": "markdown",
   "metadata": {},
   "source": [
    "Представьте, что вы получили данные с неизвестной структурой в формате json. \n",
    "Это один из самых распространенных форматов обмена данными, по структуре он почти идентичен контейнеру dict в Python."
   ]
  },
  {
   "cell_type": "code",
   "execution_count": 10,
   "metadata": {
    "ExecuteTime": {
     "end_time": "2022-10-19T17:56:25.621720Z",
     "start_time": "2022-10-19T17:56:25.395328Z"
    }
   },
   "outputs": [
    {
     "ename": "FileNotFoundError",
     "evalue": "[Errno 2] No such file or directory: 'example.json'",
     "output_type": "error",
     "traceback": [
      "\u001b[0;31m---------------------------------------------------------------------------\u001b[0m",
      "\u001b[0;31mFileNotFoundError\u001b[0m                         Traceback (most recent call last)",
      "Input \u001b[0;32mIn [10]\u001b[0m, in \u001b[0;36m<module>\u001b[0;34m\u001b[0m\n\u001b[1;32m      4\u001b[0m \u001b[38;5;28;01mimport\u001b[39;00m \u001b[38;5;21;01mjson\u001b[39;00m\n\u001b[1;32m      5\u001b[0m \u001b[38;5;28;01mimport\u001b[39;00m \u001b[38;5;21;01morjson\u001b[39;00m\n\u001b[0;32m----> 7\u001b[0m \u001b[38;5;28;01mwith\u001b[39;00m \u001b[38;5;28;43mopen\u001b[39;49m\u001b[43m(\u001b[49m\u001b[38;5;124;43m'\u001b[39;49m\u001b[38;5;124;43mexample.json\u001b[39;49m\u001b[38;5;124;43m'\u001b[39;49m\u001b[43m,\u001b[49m\u001b[43m \u001b[49m\u001b[38;5;124;43m'\u001b[39;49m\u001b[38;5;124;43mr\u001b[39;49m\u001b[38;5;124;43m'\u001b[39;49m\u001b[43m)\u001b[49m \u001b[38;5;28;01mas\u001b[39;00m f:\n\u001b[1;32m      8\u001b[0m     json_str \u001b[38;5;241m=\u001b[39m f\u001b[38;5;241m.\u001b[39mread()\n",
      "\u001b[0;31mFileNotFoundError\u001b[0m: [Errno 2] No such file or directory: 'example.json'"
     ]
    }
   ],
   "source": [
    "# Для работы с json в стандартной библиотеке Python есть одноименный модуль.\n",
    "# Но есть сторонние библиотеки, которые позволяют делать это более эффективно, например orjson\n",
    "\n",
    "import json\n",
    "import orjson\n",
    "\n",
    "with open('example.json', 'r') as f:\n",
    "    json_str = f.read()\n",
    "   "
   ]
  },
  {
   "cell_type": "code",
   "execution_count": null,
   "metadata": {
    "ExecuteTime": {
     "end_time": "2022-10-19T17:56:25.622568Z",
     "start_time": "2022-10-19T17:56:25.622562Z"
    },
    "scrolled": true
   },
   "outputs": [],
   "source": [
    "%%timeit\n",
    "data = json.loads(json_str)"
   ]
  },
  {
   "cell_type": "code",
   "execution_count": null,
   "metadata": {
    "ExecuteTime": {
     "end_time": "2022-10-19T17:56:25.623103Z",
     "start_time": "2022-10-19T17:56:25.623098Z"
    }
   },
   "outputs": [],
   "source": [
    "%%timeit\n",
    "data = orjson.loads(json_str)"
   ]
  },
  {
   "cell_type": "code",
   "execution_count": null,
   "metadata": {
    "ExecuteTime": {
     "end_time": "2022-10-19T17:56:25.623638Z",
     "start_time": "2022-10-19T17:56:25.623630Z"
    }
   },
   "outputs": [],
   "source": [
    "data = orjson.loads(json_str)"
   ]
  },
  {
   "cell_type": "markdown",
   "metadata": {},
   "source": [
    "Напишем рекурсивную функцию обхода: для ключей типа dict будем вызывать саму себя,\n",
    "а для ключей типа list будем вызывать обход для первого элемента."
   ]
  },
  {
   "cell_type": "code",
   "execution_count": null,
   "metadata": {
    "ExecuteTime": {
     "end_time": "2022-10-19T17:56:25.624135Z",
     "start_time": "2022-10-19T17:56:25.624130Z"
    }
   },
   "outputs": [],
   "source": [
    "# аргумент level нужен нам, чтобы определять уровень вложенности для красивой печати\n",
    "\n",
    "def traverse(level: int, obj: dict):\n",
    "    if isinstance(obj, dict):\n",
    "        for key, value in obj.items():\n",
    "            print('  ' * level + '|__', key)\n",
    "            traverse(level + 1, value)\n",
    "            \n",
    "    if isinstance(obj, list):\n",
    "        print('  ' * level + '|__', '[]')\n",
    "        traverse(level + 1, obj[0])\n",
    "        \n",
    "    return\n",
    "            "
   ]
  },
  {
   "cell_type": "code",
   "execution_count": null,
   "metadata": {
    "ExecuteTime": {
     "end_time": "2022-10-19T17:56:25.624674Z",
     "start_time": "2022-10-19T17:56:25.624669Z"
    }
   },
   "outputs": [],
   "source": [
    "traverse(0, data)"
   ]
  },
  {
   "cell_type": "markdown",
   "metadata": {},
   "source": [
    "Теперь мы видим структуру наших данных и можем быстро достать то, что нужно."
   ]
  },
  {
   "cell_type": "code",
   "execution_count": null,
   "metadata": {
    "ExecuteTime": {
     "end_time": "2022-10-19T17:56:25.625487Z",
     "start_time": "2022-10-19T17:56:25.625481Z"
    }
   },
   "outputs": [],
   "source": [
    "data['result']['list'][0]['value']['list'][0]['value']['service_item']['title']"
   ]
  },
  {
   "cell_type": "markdown",
   "metadata": {},
   "source": [
    "# Хвостовая рекурсия"
   ]
  },
  {
   "cell_type": "markdown",
   "metadata": {},
   "source": [
    "Хвостовая рекурсия - это особый вид рекурсии, где последней инструкцией выполняется рекурсивный вызов самой функции.\n"
   ]
  },
  {
   "cell_type": "markdown",
   "metadata": {},
   "source": [
    "Рассмотрим рекурсивную функцию вычисления факториала при помощи модуля dis. \n",
    "Он позволяет смотреть, какие инструкции выполнит интерпретатор при вызове функции."
   ]
  },
  {
   "cell_type": "code",
   "execution_count": null,
   "metadata": {
    "ExecuteTime": {
     "end_time": "2022-10-19T17:56:25.625915Z",
     "start_time": "2022-10-19T17:56:25.625910Z"
    }
   },
   "outputs": [],
   "source": [
    "from dis import dis"
   ]
  },
  {
   "cell_type": "code",
   "execution_count": null,
   "metadata": {
    "ExecuteTime": {
     "end_time": "2022-10-19T17:56:25.626412Z",
     "start_time": "2022-10-19T17:56:25.626406Z"
    }
   },
   "outputs": [],
   "source": [
    "def factorial(n: int):\n",
    "    if n == 0:\n",
    "        return 1\n",
    "\n",
    "    return n * factorial(n - 1)"
   ]
  },
  {
   "cell_type": "markdown",
   "metadata": {},
   "source": [
    "Видно, что на шаге 22 вызывается инструктция **CALL_FUNCTION**, а после неё идет умножение **BINARY_MULTIPLY**."
   ]
  },
  {
   "cell_type": "markdown",
   "metadata": {},
   "source": [
    "Изменим функцию, чтобы она удовлетворяла свойству хвостовой рекурсии. Здесь нам понадобится аккумулятор."
   ]
  },
  {
   "cell_type": "code",
   "execution_count": null,
   "metadata": {
    "ExecuteTime": {
     "end_time": "2022-10-19T17:56:25.627019Z",
     "start_time": "2022-10-19T17:56:25.627011Z"
    }
   },
   "outputs": [],
   "source": [
    "def factorial_tail(n: int, acc: int = 1):\n",
    "    if n == 1:\n",
    "        return acc\n",
    "\n",
    "    return factorial_tail(n - 1, acc * n)"
   ]
  },
  {
   "cell_type": "code",
   "execution_count": null,
   "metadata": {
    "ExecuteTime": {
     "end_time": "2022-10-19T17:56:25.627570Z",
     "start_time": "2022-10-19T17:56:25.627564Z"
    }
   },
   "outputs": [],
   "source": [
    "dis(factorial_tail)"
   ]
  },
  {
   "cell_type": "markdown",
   "metadata": {},
   "source": [
    "Здесь инструкция **CALL_FUNCTION** идет в конце."
   ]
  },
  {
   "cell_type": "markdown",
   "metadata": {},
   "source": [
    "Преимущество хвостовой рекурсии в том, что ей не нужно хранить весь стек вызовов, чтобы вернуть результат. \n",
    "Он уже будет накоплен в аккумуляторе и мы можем не подниматься обратно по цепочке вызовов, в отличие от обычной рекурсии.\n",
    "\n",
    "В некоторых языках программирования (в основном, фукнциональных), эта оптимизация происходит на этапе компиляции, \n",
    "и поэтому хвостовая рекурсия не уступает в производительности циклам.\n",
    "В Python, это, к сожалению, не так, но при помощи манипуляций с байткодом можно это реализовать.\n",
    "https://towardsdatascience.com/python-stack-frames-and-tail-call-optimization-4d0ea55b0542"
   ]
  },
  {
   "cell_type": "markdown",
   "metadata": {},
   "source": [
    "# Множество всех подмножеств "
   ]
  },
  {
   "cell_type": "markdown",
   "metadata": {},
   "source": [
    "Рекурсия может быть полезна для решения \"переборных\" задач, например, для получения всех комбинаций."
   ]
  },
  {
   "cell_type": "markdown",
   "metadata": {},
   "source": [
    "Определим базовый случай: множество подмножеств пустого множества состоит из пустого множества.\n",
    "\n",
    "Шаг рекурсии: если мы имеем все подмножества множества из **N-1** элементов, то, добавив к кажому из них еще один элемент, мы получим решение для **N**."
   ]
  },
  {
   "cell_type": "code",
   "execution_count": null,
   "metadata": {
    "ExecuteTime": {
     "end_time": "2022-10-19T17:56:25.628306Z",
     "start_time": "2022-10-19T17:56:25.628301Z"
    }
   },
   "outputs": [],
   "source": [
    "def get_subsets(original_set: list):\n",
    "    if len(original_set) == 0:\n",
    "        return [[]]\n",
    "    \n",
    "    all_subsets = [[]]\n",
    "    for i, elem in enumerate(original_set):\n",
    "        all_subsets += [[elem] + subset for subset in get_subsets(original_set[i + 1:])]\n",
    "        \n",
    "    return all_subsets\n",
    "    \n",
    "    \n",
    "    \n",
    "\n",
    "    \n",
    "    "
   ]
  },
  {
   "cell_type": "code",
   "execution_count": null,
   "metadata": {
    "ExecuteTime": {
     "end_time": "2022-10-19T17:56:25.628867Z",
     "start_time": "2022-10-19T17:56:25.628861Z"
    }
   },
   "outputs": [],
   "source": [
    "get_subsets([1, 2, 3])"
   ]
  },
  {
   "cell_type": "code",
   "execution_count": null,
   "metadata": {},
   "outputs": [],
   "source": []
  }
 ],
 "metadata": {
  "kernelspec": {
   "display_name": "Python 3 (ipykernel)",
   "language": "python",
   "name": "python3"
  },
  "language_info": {
   "codemirror_mode": {
    "name": "ipython",
    "version": 3
   },
   "file_extension": ".py",
   "mimetype": "text/x-python",
   "name": "python",
   "nbconvert_exporter": "python",
   "pygments_lexer": "ipython3",
   "version": "3.9.10"
  }
 },
 "nbformat": 4,
 "nbformat_minor": 4
}
