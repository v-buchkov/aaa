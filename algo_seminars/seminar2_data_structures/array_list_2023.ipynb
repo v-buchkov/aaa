{
 "cells": [
  {
   "cell_type": "markdown",
   "metadata": {},
   "source": [
    "Сравним время операций **insert** и **append** для массива."
   ]
  },
  {
   "cell_type": "code",
   "execution_count": 1,
   "metadata": {
    "ExecuteTime": {
     "end_time": "2022-10-19T17:58:21.107345Z",
     "start_time": "2022-10-19T17:58:21.102446Z"
    }
   },
   "outputs": [],
   "source": [
    "power = 17 # change me"
   ]
  },
  {
   "cell_type": "code",
   "execution_count": 2,
   "metadata": {
    "ExecuteTime": {
     "end_time": "2022-10-19T17:58:21.111689Z",
     "start_time": "2022-10-19T17:58:21.108781Z"
    }
   },
   "outputs": [],
   "source": [
    "a = list(range(2**power))"
   ]
  },
  {
   "cell_type": "code",
   "execution_count": 3,
   "metadata": {
    "ExecuteTime": {
     "end_time": "2022-10-19T17:58:21.117569Z",
     "start_time": "2022-10-19T17:58:21.112723Z"
    }
   },
   "outputs": [
    {
     "data": {
      "text/plain": [
       "131072"
      ]
     },
     "execution_count": 3,
     "metadata": {},
     "output_type": "execute_result"
    }
   ],
   "source": [
    "len(a)"
   ]
  },
  {
   "cell_type": "code",
   "execution_count": 4,
   "metadata": {
    "ExecuteTime": {
     "end_time": "2022-10-19T17:58:27.847964Z",
     "start_time": "2022-10-19T17:58:21.119167Z"
    }
   },
   "outputs": [
    {
     "name": "stdout",
     "output_type": "stream",
     "text": [
      "85.2 µs ± 9.2 µs per loop (mean ± std. dev. of 7 runs, 10,000 loops each)\n"
     ]
    }
   ],
   "source": [
    "%%timeit\n",
    "a.insert(1, 1)"
   ]
  },
  {
   "cell_type": "code",
   "execution_count": 5,
   "metadata": {
    "ExecuteTime": {
     "end_time": "2022-10-19T17:58:27.852672Z",
     "start_time": "2022-10-19T17:58:27.849024Z"
    }
   },
   "outputs": [],
   "source": [
    "a = list(range(2**power))"
   ]
  },
  {
   "cell_type": "code",
   "execution_count": 6,
   "metadata": {
    "ExecuteTime": {
     "end_time": "2022-10-19T17:58:30.415390Z",
     "start_time": "2022-10-19T17:58:27.853678Z"
    }
   },
   "outputs": [
    {
     "name": "stdout",
     "output_type": "stream",
     "text": [
      "31.5 ns ± 0.151 ns per loop (mean ± std. dev. of 7 runs, 10,000,000 loops each)\n"
     ]
    }
   ],
   "source": [
    "%%timeit\n",
    "a.append(1)"
   ]
  },
  {
   "cell_type": "code",
   "execution_count": 7,
   "metadata": {
    "ExecuteTime": {
     "end_time": "2022-10-19T17:58:30.418468Z",
     "start_time": "2022-10-19T17:58:30.416323Z"
    }
   },
   "outputs": [
    {
     "data": {
      "text/plain": [
       "81242183"
      ]
     },
     "execution_count": 7,
     "metadata": {},
     "output_type": "execute_result"
    }
   ],
   "source": [
    "len(a)"
   ]
  },
  {
   "cell_type": "code",
   "execution_count": 8,
   "metadata": {
    "ExecuteTime": {
     "end_time": "2022-10-19T17:58:33.501347Z",
     "start_time": "2022-10-19T17:58:30.419528Z"
    }
   },
   "outputs": [
    {
     "name": "stdout",
     "output_type": "stream",
     "text": [
      "37.9 ns ± 0.212 ns per loop (mean ± std. dev. of 7 runs, 10,000,000 loops each)\n"
     ]
    }
   ],
   "source": [
    "%%timeit\n",
    "len(a)"
   ]
  },
  {
   "cell_type": "markdown",
   "metadata": {},
   "source": [
    "Посмотрим, как в питоне происходит динамическое расширение массива. Воспользуемся функцией **getsizeof** для получение размера объекта в байтах."
   ]
  },
  {
   "cell_type": "code",
   "execution_count": 9,
   "metadata": {
    "ExecuteTime": {
     "end_time": "2022-10-19T17:58:33.504141Z",
     "start_time": "2022-10-19T17:58:33.502276Z"
    }
   },
   "outputs": [],
   "source": [
    "from sys import getsizeof"
   ]
  },
  {
   "cell_type": "code",
   "execution_count": 10,
   "metadata": {
    "ExecuteTime": {
     "end_time": "2022-10-19T17:58:34.030817Z",
     "start_time": "2022-10-19T17:58:33.855384Z"
    }
   },
   "outputs": [],
   "source": [
    "a = []"
   ]
  },
  {
   "cell_type": "code",
   "execution_count": 11,
   "metadata": {
    "ExecuteTime": {
     "end_time": "2022-10-19T17:58:34.033464Z",
     "start_time": "2022-10-19T17:58:34.031637Z"
    }
   },
   "outputs": [
    {
     "data": {
      "text/plain": [
       "56"
      ]
     },
     "execution_count": 11,
     "metadata": {},
     "output_type": "execute_result"
    }
   ],
   "source": [
    "getsizeof(a)"
   ]
  },
  {
   "cell_type": "code",
   "execution_count": 12,
   "metadata": {
    "ExecuteTime": {
     "end_time": "2022-10-19T17:58:34.036081Z",
     "start_time": "2022-10-19T17:58:34.034093Z"
    }
   },
   "outputs": [
    {
     "name": "stdout",
     "output_type": "stream",
     "text": [
      "0 56\n",
      "1 88\n",
      "2 88\n",
      "3 88\n",
      "4 88\n",
      "5 120\n",
      "6 120\n",
      "7 120\n",
      "8 120\n",
      "9 184\n"
     ]
    }
   ],
   "source": [
    "a = []\n",
    "for i in range(10):\n",
    "    print(i, getsizeof(a))\n",
    "    a.append(i)\n",
    "\n"
   ]
  },
  {
   "cell_type": "code",
   "execution_count": 13,
   "metadata": {
    "ExecuteTime": {
     "end_time": "2022-10-19T17:58:34.038145Z",
     "start_time": "2022-10-19T17:58:34.036827Z"
    }
   },
   "outputs": [],
   "source": [
    "# []\n",
    "# [0 _ _ _]\n",
    "# [0 1 2 3]\n",
    "# [0 1 2 3 4 _ _ _]"
   ]
  },
  {
   "cell_type": "code",
   "execution_count": 14,
   "metadata": {
    "ExecuteTime": {
     "end_time": "2022-10-19T17:58:34.040271Z",
     "start_time": "2022-10-19T17:58:34.038865Z"
    }
   },
   "outputs": [],
   "source": [
    "def getsizeof2(a):\n",
    "    return getsizeof(a) - 56"
   ]
  },
  {
   "cell_type": "code",
   "execution_count": 15,
   "metadata": {
    "ExecuteTime": {
     "end_time": "2022-10-19T17:58:34.254320Z",
     "start_time": "2022-10-19T17:58:34.040928Z"
    }
   },
   "outputs": [
    {
     "name": "stdout",
     "output_type": "stream",
     "text": [
      "4 2.0\n",
      "8 2.0\n",
      "16 1.5\n",
      "24 1.3333333333333333\n",
      "32 1.25\n",
      "40 1.3\n",
      "52 1.2307692307692308\n",
      "64 1.1875\n",
      "76 1.2105263157894737\n",
      "92 1.173913043478261\n",
      "108 1.1851851851851851\n",
      "128 1.15625\n",
      "148 1.162162162162162\n",
      "172 1.1627906976744187\n",
      "200 1.16\n",
      "232 1.1551724137931034\n",
      "268 1.1492537313432836\n",
      "308 1.1428571428571428\n",
      "352 1.1363636363636365\n",
      "400 1.14\n",
      "456 1.1403508771929824\n",
      "520 1.1384615384615384\n",
      "592 1.135135135135135\n",
      "672 1.130952380952381\n",
      "760 1.131578947368421\n",
      "860 1.130232558139535\n",
      "972 1.131687242798354\n",
      "1100 1.1309090909090909\n",
      "1244 1.1286173633440515\n",
      "1404 1.1282051282051282\n",
      "1584 1.128787878787879\n",
      "1788 1.1275167785234899\n",
      "2016 1.126984126984127\n",
      "2272 1.1267605633802817\n",
      "2560 1.1265625\n",
      "2884 1.1262135922330097\n",
      "3248 1.1268472906403941\n",
      "3660 1.126775956284153\n",
      "4124 1.1260911736178467\n",
      "4644 1.1257536606373815\n",
      "5228 1.1262433052792655\n",
      "5888 1.125679347826087\n",
      "6628 1.1255280627640314\n",
      "7460 1.1254691689008043\n",
      "8396 1.1257741781800858\n",
      "9452 1.125687685146001\n",
      "10640 1.125563909774436\n",
      "11976 1.1255845023380093\n",
      "13480 1.1255192878338278\n",
      "15172 1.1252306881096756\n",
      "17072 1.1253514526710402\n",
      "19212 1.1253383302102853\n",
      "21620 1.125254394079556\n",
      "24328 1.1252877342979284\n",
      "27376 1.125219170075979\n",
      "30804 1.1251785482404884\n",
      "34660 1.1251009809578765\n",
      "38996 1.1251410401066777\n",
      "43876 1.1250797702616464\n",
      "49364 1.125111417227129\n",
      "55540 1.1250990277277637\n",
      "62488 1.1250800153629497\n",
      "70304 1.125056895766955\n",
      "79096 1.1250632143218366\n",
      "88988 1.125050568615993\n",
      "100116 1.1250549362739222\n",
      "112636 1.1250399517028304\n",
      "126720 1.1250315656565657\n",
      "142564 1.1250245503773744\n",
      "160388 1.1250218220814525\n",
      "180440 1.1250277100421193\n",
      "203000 1.1250246305418719\n",
      "228380 1.1250197040021017\n",
      "256932 1.1250136222813818\n",
      "289052 1.1250155681330696\n",
      "325188 1.125010763004785\n",
      "365840 1.1250164006122896\n",
      "411576 1.1250121484245923\n",
      "463028 1.125011878331332\n",
      "520912 1.125011518260282\n",
      "586032 1.125010238348759\n",
      "659292 1.1250068255037222\n",
      "741708 1.1250087635565478\n",
      "834428 1.1250053929158657\n",
      "938736 1.1250063915733497\n"
     ]
    }
   ],
   "source": [
    "a = []\n",
    "capacity = getsizeof2(a)\n",
    "# добавляем элементы в массив и смотрим, когда и во сколько раз он расширился\n",
    "for i in range(1000000):\n",
    "    a.append(i)\n",
    "    if getsizeof2(a) != capacity:\n",
    "        if capacity != 0:\n",
    "            print(i, getsizeof2(a) / capacity)\n",
    "        capacity = getsizeof2(a)\n"
   ]
  },
  {
   "cell_type": "markdown",
   "metadata": {},
   "source": [
    "Видим, что расширение происход при полном заполнении массива, и для уже начиная с размера **~2000** массивы расшираются в **1.125** раз, то есть на одну восьмую"
   ]
  },
  {
   "cell_type": "markdown",
   "metadata": {},
   "source": [
    "Сужение происходит реже, примерно когда в массиве осталось **9/16**, или **0.5625** заполненных элементов."
   ]
  },
  {
   "cell_type": "markdown",
   "metadata": {},
   "source": [
    "### Linked List vs Array"
   ]
  },
  {
   "cell_type": "code",
   "execution_count": 16,
   "metadata": {
    "ExecuteTime": {
     "end_time": "2022-10-19T17:58:34.257919Z",
     "start_time": "2022-10-19T17:58:34.255099Z"
    }
   },
   "outputs": [],
   "source": [
    "# Так можно реализовать связный список в Python. В качестве упражнения можно добавить методы удаления, вставки в середину.\n",
    "\n",
    "class Node:\n",
    "\n",
    "    def __init__(self, nxt, value):\n",
    "        self.nxt = nxt\n",
    "        self.value = value\n",
    "\n",
    "\n",
    "class LinkedList:\n",
    "\n",
    "    def __init__(self):\n",
    "        self.head = None\n",
    "        self.tail = None\n",
    "\n",
    "    def append(self, value):\n",
    "        if self.head is None:\n",
    "            self.head = Node(nxt=None, value=value)\n",
    "            self.tail = self.head\n",
    "        else:\n",
    "            self.tail.nxt = Node(nxt=None, value=value)\n",
    "            self.tail = self.tail.nxt\n",
    "\n",
    "    def __getitem__(self, item):\n",
    "        cur = self.head\n",
    "        i = 0\n",
    "        while i != item:\n",
    "            cur = cur.nxt\n",
    "            i += 1\n",
    "\n",
    "        return cur.value"
   ]
  },
  {
   "cell_type": "code",
   "execution_count": 17,
   "metadata": {
    "ExecuteTime": {
     "end_time": "2022-10-19T17:58:34.260822Z",
     "start_time": "2022-10-19T17:58:34.258688Z"
    }
   },
   "outputs": [],
   "source": [
    "def populate_array(size: int): \n",
    "    new = list()\n",
    "    for i in range(size):\n",
    "        new.append(i)\n",
    "        \n",
    "    return new\n",
    "\n",
    "def populate_list(size: int): \n",
    "    new = LinkedList()\n",
    "    for i in range(size):\n",
    "        new.append(i)\n",
    "        \n",
    "    return new\n",
    "\n"
   ]
  },
  {
   "cell_type": "code",
   "execution_count": 18,
   "metadata": {
    "ExecuteTime": {
     "end_time": "2022-10-19T17:58:34.263860Z",
     "start_time": "2022-10-19T17:58:34.261689Z"
    }
   },
   "outputs": [],
   "source": [
    "import time\n",
    "\n",
    "def timing(func, *args, n_repeats: int = 20):\n",
    "    timings = []\n",
    "    for _ in range(n_repeats):\n",
    "        start = time.time()\n",
    "        x = func(*args)\n",
    "        timings.append(time.time() - start)\n",
    "        \n",
    "    return x, sum(timings) / len(timings)\n",
    "        "
   ]
  },
  {
   "cell_type": "code",
   "execution_count": 19,
   "metadata": {
    "ExecuteTime": {
     "end_time": "2022-10-19T17:58:34.266603Z",
     "start_time": "2022-10-19T17:58:34.264628Z"
    }
   },
   "outputs": [],
   "source": [
    "def timeit_doubling(func, max_power: int = 17, n_repeats: int = 20):\n",
    "    prev = 1\n",
    "    for power in range(2, max_power, 1):\n",
    "        _, curr = timing(func, 2**power)\n",
    "        ratio = curr / prev\n",
    "        print(2**power, ',', 'ratio:',  round(ratio, 3), 'time:', round(curr, 3))\n",
    "        prev = curr\n",
    "    "
   ]
  },
  {
   "cell_type": "markdown",
   "metadata": {},
   "source": [
    "Измерим время, которое требуется на создание массива и списка из N элементов, и посмотрим, как оно меняется при увеличении N"
   ]
  },
  {
   "cell_type": "code",
   "execution_count": 20,
   "metadata": {
    "ExecuteTime": {
     "end_time": "2022-10-19T17:58:34.357229Z",
     "start_time": "2022-10-19T17:58:34.267558Z"
    }
   },
   "outputs": [
    {
     "name": "stdout",
     "output_type": "stream",
     "text": [
      "4 , ratio: 0.0 time: 0.0\n",
      "8 , ratio: 0.792 time: 0.0\n",
      "16 , ratio: 1.429 time: 0.0\n",
      "32 , ratio: 1.833 time: 0.0\n",
      "64 , ratio: 1.7 time: 0.0\n",
      "128 , ratio: 1.995 time: 0.0\n",
      "256 , ratio: 1.887 time: 0.0\n",
      "512 , ratio: 2.114 time: 0.0\n",
      "1024 , ratio: 1.931 time: 0.0\n",
      "2048 , ratio: 2.017 time: 0.0\n",
      "4096 , ratio: 1.978 time: 0.0\n",
      "8192 , ratio: 1.986 time: 0.0\n",
      "16384 , ratio: 1.991 time: 0.001\n",
      "32768 , ratio: 1.976 time: 0.001\n",
      "65536 , ratio: 2.04 time: 0.002\n"
     ]
    }
   ],
   "source": [
    "timeit_doubling(populate_array)"
   ]
  },
  {
   "cell_type": "code",
   "execution_count": 21,
   "metadata": {
    "ExecuteTime": {
     "end_time": "2022-10-19T17:58:36.991001Z",
     "start_time": "2022-10-19T17:58:34.358184Z"
    }
   },
   "outputs": [
    {
     "name": "stdout",
     "output_type": "stream",
     "text": [
      "4 , ratio: 0.0 time: 0.0\n",
      "8 , ratio: 1.822 time: 0.0\n",
      "16 , ratio: 1.92 time: 0.0\n",
      "32 , ratio: 1.916 time: 0.0\n",
      "64 , ratio: 1.963 time: 0.0\n",
      "128 , ratio: 2.074 time: 0.0\n",
      "256 , ratio: 1.974 time: 0.0\n",
      "512 , ratio: 2.289 time: 0.0\n",
      "1024 , ratio: 5.622 time: 0.001\n",
      "2048 , ratio: 0.759 time: 0.001\n",
      "4096 , ratio: 3.463 time: 0.003\n",
      "8192 , ratio: 1.851 time: 0.006\n",
      "16384 , ratio: 2.2 time: 0.014\n",
      "32768 , ratio: 2.357 time: 0.033\n",
      "65536 , ratio: 2.206 time: 0.072\n"
     ]
    }
   ],
   "source": [
    "timeit_doubling(populate_list)"
   ]
  },
  {
   "cell_type": "markdown",
   "metadata": {},
   "source": [
    "В обоих случаях это время линейно, но в абсолютных числах создание списка существенно медленней."
   ]
  },
  {
   "cell_type": "markdown",
   "metadata": {},
   "source": [
    "### Длинная арифметика в Python"
   ]
  },
  {
   "cell_type": "code",
   "execution_count": 22,
   "metadata": {
    "ExecuteTime": {
     "end_time": "2022-10-19T17:58:36.997647Z",
     "start_time": "2022-10-19T17:58:36.991937Z"
    }
   },
   "outputs": [],
   "source": [
    "a, b = 200, 300"
   ]
  },
  {
   "cell_type": "code",
   "execution_count": 23,
   "metadata": {
    "ExecuteTime": {
     "end_time": "2022-10-19T17:58:39.495287Z",
     "start_time": "2022-10-19T17:58:36.998464Z"
    }
   },
   "outputs": [
    {
     "name": "stdout",
     "output_type": "stream",
     "text": [
      "30.8 ns ± 0.361 ns per loop (mean ± std. dev. of 7 runs, 10,000,000 loops each)\n"
     ]
    }
   ],
   "source": [
    "%%timeit\n",
    "a * b"
   ]
  },
  {
   "cell_type": "code",
   "execution_count": 24,
   "metadata": {
    "ExecuteTime": {
     "end_time": "2022-10-19T17:58:39.497609Z",
     "start_time": "2022-10-19T17:58:39.496052Z"
    }
   },
   "outputs": [],
   "source": [
    "a, b = 2**25, 2**25"
   ]
  },
  {
   "cell_type": "code",
   "execution_count": 25,
   "metadata": {
    "ExecuteTime": {
     "end_time": "2022-10-19T17:58:41.997267Z",
     "start_time": "2022-10-19T17:58:39.498236Z"
    }
   },
   "outputs": [
    {
     "name": "stdout",
     "output_type": "stream",
     "text": [
      "30.8 ns ± 0.276 ns per loop (mean ± std. dev. of 7 runs, 10,000,000 loops each)\n"
     ]
    }
   ],
   "source": [
    "%%timeit\n",
    "a * b"
   ]
  },
  {
   "cell_type": "code",
   "execution_count": 26,
   "metadata": {
    "ExecuteTime": {
     "end_time": "2022-10-19T17:58:41.999758Z",
     "start_time": "2022-10-19T17:58:41.998033Z"
    }
   },
   "outputs": [],
   "source": [
    "a, b = 2**200, 2**200"
   ]
  },
  {
   "cell_type": "code",
   "execution_count": 27,
   "metadata": {
    "ExecuteTime": {
     "end_time": "2022-10-19T17:58:54.677349Z",
     "start_time": "2022-10-19T17:58:42.000715Z"
    }
   },
   "outputs": [
    {
     "name": "stdout",
     "output_type": "stream",
     "text": [
      "156 ns ± 1.24 ns per loop (mean ± std. dev. of 7 runs, 10,000,000 loops each)\n"
     ]
    }
   ],
   "source": [
    "%%timeit\n",
    "a * b"
   ]
  },
  {
   "cell_type": "markdown",
   "metadata": {},
   "source": [
    "### Стек"
   ]
  },
  {
   "cell_type": "code",
   "execution_count": 28,
   "metadata": {
    "ExecuteTime": {
     "end_time": "2022-10-19T17:58:54.683147Z",
     "start_time": "2022-10-19T17:58:54.680762Z"
    }
   },
   "outputs": [],
   "source": [
    "class Stack:\n",
    "    \n",
    "    def __init__(self):\n",
    "        self.stack = []\n",
    "        \n",
    "    def push(self, value: int):\n",
    "        self.stack.append(value)\n",
    "    \n",
    "    def peek(self) -> int:\n",
    "        if self.stack:\n",
    "            return self.stack[-1]\n",
    "        \n",
    "        return None\n",
    "    \n",
    "    def pop(self) -> int:\n",
    "        value = None\n",
    "        if self.stack:\n",
    "            value = self.stack[-1]\n",
    "            self.stack = self.stack[:-1] # O(N)\n",
    "            \n",
    "        return value\n",
    "    \n",
    "    def pop_fast(self) -> int:\n",
    "        pass"
   ]
  },
  {
   "cell_type": "code",
   "execution_count": 30,
   "metadata": {
    "ExecuteTime": {
     "end_time": "2022-10-19T18:00:17.043193Z",
     "start_time": "2022-10-19T18:00:17.035724Z"
    }
   },
   "outputs": [],
   "source": [
    "a = Stack()"
   ]
  },
  {
   "cell_type": "code",
   "execution_count": 31,
   "metadata": {
    "ExecuteTime": {
     "end_time": "2022-10-19T18:00:17.360494Z",
     "start_time": "2022-10-19T18:00:17.329635Z"
    }
   },
   "outputs": [],
   "source": [
    "for i in range(10**5):\n",
    "    a.push(i)"
   ]
  },
  {
   "cell_type": "code",
   "execution_count": 32,
   "metadata": {
    "ExecuteTime": {
     "end_time": "2022-10-19T18:00:28.461443Z",
     "start_time": "2022-10-19T18:00:17.551895Z"
    }
   },
   "outputs": [],
   "source": [
    "for i in range(10**5):\n",
    "    a.pop()"
   ]
  },
  {
   "cell_type": "code",
   "execution_count": 33,
   "metadata": {
    "ExecuteTime": {
     "end_time": "2022-10-19T18:00:28.472074Z",
     "start_time": "2022-10-19T18:00:28.462429Z"
    }
   },
   "outputs": [],
   "source": [
    "for i in range(10**5):\n",
    "    a.pop_fast()"
   ]
  },
  {
   "cell_type": "code",
   "execution_count": 34,
   "metadata": {
    "ExecuteTime": {
     "end_time": "2022-10-19T18:00:28.475651Z",
     "start_time": "2022-10-19T18:00:28.473036Z"
    }
   },
   "outputs": [
    {
     "data": {
      "text/plain": [
       "[]"
      ]
     },
     "execution_count": 34,
     "metadata": {},
     "output_type": "execute_result"
    }
   ],
   "source": [
    "a.stack"
   ]
  },
  {
   "cell_type": "code",
   "execution_count": null,
   "metadata": {},
   "outputs": [],
   "source": []
  }
 ],
 "metadata": {
  "kernelspec": {
   "display_name": "Python 3 (ipykernel)",
   "language": "python",
   "name": "python3"
  },
  "language_info": {
   "codemirror_mode": {
    "name": "ipython",
    "version": 3
   },
   "file_extension": ".py",
   "mimetype": "text/x-python",
   "name": "python",
   "nbconvert_exporter": "python",
   "pygments_lexer": "ipython3",
   "version": "3.9.10"
  }
 },
 "nbformat": 4,
 "nbformat_minor": 4
}
