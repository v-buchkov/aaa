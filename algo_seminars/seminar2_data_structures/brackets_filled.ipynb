{
 "cells": [
  {
   "cell_type": "code",
   "execution_count": null,
   "metadata": {},
   "outputs": [],
   "source": [
    "brackets_str_bad = ')))'\n",
    "brackets_str_good = '(ab)((((((((a)a)))))))'\n",
    "brackets = '[]{}()'\n",
    "\n",
    "def check(brackets_str: str) -> bool:\n",
    "    stack = []\n",
    "    pairs = {\n",
    "        '(': ')',\n",
    "        '[': ']',\n",
    "        '{': '}',\n",
    "    }\n",
    "    for char in brackets_str:\n",
    "        if char in {'(', '[', '{'}:\n",
    "            stack.append(char)\n",
    "        elif char in {')', ']', '}'}:\n",
    "            if stack:\n",
    "                top = stack.pop()\n",
    "                if pairs[top] != char:\n",
    "                    return False\n",
    "            else:\n",
    "                return False\n",
    "    \n",
    "    return len(stack) == 0\n",
    "            "
   ]
  }
 ],
 "metadata": {
  "kernelspec": {
   "display_name": "Python 3 (ipykernel)",
   "language": "python",
   "name": "python3"
  },
  "language_info": {
   "codemirror_mode": {
    "name": "ipython",
    "version": 3
   },
   "file_extension": ".py",
   "mimetype": "text/x-python",
   "name": "python",
   "nbconvert_exporter": "python",
   "pygments_lexer": "ipython3",
   "version": "3.9.10"
  }
 },
 "nbformat": 4,
 "nbformat_minor": 4
}
